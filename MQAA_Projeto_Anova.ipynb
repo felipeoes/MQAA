{
  "nbformat": 4,
  "nbformat_minor": 0,
  "metadata": {
    "colab": {
      "name": "MQAA-PROJETO IMÓVEIS",
      "provenance": [],
      "collapsed_sections": []
    },
    "kernelspec": {
      "name": "ir",
      "display_name": "R"
    },
    "language_info": {
      "name": "R"
    }
  },
  "cells": [
    {
      "cell_type": "markdown",
      "metadata": {
        "id": "eLvgjOxS1nHZ"
      },
      "source": [
        "#EXEMPLO AULA"
      ]
    },
    {
      "cell_type": "code",
      "metadata": {
        "colab": {
          "base_uri": "https://localhost:8080/",
          "height": 221
        },
        "id": "-OsnsM4x0aYk",
        "outputId": "2c052e36-134f-43b6-b9d5-c040e42f9b00"
      },
      "source": [
        "data = c(217, 217, 217, 217, 210, 215, 219, 217, 217, 222, 217, 217)\n",
        "\n",
        "data\n",
        "\n",
        "t.test(data, mu = 211)"
      ],
      "execution_count": null,
      "outputs": [
        {
          "output_type": "display_data",
          "data": {
            "text/plain": [
              " [1] 217 217 217 217 210 215 219 217 217 222 217 217"
            ],
            "text/latex": "\\begin{enumerate*}\n\\item 217\n\\item 217\n\\item 217\n\\item 217\n\\item 210\n\\item 215\n\\item 219\n\\item 217\n\\item 217\n\\item 222\n\\item 217\n\\item 217\n\\end{enumerate*}\n",
            "text/markdown": "1. 217\n2. 217\n3. 217\n4. 217\n5. 210\n6. 215\n7. 219\n8. 217\n9. 217\n10. 222\n11. 217\n12. 217\n\n\n",
            "text/html": [
              "<style>\n",
              ".list-inline {list-style: none; margin:0; padding: 0}\n",
              ".list-inline>li {display: inline-block}\n",
              ".list-inline>li:not(:last-child)::after {content: \"\\00b7\"; padding: 0 .5ex}\n",
              "</style>\n",
              "<ol class=list-inline><li>217</li><li>217</li><li>217</li><li>217</li><li>210</li><li>215</li><li>219</li><li>217</li><li>217</li><li>222</li><li>217</li><li>217</li></ol>\n"
            ]
          },
          "metadata": {}
        },
        {
          "output_type": "display_data",
          "data": {
            "text/plain": [
              "\n",
              "\tOne Sample t-test\n",
              "\n",
              "data:  data\n",
              "t = 7.4162, df = 11, p-value = 1.333e-05\n",
              "alternative hypothesis: true mean is not equal to 211\n",
              "95 percent confidence interval:\n",
              " 215.1021 218.5646\n",
              "sample estimates:\n",
              "mean of x \n",
              " 216.8333 \n"
            ]
          },
          "metadata": {}
        }
      ]
    },
    {
      "cell_type": "markdown",
      "metadata": {
        "id": "zIBPjtQnMS3F"
      },
      "source": [
        "#INSTALANDO LIBS NECESSÁRIAS"
      ]
    },
    {
      "cell_type": "code",
      "metadata": {
        "id": "ZtLb--TQMZZt"
      },
      "source": [
        "library(dplyr)\n",
        "library(ggplot2)"
      ],
      "execution_count": null,
      "outputs": []
    },
    {
      "cell_type": "markdown",
      "metadata": {
        "id": "Ev6X1YQWM_UF"
      },
      "source": [
        "Alterando opções de gráfico"
      ]
    },
    {
      "cell_type": "code",
      "metadata": {
        "id": "LYQP5YzENDwF"
      },
      "source": [
        "options(repr.plot.width = 9, repr.plot.height = 6)\n",
        "formatos <- theme(\n",
        "        plot.title=element_text(size = 14, hjust = 0.5),\n",
        "        axis.title.y=element_text(size = 12, vjust = +0.2),\n",
        "        axis.title.x=element_text(size = 12, vjust = -0.2),\n",
        "        axis.text.y=element_text(size = 10),\n",
        "        axis.text.x=element_text(size = 10)\n",
        "    )"
      ],
      "execution_count": null,
      "outputs": []
    },
    {
      "cell_type": "markdown",
      "metadata": {
        "id": "78oPw0Oa1uos"
      },
      "source": [
        "#IMPORTANDO DATASET"
      ]
    },
    {
      "cell_type": "code",
      "metadata": {
        "colab": {
          "base_uri": "https://localhost:8080/",
          "height": 1000
        },
        "id": "LlMDbyX710l8",
        "outputId": "9880e3d7-f552-4f81-99c9-2d170780e8f3"
      },
      "source": [
        "dataframe <- read.csv(file = 'houses_to_rent_v2.csv')\n",
        "\n",
        "dataframe"
      ],
      "execution_count": null,
      "outputs": [
        {
          "output_type": "display_data",
          "data": {
            "text/plain": [
              "      city           area rooms bathroom parking.spaces floor animal   \n",
              "1     São Paulo       70  2     1        1              7     acept    \n",
              "2     São Paulo      320  4     4        0              20    acept    \n",
              "3     Porto Alegre    80  1     1        1              6     acept    \n",
              "4     Porto Alegre    51  2     1        0              2     acept    \n",
              "5     São Paulo       25  1     1        0              1     not acept\n",
              "6     São Paulo      376  3     3        7              -     acept    \n",
              "7     Rio de Janeiro  72  2     1        0              7     acept    \n",
              "8     São Paulo      213  4     4        4              4     acept    \n",
              "9     São Paulo      152  2     2        1              3     acept    \n",
              "10    Rio de Janeiro  35  1     1        0              2     acept    \n",
              "11    São Paulo       26  1     1        0              2     acept    \n",
              "12    Campinas        46  1     1        1              10    acept    \n",
              "13    São Paulo       36  1     1        0              11    acept    \n",
              "14    São Paulo       55  1     1        1              2     acept    \n",
              "15    São Paulo      100  2     2        2              24    acept    \n",
              "16    Campinas       330  4     6        6              -     acept    \n",
              "17    São Paulo      110  2     2        1              1     acept    \n",
              "18    Rio de Janeiro  88  2     3        1              9     not acept\n",
              "19    Rio de Janeiro  56  2     1        0              8     acept    \n",
              "20    São Paulo      600  4     5        6              -     acept    \n",
              "21    São Paulo      100  7     4        0              -     acept    \n",
              "22    Belo Horizonte  42  1     1        1              17    not acept\n",
              "23    São Paulo      160  3     2        2              18    acept    \n",
              "24    São Paulo       35  1     1        0              -     acept    \n",
              "25    Rio de Janeiro  90  3     2        1              7     acept    \n",
              "26    São Paulo       49  1     1        1              10    acept    \n",
              "27    São Paulo       41  1     1        1              5     not acept\n",
              "28    Belo Horizonte  64  2     2        1              11    acept    \n",
              "29    Campinas       208  3     2        4              -     acept    \n",
              "30    São Paulo       20  1     1        0              5     acept    \n",
              "⋮     ⋮              ⋮    ⋮     ⋮        ⋮              ⋮     ⋮        \n",
              "10663 São Paulo      238  4     3        1              7     acept    \n",
              "10664 São Paulo       90  3     1        0              13    acept    \n",
              "10665 Rio de Janeiro 310  3     2        0              5     not acept\n",
              "10666 Belo Horizonte  55  2     1        1              2     not acept\n",
              "10667 Rio de Janeiro  60  2     2        0              13    acept    \n",
              "10668 Belo Horizonte  75  2     1        1              3     not acept\n",
              "10669 São Paulo       24  1     1        0              -     acept    \n",
              "10670 São Paulo      340  4     5        3              15    not acept\n",
              "10671 São Paulo      165  3     3        2              2     acept    \n",
              "10672 São Paulo       84  2     2        1              16    not acept\n",
              "10673 São Paulo      126  2     1        0              13    acept    \n",
              "10674 Porto Alegre   220  3     2        2              15    acept    \n",
              "10675 Rio de Janeiro 135  4     2        1              -     acept    \n",
              "10676 Rio de Janeiro 250  3     2        1              11    acept    \n",
              "10677 Porto Alegre    40  1     1        0              1     acept    \n",
              "10678 São Paulo       38  1     1        0              19    not acept\n",
              "10679 São Paulo      141  3     5        0              4     acept    \n",
              "10680 São Paulo       61  1     2        1              13    acept    \n",
              "10681 São Paulo      156  4     4        3              1     acept    \n",
              "10682 São Paulo      230  3     5        3              3     not acept\n",
              "10683 Porto Alegre   160  3     2        3              4     acept    \n",
              "10684 São Paulo      280  4     4        2              5     acept    \n",
              "10685 Rio de Janeiro  98  2     1        0              1     acept    \n",
              "10686 São Paulo       83  3     2        2              11    acept    \n",
              "10687 São Paulo      150  3     3        2              8     not acept\n",
              "10688 Porto Alegre    63  2     1        1              5     not acept\n",
              "10689 São Paulo      285  4     4        4              17    acept    \n",
              "10690 Rio de Janeiro  70  3     3        0              8     not acept\n",
              "10691 Rio de Janeiro 120  2     2        2              8     acept    \n",
              "10692 São Paulo       80  2     1        0              -     acept    \n",
              "      furniture     hoa..R.. rent.amount..R.. property.tax..R..\n",
              "1     furnished     2065      3300             211             \n",
              "2     not furnished 1200      4960            1750             \n",
              "3     not furnished 1000      2800               0             \n",
              "4     not furnished  270      1112              22             \n",
              "5     not furnished    0       800              25             \n",
              "6     not furnished    0      8000             834             \n",
              "7     not furnished  740      1900              85             \n",
              "8     not furnished 2254      3223            1735             \n",
              "9     furnished     1000     15000             250             \n",
              "10    furnished      590      2300              35             \n",
              "11    furnished      470      2100             150             \n",
              "12    not furnished  550       580              43             \n",
              "13    not furnished  359      2100              70             \n",
              "14    furnished      790      4200             224             \n",
              "15    furnished      900      4370              17             \n",
              "16    furnished      680      8000             328             \n",
              "17    not furnished  700      3000             122             \n",
              "18    furnished     1614      3500             221             \n",
              "19    not furnished  800      1220               0             \n",
              "20    not furnished    0     12000            9500             \n",
              "21    not furnished    0      3800             118             \n",
              "22    furnished      470      2690             172             \n",
              "23    furnished     1530      1900             167             \n",
              "24    not furnished    0      1100               3             \n",
              "25    not furnished  800      1800             118             \n",
              "26    not furnished  480      3500              42             \n",
              "27    furnished      600      3000               0             \n",
              "28    not furnished  352      1500              80             \n",
              "29    not furnished    0      3180             100             \n",
              "30    furnished      602      1800             130             \n",
              "⋮     ⋮             ⋮        ⋮                ⋮                \n",
              "10663 not furnished 2515      4500             575             \n",
              "10664 not furnished  785      1600               0             \n",
              "10665 not furnished 2500      6000             595             \n",
              "10666 furnished      200      1600              75             \n",
              "10667 not furnished  600      2700             154             \n",
              "10668 not furnished  180      1250               0             \n",
              "10669 not furnished    0       870               0             \n",
              "10670 furnished     3519     12000            1287             \n",
              "10671 furnished     1150      2710              84             \n",
              "10672 furnished      768      2900              63             \n",
              "10673 not furnished  570      2580               0             \n",
              "10674 not furnished  842      2400             117             \n",
              "10675 not furnished    0      3300             115             \n",
              "10676 not furnished 2000      2700             500             \n",
              "10677 not furnished  330      1200             159             \n",
              "10678 not furnished  583      1000              46             \n",
              "10679 not furnished  909     10140             772             \n",
              "10680 not furnished  680      4000             140             \n",
              "10681 furnished     2000      2200             750             \n",
              "10682 not furnished 3800     11000            1100             \n",
              "10683 furnished      850      3300             220             \n",
              "10684 not furnished 4200      4000            1042             \n",
              "10685 not furnished  560      3900             184             \n",
              "10686 not furnished  888      7521             221             \n",
              "10687 furnished        0     13500               0             \n",
              "10688 furnished      402      1478              24             \n",
              "10689 not furnished 3100     15000             973             \n",
              "10690 furnished      980      6000             332             \n",
              "10691 furnished     1585     12000             279             \n",
              "10692 not furnished    0      1400             165             \n",
              "      fire.insurance..R.. total..R..\n",
              "1      42                  5618     \n",
              "2      63                  7973     \n",
              "3      41                  3841     \n",
              "4      17                  1421     \n",
              "5      11                   836     \n",
              "6     121                  8955     \n",
              "7      25                  2750     \n",
              "8      41                  7253     \n",
              "9     191                 16440     \n",
              "10     30                  2955     \n",
              "11     27                  2747     \n",
              "12      8                  1181     \n",
              "13     27                  2556     \n",
              "14     54                  5268     \n",
              "15     56                  5343     \n",
              "16    121                  9129     \n",
              "17     39                  3861     \n",
              "18     16                  5351     \n",
              "19     16                  2036     \n",
              "20    181                 21680     \n",
              "21     58                  3976     \n",
              "22     36                  3368     \n",
              "23     25                  3622     \n",
              "24     14                  1117     \n",
              "25     24                  2742     \n",
              "26     45                  4067     \n",
              "27     39                  3639     \n",
              "28     20                  1952     \n",
              "29     48                  3328     \n",
              "30     23                  2555     \n",
              "⋮     ⋮                   ⋮         \n",
              "10663  58                  7648     \n",
              "10664  21                  2406     \n",
              "10665  78                  9173     \n",
              "10666  22                  1897     \n",
              "10667  35                  3489     \n",
              "10668  17                  1447     \n",
              "10669  14                   884     \n",
              "10670 153                 16960     \n",
              "10671  35                  3979     \n",
              "10672  37                  3768     \n",
              "10673  33                  3183     \n",
              "10674  36                  3395     \n",
              "10675  51                  3466     \n",
              "10676  35                  5235     \n",
              "10677  18                  1707     \n",
              "10678  13                  1642     \n",
              "10679 129                 11950     \n",
              "10680  51                  4871     \n",
              "10681  28                  4978     \n",
              "10682 140                 16040     \n",
              "10683  49                  4419     \n",
              "10684  51                  9293     \n",
              "10685  51                  4695     \n",
              "10686  96                  8726     \n",
              "10687 172                 13670     \n",
              "10688  22                  1926     \n",
              "10689 191                 19260     \n",
              "10690  78                  7390     \n",
              "10691 155                 14020     \n",
              "10692  22                  1587     "
            ],
            "text/latex": "A data.frame: 10692 × 13\n\\begin{tabular}{lllllllllllll}\n city & area & rooms & bathroom & parking.spaces & floor & animal & furniture & hoa..R.. & rent.amount..R.. & property.tax..R.. & fire.insurance..R.. & total..R..\\\\\n <chr> & <int> & <int> & <int> & <int> & <chr> & <chr> & <chr> & <int> & <int> & <int> & <int> & <int>\\\\\n\\hline\n\t São Paulo      &  70 & 2 & 1 & 1 & 7  & acept     & furnished     & 2065 &  3300 &  211 &  42 &  5618\\\\\n\t São Paulo      & 320 & 4 & 4 & 0 & 20 & acept     & not furnished & 1200 &  4960 & 1750 &  63 &  7973\\\\\n\t Porto Alegre   &  80 & 1 & 1 & 1 & 6  & acept     & not furnished & 1000 &  2800 &    0 &  41 &  3841\\\\\n\t Porto Alegre   &  51 & 2 & 1 & 0 & 2  & acept     & not furnished &  270 &  1112 &   22 &  17 &  1421\\\\\n\t São Paulo      &  25 & 1 & 1 & 0 & 1  & not acept & not furnished &    0 &   800 &   25 &  11 &   836\\\\\n\t São Paulo      & 376 & 3 & 3 & 7 & -  & acept     & not furnished &    0 &  8000 &  834 & 121 &  8955\\\\\n\t Rio de Janeiro &  72 & 2 & 1 & 0 & 7  & acept     & not furnished &  740 &  1900 &   85 &  25 &  2750\\\\\n\t São Paulo      & 213 & 4 & 4 & 4 & 4  & acept     & not furnished & 2254 &  3223 & 1735 &  41 &  7253\\\\\n\t São Paulo      & 152 & 2 & 2 & 1 & 3  & acept     & furnished     & 1000 & 15000 &  250 & 191 & 16440\\\\\n\t Rio de Janeiro &  35 & 1 & 1 & 0 & 2  & acept     & furnished     &  590 &  2300 &   35 &  30 &  2955\\\\\n\t São Paulo      &  26 & 1 & 1 & 0 & 2  & acept     & furnished     &  470 &  2100 &  150 &  27 &  2747\\\\\n\t Campinas       &  46 & 1 & 1 & 1 & 10 & acept     & not furnished &  550 &   580 &   43 &   8 &  1181\\\\\n\t São Paulo      &  36 & 1 & 1 & 0 & 11 & acept     & not furnished &  359 &  2100 &   70 &  27 &  2556\\\\\n\t São Paulo      &  55 & 1 & 1 & 1 & 2  & acept     & furnished     &  790 &  4200 &  224 &  54 &  5268\\\\\n\t São Paulo      & 100 & 2 & 2 & 2 & 24 & acept     & furnished     &  900 &  4370 &   17 &  56 &  5343\\\\\n\t Campinas       & 330 & 4 & 6 & 6 & -  & acept     & furnished     &  680 &  8000 &  328 & 121 &  9129\\\\\n\t São Paulo      & 110 & 2 & 2 & 1 & 1  & acept     & not furnished &  700 &  3000 &  122 &  39 &  3861\\\\\n\t Rio de Janeiro &  88 & 2 & 3 & 1 & 9  & not acept & furnished     & 1614 &  3500 &  221 &  16 &  5351\\\\\n\t Rio de Janeiro &  56 & 2 & 1 & 0 & 8  & acept     & not furnished &  800 &  1220 &    0 &  16 &  2036\\\\\n\t São Paulo      & 600 & 4 & 5 & 6 & -  & acept     & not furnished &    0 & 12000 & 9500 & 181 & 21680\\\\\n\t São Paulo      & 100 & 7 & 4 & 0 & -  & acept     & not furnished &    0 &  3800 &  118 &  58 &  3976\\\\\n\t Belo Horizonte &  42 & 1 & 1 & 1 & 17 & not acept & furnished     &  470 &  2690 &  172 &  36 &  3368\\\\\n\t São Paulo      & 160 & 3 & 2 & 2 & 18 & acept     & furnished     & 1530 &  1900 &  167 &  25 &  3622\\\\\n\t São Paulo      &  35 & 1 & 1 & 0 & -  & acept     & not furnished &    0 &  1100 &    3 &  14 &  1117\\\\\n\t Rio de Janeiro &  90 & 3 & 2 & 1 & 7  & acept     & not furnished &  800 &  1800 &  118 &  24 &  2742\\\\\n\t São Paulo      &  49 & 1 & 1 & 1 & 10 & acept     & not furnished &  480 &  3500 &   42 &  45 &  4067\\\\\n\t São Paulo      &  41 & 1 & 1 & 1 & 5  & not acept & furnished     &  600 &  3000 &    0 &  39 &  3639\\\\\n\t Belo Horizonte &  64 & 2 & 2 & 1 & 11 & acept     & not furnished &  352 &  1500 &   80 &  20 &  1952\\\\\n\t Campinas       & 208 & 3 & 2 & 4 & -  & acept     & not furnished &    0 &  3180 &  100 &  48 &  3328\\\\\n\t São Paulo      &  20 & 1 & 1 & 0 & 5  & acept     & furnished     &  602 &  1800 &  130 &  23 &  2555\\\\\n\t ⋮ & ⋮ & ⋮ & ⋮ & ⋮ & ⋮ & ⋮ & ⋮ & ⋮ & ⋮ & ⋮ & ⋮ & ⋮\\\\\n\t São Paulo      & 238 & 4 & 3 & 1 & 7  & acept     & not furnished & 2515 &  4500 &  575 &  58 &  7648\\\\\n\t São Paulo      &  90 & 3 & 1 & 0 & 13 & acept     & not furnished &  785 &  1600 &    0 &  21 &  2406\\\\\n\t Rio de Janeiro & 310 & 3 & 2 & 0 & 5  & not acept & not furnished & 2500 &  6000 &  595 &  78 &  9173\\\\\n\t Belo Horizonte &  55 & 2 & 1 & 1 & 2  & not acept & furnished     &  200 &  1600 &   75 &  22 &  1897\\\\\n\t Rio de Janeiro &  60 & 2 & 2 & 0 & 13 & acept     & not furnished &  600 &  2700 &  154 &  35 &  3489\\\\\n\t Belo Horizonte &  75 & 2 & 1 & 1 & 3  & not acept & not furnished &  180 &  1250 &    0 &  17 &  1447\\\\\n\t São Paulo      &  24 & 1 & 1 & 0 & -  & acept     & not furnished &    0 &   870 &    0 &  14 &   884\\\\\n\t São Paulo      & 340 & 4 & 5 & 3 & 15 & not acept & furnished     & 3519 & 12000 & 1287 & 153 & 16960\\\\\n\t São Paulo      & 165 & 3 & 3 & 2 & 2  & acept     & furnished     & 1150 &  2710 &   84 &  35 &  3979\\\\\n\t São Paulo      &  84 & 2 & 2 & 1 & 16 & not acept & furnished     &  768 &  2900 &   63 &  37 &  3768\\\\\n\t São Paulo      & 126 & 2 & 1 & 0 & 13 & acept     & not furnished &  570 &  2580 &    0 &  33 &  3183\\\\\n\t Porto Alegre   & 220 & 3 & 2 & 2 & 15 & acept     & not furnished &  842 &  2400 &  117 &  36 &  3395\\\\\n\t Rio de Janeiro & 135 & 4 & 2 & 1 & -  & acept     & not furnished &    0 &  3300 &  115 &  51 &  3466\\\\\n\t Rio de Janeiro & 250 & 3 & 2 & 1 & 11 & acept     & not furnished & 2000 &  2700 &  500 &  35 &  5235\\\\\n\t Porto Alegre   &  40 & 1 & 1 & 0 & 1  & acept     & not furnished &  330 &  1200 &  159 &  18 &  1707\\\\\n\t São Paulo      &  38 & 1 & 1 & 0 & 19 & not acept & not furnished &  583 &  1000 &   46 &  13 &  1642\\\\\n\t São Paulo      & 141 & 3 & 5 & 0 & 4  & acept     & not furnished &  909 & 10140 &  772 & 129 & 11950\\\\\n\t São Paulo      &  61 & 1 & 2 & 1 & 13 & acept     & not furnished &  680 &  4000 &  140 &  51 &  4871\\\\\n\t São Paulo      & 156 & 4 & 4 & 3 & 1  & acept     & furnished     & 2000 &  2200 &  750 &  28 &  4978\\\\\n\t São Paulo      & 230 & 3 & 5 & 3 & 3  & not acept & not furnished & 3800 & 11000 & 1100 & 140 & 16040\\\\\n\t Porto Alegre   & 160 & 3 & 2 & 3 & 4  & acept     & furnished     &  850 &  3300 &  220 &  49 &  4419\\\\\n\t São Paulo      & 280 & 4 & 4 & 2 & 5  & acept     & not furnished & 4200 &  4000 & 1042 &  51 &  9293\\\\\n\t Rio de Janeiro &  98 & 2 & 1 & 0 & 1  & acept     & not furnished &  560 &  3900 &  184 &  51 &  4695\\\\\n\t São Paulo      &  83 & 3 & 2 & 2 & 11 & acept     & not furnished &  888 &  7521 &  221 &  96 &  8726\\\\\n\t São Paulo      & 150 & 3 & 3 & 2 & 8  & not acept & furnished     &    0 & 13500 &    0 & 172 & 13670\\\\\n\t Porto Alegre   &  63 & 2 & 1 & 1 & 5  & not acept & furnished     &  402 &  1478 &   24 &  22 &  1926\\\\\n\t São Paulo      & 285 & 4 & 4 & 4 & 17 & acept     & not furnished & 3100 & 15000 &  973 & 191 & 19260\\\\\n\t Rio de Janeiro &  70 & 3 & 3 & 0 & 8  & not acept & furnished     &  980 &  6000 &  332 &  78 &  7390\\\\\n\t Rio de Janeiro & 120 & 2 & 2 & 2 & 8  & acept     & furnished     & 1585 & 12000 &  279 & 155 & 14020\\\\\n\t São Paulo      &  80 & 2 & 1 & 0 & -  & acept     & not furnished &    0 &  1400 &  165 &  22 &  1587\\\\\n\\end{tabular}\n",
            "text/markdown": "\nA data.frame: 10692 × 13\n\n| city &lt;chr&gt; | area &lt;int&gt; | rooms &lt;int&gt; | bathroom &lt;int&gt; | parking.spaces &lt;int&gt; | floor &lt;chr&gt; | animal &lt;chr&gt; | furniture &lt;chr&gt; | hoa..R.. &lt;int&gt; | rent.amount..R.. &lt;int&gt; | property.tax..R.. &lt;int&gt; | fire.insurance..R.. &lt;int&gt; | total..R.. &lt;int&gt; |\n|---|---|---|---|---|---|---|---|---|---|---|---|---|\n| São Paulo      |  70 | 2 | 1 | 1 | 7  | acept     | furnished     | 2065 |  3300 |  211 |  42 |  5618 |\n| São Paulo      | 320 | 4 | 4 | 0 | 20 | acept     | not furnished | 1200 |  4960 | 1750 |  63 |  7973 |\n| Porto Alegre   |  80 | 1 | 1 | 1 | 6  | acept     | not furnished | 1000 |  2800 |    0 |  41 |  3841 |\n| Porto Alegre   |  51 | 2 | 1 | 0 | 2  | acept     | not furnished |  270 |  1112 |   22 |  17 |  1421 |\n| São Paulo      |  25 | 1 | 1 | 0 | 1  | not acept | not furnished |    0 |   800 |   25 |  11 |   836 |\n| São Paulo      | 376 | 3 | 3 | 7 | -  | acept     | not furnished |    0 |  8000 |  834 | 121 |  8955 |\n| Rio de Janeiro |  72 | 2 | 1 | 0 | 7  | acept     | not furnished |  740 |  1900 |   85 |  25 |  2750 |\n| São Paulo      | 213 | 4 | 4 | 4 | 4  | acept     | not furnished | 2254 |  3223 | 1735 |  41 |  7253 |\n| São Paulo      | 152 | 2 | 2 | 1 | 3  | acept     | furnished     | 1000 | 15000 |  250 | 191 | 16440 |\n| Rio de Janeiro |  35 | 1 | 1 | 0 | 2  | acept     | furnished     |  590 |  2300 |   35 |  30 |  2955 |\n| São Paulo      |  26 | 1 | 1 | 0 | 2  | acept     | furnished     |  470 |  2100 |  150 |  27 |  2747 |\n| Campinas       |  46 | 1 | 1 | 1 | 10 | acept     | not furnished |  550 |   580 |   43 |   8 |  1181 |\n| São Paulo      |  36 | 1 | 1 | 0 | 11 | acept     | not furnished |  359 |  2100 |   70 |  27 |  2556 |\n| São Paulo      |  55 | 1 | 1 | 1 | 2  | acept     | furnished     |  790 |  4200 |  224 |  54 |  5268 |\n| São Paulo      | 100 | 2 | 2 | 2 | 24 | acept     | furnished     |  900 |  4370 |   17 |  56 |  5343 |\n| Campinas       | 330 | 4 | 6 | 6 | -  | acept     | furnished     |  680 |  8000 |  328 | 121 |  9129 |\n| São Paulo      | 110 | 2 | 2 | 1 | 1  | acept     | not furnished |  700 |  3000 |  122 |  39 |  3861 |\n| Rio de Janeiro |  88 | 2 | 3 | 1 | 9  | not acept | furnished     | 1614 |  3500 |  221 |  16 |  5351 |\n| Rio de Janeiro |  56 | 2 | 1 | 0 | 8  | acept     | not furnished |  800 |  1220 |    0 |  16 |  2036 |\n| São Paulo      | 600 | 4 | 5 | 6 | -  | acept     | not furnished |    0 | 12000 | 9500 | 181 | 21680 |\n| São Paulo      | 100 | 7 | 4 | 0 | -  | acept     | not furnished |    0 |  3800 |  118 |  58 |  3976 |\n| Belo Horizonte |  42 | 1 | 1 | 1 | 17 | not acept | furnished     |  470 |  2690 |  172 |  36 |  3368 |\n| São Paulo      | 160 | 3 | 2 | 2 | 18 | acept     | furnished     | 1530 |  1900 |  167 |  25 |  3622 |\n| São Paulo      |  35 | 1 | 1 | 0 | -  | acept     | not furnished |    0 |  1100 |    3 |  14 |  1117 |\n| Rio de Janeiro |  90 | 3 | 2 | 1 | 7  | acept     | not furnished |  800 |  1800 |  118 |  24 |  2742 |\n| São Paulo      |  49 | 1 | 1 | 1 | 10 | acept     | not furnished |  480 |  3500 |   42 |  45 |  4067 |\n| São Paulo      |  41 | 1 | 1 | 1 | 5  | not acept | furnished     |  600 |  3000 |    0 |  39 |  3639 |\n| Belo Horizonte |  64 | 2 | 2 | 1 | 11 | acept     | not furnished |  352 |  1500 |   80 |  20 |  1952 |\n| Campinas       | 208 | 3 | 2 | 4 | -  | acept     | not furnished |    0 |  3180 |  100 |  48 |  3328 |\n| São Paulo      |  20 | 1 | 1 | 0 | 5  | acept     | furnished     |  602 |  1800 |  130 |  23 |  2555 |\n| ⋮ | ⋮ | ⋮ | ⋮ | ⋮ | ⋮ | ⋮ | ⋮ | ⋮ | ⋮ | ⋮ | ⋮ | ⋮ |\n| São Paulo      | 238 | 4 | 3 | 1 | 7  | acept     | not furnished | 2515 |  4500 |  575 |  58 |  7648 |\n| São Paulo      |  90 | 3 | 1 | 0 | 13 | acept     | not furnished |  785 |  1600 |    0 |  21 |  2406 |\n| Rio de Janeiro | 310 | 3 | 2 | 0 | 5  | not acept | not furnished | 2500 |  6000 |  595 |  78 |  9173 |\n| Belo Horizonte |  55 | 2 | 1 | 1 | 2  | not acept | furnished     |  200 |  1600 |   75 |  22 |  1897 |\n| Rio de Janeiro |  60 | 2 | 2 | 0 | 13 | acept     | not furnished |  600 |  2700 |  154 |  35 |  3489 |\n| Belo Horizonte |  75 | 2 | 1 | 1 | 3  | not acept | not furnished |  180 |  1250 |    0 |  17 |  1447 |\n| São Paulo      |  24 | 1 | 1 | 0 | -  | acept     | not furnished |    0 |   870 |    0 |  14 |   884 |\n| São Paulo      | 340 | 4 | 5 | 3 | 15 | not acept | furnished     | 3519 | 12000 | 1287 | 153 | 16960 |\n| São Paulo      | 165 | 3 | 3 | 2 | 2  | acept     | furnished     | 1150 |  2710 |   84 |  35 |  3979 |\n| São Paulo      |  84 | 2 | 2 | 1 | 16 | not acept | furnished     |  768 |  2900 |   63 |  37 |  3768 |\n| São Paulo      | 126 | 2 | 1 | 0 | 13 | acept     | not furnished |  570 |  2580 |    0 |  33 |  3183 |\n| Porto Alegre   | 220 | 3 | 2 | 2 | 15 | acept     | not furnished |  842 |  2400 |  117 |  36 |  3395 |\n| Rio de Janeiro | 135 | 4 | 2 | 1 | -  | acept     | not furnished |    0 |  3300 |  115 |  51 |  3466 |\n| Rio de Janeiro | 250 | 3 | 2 | 1 | 11 | acept     | not furnished | 2000 |  2700 |  500 |  35 |  5235 |\n| Porto Alegre   |  40 | 1 | 1 | 0 | 1  | acept     | not furnished |  330 |  1200 |  159 |  18 |  1707 |\n| São Paulo      |  38 | 1 | 1 | 0 | 19 | not acept | not furnished |  583 |  1000 |   46 |  13 |  1642 |\n| São Paulo      | 141 | 3 | 5 | 0 | 4  | acept     | not furnished |  909 | 10140 |  772 | 129 | 11950 |\n| São Paulo      |  61 | 1 | 2 | 1 | 13 | acept     | not furnished |  680 |  4000 |  140 |  51 |  4871 |\n| São Paulo      | 156 | 4 | 4 | 3 | 1  | acept     | furnished     | 2000 |  2200 |  750 |  28 |  4978 |\n| São Paulo      | 230 | 3 | 5 | 3 | 3  | not acept | not furnished | 3800 | 11000 | 1100 | 140 | 16040 |\n| Porto Alegre   | 160 | 3 | 2 | 3 | 4  | acept     | furnished     |  850 |  3300 |  220 |  49 |  4419 |\n| São Paulo      | 280 | 4 | 4 | 2 | 5  | acept     | not furnished | 4200 |  4000 | 1042 |  51 |  9293 |\n| Rio de Janeiro |  98 | 2 | 1 | 0 | 1  | acept     | not furnished |  560 |  3900 |  184 |  51 |  4695 |\n| São Paulo      |  83 | 3 | 2 | 2 | 11 | acept     | not furnished |  888 |  7521 |  221 |  96 |  8726 |\n| São Paulo      | 150 | 3 | 3 | 2 | 8  | not acept | furnished     |    0 | 13500 |    0 | 172 | 13670 |\n| Porto Alegre   |  63 | 2 | 1 | 1 | 5  | not acept | furnished     |  402 |  1478 |   24 |  22 |  1926 |\n| São Paulo      | 285 | 4 | 4 | 4 | 17 | acept     | not furnished | 3100 | 15000 |  973 | 191 | 19260 |\n| Rio de Janeiro |  70 | 3 | 3 | 0 | 8  | not acept | furnished     |  980 |  6000 |  332 |  78 |  7390 |\n| Rio de Janeiro | 120 | 2 | 2 | 2 | 8  | acept     | furnished     | 1585 | 12000 |  279 | 155 | 14020 |\n| São Paulo      |  80 | 2 | 1 | 0 | -  | acept     | not furnished |    0 |  1400 |  165 |  22 |  1587 |\n\n",
            "text/html": [
              "<table class=\"dataframe\">\n",
              "<caption>A data.frame: 10692 × 13</caption>\n",
              "<thead>\n",
              "\t<tr><th scope=col>city</th><th scope=col>area</th><th scope=col>rooms</th><th scope=col>bathroom</th><th scope=col>parking.spaces</th><th scope=col>floor</th><th scope=col>animal</th><th scope=col>furniture</th><th scope=col>hoa..R..</th><th scope=col>rent.amount..R..</th><th scope=col>property.tax..R..</th><th scope=col>fire.insurance..R..</th><th scope=col>total..R..</th></tr>\n",
              "\t<tr><th scope=col>&lt;chr&gt;</th><th scope=col>&lt;int&gt;</th><th scope=col>&lt;int&gt;</th><th scope=col>&lt;int&gt;</th><th scope=col>&lt;int&gt;</th><th scope=col>&lt;chr&gt;</th><th scope=col>&lt;chr&gt;</th><th scope=col>&lt;chr&gt;</th><th scope=col>&lt;int&gt;</th><th scope=col>&lt;int&gt;</th><th scope=col>&lt;int&gt;</th><th scope=col>&lt;int&gt;</th><th scope=col>&lt;int&gt;</th></tr>\n",
              "</thead>\n",
              "<tbody>\n",
              "\t<tr><td>São Paulo     </td><td> 70</td><td>2</td><td>1</td><td>1</td><td>7 </td><td>acept    </td><td>furnished    </td><td>2065</td><td> 3300</td><td> 211</td><td> 42</td><td> 5618</td></tr>\n",
              "\t<tr><td>São Paulo     </td><td>320</td><td>4</td><td>4</td><td>0</td><td>20</td><td>acept    </td><td>not furnished</td><td>1200</td><td> 4960</td><td>1750</td><td> 63</td><td> 7973</td></tr>\n",
              "\t<tr><td>Porto Alegre  </td><td> 80</td><td>1</td><td>1</td><td>1</td><td>6 </td><td>acept    </td><td>not furnished</td><td>1000</td><td> 2800</td><td>   0</td><td> 41</td><td> 3841</td></tr>\n",
              "\t<tr><td>Porto Alegre  </td><td> 51</td><td>2</td><td>1</td><td>0</td><td>2 </td><td>acept    </td><td>not furnished</td><td> 270</td><td> 1112</td><td>  22</td><td> 17</td><td> 1421</td></tr>\n",
              "\t<tr><td>São Paulo     </td><td> 25</td><td>1</td><td>1</td><td>0</td><td>1 </td><td>not acept</td><td>not furnished</td><td>   0</td><td>  800</td><td>  25</td><td> 11</td><td>  836</td></tr>\n",
              "\t<tr><td>São Paulo     </td><td>376</td><td>3</td><td>3</td><td>7</td><td>- </td><td>acept    </td><td>not furnished</td><td>   0</td><td> 8000</td><td> 834</td><td>121</td><td> 8955</td></tr>\n",
              "\t<tr><td>Rio de Janeiro</td><td> 72</td><td>2</td><td>1</td><td>0</td><td>7 </td><td>acept    </td><td>not furnished</td><td> 740</td><td> 1900</td><td>  85</td><td> 25</td><td> 2750</td></tr>\n",
              "\t<tr><td>São Paulo     </td><td>213</td><td>4</td><td>4</td><td>4</td><td>4 </td><td>acept    </td><td>not furnished</td><td>2254</td><td> 3223</td><td>1735</td><td> 41</td><td> 7253</td></tr>\n",
              "\t<tr><td>São Paulo     </td><td>152</td><td>2</td><td>2</td><td>1</td><td>3 </td><td>acept    </td><td>furnished    </td><td>1000</td><td>15000</td><td> 250</td><td>191</td><td>16440</td></tr>\n",
              "\t<tr><td>Rio de Janeiro</td><td> 35</td><td>1</td><td>1</td><td>0</td><td>2 </td><td>acept    </td><td>furnished    </td><td> 590</td><td> 2300</td><td>  35</td><td> 30</td><td> 2955</td></tr>\n",
              "\t<tr><td>São Paulo     </td><td> 26</td><td>1</td><td>1</td><td>0</td><td>2 </td><td>acept    </td><td>furnished    </td><td> 470</td><td> 2100</td><td> 150</td><td> 27</td><td> 2747</td></tr>\n",
              "\t<tr><td>Campinas      </td><td> 46</td><td>1</td><td>1</td><td>1</td><td>10</td><td>acept    </td><td>not furnished</td><td> 550</td><td>  580</td><td>  43</td><td>  8</td><td> 1181</td></tr>\n",
              "\t<tr><td>São Paulo     </td><td> 36</td><td>1</td><td>1</td><td>0</td><td>11</td><td>acept    </td><td>not furnished</td><td> 359</td><td> 2100</td><td>  70</td><td> 27</td><td> 2556</td></tr>\n",
              "\t<tr><td>São Paulo     </td><td> 55</td><td>1</td><td>1</td><td>1</td><td>2 </td><td>acept    </td><td>furnished    </td><td> 790</td><td> 4200</td><td> 224</td><td> 54</td><td> 5268</td></tr>\n",
              "\t<tr><td>São Paulo     </td><td>100</td><td>2</td><td>2</td><td>2</td><td>24</td><td>acept    </td><td>furnished    </td><td> 900</td><td> 4370</td><td>  17</td><td> 56</td><td> 5343</td></tr>\n",
              "\t<tr><td>Campinas      </td><td>330</td><td>4</td><td>6</td><td>6</td><td>- </td><td>acept    </td><td>furnished    </td><td> 680</td><td> 8000</td><td> 328</td><td>121</td><td> 9129</td></tr>\n",
              "\t<tr><td>São Paulo     </td><td>110</td><td>2</td><td>2</td><td>1</td><td>1 </td><td>acept    </td><td>not furnished</td><td> 700</td><td> 3000</td><td> 122</td><td> 39</td><td> 3861</td></tr>\n",
              "\t<tr><td>Rio de Janeiro</td><td> 88</td><td>2</td><td>3</td><td>1</td><td>9 </td><td>not acept</td><td>furnished    </td><td>1614</td><td> 3500</td><td> 221</td><td> 16</td><td> 5351</td></tr>\n",
              "\t<tr><td>Rio de Janeiro</td><td> 56</td><td>2</td><td>1</td><td>0</td><td>8 </td><td>acept    </td><td>not furnished</td><td> 800</td><td> 1220</td><td>   0</td><td> 16</td><td> 2036</td></tr>\n",
              "\t<tr><td>São Paulo     </td><td>600</td><td>4</td><td>5</td><td>6</td><td>- </td><td>acept    </td><td>not furnished</td><td>   0</td><td>12000</td><td>9500</td><td>181</td><td>21680</td></tr>\n",
              "\t<tr><td>São Paulo     </td><td>100</td><td>7</td><td>4</td><td>0</td><td>- </td><td>acept    </td><td>not furnished</td><td>   0</td><td> 3800</td><td> 118</td><td> 58</td><td> 3976</td></tr>\n",
              "\t<tr><td>Belo Horizonte</td><td> 42</td><td>1</td><td>1</td><td>1</td><td>17</td><td>not acept</td><td>furnished    </td><td> 470</td><td> 2690</td><td> 172</td><td> 36</td><td> 3368</td></tr>\n",
              "\t<tr><td>São Paulo     </td><td>160</td><td>3</td><td>2</td><td>2</td><td>18</td><td>acept    </td><td>furnished    </td><td>1530</td><td> 1900</td><td> 167</td><td> 25</td><td> 3622</td></tr>\n",
              "\t<tr><td>São Paulo     </td><td> 35</td><td>1</td><td>1</td><td>0</td><td>- </td><td>acept    </td><td>not furnished</td><td>   0</td><td> 1100</td><td>   3</td><td> 14</td><td> 1117</td></tr>\n",
              "\t<tr><td>Rio de Janeiro</td><td> 90</td><td>3</td><td>2</td><td>1</td><td>7 </td><td>acept    </td><td>not furnished</td><td> 800</td><td> 1800</td><td> 118</td><td> 24</td><td> 2742</td></tr>\n",
              "\t<tr><td>São Paulo     </td><td> 49</td><td>1</td><td>1</td><td>1</td><td>10</td><td>acept    </td><td>not furnished</td><td> 480</td><td> 3500</td><td>  42</td><td> 45</td><td> 4067</td></tr>\n",
              "\t<tr><td>São Paulo     </td><td> 41</td><td>1</td><td>1</td><td>1</td><td>5 </td><td>not acept</td><td>furnished    </td><td> 600</td><td> 3000</td><td>   0</td><td> 39</td><td> 3639</td></tr>\n",
              "\t<tr><td>Belo Horizonte</td><td> 64</td><td>2</td><td>2</td><td>1</td><td>11</td><td>acept    </td><td>not furnished</td><td> 352</td><td> 1500</td><td>  80</td><td> 20</td><td> 1952</td></tr>\n",
              "\t<tr><td>Campinas      </td><td>208</td><td>3</td><td>2</td><td>4</td><td>- </td><td>acept    </td><td>not furnished</td><td>   0</td><td> 3180</td><td> 100</td><td> 48</td><td> 3328</td></tr>\n",
              "\t<tr><td>São Paulo     </td><td> 20</td><td>1</td><td>1</td><td>0</td><td>5 </td><td>acept    </td><td>furnished    </td><td> 602</td><td> 1800</td><td> 130</td><td> 23</td><td> 2555</td></tr>\n",
              "\t<tr><td>⋮</td><td>⋮</td><td>⋮</td><td>⋮</td><td>⋮</td><td>⋮</td><td>⋮</td><td>⋮</td><td>⋮</td><td>⋮</td><td>⋮</td><td>⋮</td><td>⋮</td></tr>\n",
              "\t<tr><td>São Paulo     </td><td>238</td><td>4</td><td>3</td><td>1</td><td>7 </td><td>acept    </td><td>not furnished</td><td>2515</td><td> 4500</td><td> 575</td><td> 58</td><td> 7648</td></tr>\n",
              "\t<tr><td>São Paulo     </td><td> 90</td><td>3</td><td>1</td><td>0</td><td>13</td><td>acept    </td><td>not furnished</td><td> 785</td><td> 1600</td><td>   0</td><td> 21</td><td> 2406</td></tr>\n",
              "\t<tr><td>Rio de Janeiro</td><td>310</td><td>3</td><td>2</td><td>0</td><td>5 </td><td>not acept</td><td>not furnished</td><td>2500</td><td> 6000</td><td> 595</td><td> 78</td><td> 9173</td></tr>\n",
              "\t<tr><td>Belo Horizonte</td><td> 55</td><td>2</td><td>1</td><td>1</td><td>2 </td><td>not acept</td><td>furnished    </td><td> 200</td><td> 1600</td><td>  75</td><td> 22</td><td> 1897</td></tr>\n",
              "\t<tr><td>Rio de Janeiro</td><td> 60</td><td>2</td><td>2</td><td>0</td><td>13</td><td>acept    </td><td>not furnished</td><td> 600</td><td> 2700</td><td> 154</td><td> 35</td><td> 3489</td></tr>\n",
              "\t<tr><td>Belo Horizonte</td><td> 75</td><td>2</td><td>1</td><td>1</td><td>3 </td><td>not acept</td><td>not furnished</td><td> 180</td><td> 1250</td><td>   0</td><td> 17</td><td> 1447</td></tr>\n",
              "\t<tr><td>São Paulo     </td><td> 24</td><td>1</td><td>1</td><td>0</td><td>- </td><td>acept    </td><td>not furnished</td><td>   0</td><td>  870</td><td>   0</td><td> 14</td><td>  884</td></tr>\n",
              "\t<tr><td>São Paulo     </td><td>340</td><td>4</td><td>5</td><td>3</td><td>15</td><td>not acept</td><td>furnished    </td><td>3519</td><td>12000</td><td>1287</td><td>153</td><td>16960</td></tr>\n",
              "\t<tr><td>São Paulo     </td><td>165</td><td>3</td><td>3</td><td>2</td><td>2 </td><td>acept    </td><td>furnished    </td><td>1150</td><td> 2710</td><td>  84</td><td> 35</td><td> 3979</td></tr>\n",
              "\t<tr><td>São Paulo     </td><td> 84</td><td>2</td><td>2</td><td>1</td><td>16</td><td>not acept</td><td>furnished    </td><td> 768</td><td> 2900</td><td>  63</td><td> 37</td><td> 3768</td></tr>\n",
              "\t<tr><td>São Paulo     </td><td>126</td><td>2</td><td>1</td><td>0</td><td>13</td><td>acept    </td><td>not furnished</td><td> 570</td><td> 2580</td><td>   0</td><td> 33</td><td> 3183</td></tr>\n",
              "\t<tr><td>Porto Alegre  </td><td>220</td><td>3</td><td>2</td><td>2</td><td>15</td><td>acept    </td><td>not furnished</td><td> 842</td><td> 2400</td><td> 117</td><td> 36</td><td> 3395</td></tr>\n",
              "\t<tr><td>Rio de Janeiro</td><td>135</td><td>4</td><td>2</td><td>1</td><td>- </td><td>acept    </td><td>not furnished</td><td>   0</td><td> 3300</td><td> 115</td><td> 51</td><td> 3466</td></tr>\n",
              "\t<tr><td>Rio de Janeiro</td><td>250</td><td>3</td><td>2</td><td>1</td><td>11</td><td>acept    </td><td>not furnished</td><td>2000</td><td> 2700</td><td> 500</td><td> 35</td><td> 5235</td></tr>\n",
              "\t<tr><td>Porto Alegre  </td><td> 40</td><td>1</td><td>1</td><td>0</td><td>1 </td><td>acept    </td><td>not furnished</td><td> 330</td><td> 1200</td><td> 159</td><td> 18</td><td> 1707</td></tr>\n",
              "\t<tr><td>São Paulo     </td><td> 38</td><td>1</td><td>1</td><td>0</td><td>19</td><td>not acept</td><td>not furnished</td><td> 583</td><td> 1000</td><td>  46</td><td> 13</td><td> 1642</td></tr>\n",
              "\t<tr><td>São Paulo     </td><td>141</td><td>3</td><td>5</td><td>0</td><td>4 </td><td>acept    </td><td>not furnished</td><td> 909</td><td>10140</td><td> 772</td><td>129</td><td>11950</td></tr>\n",
              "\t<tr><td>São Paulo     </td><td> 61</td><td>1</td><td>2</td><td>1</td><td>13</td><td>acept    </td><td>not furnished</td><td> 680</td><td> 4000</td><td> 140</td><td> 51</td><td> 4871</td></tr>\n",
              "\t<tr><td>São Paulo     </td><td>156</td><td>4</td><td>4</td><td>3</td><td>1 </td><td>acept    </td><td>furnished    </td><td>2000</td><td> 2200</td><td> 750</td><td> 28</td><td> 4978</td></tr>\n",
              "\t<tr><td>São Paulo     </td><td>230</td><td>3</td><td>5</td><td>3</td><td>3 </td><td>not acept</td><td>not furnished</td><td>3800</td><td>11000</td><td>1100</td><td>140</td><td>16040</td></tr>\n",
              "\t<tr><td>Porto Alegre  </td><td>160</td><td>3</td><td>2</td><td>3</td><td>4 </td><td>acept    </td><td>furnished    </td><td> 850</td><td> 3300</td><td> 220</td><td> 49</td><td> 4419</td></tr>\n",
              "\t<tr><td>São Paulo     </td><td>280</td><td>4</td><td>4</td><td>2</td><td>5 </td><td>acept    </td><td>not furnished</td><td>4200</td><td> 4000</td><td>1042</td><td> 51</td><td> 9293</td></tr>\n",
              "\t<tr><td>Rio de Janeiro</td><td> 98</td><td>2</td><td>1</td><td>0</td><td>1 </td><td>acept    </td><td>not furnished</td><td> 560</td><td> 3900</td><td> 184</td><td> 51</td><td> 4695</td></tr>\n",
              "\t<tr><td>São Paulo     </td><td> 83</td><td>3</td><td>2</td><td>2</td><td>11</td><td>acept    </td><td>not furnished</td><td> 888</td><td> 7521</td><td> 221</td><td> 96</td><td> 8726</td></tr>\n",
              "\t<tr><td>São Paulo     </td><td>150</td><td>3</td><td>3</td><td>2</td><td>8 </td><td>not acept</td><td>furnished    </td><td>   0</td><td>13500</td><td>   0</td><td>172</td><td>13670</td></tr>\n",
              "\t<tr><td>Porto Alegre  </td><td> 63</td><td>2</td><td>1</td><td>1</td><td>5 </td><td>not acept</td><td>furnished    </td><td> 402</td><td> 1478</td><td>  24</td><td> 22</td><td> 1926</td></tr>\n",
              "\t<tr><td>São Paulo     </td><td>285</td><td>4</td><td>4</td><td>4</td><td>17</td><td>acept    </td><td>not furnished</td><td>3100</td><td>15000</td><td> 973</td><td>191</td><td>19260</td></tr>\n",
              "\t<tr><td>Rio de Janeiro</td><td> 70</td><td>3</td><td>3</td><td>0</td><td>8 </td><td>not acept</td><td>furnished    </td><td> 980</td><td> 6000</td><td> 332</td><td> 78</td><td> 7390</td></tr>\n",
              "\t<tr><td>Rio de Janeiro</td><td>120</td><td>2</td><td>2</td><td>2</td><td>8 </td><td>acept    </td><td>furnished    </td><td>1585</td><td>12000</td><td> 279</td><td>155</td><td>14020</td></tr>\n",
              "\t<tr><td>São Paulo     </td><td> 80</td><td>2</td><td>1</td><td>0</td><td>- </td><td>acept    </td><td>not furnished</td><td>   0</td><td> 1400</td><td> 165</td><td> 22</td><td> 1587</td></tr>\n",
              "</tbody>\n",
              "</table>\n"
            ]
          },
          "metadata": {}
        }
      ]
    },
    {
      "cell_type": "code",
      "metadata": {
        "id": "pmtKXrIaCnSp"
      },
      "source": [
        ""
      ],
      "execution_count": null,
      "outputs": []
    },
    {
      "cell_type": "markdown",
      "metadata": {
        "id": "ZZVaxg7aL9lF"
      },
      "source": [
        "#ANÁLISE DESCRITIVA"
      ]
    },
    {
      "cell_type": "code",
      "metadata": {
        "colab": {
          "base_uri": "https://localhost:8080/",
          "height": 85
        },
        "id": "YshXRMk5N9ml",
        "outputId": "49d6b9ba-410e-4764-c710-907b1526b098"
      },
      "source": [
        "summary(dataframe$rent.amount..R..)\n",
        "\n",
        "log_aluguel = log(dataframe$rent.amount..R..)\n",
        "summary(log_aluguel)"
      ],
      "execution_count": null,
      "outputs": [
        {
          "output_type": "display_data",
          "data": {
            "text/plain": [
              "   Min. 1st Qu.  Median    Mean 3rd Qu.    Max. \n",
              "    450    1530    2661    3896    5000   45000 "
            ]
          },
          "metadata": {}
        },
        {
          "output_type": "display_data",
          "data": {
            "text/plain": [
              "   Min. 1st Qu.  Median    Mean 3rd Qu.    Max. \n",
              "  6.109   7.333   7.886   7.949   8.517  10.714 "
            ]
          },
          "metadata": {}
        }
      ]
    },
    {
      "cell_type": "code",
      "metadata": {
        "colab": {
          "base_uri": "https://localhost:8080/",
          "height": 377
        },
        "id": "FwZFkF_fMF9F",
        "outputId": "4a784e6d-28ab-4bee-ef85-fdeca5f9b227"
      },
      "source": [
        "ggplot(dataframe, aes(x = rent.amount..R..)) + \n",
        "    geom_histogram(bins = 100) + \n",
        "    ylab(\"Frequência\") + \n",
        "    xlab(\"Valores de aluguel\") + \n",
        "    ggtitle('Histograma os valores de aluguel') +\n",
        "    formatos"
      ],
      "execution_count": null,
      "outputs": [
        {
          "output_type": "display_data",
          "data": {
            "image/png": "[encoded data removed]",
            "text/plain": [
              "plot without title"
            ]
          },
          "metadata": {
            "image/png": {
              "width": 540,
              "height": 360
            }
          }
        }
      ]
    },
    {
      "cell_type": "markdown",
      "metadata": {
        "id": "9jrlwUtVPwj9"
      },
      "source": [
        "SELECIONANDO AMOSTRAS"
      ]
    },
    {
      "cell_type": "code",
      "metadata": {
        "id": "a6ur99bIM47Q"
      },
      "source": [
        ""
      ],
      "execution_count": null,
      "outputs": []
    },
    {
      "cell_type": "code",
      "metadata": {
        "colab": {
          "base_uri": "https://localhost:8080/",
          "height": 537
        },
        "id": "I0ouVDN8T9zL",
        "outputId": "6b72f67b-ce53-474d-c8ec-eb4148c0cd0b"
      },
      "source": [
        "amostra_sp = sample(dataframe[dataframe$city == 'São Paulo' , ])\n",
        "amostra_rj = sample(dataframe[dataframe$city == 'Rio de Janeiro' , ])\n",
        "amostra_bh = sample(dataframe[dataframe$city == 'Belo Horizonte' , ]) # belo horizonte\n",
        "amostra_pa = sample(dataframe[dataframe$city == 'Porto Alegre' , ]) # porto alegre\n",
        "amostra_ca = sample(dataframe[dataframe$city == 'Porto Alegre' , ]) # campinas\n",
        "\n",
        "nrow(amostra_sp)\n",
        "nrow(amostra_rj)\n",
        "nrow(amostra_bh)\n",
        "nrow(amostra_pa)\n",
        "nrow(amostra_ca)\n",
        "\n",
        "#SELECIONADAS ABAIXO\n",
        "# amostra_sp = sample_n(dataframe[dataframe$city == 'São Paulo' && dataframe$hoa..R.. < 5000 , ], 500)\n",
        "# amostra_rj = sample_n(dataframe[dataframe$city == 'Rio de Janeiro' && dataframe$hoa..R.. < 5000, ], 500)\n",
        "# amostra_bh = sample_n(dataframe[dataframe$city == 'Belo Horizonte' && dataframe$hoa..R.. < 5000, ], 500) # belo horizonte\n",
        "\n",
        "amostra_sp = sample_n(dataframe[dataframe$city == 'São Paulo' && dataframe$hoa..R.. < 5000 , ], 500)\n",
        "amostra_rj = sample_n(dataframe[dataframe$city == 'Rio de Janeiro' && dataframe$hoa..R.. < 5000, ], 500)\n",
        "amostra_bh = sample_n(dataframe[dataframe$city == 'Belo Horizonte' && dataframe$hoa..R.. < 5000, ], 500) # belo horizonte\n",
        "\n",
        "nrow(amostra_sp)"
      ],
      "execution_count": null,
      "outputs": [
        {
          "output_type": "display_data",
          "data": {
            "text/plain": [
              "[1] 5887"
            ],
            "text/latex": "5887",
            "text/markdown": "5887",
            "text/html": [
              "5887"
            ]
          },
          "metadata": {}
        },
        {
          "output_type": "display_data",
          "data": {
            "text/plain": [
              "[1] 1501"
            ],
            "text/latex": "1501",
            "text/markdown": "1501",
            "text/html": [
              "1501"
            ]
          },
          "metadata": {}
        },
        {
          "output_type": "display_data",
          "data": {
            "text/plain": [
              "[1] 1258"
            ],
            "text/latex": "1258",
            "text/markdown": "1258",
            "text/html": [
              "1258"
            ]
          },
          "metadata": {}
        },
        {
          "output_type": "display_data",
          "data": {
            "text/plain": [
              "[1] 1193"
            ],
            "text/latex": "1193",
            "text/markdown": "1193",
            "text/html": [
              "1193"
            ]
          },
          "metadata": {}
        },
        {
          "output_type": "display_data",
          "data": {
            "text/plain": [
              "[1] 1193"
            ],
            "text/latex": "1193",
            "text/markdown": "1193",
            "text/html": [
              "1193"
            ]
          },
          "metadata": {}
        },
        {
          "output_type": "error",
          "ename": "ERROR",
          "evalue": "ignored",
          "traceback": [
            "Error: `size` must be less or equal than 0 (size of data), set `replace` = TRUE to use sampling with replacement.\nTraceback:\n",
            "1. sample_n(dataframe[dataframe$city == \"Rio de Janeiro\" && dataframe$hoa..R.. < \n .     5000, ], 500)",
            "2. sample_n.data.frame(dataframe[dataframe$city == \"Rio de Janeiro\" && \n .     dataframe$hoa..R.. < 5000, ], 500)",
            "3. slice(tbl, sample.int(n(), check_size(!!size, n(), replace = replace), \n .     replace = replace, prob = !!weight))",
            "4. slice.data.frame(tbl, sample.int(n(), check_size(!!size, n(), \n .     replace = replace), replace = replace, prob = !!weight))",
            "5. slice_rows(.data, ...)",
            "6. mask$eval_all(quo)",
            "7. ~sample.int(n(), check_size(~500, n(), replace = replace), replace = replace, \n .     prob = ~NULL)",
            "8. sample.int(n(), check_size(~500, n(), replace = replace), replace = replace, \n .     prob = ~NULL)",
            "9. check_size(~500, n(), replace = replace)",
            "10. bad_args(\"size\", \"must be less or equal than {n} (size of data), \", \n  .     \"set `replace` = TRUE to use sampling with replacement.\")",
            "11. glubort(fmt_args(args), ..., .envir = .envir)",
            "12. .abort(text)",
            "13. signal_abort(cnd)"
          ]
        }
      ]
    },
    {
      "cell_type": "code",
      "metadata": {
        "colab": {
          "base_uri": "https://localhost:8080/",
          "height": 377
        },
        "id": "GvLTNlfXs5UG",
        "outputId": "c36aa828-0699-4efe-85ca-b119152c3630"
      },
      "source": [
        "ggplot(amostra_sp, aes(x = rent.amount..R.. )) + \n",
        "    geom_histogram(bins = 100) + \n",
        "    ylab(\"Frequência\") + \n",
        "    xlab(\"Valores de aluguel\") + \n",
        "    ggtitle('Histograma os valores de aluguel') +\n",
        "    formatos"
      ],
      "execution_count": null,
      "outputs": [
        {
          "output_type": "display_data",
          "data": {
            "image/png": "[encoded data removed]",
            "text/plain": [
              "plot without title"
            ]
          },
          "metadata": {
            "image/png": {
              "width": 540,
              "height": 360
            }
          }
        }
      ]
    },
    {
      "cell_type": "code",
      "metadata": {
        "colab": {
          "base_uri": "https://localhost:8080/",
          "height": 476
        },
        "id": "Q2tXBqF7P1Zj",
        "outputId": "b6d10f77-2c6c-4783-94cb-50445949f79e"
      },
      "source": [
        "grupo_sp = amostra_sp$property.tax..R..\n",
        "grupo_rj = amostra_rj$property.tax..R..\n",
        "grupo_bh = amostra_bh$property.tax..R..\n",
        "\n",
        "grupo_sp\n",
        "grupo_rj\n",
        "grupo_bh"
      ],
      "execution_count": null,
      "outputs": [
        {
          "output_type": "display_data",
          "data": {
            "text/plain": [
              "  [1]  280    0  857 2100    0   25   22  834 1449  827  310   41  242  255  200\n",
              " [16]  834  311   73   10   42 1000  148  392    0   75    0 1454  233  334  609\n",
              " [31]   50 2041   67    0   20   92 1167  300   30   34   84   27   41   57  417\n",
              " [46]   63  238  392   97  417   79  259  275   30  154  142  142 1301    1   71\n",
              " [61]   72   67 1577  881  177   90 2500  120   15  150  110    0   92  122  125\n",
              " [76]  212    0    0  100  209  717   55  200    0   30   89   80   41  417  690\n",
              " [91]  375  117  400 1000  267  220    0  667   87  105  130    0  242    8 1167\n",
              "[106]   21  117  350 1017    0   61   38  200   84   92   55    9  888   84  367\n",
              "[121]  442    0 1417  182   30 2475  955  768   30    0    0   10  362    1  100\n",
              "[136]  459   13   70   50  434  375  209  122    0    0   48   30  250   65 2000\n",
              "[151]   30    0  209   25  575  112  109  110   42   25    0   68  736 5000   20\n",
              "[166]  487 1250   10  667  102   24  105  835  121    0  111  542  300  667    0\n",
              "[181] 1000   21    0  250  100 2434  207  959    0  365  350  320  200  862  210\n",
              "[196]    0   91    5  129  293  900  167  250  542    0   84  180  125   35   75\n",
              "[211]  500  597   35   92  125  321   50   48  701  750  208   58  142  350  417\n",
              "[226]   70  990   90    0   55  200  750  291   50   14  159  119   15  251   38\n",
              "[241]  125    0   50  579  700  225  327  492   20   75  585   84   78  500   75\n",
              "[256]  259 1000   68   81    0    0  543  182   33    0   21  332    0    0  120\n",
              "[271]   67   74  417  440  246  450    0   94  167   54  567   75    0    0  133\n",
              "[286]    0   45  416    0   56  108  584    0    0   42   59    0  380    0  556\n",
              "[301]  122 1542    0  106  125  210   11   21 1917  850  100   25  809  559   53\n",
              "[316]   17  500 1250   82  216  114 1834   34   82 1250  116  334   80  261 1130\n",
              "[331]   73 1875    0   89 1150  243  117   15   50  308   42  375    0  130 1667\n",
              "[346]   41  360    0  435  375    0  379    0  192   81  167   50 1750  807   64\n",
              "[361] 1210   30  403  220  142  212  165  167  124   62   50   23  390   13  211\n",
              "[376]  109  160   25 1059  284  100   20 1167    0    0  184   70  270  325  141\n",
              "[391]    0   48  510  234    0   59  657 1250    0 1105  334    0   90  130    0\n",
              "[406]    0    0    0  236  150  112 2800  375    0  584  790    0  130   67   52\n",
              "[421]  225  809   43 2592  244  200    0  253  110  934  750    0    0   84   10\n",
              "[436]   67 1299 2000   80  131   84 2500   50    0  163    0    0   23 1974  242\n",
              "[451]   40    0   50  600    0    0  870   88  124  104 3025   70  642  200    0\n",
              "[466] 1417   79  316   95  118   13  294   81  272    0  660    9  104  717    0\n",
              "[481]  283    0    0  109  180  211   67    5  255  120    0    0   29  555  100\n",
              "[496] 1084  283  227 1334  375"
            ],
            "text/latex": "\\begin{enumerate*}\n\\item 280\n\\item 0\n\\item 857\n\\item 2100\n\\item 0\n\\item 25\n\\item 22\n\\item 834\n\\item 1449\n\\item 827\n\\item 310\n\\item 41\n\\item 242\n\\item 255\n\\item 200\n\\item 834\n\\item 311\n\\item 73\n\\item 10\n\\item 42\n\\item 1000\n\\item 148\n\\item 392\n\\item 0\n\\item 75\n\\item 0\n\\item 1454\n\\item 233\n\\item 334\n\\item 609\n\\item 50\n\\item 2041\n\\item 67\n\\item 0\n\\item 20\n\\item 92\n\\item 1167\n\\item 300\n\\item 30\n\\item 34\n\\item 84\n\\item 27\n\\item 41\n\\item 57\n\\item 417\n\\item 63\n\\item 238\n\\item 392\n\\item 97\n\\item 417\n\\item 79\n\\item 259\n\\item 275\n\\item 30\n\\item 154\n\\item 142\n\\item 142\n\\item 1301\n\\item 1\n\\item 71\n\\item 72\n\\item 67\n\\item 1577\n\\item 881\n\\item 177\n\\item 90\n\\item 2500\n\\item 120\n\\item 15\n\\item 150\n\\item 110\n\\item 0\n\\item 92\n\\item 122\n\\item 125\n\\item 212\n\\item 0\n\\item 0\n\\item 100\n\\item 209\n\\item 717\n\\item 55\n\\item 200\n\\item 0\n\\item 30\n\\item 89\n\\item 80\n\\item 41\n\\item 417\n\\item 690\n\\item 375\n\\item 117\n\\item 400\n\\item 1000\n\\item 267\n\\item 220\n\\item 0\n\\item 667\n\\item 87\n\\item 105\n\\item 130\n\\item 0\n\\item 242\n\\item 8\n\\item 1167\n\\item 21\n\\item 117\n\\item 350\n\\item 1017\n\\item 0\n\\item 61\n\\item 38\n\\item 200\n\\item 84\n\\item 92\n\\item 55\n\\item 9\n\\item 888\n\\item 84\n\\item 367\n\\item 442\n\\item 0\n\\item 1417\n\\item 182\n\\item 30\n\\item 2475\n\\item 955\n\\item 768\n\\item 30\n\\item 0\n\\item 0\n\\item 10\n\\item 362\n\\item 1\n\\item 100\n\\item 459\n\\item 13\n\\item 70\n\\item 50\n\\item 434\n\\item 375\n\\item 209\n\\item 122\n\\item 0\n\\item 0\n\\item 48\n\\item 30\n\\item 250\n\\item 65\n\\item 2000\n\\item 30\n\\item 0\n\\item 209\n\\item 25\n\\item 575\n\\item 112\n\\item 109\n\\item 110\n\\item 42\n\\item 25\n\\item 0\n\\item 68\n\\item 736\n\\item 5000\n\\item 20\n\\item 487\n\\item 1250\n\\item 10\n\\item 667\n\\item 102\n\\item 24\n\\item 105\n\\item 835\n\\item 121\n\\item 0\n\\item 111\n\\item 542\n\\item 300\n\\item 667\n\\item 0\n\\item 1000\n\\item 21\n\\item 0\n\\item 250\n\\item 100\n\\item 2434\n\\item 207\n\\item 959\n\\item 0\n\\item 365\n\\item 350\n\\item 320\n\\item 200\n\\item 862\n\\item 210\n\\item 0\n\\item 91\n\\item 5\n\\item 129\n\\item 293\n\\item ⋯\n\\item 122\n\\item 1542\n\\item 0\n\\item 106\n\\item 125\n\\item 210\n\\item 11\n\\item 21\n\\item 1917\n\\item 850\n\\item 100\n\\item 25\n\\item 809\n\\item 559\n\\item 53\n\\item 17\n\\item 500\n\\item 1250\n\\item 82\n\\item 216\n\\item 114\n\\item 1834\n\\item 34\n\\item 82\n\\item 1250\n\\item 116\n\\item 334\n\\item 80\n\\item 261\n\\item 1130\n\\item 73\n\\item 1875\n\\item 0\n\\item 89\n\\item 1150\n\\item 243\n\\item 117\n\\item 15\n\\item 50\n\\item 308\n\\item 42\n\\item 375\n\\item 0\n\\item 130\n\\item 1667\n\\item 41\n\\item 360\n\\item 0\n\\item 435\n\\item 375\n\\item 0\n\\item 379\n\\item 0\n\\item 192\n\\item 81\n\\item 167\n\\item 50\n\\item 1750\n\\item 807\n\\item 64\n\\item 1210\n\\item 30\n\\item 403\n\\item 220\n\\item 142\n\\item 212\n\\item 165\n\\item 167\n\\item 124\n\\item 62\n\\item 50\n\\item 23\n\\item 390\n\\item 13\n\\item 211\n\\item 109\n\\item 160\n\\item 25\n\\item 1059\n\\item 284\n\\item 100\n\\item 20\n\\item 1167\n\\item 0\n\\item 0\n\\item 184\n\\item 70\n\\item 270\n\\item 325\n\\item 141\n\\item 0\n\\item 48\n\\item 510\n\\item 234\n\\item 0\n\\item 59\n\\item 657\n\\item 1250\n\\item 0\n\\item 1105\n\\item 334\n\\item 0\n\\item 90\n\\item 130\n\\item 0\n\\item 0\n\\item 0\n\\item 0\n\\item 236\n\\item 150\n\\item 112\n\\item 2800\n\\item 375\n\\item 0\n\\item 584\n\\item 790\n\\item 0\n\\item 130\n\\item 67\n\\item 52\n\\item 225\n\\item 809\n\\item 43\n\\item 2592\n\\item 244\n\\item 200\n\\item 0\n\\item 253\n\\item 110\n\\item 934\n\\item 750\n\\item 0\n\\item 0\n\\item 84\n\\item 10\n\\item 67\n\\item 1299\n\\item 2000\n\\item 80\n\\item 131\n\\item 84\n\\item 2500\n\\item 50\n\\item 0\n\\item 163\n\\item 0\n\\item 0\n\\item 23\n\\item 1974\n\\item 242\n\\item 40\n\\item 0\n\\item 50\n\\item 600\n\\item 0\n\\item 0\n\\item 870\n\\item 88\n\\item 124\n\\item 104\n\\item 3025\n\\item 70\n\\item 642\n\\item 200\n\\item 0\n\\item 1417\n\\item 79\n\\item 316\n\\item 95\n\\item 118\n\\item 13\n\\item 294\n\\item 81\n\\item 272\n\\item 0\n\\item 660\n\\item 9\n\\item 104\n\\item 717\n\\item 0\n\\item 283\n\\item 0\n\\item 0\n\\item 109\n\\item 180\n\\item 211\n\\item 67\n\\item 5\n\\item 255\n\\item 120\n\\item 0\n\\item 0\n\\item 29\n\\item 555\n\\item 100\n\\item 1084\n\\item 283\n\\item 227\n\\item 1334\n\\item 375\n\\end{enumerate*}\n",
            "text/markdown": "1. 280\n2. 0\n3. 857\n4. 2100\n5. 0\n6. 25\n7. 22\n8. 834\n9. 1449\n10. 827\n11. 310\n12. 41\n13. 242\n14. 255\n15. 200\n16. 834\n17. 311\n18. 73\n19. 10\n20. 42\n21. 1000\n22. 148\n23. 392\n24. 0\n25. 75\n26. 0\n27. 1454\n28. 233\n29. 334\n30. 609\n31. 50\n32. 2041\n33. 67\n34. 0\n35. 20\n36. 92\n37. 1167\n38. 300\n39. 30\n40. 34\n41. 84\n42. 27\n43. 41\n44. 57\n45. 417\n46. 63\n47. 238\n48. 392\n49. 97\n50. 417\n51. 79\n52. 259\n53. 275\n54. 30\n55. 154\n56. 142\n57. 142\n58. 1301\n59. 1\n60. 71\n61. 72\n62. 67\n63. 1577\n64. 881\n65. 177\n66. 90\n67. 2500\n68. 120\n69. 15\n70. 150\n71. 110\n72. 0\n73. 92\n74. 122\n75. 125\n76. 212\n77. 0\n78. 0\n79. 100\n80. 209\n81. 717\n82. 55\n83. 200\n84. 0\n85. 30\n86. 89\n87. 80\n88. 41\n89. 417\n90. 690\n91. 375\n92. 117\n93. 400\n94. 1000\n95. 267\n96. 220\n97. 0\n98. 667\n99. 87\n100. 105\n101. 130\n102. 0\n103. 242\n104. 8\n105. 1167\n106. 21\n107. 117\n108. 350\n109. 1017\n110. 0\n111. 61\n112. 38\n113. 200\n114. 84\n115. 92\n116. 55\n117. 9\n118. 888\n119. 84\n120. 367\n121. 442\n122. 0\n123. 1417\n124. 182\n125. 30\n126. 2475\n127. 955\n128. 768\n129. 30\n130. 0\n131. 0\n132. 10\n133. 362\n134. 1\n135. 100\n136. 459\n137. 13\n138. 70\n139. 50\n140. 434\n141. 375\n142. 209\n143. 122\n144. 0\n145. 0\n146. 48\n147. 30\n148. 250\n149. 65\n150. 2000\n151. 30\n152. 0\n153. 209\n154. 25\n155. 575\n156. 112\n157. 109\n158. 110\n159. 42\n160. 25\n161. 0\n162. 68\n163. 736\n164. 5000\n165. 20\n166. 487\n167. 1250\n168. 10\n169. 667\n170. 102\n171. 24\n172. 105\n173. 835\n174. 121\n175. 0\n176. 111\n177. 542\n178. 300\n179. 667\n180. 0\n181. 1000\n182. 21\n183. 0\n184. 250\n185. 100\n186. 2434\n187. 207\n188. 959\n189. 0\n190. 365\n191. 350\n192. 320\n193. 200\n194. 862\n195. 210\n196. 0\n197. 91\n198. 5\n199. 129\n200. 293\n201. ⋯\n202. 122\n203. 1542\n204. 0\n205. 106\n206. 125\n207. 210\n208. 11\n209. 21\n210. 1917\n211. 850\n212. 100\n213. 25\n214. 809\n215. 559\n216. 53\n217. 17\n218. 500\n219. 1250\n220. 82\n221. 216\n222. 114\n223. 1834\n224. 34\n225. 82\n226. 1250\n227. 116\n228. 334\n229. 80\n230. 261\n231. 1130\n232. 73\n233. 1875\n234. 0\n235. 89\n236. 1150\n237. 243\n238. 117\n239. 15\n240. 50\n241. 308\n242. 42\n243. 375\n244. 0\n245. 130\n246. 1667\n247. 41\n248. 360\n249. 0\n250. 435\n251. 375\n252. 0\n253. 379\n254. 0\n255. 192\n256. 81\n257. 167\n258. 50\n259. 1750\n260. 807\n261. 64\n262. 1210\n263. 30\n264. 403\n265. 220\n266. 142\n267. 212\n268. 165\n269. 167\n270. 124\n271. 62\n272. 50\n273. 23\n274. 390\n275. 13\n276. 211\n277. 109\n278. 160\n279. 25\n280. 1059\n281. 284\n282. 100\n283. 20\n284. 1167\n285. 0\n286. 0\n287. 184\n288. 70\n289. 270\n290. 325\n291. 141\n292. 0\n293. 48\n294. 510\n295. 234\n296. 0\n297. 59\n298. 657\n299. 1250\n300. 0\n301. 1105\n302. 334\n303. 0\n304. 90\n305. 130\n306. 0\n307. 0\n308. 0\n309. 0\n310. 236\n311. 150\n312. 112\n313. 2800\n314. 375\n315. 0\n316. 584\n317. 790\n318. 0\n319. 130\n320. 67\n321. 52\n322. 225\n323. 809\n324. 43\n325. 2592\n326. 244\n327. 200\n328. 0\n329. 253\n330. 110\n331. 934\n332. 750\n333. 0\n334. 0\n335. 84\n336. 10\n337. 67\n338. 1299\n339. 2000\n340. 80\n341. 131\n342. 84\n343. 2500\n344. 50\n345. 0\n346. 163\n347. 0\n348. 0\n349. 23\n350. 1974\n351. 242\n352. 40\n353. 0\n354. 50\n355. 600\n356. 0\n357. 0\n358. 870\n359. 88\n360. 124\n361. 104\n362. 3025\n363. 70\n364. 642\n365. 200\n366. 0\n367. 1417\n368. 79\n369. 316\n370. 95\n371. 118\n372. 13\n373. 294\n374. 81\n375. 272\n376. 0\n377. 660\n378. 9\n379. 104\n380. 717\n381. 0\n382. 283\n383. 0\n384. 0\n385. 109\n386. 180\n387. 211\n388. 67\n389. 5\n390. 255\n391. 120\n392. 0\n393. 0\n394. 29\n395. 555\n396. 100\n397. 1084\n398. 283\n399. 227\n400. 1334\n401. 375\n\n\n",
            "text/html": [
              "<style>\n",
              ".list-inline {list-style: none; margin:0; padding: 0}\n",
              ".list-inline>li {display: inline-block}\n",
              ".list-inline>li:not(:last-child)::after {content: \"\\00b7\"; padding: 0 .5ex}\n",
              "</style>\n",
              "<ol class=list-inline><li>280</li><li>0</li><li>857</li><li>2100</li><li>0</li><li>25</li><li>22</li><li>834</li><li>1449</li><li>827</li><li>310</li><li>41</li><li>242</li><li>255</li><li>200</li><li>834</li><li>311</li><li>73</li><li>10</li><li>42</li><li>1000</li><li>148</li><li>392</li><li>0</li><li>75</li><li>0</li><li>1454</li><li>233</li><li>334</li><li>609</li><li>50</li><li>2041</li><li>67</li><li>0</li><li>20</li><li>92</li><li>1167</li><li>300</li><li>30</li><li>34</li><li>84</li><li>27</li><li>41</li><li>57</li><li>417</li><li>63</li><li>238</li><li>392</li><li>97</li><li>417</li><li>79</li><li>259</li><li>275</li><li>30</li><li>154</li><li>142</li><li>142</li><li>1301</li><li>1</li><li>71</li><li>72</li><li>67</li><li>1577</li><li>881</li><li>177</li><li>90</li><li>2500</li><li>120</li><li>15</li><li>150</li><li>110</li><li>0</li><li>92</li><li>122</li><li>125</li><li>212</li><li>0</li><li>0</li><li>100</li><li>209</li><li>717</li><li>55</li><li>200</li><li>0</li><li>30</li><li>89</li><li>80</li><li>41</li><li>417</li><li>690</li><li>375</li><li>117</li><li>400</li><li>1000</li><li>267</li><li>220</li><li>0</li><li>667</li><li>87</li><li>105</li><li>130</li><li>0</li><li>242</li><li>8</li><li>1167</li><li>21</li><li>117</li><li>350</li><li>1017</li><li>0</li><li>61</li><li>38</li><li>200</li><li>84</li><li>92</li><li>55</li><li>9</li><li>888</li><li>84</li><li>367</li><li>442</li><li>0</li><li>1417</li><li>182</li><li>30</li><li>2475</li><li>955</li><li>768</li><li>30</li><li>0</li><li>0</li><li>10</li><li>362</li><li>1</li><li>100</li><li>459</li><li>13</li><li>70</li><li>50</li><li>434</li><li>375</li><li>209</li><li>122</li><li>0</li><li>0</li><li>48</li><li>30</li><li>250</li><li>65</li><li>2000</li><li>30</li><li>0</li><li>209</li><li>25</li><li>575</li><li>112</li><li>109</li><li>110</li><li>42</li><li>25</li><li>0</li><li>68</li><li>736</li><li>5000</li><li>20</li><li>487</li><li>1250</li><li>10</li><li>667</li><li>102</li><li>24</li><li>105</li><li>835</li><li>121</li><li>0</li><li>111</li><li>542</li><li>300</li><li>667</li><li>0</li><li>1000</li><li>21</li><li>0</li><li>250</li><li>100</li><li>2434</li><li>207</li><li>959</li><li>0</li><li>365</li><li>350</li><li>320</li><li>200</li><li>862</li><li>210</li><li>0</li><li>91</li><li>5</li><li>129</li><li>293</li><li>⋯</li><li>122</li><li>1542</li><li>0</li><li>106</li><li>125</li><li>210</li><li>11</li><li>21</li><li>1917</li><li>850</li><li>100</li><li>25</li><li>809</li><li>559</li><li>53</li><li>17</li><li>500</li><li>1250</li><li>82</li><li>216</li><li>114</li><li>1834</li><li>34</li><li>82</li><li>1250</li><li>116</li><li>334</li><li>80</li><li>261</li><li>1130</li><li>73</li><li>1875</li><li>0</li><li>89</li><li>1150</li><li>243</li><li>117</li><li>15</li><li>50</li><li>308</li><li>42</li><li>375</li><li>0</li><li>130</li><li>1667</li><li>41</li><li>360</li><li>0</li><li>435</li><li>375</li><li>0</li><li>379</li><li>0</li><li>192</li><li>81</li><li>167</li><li>50</li><li>1750</li><li>807</li><li>64</li><li>1210</li><li>30</li><li>403</li><li>220</li><li>142</li><li>212</li><li>165</li><li>167</li><li>124</li><li>62</li><li>50</li><li>23</li><li>390</li><li>13</li><li>211</li><li>109</li><li>160</li><li>25</li><li>1059</li><li>284</li><li>100</li><li>20</li><li>1167</li><li>0</li><li>0</li><li>184</li><li>70</li><li>270</li><li>325</li><li>141</li><li>0</li><li>48</li><li>510</li><li>234</li><li>0</li><li>59</li><li>657</li><li>1250</li><li>0</li><li>1105</li><li>334</li><li>0</li><li>90</li><li>130</li><li>0</li><li>0</li><li>0</li><li>0</li><li>236</li><li>150</li><li>112</li><li>2800</li><li>375</li><li>0</li><li>584</li><li>790</li><li>0</li><li>130</li><li>67</li><li>52</li><li>225</li><li>809</li><li>43</li><li>2592</li><li>244</li><li>200</li><li>0</li><li>253</li><li>110</li><li>934</li><li>750</li><li>0</li><li>0</li><li>84</li><li>10</li><li>67</li><li>1299</li><li>2000</li><li>80</li><li>131</li><li>84</li><li>2500</li><li>50</li><li>0</li><li>163</li><li>0</li><li>0</li><li>23</li><li>1974</li><li>242</li><li>40</li><li>0</li><li>50</li><li>600</li><li>0</li><li>0</li><li>870</li><li>88</li><li>124</li><li>104</li><li>3025</li><li>70</li><li>642</li><li>200</li><li>0</li><li>1417</li><li>79</li><li>316</li><li>95</li><li>118</li><li>13</li><li>294</li><li>81</li><li>272</li><li>0</li><li>660</li><li>9</li><li>104</li><li>717</li><li>0</li><li>283</li><li>0</li><li>0</li><li>109</li><li>180</li><li>211</li><li>67</li><li>5</li><li>255</li><li>120</li><li>0</li><li>0</li><li>29</li><li>555</li><li>100</li><li>1084</li><li>283</li><li>227</li><li>1334</li><li>375</li></ol>\n"
            ]
          },
          "metadata": {}
        },
        {
          "output_type": "display_data",
          "data": {
            "text/plain": [
              "   [1]    85    35   221     0   118   593   147   700   250    21   475    90\n",
              "  [13]    48   191   300   682   100    43   270     9   109   134     9   670\n",
              "  [25]    77     0   639    98   535    91    80   750   100    87    53    42\n",
              "  [37]     0   120    14    25    44     0   120   114  1667   170    50   334\n",
              "  [49]   122   134    50   188   204    79    88    60   975    10    25   167\n",
              "  [61]   133    30   130    29     0    84    60   159    84   221    21   336\n",
              "  [73]    68    96    13   380     0   333    44  2731    20  1126   384    58\n",
              "  [85]   834   106  1050   122   114     0   184    79   290   235  1348   306\n",
              "  [97]   159    85    64    95     0    67   291     0   756     9   255   320\n",
              " [109]     0     0   269   459   260     0   209   486    58    55     0    86\n",
              " [121]   125   467   109    76   200     0    86   900   575   130    67   194\n",
              " [133]    66    54   130   263   800    94   230    77    20     0    21   517\n",
              " [145]   100   125   105   100   600    84   142   600   175   235   210    96\n",
              " [157]   174   234   301   344   172    74    52    45     0   196   280   223\n",
              " [169]    64    92   209    92   134    26   179   375  1084   170   365   100\n",
              " [181]    42    92     0    90    21    94   300    34   434   327   101   184\n",
              " [193]    50   500    21   384     0    50     5   417     0     0   445   259\n",
              " [205]     0   337   556   101   700    78   334   179   122   750   317     0\n",
              " [217]     0   100    34   428     0    42   355   325   100   159   167   225\n",
              " [229]     0   468   450    22     0  4241   300    54    77    30   142  1167\n",
              " [241]   367   205    97   104    72  1431   367   185   710    26   194    49\n",
              " [253]   182     0   313     0   310    80    26   279   167    60    80   109\n",
              " [265]     0    80  1133    25   283    67   200    86     0   265   400    56\n",
              " [277]   540     0   190   659   341    95   195    77    25     0   709    55\n",
              " [289]    80   242  1357   125    85   640    59    30  1334   140     0    85\n",
              " [301]   296   380   442     0   377    92     0   133   210   475   450    99\n",
              " [313]   595   500   105     0    84    80    41    82   796   207    40   537\n",
              " [325]     0  1201    84   420   525    88  1167     0    50    19   100   250\n",
              " [337]    40    80     0     0   239   622   237    50     0    59     0    82\n",
              " [349]   156     1   305   205     0    91     0   250    94   422  1067   199\n",
              " [361]     0   253   142    44   800    50   430     0    57   140   900   434\n",
              " [373]    59     0   250    90     0   240   200   169   834   835    67    84\n",
              " [385]   300   141  9900   225     0   125    43    83    50  1680   120     0\n",
              " [397]   196   350    50    13    67   142    84   140    42    17   201   262\n",
              " [409]   803    44   667     1    25   250   135   513    70   263    30    13\n",
              " [421]    38    22    65   290   145     0    38    50    67   367   500   271\n",
              " [433]   109   215     0     0   267   140   323     0   375    18   196   121\n",
              " [445]    83     0   387   246     9   100    82   100   769     0    42     0\n",
              " [457]   667    34   172   208   137   709   377   217   167  1000   380   247\n",
              " [469]   167   250   185   179    65   142    20   145   265    64    60   220\n",
              " [481]     0   309   209    96    60   380   209    62   667    62   400    75\n",
              " [493]   292     0   667     8    50   834   184   200    67   125     0   200\n",
              " [505]   450  1500   219   501    86   225   213   174    34  1250   180   576\n",
              " [517]    59    66   231   250   249   202    30   141    85   350   594    15\n",
              " [529]     0   279    85    97   150   283   109   350    34   167  1835  1649\n",
              " [541]     0     0   592    38    90     0    42   275   240    46  1180   417\n",
              " [553]    71    14    97   692   229    50   350    63   101   820   118    60\n",
              " [565]   179    84   272   750    90   167   126   417    97     0    84    92\n",
              " [577]   180   209    51   600    51    50   500   103    57    67  1105    13\n",
              " [589]    59   364   529   350   159   125   128     0    90   459   350   192\n",
              " [601]   209    21   200   100    58   197     0   236    30   180    38   137\n",
              " [613]    70   115   334    30    95   292   600   409   149     0    45    78\n",
              " [625]     0   848    40    53  1800    94   167    84    34   542   155    84\n",
              " [637]   128   325   260   385   233    34    58   667   266   134    75   292\n",
              " [649]    17   244    56   412   167    30   180     0    57   243  1052    75\n",
              " [661]    39    98   104    57   334   100     0   378     0   119  1839   264\n",
              " [673]     0   757   334    94   417    59  1585   138   700     0    30    70\n",
              " [685]   430    50    25     0    69    92   147   100   151   140   235   211\n",
              " [697]   637     0   217   350   271    30    80    60     0    67    30   500\n",
              " [709]  1167    53   250   300    50   249     0    67     0   750    59  1650\n",
              " [721]   343     0    93   192    35   165     0    58   185   375    36   142\n",
              " [733]     1    21    61   389    13   223     0     0   306    67    60   334\n",
              " [745]    76     0   420     0   331   286    46   746    55    71  1275   250\n",
              " [757]   395   242     0     0   112    63     0    17    82    59     0    61\n",
              " [769]    45     0   500   150   123     0   241    55   183     0   244     0\n",
              " [781]    60     0     0   150    85   117   279    98    26    51     0   330\n",
              " [793]   459   308   100     8    40   137   220   273   259    50   312    25\n",
              " [805]     0     0    88    49     0     0   659     0   300   173   124    59\n",
              " [817]    77   203   170   213    13    50     0     0   129   357   504  1084\n",
              " [829]   155    88   700     0   148   484   209   190   258   300   133   190\n",
              " [841]    53     0     0    57   850   452   120   725    58     0   363  1600\n",
              " [853]   158   250     0     0   145    80 28120     0   268     0   270     0\n",
              " [865]  1000   509    80   100    84   375     0   310    66   157     0   295\n",
              " [877]     0   190    44   134    45    21   150     0     7     0    30   180\n",
              " [889]     0     0   100   600     0   200   225    67   209   334   209   489\n",
              " [901]  1084   303    59   417    56   271   666   255   140    60   275   350\n",
              " [913]    53    84    50   124   206    34     0    34   105   542   105   342\n",
              " [925]    13   125    55    55   167   281    55   184     0     8     8    13\n",
              " [937]    34   122     0   205   834   147   380   419    50     0    13   317\n",
              " [949]   123   380   350   162   125   258   650    74     1    33   250   141\n",
              " [961]   250   105     0   543    38   217   620    74   197    67    47   234\n",
              " [973]   217   852   417   309   167  3700   232   717   131    62    15    30\n",
              " [985]   459   167    42   373   119   833    50   200     0    74    54   249\n",
              " [997]   228    60   395   750   459   219    17    95   256   212    30   196\n",
              "[1009]  1000   625    71   192    42   324     0   155   201    75   209    90\n",
              "[1021]     0   509    86   286   252    79   115  5404    50   917    81    72\n",
              "[1033]    48   102   180   300    92     0   165    85    14   213   120    60\n",
              "[1045]   100    15    82   506   255   181   359   474   234  1250     3   990\n",
              "[1057]   365     0     0     9    57    65    59   125    51    96   323  1000\n",
              "[1069]   265    20   184   214  1250     0   112    17   667    57   317   265\n",
              "[1081]    80   208  1834    97   239    63   167   167    25     0    40   633\n",
              "[1093]   123   270   546    34   238   195   146    21   116    84   156    56\n",
              "[1105]   100     0   167   250   251     0   500    70   600    42   250     0\n",
              "[1117]    81    55   579   323    59    17   417   209   380    78   189     0\n",
              "[1129]   459     0   331   500   144   378   100    59     0    25   332    90\n",
              "[1141]   584    26   853    75   193   181   420  1128    67   245   126    25\n",
              "[1153]   125    38   109   338   603   103    55   632  1417    25   350     0\n",
              "[1165]    65   116   104   357    42   230   635   289   168     0   175   726\n",
              "[1177]     0    30   150   959   140     2    25   250   242     0    98   350\n",
              "[1189]   325   482   369     0    50   130    83    18   420     0   367   275\n",
              "[1201]    92   124   239   420   558    38   158   567    47    42    86   119\n",
              "[1213]     0    42   475    79    80    54   692   334   417   267    55    50\n",
              "[1225]   225   249   138     0    71     0   263     0   292    70   138     0\n",
              "[1237]     0  3334    45  1119   417   212    88   459   467    10   382    90\n",
              "[1249]     0    60   466    11   226   190   192   234   192    63   167   100\n",
              "[1261]   172   247  1301     0   415     9   125   417   234     0   101     0\n",
              "[1273]   220   131   230   317   230    84   650   114   230    47    56   190\n",
              "[1285]   367   500   225   500    67     0   334    58    84   400   230   300\n",
              "[1297]   100     0   117    50    64    97   150   105   375   117     0    72\n",
              "[1309]   355   150    49     9   440    60   467   234    85    25   181     0\n",
              "[1321]   534    30     0    55    87   825   125   375   226    40   259   310\n",
              "[1333]    21    80     0   349     0   167    59     0   132   128   325     0\n",
              "[1345]    30   530    99   240    30   172   417   308    20    55    50    84\n",
              "[1357]  2500    35   129     6   117   100   110   550   234   122   285    80\n",
              "[1369]  1095   464   250   750   209   667   350   395     0    55   250   382\n",
              "[1381]   132    85   466   938     0    84     0   200    56    34   157   180\n",
              "[1393]    63    50     0   255   211   359   205   115   291   500     0   350\n",
              "[1405]    84   223   100   689    61   100    40     0   133    84    65   216\n",
              "[1417]   300    84   367     0    56    97   179     0    61  1255     0    17\n",
              "[1429]    93   200   500   100    55     0   138   123    13    65   584    92\n",
              "[1441]   400   102    15    61    47    90     5   591   426   167   849   276\n",
              "[1453]    92   135     0   182   317   834    65    50   362   678   507   150\n",
              "[1465]   396   138     0    13   459   637   364    68     0   199    42   141\n",
              "[1477]    75     0   258   298     0    50     0    44     0   917    59   321\n",
              "[1489]   750   443   700    86   225     5   595   154   115   500   184   332\n",
              "[1501]   279"
            ],
            "text/latex": "\\begin{enumerate*}\n\\item 85\n\\item 35\n\\item 221\n\\item 0\n\\item 118\n\\item 593\n\\item 147\n\\item 700\n\\item 250\n\\item 21\n\\item 475\n\\item 90\n\\item 48\n\\item 191\n\\item 300\n\\item 682\n\\item 100\n\\item 43\n\\item 270\n\\item 9\n\\item 109\n\\item 134\n\\item 9\n\\item 670\n\\item 77\n\\item 0\n\\item 639\n\\item 98\n\\item 535\n\\item 91\n\\item 80\n\\item 750\n\\item 100\n\\item 87\n\\item 53\n\\item 42\n\\item 0\n\\item 120\n\\item 14\n\\item 25\n\\item 44\n\\item 0\n\\item 120\n\\item 114\n\\item 1667\n\\item 170\n\\item 50\n\\item 334\n\\item 122\n\\item 134\n\\item 50\n\\item 188\n\\item 204\n\\item 79\n\\item 88\n\\item 60\n\\item 975\n\\item 10\n\\item 25\n\\item 167\n\\item 133\n\\item 30\n\\item 130\n\\item 29\n\\item 0\n\\item 84\n\\item 60\n\\item 159\n\\item 84\n\\item 221\n\\item 21\n\\item 336\n\\item 68\n\\item 96\n\\item 13\n\\item 380\n\\item 0\n\\item 333\n\\item 44\n\\item 2731\n\\item 20\n\\item 1126\n\\item 384\n\\item 58\n\\item 834\n\\item 106\n\\item 1050\n\\item 122\n\\item 114\n\\item 0\n\\item 184\n\\item 79\n\\item 290\n\\item 235\n\\item 1348\n\\item 306\n\\item 159\n\\item 85\n\\item 64\n\\item 95\n\\item 0\n\\item 67\n\\item 291\n\\item 0\n\\item 756\n\\item 9\n\\item 255\n\\item 320\n\\item 0\n\\item 0\n\\item 269\n\\item 459\n\\item 260\n\\item 0\n\\item 209\n\\item 486\n\\item 58\n\\item 55\n\\item 0\n\\item 86\n\\item 125\n\\item 467\n\\item 109\n\\item 76\n\\item 200\n\\item 0\n\\item 86\n\\item 900\n\\item 575\n\\item 130\n\\item 67\n\\item 194\n\\item 66\n\\item 54\n\\item 130\n\\item 263\n\\item 800\n\\item 94\n\\item 230\n\\item 77\n\\item 20\n\\item 0\n\\item 21\n\\item 517\n\\item 100\n\\item 125\n\\item 105\n\\item 100\n\\item 600\n\\item 84\n\\item 142\n\\item 600\n\\item 175\n\\item 235\n\\item 210\n\\item 96\n\\item 174\n\\item 234\n\\item 301\n\\item 344\n\\item 172\n\\item 74\n\\item 52\n\\item 45\n\\item 0\n\\item 196\n\\item 280\n\\item 223\n\\item 64\n\\item 92\n\\item 209\n\\item 92\n\\item 134\n\\item 26\n\\item 179\n\\item 375\n\\item 1084\n\\item 170\n\\item 365\n\\item 100\n\\item 42\n\\item 92\n\\item 0\n\\item 90\n\\item 21\n\\item 94\n\\item 300\n\\item 34\n\\item 434\n\\item 327\n\\item 101\n\\item 184\n\\item 50\n\\item 500\n\\item 21\n\\item 384\n\\item 0\n\\item 50\n\\item 5\n\\item 417\n\\item ⋯\n\\item 97\n\\item 150\n\\item 105\n\\item 375\n\\item 117\n\\item 0\n\\item 72\n\\item 355\n\\item 150\n\\item 49\n\\item 9\n\\item 440\n\\item 60\n\\item 467\n\\item 234\n\\item 85\n\\item 25\n\\item 181\n\\item 0\n\\item 534\n\\item 30\n\\item 0\n\\item 55\n\\item 87\n\\item 825\n\\item 125\n\\item 375\n\\item 226\n\\item 40\n\\item 259\n\\item 310\n\\item 21\n\\item 80\n\\item 0\n\\item 349\n\\item 0\n\\item 167\n\\item 59\n\\item 0\n\\item 132\n\\item 128\n\\item 325\n\\item 0\n\\item 30\n\\item 530\n\\item 99\n\\item 240\n\\item 30\n\\item 172\n\\item 417\n\\item 308\n\\item 20\n\\item 55\n\\item 50\n\\item 84\n\\item 2500\n\\item 35\n\\item 129\n\\item 6\n\\item 117\n\\item 100\n\\item 110\n\\item 550\n\\item 234\n\\item 122\n\\item 285\n\\item 80\n\\item 1095\n\\item 464\n\\item 250\n\\item 750\n\\item 209\n\\item 667\n\\item 350\n\\item 395\n\\item 0\n\\item 55\n\\item 250\n\\item 382\n\\item 132\n\\item 85\n\\item 466\n\\item 938\n\\item 0\n\\item 84\n\\item 0\n\\item 200\n\\item 56\n\\item 34\n\\item 157\n\\item 180\n\\item 63\n\\item 50\n\\item 0\n\\item 255\n\\item 211\n\\item 359\n\\item 205\n\\item 115\n\\item 291\n\\item 500\n\\item 0\n\\item 350\n\\item 84\n\\item 223\n\\item 100\n\\item 689\n\\item 61\n\\item 100\n\\item 40\n\\item 0\n\\item 133\n\\item 84\n\\item 65\n\\item 216\n\\item 300\n\\item 84\n\\item 367\n\\item 0\n\\item 56\n\\item 97\n\\item 179\n\\item 0\n\\item 61\n\\item 1255\n\\item 0\n\\item 17\n\\item 93\n\\item 200\n\\item 500\n\\item 100\n\\item 55\n\\item 0\n\\item 138\n\\item 123\n\\item 13\n\\item 65\n\\item 584\n\\item 92\n\\item 400\n\\item 102\n\\item 15\n\\item 61\n\\item 47\n\\item 90\n\\item 5\n\\item 591\n\\item 426\n\\item 167\n\\item 849\n\\item 276\n\\item 92\n\\item 135\n\\item 0\n\\item 182\n\\item 317\n\\item 834\n\\item 65\n\\item 50\n\\item 362\n\\item 678\n\\item 507\n\\item 150\n\\item 396\n\\item 138\n\\item 0\n\\item 13\n\\item 459\n\\item 637\n\\item 364\n\\item 68\n\\item 0\n\\item 199\n\\item 42\n\\item 141\n\\item 75\n\\item 0\n\\item 258\n\\item 298\n\\item 0\n\\item 50\n\\item 0\n\\item 44\n\\item 0\n\\item 917\n\\item 59\n\\item 321\n\\item 750\n\\item 443\n\\item 700\n\\item 86\n\\item 225\n\\item 5\n\\item 595\n\\item 154\n\\item 115\n\\item 500\n\\item 184\n\\item 332\n\\item 279\n\\end{enumerate*}\n",
            "text/markdown": "1. 85\n2. 35\n3. 221\n4. 0\n5. 118\n6. 593\n7. 147\n8. 700\n9. 250\n10. 21\n11. 475\n12. 90\n13. 48\n14. 191\n15. 300\n16. 682\n17. 100\n18. 43\n19. 270\n20. 9\n21. 109\n22. 134\n23. 9\n24. 670\n25. 77\n26. 0\n27. 639\n28. 98\n29. 535\n30. 91\n31. 80\n32. 750\n33. 100\n34. 87\n35. 53\n36. 42\n37. 0\n38. 120\n39. 14\n40. 25\n41. 44\n42. 0\n43. 120\n44. 114\n45. 1667\n46. 170\n47. 50\n48. 334\n49. 122\n50. 134\n51. 50\n52. 188\n53. 204\n54. 79\n55. 88\n56. 60\n57. 975\n58. 10\n59. 25\n60. 167\n61. 133\n62. 30\n63. 130\n64. 29\n65. 0\n66. 84\n67. 60\n68. 159\n69. 84\n70. 221\n71. 21\n72. 336\n73. 68\n74. 96\n75. 13\n76. 380\n77. 0\n78. 333\n79. 44\n80. 2731\n81. 20\n82. 1126\n83. 384\n84. 58\n85. 834\n86. 106\n87. 1050\n88. 122\n89. 114\n90. 0\n91. 184\n92. 79\n93. 290\n94. 235\n95. 1348\n96. 306\n97. 159\n98. 85\n99. 64\n100. 95\n101. 0\n102. 67\n103. 291\n104. 0\n105. 756\n106. 9\n107. 255\n108. 320\n109. 0\n110. 0\n111. 269\n112. 459\n113. 260\n114. 0\n115. 209\n116. 486\n117. 58\n118. 55\n119. 0\n120. 86\n121. 125\n122. 467\n123. 109\n124. 76\n125. 200\n126. 0\n127. 86\n128. 900\n129. 575\n130. 130\n131. 67\n132. 194\n133. 66\n134. 54\n135. 130\n136. 263\n137. 800\n138. 94\n139. 230\n140. 77\n141. 20\n142. 0\n143. 21\n144. 517\n145. 100\n146. 125\n147. 105\n148. 100\n149. 600\n150. 84\n151. 142\n152. 600\n153. 175\n154. 235\n155. 210\n156. 96\n157. 174\n158. 234\n159. 301\n160. 344\n161. 172\n162. 74\n163. 52\n164. 45\n165. 0\n166. 196\n167. 280\n168. 223\n169. 64\n170. 92\n171. 209\n172. 92\n173. 134\n174. 26\n175. 179\n176. 375\n177. 1084\n178. 170\n179. 365\n180. 100\n181. 42\n182. 92\n183. 0\n184. 90\n185. 21\n186. 94\n187. 300\n188. 34\n189. 434\n190. 327\n191. 101\n192. 184\n193. 50\n194. 500\n195. 21\n196. 384\n197. 0\n198. 50\n199. 5\n200. 417\n201. ⋯\n202. 97\n203. 150\n204. 105\n205. 375\n206. 117\n207. 0\n208. 72\n209. 355\n210. 150\n211. 49\n212. 9\n213. 440\n214. 60\n215. 467\n216. 234\n217. 85\n218. 25\n219. 181\n220. 0\n221. 534\n222. 30\n223. 0\n224. 55\n225. 87\n226. 825\n227. 125\n228. 375\n229. 226\n230. 40\n231. 259\n232. 310\n233. 21\n234. 80\n235. 0\n236. 349\n237. 0\n238. 167\n239. 59\n240. 0\n241. 132\n242. 128\n243. 325\n244. 0\n245. 30\n246. 530\n247. 99\n248. 240\n249. 30\n250. 172\n251. 417\n252. 308\n253. 20\n254. 55\n255. 50\n256. 84\n257. 2500\n258. 35\n259. 129\n260. 6\n261. 117\n262. 100\n263. 110\n264. 550\n265. 234\n266. 122\n267. 285\n268. 80\n269. 1095\n270. 464\n271. 250\n272. 750\n273. 209\n274. 667\n275. 350\n276. 395\n277. 0\n278. 55\n279. 250\n280. 382\n281. 132\n282. 85\n283. 466\n284. 938\n285. 0\n286. 84\n287. 0\n288. 200\n289. 56\n290. 34\n291. 157\n292. 180\n293. 63\n294. 50\n295. 0\n296. 255\n297. 211\n298. 359\n299. 205\n300. 115\n301. 291\n302. 500\n303. 0\n304. 350\n305. 84\n306. 223\n307. 100\n308. 689\n309. 61\n310. 100\n311. 40\n312. 0\n313. 133\n314. 84\n315. 65\n316. 216\n317. 300\n318. 84\n319. 367\n320. 0\n321. 56\n322. 97\n323. 179\n324. 0\n325. 61\n326. 1255\n327. 0\n328. 17\n329. 93\n330. 200\n331. 500\n332. 100\n333. 55\n334. 0\n335. 138\n336. 123\n337. 13\n338. 65\n339. 584\n340. 92\n341. 400\n342. 102\n343. 15\n344. 61\n345. 47\n346. 90\n347. 5\n348. 591\n349. 426\n350. 167\n351. 849\n352. 276\n353. 92\n354. 135\n355. 0\n356. 182\n357. 317\n358. 834\n359. 65\n360. 50\n361. 362\n362. 678\n363. 507\n364. 150\n365. 396\n366. 138\n367. 0\n368. 13\n369. 459\n370. 637\n371. 364\n372. 68\n373. 0\n374. 199\n375. 42\n376. 141\n377. 75\n378. 0\n379. 258\n380. 298\n381. 0\n382. 50\n383. 0\n384. 44\n385. 0\n386. 917\n387. 59\n388. 321\n389. 750\n390. 443\n391. 700\n392. 86\n393. 225\n394. 5\n395. 595\n396. 154\n397. 115\n398. 500\n399. 184\n400. 332\n401. 279\n\n\n",
            "text/html": [
              "<style>\n",
              ".list-inline {list-style: none; margin:0; padding: 0}\n",
              ".list-inline>li {display: inline-block}\n",
              ".list-inline>li:not(:last-child)::after {content: \"\\00b7\"; padding: 0 .5ex}\n",
              "</style>\n",
              "<ol class=list-inline><li>85</li><li>35</li><li>221</li><li>0</li><li>118</li><li>593</li><li>147</li><li>700</li><li>250</li><li>21</li><li>475</li><li>90</li><li>48</li><li>191</li><li>300</li><li>682</li><li>100</li><li>43</li><li>270</li><li>9</li><li>109</li><li>134</li><li>9</li><li>670</li><li>77</li><li>0</li><li>639</li><li>98</li><li>535</li><li>91</li><li>80</li><li>750</li><li>100</li><li>87</li><li>53</li><li>42</li><li>0</li><li>120</li><li>14</li><li>25</li><li>44</li><li>0</li><li>120</li><li>114</li><li>1667</li><li>170</li><li>50</li><li>334</li><li>122</li><li>134</li><li>50</li><li>188</li><li>204</li><li>79</li><li>88</li><li>60</li><li>975</li><li>10</li><li>25</li><li>167</li><li>133</li><li>30</li><li>130</li><li>29</li><li>0</li><li>84</li><li>60</li><li>159</li><li>84</li><li>221</li><li>21</li><li>336</li><li>68</li><li>96</li><li>13</li><li>380</li><li>0</li><li>333</li><li>44</li><li>2731</li><li>20</li><li>1126</li><li>384</li><li>58</li><li>834</li><li>106</li><li>1050</li><li>122</li><li>114</li><li>0</li><li>184</li><li>79</li><li>290</li><li>235</li><li>1348</li><li>306</li><li>159</li><li>85</li><li>64</li><li>95</li><li>0</li><li>67</li><li>291</li><li>0</li><li>756</li><li>9</li><li>255</li><li>320</li><li>0</li><li>0</li><li>269</li><li>459</li><li>260</li><li>0</li><li>209</li><li>486</li><li>58</li><li>55</li><li>0</li><li>86</li><li>125</li><li>467</li><li>109</li><li>76</li><li>200</li><li>0</li><li>86</li><li>900</li><li>575</li><li>130</li><li>67</li><li>194</li><li>66</li><li>54</li><li>130</li><li>263</li><li>800</li><li>94</li><li>230</li><li>77</li><li>20</li><li>0</li><li>21</li><li>517</li><li>100</li><li>125</li><li>105</li><li>100</li><li>600</li><li>84</li><li>142</li><li>600</li><li>175</li><li>235</li><li>210</li><li>96</li><li>174</li><li>234</li><li>301</li><li>344</li><li>172</li><li>74</li><li>52</li><li>45</li><li>0</li><li>196</li><li>280</li><li>223</li><li>64</li><li>92</li><li>209</li><li>92</li><li>134</li><li>26</li><li>179</li><li>375</li><li>1084</li><li>170</li><li>365</li><li>100</li><li>42</li><li>92</li><li>0</li><li>90</li><li>21</li><li>94</li><li>300</li><li>34</li><li>434</li><li>327</li><li>101</li><li>184</li><li>50</li><li>500</li><li>21</li><li>384</li><li>0</li><li>50</li><li>5</li><li>417</li><li>⋯</li><li>97</li><li>150</li><li>105</li><li>375</li><li>117</li><li>0</li><li>72</li><li>355</li><li>150</li><li>49</li><li>9</li><li>440</li><li>60</li><li>467</li><li>234</li><li>85</li><li>25</li><li>181</li><li>0</li><li>534</li><li>30</li><li>0</li><li>55</li><li>87</li><li>825</li><li>125</li><li>375</li><li>226</li><li>40</li><li>259</li><li>310</li><li>21</li><li>80</li><li>0</li><li>349</li><li>0</li><li>167</li><li>59</li><li>0</li><li>132</li><li>128</li><li>325</li><li>0</li><li>30</li><li>530</li><li>99</li><li>240</li><li>30</li><li>172</li><li>417</li><li>308</li><li>20</li><li>55</li><li>50</li><li>84</li><li>2500</li><li>35</li><li>129</li><li>6</li><li>117</li><li>100</li><li>110</li><li>550</li><li>234</li><li>122</li><li>285</li><li>80</li><li>1095</li><li>464</li><li>250</li><li>750</li><li>209</li><li>667</li><li>350</li><li>395</li><li>0</li><li>55</li><li>250</li><li>382</li><li>132</li><li>85</li><li>466</li><li>938</li><li>0</li><li>84</li><li>0</li><li>200</li><li>56</li><li>34</li><li>157</li><li>180</li><li>63</li><li>50</li><li>0</li><li>255</li><li>211</li><li>359</li><li>205</li><li>115</li><li>291</li><li>500</li><li>0</li><li>350</li><li>84</li><li>223</li><li>100</li><li>689</li><li>61</li><li>100</li><li>40</li><li>0</li><li>133</li><li>84</li><li>65</li><li>216</li><li>300</li><li>84</li><li>367</li><li>0</li><li>56</li><li>97</li><li>179</li><li>0</li><li>61</li><li>1255</li><li>0</li><li>17</li><li>93</li><li>200</li><li>500</li><li>100</li><li>55</li><li>0</li><li>138</li><li>123</li><li>13</li><li>65</li><li>584</li><li>92</li><li>400</li><li>102</li><li>15</li><li>61</li><li>47</li><li>90</li><li>5</li><li>591</li><li>426</li><li>167</li><li>849</li><li>276</li><li>92</li><li>135</li><li>0</li><li>182</li><li>317</li><li>834</li><li>65</li><li>50</li><li>362</li><li>678</li><li>507</li><li>150</li><li>396</li><li>138</li><li>0</li><li>13</li><li>459</li><li>637</li><li>364</li><li>68</li><li>0</li><li>199</li><li>42</li><li>141</li><li>75</li><li>0</li><li>258</li><li>298</li><li>0</li><li>50</li><li>0</li><li>44</li><li>0</li><li>917</li><li>59</li><li>321</li><li>750</li><li>443</li><li>700</li><li>86</li><li>225</li><li>5</li><li>595</li><li>154</li><li>115</li><li>500</li><li>184</li><li>332</li><li>279</li></ol>\n"
            ]
          },
          "metadata": {}
        },
        {
          "output_type": "display_data",
          "data": {
            "text/plain": [
              "   [1]   172    80   425     9   192    10   125   182   296    27   264   423\n",
              "  [13]    74   800   183   164   116    60   204    84     0    88   105   100\n",
              "  [25]   539   210   200    59   466   120   873    64   171     0   206    69\n",
              "  [37]   308    85     0   137   390   760    75   827   219   429   408  1975\n",
              "  [49]    55     0   463   263     0   143   450  2484   255   667   167   487\n",
              "  [61]   450     0   704   250   428  1138   836    71    34    25     0  1753\n",
              "  [73]     8   277   500  1904   116   104   699     0    79   100   417    94\n",
              "  [85]   253   459   642    71   150     0   159   228   145   300   160   138\n",
              "  [97]   660    75    63    80   120   100   267     0   511     0     0   356\n",
              " [109]   122   150    59     0     0     0    30  1114   148   101    89   872\n",
              " [121]   124   690    69   350    91   101   107   143     1   647   943   158\n",
              " [133]   115   253   307    60   503    88    69    30  1320     0     0    79\n",
              " [145]   142   112   295    60   170    69    76   158   454     0   272    82\n",
              " [157]    83   206     0    30   100   831   146     0   695   110   100  1461\n",
              " [169]   720   196   104    36   300   127   224   195   267   376   211   737\n",
              " [181]     0   522   660    90   170   384   127   405   100   212    34   231\n",
              " [193]   143   396   393     1   642   165  1747    84   357     0     0   229\n",
              " [205]    97   177   153    27    27     0   133   267   205  1500   159    94\n",
              " [217]   221    86    63   334   305   104  1017    66   112    78     0     0\n",
              " [229]    63    88   122    97    27   293   173   187   593   104    86     0\n",
              " [241]   357   292   207   238   313    92     0   141    85    63    62    61\n",
              " [253]   924    67   207    76     0   584   125    59   110   126    39   198\n",
              " [265]  1459   417   241   167   126   230   125    97   202   167    27  1177\n",
              " [277]   209    70   154   400   209     0   140   119   340   117   142     0\n",
              " [289]   462     0   423  1130    28    84   211     0   646   807     0   100\n",
              " [301]     0     0   654   743     0    50   242    73   334     0   466   108\n",
              " [313]   180    90    67   435    84   431   150   164  1065   310    21    75\n",
              " [325]    63     0     0   390   113   250   134  2241   100   171   528  1153\n",
              " [337]    86    62     0   142   409   100   100   301   834  1161   112   668\n",
              " [349]   167   692    25   287     0   580   125   340   136   125   671   283\n",
              " [361]   250    92   305    28   483    69   325    81   221   700    71   125\n",
              " [373]     9   121    66   547   148   890   125   365     0   417    23   250\n",
              " [385]    94    82   142   360   114   182   119    83    90   835   110   103\n",
              " [397]   142   421   149   239   167   310   542    34    62   138   542    19\n",
              " [409]  1106   435   717   752    70   224    65   184   146   293    68     0\n",
              " [421]   236   343    88   195   240   292    75   434     0    59    81   125\n",
              " [433]   228   500   685    64   108   162   270   428    83   145    84   153\n",
              " [445]   220   369   154    54   120   172   145   172    27   129     0    42\n",
              " [457]   834   475   158   170   667   226    70     0     0     0   796   125\n",
              " [469]   144    98    67   250   225   359  1341  1250    67   142  1058   782\n",
              " [481]    17    73    90   124    92   429   436  1084    58     0    99   189\n",
              " [493]   404    61     0     0    14  1250  1500   834    79    96   109   611\n",
              " [505]   525   270    85    60   341   485   158   317   138     9   547   208\n",
              " [517]     0    42   327   384   264    50   155    35   543     0   250   502\n",
              " [529]   250    50   150   138   100   218   120   351   343     0    66  1199\n",
              " [541]   409  1667    66   260    86    59     0     0   780   132   132   187\n",
              " [553]    99   350   375     0   109   236   112   403     0     0   167   520\n",
              " [565]     0   459   529     0   271    62   125    50   170   348   357   101\n",
              " [577]   606   113   267   153   971   501    25   415   125   293   104   625\n",
              " [589]   200    76   294   304     0   183   469   150  1900   149   852   350\n",
              " [601]   407   320    99    92    73   227    26    60   803   268   113    90\n",
              " [613]    42   100    97   200     8   489    95   587   112   250    50   378\n",
              " [625]   234   116     9   169   522   179   121   317    88     0   248   380\n",
              " [637]   990   320    70   330   390     0     0   369    80   126   589    61\n",
              " [649]   105   179   962    71   153   324   111   408    60    74     9    95\n",
              " [661]  2239   140   269     0    55   132   151     0     0    27    79   167\n",
              " [673]   114   150     0    84    25   500    82   128   379    59   135   196\n",
              " [685]   219   122   501     0    61    76   667    28   171   173    70   354\n",
              " [697]   119    84   130   542    38     0    56     9   121   271   254   109\n",
              " [709]    83     0    85    30     0   237   334   306   100    12   216     0\n",
              " [721]   435   213  1375   129   940     0   563   177     0     0   132   100\n",
              " [733]    78    85    83   152   120    63   367     0   150     8     0   331\n",
              " [745]     0   226   170    59   211    28  1504   233     0     0   131    50\n",
              " [757]   130  1133   140     0   115     0    55  1297  1231   101    96   258\n",
              " [769]   109     0    22    66    37   248   413     0   500    99    25   634\n",
              " [781]   334    50   125   600   436     8    63    48   496  2192     0  1100\n",
              " [793]   116   120   249   317   369     0    20    83  1103   300   125     0\n",
              " [805]   695   276   241   797   407  1387   171   384   135    96   150   251\n",
              " [817]   585    27   798   209    81   134   114   276     0   202   162   192\n",
              " [829]     1   234    32     0     0     0   361    63   236   513    64   667\n",
              " [841]     0   371    74   171   600   495   417   189     0   553    72   696\n",
              " [853]   108     0   369   292   329   161   252  1108   184   426    67   165\n",
              " [865]   236   145    61     9  3000    67     0   250    85   493    39   434\n",
              " [877]   350    93   234   220   731   274   297   130   646   136   172   397\n",
              " [889]    59   285   167    81   563   168   359     0   264   625   912    71\n",
              " [901]    84   280     0    75   726   210  1228    50     0   834   123   452\n",
              " [913]   496   531    25   180   545   149   118   913   209   110     0   222\n",
              " [925]   320   117    50    55    57   115    69   362   104   180   218   264\n",
              " [937]   454    50     0   100  1333   231   155     0   100   397   317   431\n",
              " [949]    12     0  1641   308   172   338   184    77     9    25   167   203\n",
              " [961]   713     0   100   267   209   642   167    69   203   750   150   240\n",
              " [973]   381    59   808   350   431   143   428    40     0    77   230     0\n",
              " [985]     0   160   480   120   501    85  1250    59   658   270    63   216\n",
              " [997]   202    78   248    71   228   111    83  2752   519   220   399   565\n",
              "[1009]   338     0     0   111     0  1458   181     9   100   440     0    75\n",
              "[1021]   236     0     0     0    60   218   134   188   211   163   759   963\n",
              "[1033]    80   973   192   196    67   108   294     0   200   269    39   100\n",
              "[1045]   130   186   100   119   117   251     0    67     0  1680   154   206\n",
              "[1057]   184    63   198   244    28   100     0    59   198   678   419    58\n",
              "[1069]   225    80  1021   274   234     0     0   190   688   165   126   459\n",
              "[1081]   284    57   492   542   165    67   161   326   272    63     0   138\n",
              "[1093]   173   384   135   350   196  1680   130   109    65    84    90   128\n",
              "[1105]     0   407    70   265   434   881   158    62    84   172   200   434\n",
              "[1117]   480   183   100  1463     0     0   191   857    75   150   613     0\n",
              "[1129]     0   884   458   233   305    60   236    59     0   118    50   471\n",
              "[1141]     0   150     0   110   350   249  1085     0   535   140   250   120\n",
              "[1153]    80   308     0     0     0    30   236    55   126   169     0    61\n",
              "[1165]    68     0   685   583   135    20   200  1003   119   555   350  1437\n",
              "[1177]    94    27   364  1500    65   161     0   730    68    74    84    21\n",
              "[1189]   255   110   480     0   456   202  1021   183    19   101    91   111\n",
              "[1201]    99   208    75 12500    38   298   109  1262   417     0     0   170\n",
              "[1213]   234     0   942   303   103    69   436   242   103     0     0    87\n",
              "[1225]  1067     0     0   166   183     0   520   173   158    27    25     0\n",
              "[1237]    59   154   130   375   390   179     0    76   150    84   602   209\n",
              "[1249]   100   109   167    13    99    70    67   219    75     0"
            ],
            "text/latex": "\\begin{enumerate*}\n\\item 172\n\\item 80\n\\item 425\n\\item 9\n\\item 192\n\\item 10\n\\item 125\n\\item 182\n\\item 296\n\\item 27\n\\item 264\n\\item 423\n\\item 74\n\\item 800\n\\item 183\n\\item 164\n\\item 116\n\\item 60\n\\item 204\n\\item 84\n\\item 0\n\\item 88\n\\item 105\n\\item 100\n\\item 539\n\\item 210\n\\item 200\n\\item 59\n\\item 466\n\\item 120\n\\item 873\n\\item 64\n\\item 171\n\\item 0\n\\item 206\n\\item 69\n\\item 308\n\\item 85\n\\item 0\n\\item 137\n\\item 390\n\\item 760\n\\item 75\n\\item 827\n\\item 219\n\\item 429\n\\item 408\n\\item 1975\n\\item 55\n\\item 0\n\\item 463\n\\item 263\n\\item 0\n\\item 143\n\\item 450\n\\item 2484\n\\item 255\n\\item 667\n\\item 167\n\\item 487\n\\item 450\n\\item 0\n\\item 704\n\\item 250\n\\item 428\n\\item 1138\n\\item 836\n\\item 71\n\\item 34\n\\item 25\n\\item 0\n\\item 1753\n\\item 8\n\\item 277\n\\item 500\n\\item 1904\n\\item 116\n\\item 104\n\\item 699\n\\item 0\n\\item 79\n\\item 100\n\\item 417\n\\item 94\n\\item 253\n\\item 459\n\\item 642\n\\item 71\n\\item 150\n\\item 0\n\\item 159\n\\item 228\n\\item 145\n\\item 300\n\\item 160\n\\item 138\n\\item 660\n\\item 75\n\\item 63\n\\item 80\n\\item 120\n\\item 100\n\\item 267\n\\item 0\n\\item 511\n\\item 0\n\\item 0\n\\item 356\n\\item 122\n\\item 150\n\\item 59\n\\item 0\n\\item 0\n\\item 0\n\\item 30\n\\item 1114\n\\item 148\n\\item 101\n\\item 89\n\\item 872\n\\item 124\n\\item 690\n\\item 69\n\\item 350\n\\item 91\n\\item 101\n\\item 107\n\\item 143\n\\item 1\n\\item 647\n\\item 943\n\\item 158\n\\item 115\n\\item 253\n\\item 307\n\\item 60\n\\item 503\n\\item 88\n\\item 69\n\\item 30\n\\item 1320\n\\item 0\n\\item 0\n\\item 79\n\\item 142\n\\item 112\n\\item 295\n\\item 60\n\\item 170\n\\item 69\n\\item 76\n\\item 158\n\\item 454\n\\item 0\n\\item 272\n\\item 82\n\\item 83\n\\item 206\n\\item 0\n\\item 30\n\\item 100\n\\item 831\n\\item 146\n\\item 0\n\\item 695\n\\item 110\n\\item 100\n\\item 1461\n\\item 720\n\\item 196\n\\item 104\n\\item 36\n\\item 300\n\\item 127\n\\item 224\n\\item 195\n\\item 267\n\\item 376\n\\item 211\n\\item 737\n\\item 0\n\\item 522\n\\item 660\n\\item 90\n\\item 170\n\\item 384\n\\item 127\n\\item 405\n\\item 100\n\\item 212\n\\item 34\n\\item 231\n\\item 143\n\\item 396\n\\item 393\n\\item 1\n\\item 642\n\\item 165\n\\item 1747\n\\item 84\n\\item ⋯\n\\item 198\n\\item 244\n\\item 28\n\\item 100\n\\item 0\n\\item 59\n\\item 198\n\\item 678\n\\item 419\n\\item 58\n\\item 225\n\\item 80\n\\item 1021\n\\item 274\n\\item 234\n\\item 0\n\\item 0\n\\item 190\n\\item 688\n\\item 165\n\\item 126\n\\item 459\n\\item 284\n\\item 57\n\\item 492\n\\item 542\n\\item 165\n\\item 67\n\\item 161\n\\item 326\n\\item 272\n\\item 63\n\\item 0\n\\item 138\n\\item 173\n\\item 384\n\\item 135\n\\item 350\n\\item 196\n\\item 1680\n\\item 130\n\\item 109\n\\item 65\n\\item 84\n\\item 90\n\\item 128\n\\item 0\n\\item 407\n\\item 70\n\\item 265\n\\item 434\n\\item 881\n\\item 158\n\\item 62\n\\item 84\n\\item 172\n\\item 200\n\\item 434\n\\item 480\n\\item 183\n\\item 100\n\\item 1463\n\\item 0\n\\item 0\n\\item 191\n\\item 857\n\\item 75\n\\item 150\n\\item 613\n\\item 0\n\\item 0\n\\item 884\n\\item 458\n\\item 233\n\\item 305\n\\item 60\n\\item 236\n\\item 59\n\\item 0\n\\item 118\n\\item 50\n\\item 471\n\\item 0\n\\item 150\n\\item 0\n\\item 110\n\\item 350\n\\item 249\n\\item 1085\n\\item 0\n\\item 535\n\\item 140\n\\item 250\n\\item 120\n\\item 80\n\\item 308\n\\item 0\n\\item 0\n\\item 0\n\\item 30\n\\item 236\n\\item 55\n\\item 126\n\\item 169\n\\item 0\n\\item 61\n\\item 68\n\\item 0\n\\item 685\n\\item 583\n\\item 135\n\\item 20\n\\item 200\n\\item 1003\n\\item 119\n\\item 555\n\\item 350\n\\item 1437\n\\item 94\n\\item 27\n\\item 364\n\\item 1500\n\\item 65\n\\item 161\n\\item 0\n\\item 730\n\\item 68\n\\item 74\n\\item 84\n\\item 21\n\\item 255\n\\item 110\n\\item 480\n\\item 0\n\\item 456\n\\item 202\n\\item 1021\n\\item 183\n\\item 19\n\\item 101\n\\item 91\n\\item 111\n\\item 99\n\\item 208\n\\item 75\n\\item 12500\n\\item 38\n\\item 298\n\\item 109\n\\item 1262\n\\item 417\n\\item 0\n\\item 0\n\\item 170\n\\item 234\n\\item 0\n\\item 942\n\\item 303\n\\item 103\n\\item 69\n\\item 436\n\\item 242\n\\item 103\n\\item 0\n\\item 0\n\\item 87\n\\item 1067\n\\item 0\n\\item 0\n\\item 166\n\\item 183\n\\item 0\n\\item 520\n\\item 173\n\\item 158\n\\item 27\n\\item 25\n\\item 0\n\\item 59\n\\item 154\n\\item 130\n\\item 375\n\\item 390\n\\item 179\n\\item 0\n\\item 76\n\\item 150\n\\item 84\n\\item 602\n\\item 209\n\\item 100\n\\item 109\n\\item 167\n\\item 13\n\\item 99\n\\item 70\n\\item 67\n\\item 219\n\\item 75\n\\item 0\n\\end{enumerate*}\n",
            "text/markdown": "1. 172\n2. 80\n3. 425\n4. 9\n5. 192\n6. 10\n7. 125\n8. 182\n9. 296\n10. 27\n11. 264\n12. 423\n13. 74\n14. 800\n15. 183\n16. 164\n17. 116\n18. 60\n19. 204\n20. 84\n21. 0\n22. 88\n23. 105\n24. 100\n25. 539\n26. 210\n27. 200\n28. 59\n29. 466\n30. 120\n31. 873\n32. 64\n33. 171\n34. 0\n35. 206\n36. 69\n37. 308\n38. 85\n39. 0\n40. 137\n41. 390\n42. 760\n43. 75\n44. 827\n45. 219\n46. 429\n47. 408\n48. 1975\n49. 55\n50. 0\n51. 463\n52. 263\n53. 0\n54. 143\n55. 450\n56. 2484\n57. 255\n58. 667\n59. 167\n60. 487\n61. 450\n62. 0\n63. 704\n64. 250\n65. 428\n66. 1138\n67. 836\n68. 71\n69. 34\n70. 25\n71. 0\n72. 1753\n73. 8\n74. 277\n75. 500\n76. 1904\n77. 116\n78. 104\n79. 699\n80. 0\n81. 79\n82. 100\n83. 417\n84. 94\n85. 253\n86. 459\n87. 642\n88. 71\n89. 150\n90. 0\n91. 159\n92. 228\n93. 145\n94. 300\n95. 160\n96. 138\n97. 660\n98. 75\n99. 63\n100. 80\n101. 120\n102. 100\n103. 267\n104. 0\n105. 511\n106. 0\n107. 0\n108. 356\n109. 122\n110. 150\n111. 59\n112. 0\n113. 0\n114. 0\n115. 30\n116. 1114\n117. 148\n118. 101\n119. 89\n120. 872\n121. 124\n122. 690\n123. 69\n124. 350\n125. 91\n126. 101\n127. 107\n128. 143\n129. 1\n130. 647\n131. 943\n132. 158\n133. 115\n134. 253\n135. 307\n136. 60\n137. 503\n138. 88\n139. 69\n140. 30\n141. 1320\n142. 0\n143. 0\n144. 79\n145. 142\n146. 112\n147. 295\n148. 60\n149. 170\n150. 69\n151. 76\n152. 158\n153. 454\n154. 0\n155. 272\n156. 82\n157. 83\n158. 206\n159. 0\n160. 30\n161. 100\n162. 831\n163. 146\n164. 0\n165. 695\n166. 110\n167. 100\n168. 1461\n169. 720\n170. 196\n171. 104\n172. 36\n173. 300\n174. 127\n175. 224\n176. 195\n177. 267\n178. 376\n179. 211\n180. 737\n181. 0\n182. 522\n183. 660\n184. 90\n185. 170\n186. 384\n187. 127\n188. 405\n189. 100\n190. 212\n191. 34\n192. 231\n193. 143\n194. 396\n195. 393\n196. 1\n197. 642\n198. 165\n199. 1747\n200. 84\n201. ⋯\n202. 198\n203. 244\n204. 28\n205. 100\n206. 0\n207. 59\n208. 198\n209. 678\n210. 419\n211. 58\n212. 225\n213. 80\n214. 1021\n215. 274\n216. 234\n217. 0\n218. 0\n219. 190\n220. 688\n221. 165\n222. 126\n223. 459\n224. 284\n225. 57\n226. 492\n227. 542\n228. 165\n229. 67\n230. 161\n231. 326\n232. 272\n233. 63\n234. 0\n235. 138\n236. 173\n237. 384\n238. 135\n239. 350\n240. 196\n241. 1680\n242. 130\n243. 109\n244. 65\n245. 84\n246. 90\n247. 128\n248. 0\n249. 407\n250. 70\n251. 265\n252. 434\n253. 881\n254. 158\n255. 62\n256. 84\n257. 172\n258. 200\n259. 434\n260. 480\n261. 183\n262. 100\n263. 1463\n264. 0\n265. 0\n266. 191\n267. 857\n268. 75\n269. 150\n270. 613\n271. 0\n272. 0\n273. 884\n274. 458\n275. 233\n276. 305\n277. 60\n278. 236\n279. 59\n280. 0\n281. 118\n282. 50\n283. 471\n284. 0\n285. 150\n286. 0\n287. 110\n288. 350\n289. 249\n290. 1085\n291. 0\n292. 535\n293. 140\n294. 250\n295. 120\n296. 80\n297. 308\n298. 0\n299. 0\n300. 0\n301. 30\n302. 236\n303. 55\n304. 126\n305. 169\n306. 0\n307. 61\n308. 68\n309. 0\n310. 685\n311. 583\n312. 135\n313. 20\n314. 200\n315. 1003\n316. 119\n317. 555\n318. 350\n319. 1437\n320. 94\n321. 27\n322. 364\n323. 1500\n324. 65\n325. 161\n326. 0\n327. 730\n328. 68\n329. 74\n330. 84\n331. 21\n332. 255\n333. 110\n334. 480\n335. 0\n336. 456\n337. 202\n338. 1021\n339. 183\n340. 19\n341. 101\n342. 91\n343. 111\n344. 99\n345. 208\n346. 75\n347. 12500\n348. 38\n349. 298\n350. 109\n351. 1262\n352. 417\n353. 0\n354. 0\n355. 170\n356. 234\n357. 0\n358. 942\n359. 303\n360. 103\n361. 69\n362. 436\n363. 242\n364. 103\n365. 0\n366. 0\n367. 87\n368. 1067\n369. 0\n370. 0\n371. 166\n372. 183\n373. 0\n374. 520\n375. 173\n376. 158\n377. 27\n378. 25\n379. 0\n380. 59\n381. 154\n382. 130\n383. 375\n384. 390\n385. 179\n386. 0\n387. 76\n388. 150\n389. 84\n390. 602\n391. 209\n392. 100\n393. 109\n394. 167\n395. 13\n396. 99\n397. 70\n398. 67\n399. 219\n400. 75\n401. 0\n\n\n",
            "text/html": [
              "<style>\n",
              ".list-inline {list-style: none; margin:0; padding: 0}\n",
              ".list-inline>li {display: inline-block}\n",
              ".list-inline>li:not(:last-child)::after {content: \"\\00b7\"; padding: 0 .5ex}\n",
              "</style>\n",
              "<ol class=list-inline><li>172</li><li>80</li><li>425</li><li>9</li><li>192</li><li>10</li><li>125</li><li>182</li><li>296</li><li>27</li><li>264</li><li>423</li><li>74</li><li>800</li><li>183</li><li>164</li><li>116</li><li>60</li><li>204</li><li>84</li><li>0</li><li>88</li><li>105</li><li>100</li><li>539</li><li>210</li><li>200</li><li>59</li><li>466</li><li>120</li><li>873</li><li>64</li><li>171</li><li>0</li><li>206</li><li>69</li><li>308</li><li>85</li><li>0</li><li>137</li><li>390</li><li>760</li><li>75</li><li>827</li><li>219</li><li>429</li><li>408</li><li>1975</li><li>55</li><li>0</li><li>463</li><li>263</li><li>0</li><li>143</li><li>450</li><li>2484</li><li>255</li><li>667</li><li>167</li><li>487</li><li>450</li><li>0</li><li>704</li><li>250</li><li>428</li><li>1138</li><li>836</li><li>71</li><li>34</li><li>25</li><li>0</li><li>1753</li><li>8</li><li>277</li><li>500</li><li>1904</li><li>116</li><li>104</li><li>699</li><li>0</li><li>79</li><li>100</li><li>417</li><li>94</li><li>253</li><li>459</li><li>642</li><li>71</li><li>150</li><li>0</li><li>159</li><li>228</li><li>145</li><li>300</li><li>160</li><li>138</li><li>660</li><li>75</li><li>63</li><li>80</li><li>120</li><li>100</li><li>267</li><li>0</li><li>511</li><li>0</li><li>0</li><li>356</li><li>122</li><li>150</li><li>59</li><li>0</li><li>0</li><li>0</li><li>30</li><li>1114</li><li>148</li><li>101</li><li>89</li><li>872</li><li>124</li><li>690</li><li>69</li><li>350</li><li>91</li><li>101</li><li>107</li><li>143</li><li>1</li><li>647</li><li>943</li><li>158</li><li>115</li><li>253</li><li>307</li><li>60</li><li>503</li><li>88</li><li>69</li><li>30</li><li>1320</li><li>0</li><li>0</li><li>79</li><li>142</li><li>112</li><li>295</li><li>60</li><li>170</li><li>69</li><li>76</li><li>158</li><li>454</li><li>0</li><li>272</li><li>82</li><li>83</li><li>206</li><li>0</li><li>30</li><li>100</li><li>831</li><li>146</li><li>0</li><li>695</li><li>110</li><li>100</li><li>1461</li><li>720</li><li>196</li><li>104</li><li>36</li><li>300</li><li>127</li><li>224</li><li>195</li><li>267</li><li>376</li><li>211</li><li>737</li><li>0</li><li>522</li><li>660</li><li>90</li><li>170</li><li>384</li><li>127</li><li>405</li><li>100</li><li>212</li><li>34</li><li>231</li><li>143</li><li>396</li><li>393</li><li>1</li><li>642</li><li>165</li><li>1747</li><li>84</li><li>⋯</li><li>198</li><li>244</li><li>28</li><li>100</li><li>0</li><li>59</li><li>198</li><li>678</li><li>419</li><li>58</li><li>225</li><li>80</li><li>1021</li><li>274</li><li>234</li><li>0</li><li>0</li><li>190</li><li>688</li><li>165</li><li>126</li><li>459</li><li>284</li><li>57</li><li>492</li><li>542</li><li>165</li><li>67</li><li>161</li><li>326</li><li>272</li><li>63</li><li>0</li><li>138</li><li>173</li><li>384</li><li>135</li><li>350</li><li>196</li><li>1680</li><li>130</li><li>109</li><li>65</li><li>84</li><li>90</li><li>128</li><li>0</li><li>407</li><li>70</li><li>265</li><li>434</li><li>881</li><li>158</li><li>62</li><li>84</li><li>172</li><li>200</li><li>434</li><li>480</li><li>183</li><li>100</li><li>1463</li><li>0</li><li>0</li><li>191</li><li>857</li><li>75</li><li>150</li><li>613</li><li>0</li><li>0</li><li>884</li><li>458</li><li>233</li><li>305</li><li>60</li><li>236</li><li>59</li><li>0</li><li>118</li><li>50</li><li>471</li><li>0</li><li>150</li><li>0</li><li>110</li><li>350</li><li>249</li><li>1085</li><li>0</li><li>535</li><li>140</li><li>250</li><li>120</li><li>80</li><li>308</li><li>0</li><li>0</li><li>0</li><li>30</li><li>236</li><li>55</li><li>126</li><li>169</li><li>0</li><li>61</li><li>68</li><li>0</li><li>685</li><li>583</li><li>135</li><li>20</li><li>200</li><li>1003</li><li>119</li><li>555</li><li>350</li><li>1437</li><li>94</li><li>27</li><li>364</li><li>1500</li><li>65</li><li>161</li><li>0</li><li>730</li><li>68</li><li>74</li><li>84</li><li>21</li><li>255</li><li>110</li><li>480</li><li>0</li><li>456</li><li>202</li><li>1021</li><li>183</li><li>19</li><li>101</li><li>91</li><li>111</li><li>99</li><li>208</li><li>75</li><li>12500</li><li>38</li><li>298</li><li>109</li><li>1262</li><li>417</li><li>0</li><li>0</li><li>170</li><li>234</li><li>0</li><li>942</li><li>303</li><li>103</li><li>69</li><li>436</li><li>242</li><li>103</li><li>0</li><li>0</li><li>87</li><li>1067</li><li>0</li><li>0</li><li>166</li><li>183</li><li>0</li><li>520</li><li>173</li><li>158</li><li>27</li><li>25</li><li>0</li><li>59</li><li>154</li><li>130</li><li>375</li><li>390</li><li>179</li><li>0</li><li>76</li><li>150</li><li>84</li><li>602</li><li>209</li><li>100</li><li>109</li><li>167</li><li>13</li><li>99</li><li>70</li><li>67</li><li>219</li><li>75</li><li>0</li></ol>\n"
            ]
          },
          "metadata": {}
        }
      ]
    },
    {
      "cell_type": "markdown",
      "metadata": {
        "id": "oGoRlA6wOLFo"
      },
      "source": [
        "Trazendo os grupos tratados no python (só tirei outlier)"
      ]
    },
    {
      "cell_type": "code",
      "metadata": {
        "id": "YNZNrkldOR31"
      },
      "source": [
        "py_sp <- read.csv(file = 'amostra_sp.csv')\n",
        "py_bh <- read.csv(file = 'amostra_bh.csv')\n",
        "py_ca <- read.csv(file = 'amostra_ca.csv')\n",
        "py_rj <- read.csv(file = 'amostra_rj.csv')\n",
        "py_pa <- read.csv(file = 'amostra_pa.csv')\n",
        "\n"
      ],
      "execution_count": null,
      "outputs": []
    },
    {
      "cell_type": "code",
      "metadata": {
        "colab": {
          "base_uri": "https://localhost:8080/",
          "height": 1000
        },
        "id": "8vbIgz4uO08E",
        "outputId": "1b6d628f-5a06-48fc-93c8-dc78b2851ecf"
      },
      "source": [
        "View(py_ca)"
      ],
      "execution_count": null,
      "outputs": [
        {
          "output_type": "display_data",
          "data": {
            "text/markdown": "\nA data.frame: 800 × 2\n\n| X &lt;int&gt; | X0 &lt;int&gt; |\n|---|---|\n| 615 | 3600 |\n| 793 |  950 |\n| 706 | 2800 |\n| 545 |  900 |\n| 203 |  560 |\n| 334 | 1268 |\n| 379 | 2004 |\n| 516 |  850 |\n| 770 | 1950 |\n| 535 | 3200 |\n| 587 |  700 |\n|  15 | 2290 |\n| 745 |  880 |\n| 385 |  770 |\n| 789 |  950 |\n|  80 |  595 |\n| 454 | 1235 |\n| 474 | 1200 |\n| 297 | 1200 |\n| 748 | 1400 |\n|  43 | 1100 |\n| 481 |  690 |\n| 332 | 1000 |\n| 600 | 1100 |\n| 551 | 1400 |\n| 195 | 1250 |\n| 659 | 2400 |\n| 469 |  800 |\n| 567 | 2000 |\n| 519 | 1100 |\n| ⋮ | ⋮ |\n| 630 | 5100 |\n| 517 |  940 |\n| 184 | 1100 |\n| 362 |  800 |\n| 344 | 1200 |\n| 547 | 1100 |\n| 513 | 1600 |\n| 820 |  716 |\n| 660 |  500 |\n| 367 | 2330 |\n| 107 | 1250 |\n| 456 | 3170 |\n| 361 | 4200 |\n| 110 | 3000 |\n| 185 | 4200 |\n| 617 | 1020 |\n| 756 |  820 |\n|  16 | 1200 |\n| 721 | 3000 |\n| 143 |  600 |\n| 355 | 1200 |\n| 167 | 1600 |\n| 162 | 4300 |\n|  82 | 1390 |\n| 673 | 1500 |\n| 693 | 1500 |\n| 111 | 2500 |\n| 433 |  720 |\n| 582 | 2800 |\n| 250 | 8000 |\n\n",
            "text/latex": "A data.frame: 800 × 2\n\\begin{tabular}{ll}\n X & X0\\\\\n <int> & <int>\\\\\n\\hline\n\t 615 & 3600\\\\\n\t 793 &  950\\\\\n\t 706 & 2800\\\\\n\t 545 &  900\\\\\n\t 203 &  560\\\\\n\t 334 & 1268\\\\\n\t 379 & 2004\\\\\n\t 516 &  850\\\\\n\t 770 & 1950\\\\\n\t 535 & 3200\\\\\n\t 587 &  700\\\\\n\t  15 & 2290\\\\\n\t 745 &  880\\\\\n\t 385 &  770\\\\\n\t 789 &  950\\\\\n\t  80 &  595\\\\\n\t 454 & 1235\\\\\n\t 474 & 1200\\\\\n\t 297 & 1200\\\\\n\t 748 & 1400\\\\\n\t  43 & 1100\\\\\n\t 481 &  690\\\\\n\t 332 & 1000\\\\\n\t 600 & 1100\\\\\n\t 551 & 1400\\\\\n\t 195 & 1250\\\\\n\t 659 & 2400\\\\\n\t 469 &  800\\\\\n\t 567 & 2000\\\\\n\t 519 & 1100\\\\\n\t ⋮ & ⋮\\\\\n\t 630 & 5100\\\\\n\t 517 &  940\\\\\n\t 184 & 1100\\\\\n\t 362 &  800\\\\\n\t 344 & 1200\\\\\n\t 547 & 1100\\\\\n\t 513 & 1600\\\\\n\t 820 &  716\\\\\n\t 660 &  500\\\\\n\t 367 & 2330\\\\\n\t 107 & 1250\\\\\n\t 456 & 3170\\\\\n\t 361 & 4200\\\\\n\t 110 & 3000\\\\\n\t 185 & 4200\\\\\n\t 617 & 1020\\\\\n\t 756 &  820\\\\\n\t  16 & 1200\\\\\n\t 721 & 3000\\\\\n\t 143 &  600\\\\\n\t 355 & 1200\\\\\n\t 167 & 1600\\\\\n\t 162 & 4300\\\\\n\t  82 & 1390\\\\\n\t 673 & 1500\\\\\n\t 693 & 1500\\\\\n\t 111 & 2500\\\\\n\t 433 &  720\\\\\n\t 582 & 2800\\\\\n\t 250 & 8000\\\\\n\\end{tabular}\n",
            "text/html": [
              "<table class=\"dataframe\">\n",
              "<caption>A data.frame: 800 × 2</caption>\n",
              "<thead>\n",
              "\t<tr><th scope=col>X</th><th scope=col>X0</th></tr>\n",
              "\t<tr><th scope=col>&lt;int&gt;</th><th scope=col>&lt;int&gt;</th></tr>\n",
              "</thead>\n",
              "<tbody>\n",
              "\t<tr><td>615</td><td>3600</td></tr>\n",
              "\t<tr><td>793</td><td> 950</td></tr>\n",
              "\t<tr><td>706</td><td>2800</td></tr>\n",
              "\t<tr><td>545</td><td> 900</td></tr>\n",
              "\t<tr><td>203</td><td> 560</td></tr>\n",
              "\t<tr><td>334</td><td>1268</td></tr>\n",
              "\t<tr><td>379</td><td>2004</td></tr>\n",
              "\t<tr><td>516</td><td> 850</td></tr>\n",
              "\t<tr><td>770</td><td>1950</td></tr>\n",
              "\t<tr><td>535</td><td>3200</td></tr>\n",
              "\t<tr><td>587</td><td> 700</td></tr>\n",
              "\t<tr><td> 15</td><td>2290</td></tr>\n",
              "\t<tr><td>745</td><td> 880</td></tr>\n",
              "\t<tr><td>385</td><td> 770</td></tr>\n",
              "\t<tr><td>789</td><td> 950</td></tr>\n",
              "\t<tr><td> 80</td><td> 595</td></tr>\n",
              "\t<tr><td>454</td><td>1235</td></tr>\n",
              "\t<tr><td>474</td><td>1200</td></tr>\n",
              "\t<tr><td>297</td><td>1200</td></tr>\n",
              "\t<tr><td>748</td><td>1400</td></tr>\n",
              "\t<tr><td> 43</td><td>1100</td></tr>\n",
              "\t<tr><td>481</td><td> 690</td></tr>\n",
              "\t<tr><td>332</td><td>1000</td></tr>\n",
              "\t<tr><td>600</td><td>1100</td></tr>\n",
              "\t<tr><td>551</td><td>1400</td></tr>\n",
              "\t<tr><td>195</td><td>1250</td></tr>\n",
              "\t<tr><td>659</td><td>2400</td></tr>\n",
              "\t<tr><td>469</td><td> 800</td></tr>\n",
              "\t<tr><td>567</td><td>2000</td></tr>\n",
              "\t<tr><td>519</td><td>1100</td></tr>\n",
              "\t<tr><td>⋮</td><td>⋮</td></tr>\n",
              "\t<tr><td>630</td><td>5100</td></tr>\n",
              "\t<tr><td>517</td><td> 940</td></tr>\n",
              "\t<tr><td>184</td><td>1100</td></tr>\n",
              "\t<tr><td>362</td><td> 800</td></tr>\n",
              "\t<tr><td>344</td><td>1200</td></tr>\n",
              "\t<tr><td>547</td><td>1100</td></tr>\n",
              "\t<tr><td>513</td><td>1600</td></tr>\n",
              "\t<tr><td>820</td><td> 716</td></tr>\n",
              "\t<tr><td>660</td><td> 500</td></tr>\n",
              "\t<tr><td>367</td><td>2330</td></tr>\n",
              "\t<tr><td>107</td><td>1250</td></tr>\n",
              "\t<tr><td>456</td><td>3170</td></tr>\n",
              "\t<tr><td>361</td><td>4200</td></tr>\n",
              "\t<tr><td>110</td><td>3000</td></tr>\n",
              "\t<tr><td>185</td><td>4200</td></tr>\n",
              "\t<tr><td>617</td><td>1020</td></tr>\n",
              "\t<tr><td>756</td><td> 820</td></tr>\n",
              "\t<tr><td> 16</td><td>1200</td></tr>\n",
              "\t<tr><td>721</td><td>3000</td></tr>\n",
              "\t<tr><td>143</td><td> 600</td></tr>\n",
              "\t<tr><td>355</td><td>1200</td></tr>\n",
              "\t<tr><td>167</td><td>1600</td></tr>\n",
              "\t<tr><td>162</td><td>4300</td></tr>\n",
              "\t<tr><td> 82</td><td>1390</td></tr>\n",
              "\t<tr><td>673</td><td>1500</td></tr>\n",
              "\t<tr><td>693</td><td>1500</td></tr>\n",
              "\t<tr><td>111</td><td>2500</td></tr>\n",
              "\t<tr><td>433</td><td> 720</td></tr>\n",
              "\t<tr><td>582</td><td>2800</td></tr>\n",
              "\t<tr><td>250</td><td>8000</td></tr>\n",
              "</tbody>\n",
              "</table>\n"
            ],
            "text/plain": [
              "    X   X0  \n",
              "1   615 3600\n",
              "2   793  950\n",
              "3   706 2800\n",
              "4   545  900\n",
              "5   203  560\n",
              "6   334 1268\n",
              "7   379 2004\n",
              "8   516  850\n",
              "9   770 1950\n",
              "10  535 3200\n",
              "11  587  700\n",
              "12   15 2290\n",
              "13  745  880\n",
              "14  385  770\n",
              "15  789  950\n",
              "16   80  595\n",
              "17  454 1235\n",
              "18  474 1200\n",
              "19  297 1200\n",
              "20  748 1400\n",
              "21   43 1100\n",
              "22  481  690\n",
              "23  332 1000\n",
              "24  600 1100\n",
              "25  551 1400\n",
              "26  195 1250\n",
              "27  659 2400\n",
              "28  469  800\n",
              "29  567 2000\n",
              "30  519 1100\n",
              "⋮   ⋮   ⋮   \n",
              "771 630 5100\n",
              "772 517  940\n",
              "773 184 1100\n",
              "774 362  800\n",
              "775 344 1200\n",
              "776 547 1100\n",
              "777 513 1600\n",
              "778 820  716\n",
              "779 660  500\n",
              "780 367 2330\n",
              "781 107 1250\n",
              "782 456 3170\n",
              "783 361 4200\n",
              "784 110 3000\n",
              "785 185 4200\n",
              "786 617 1020\n",
              "787 756  820\n",
              "788  16 1200\n",
              "789 721 3000\n",
              "790 143  600\n",
              "791 355 1200\n",
              "792 167 1600\n",
              "793 162 4300\n",
              "794  82 1390\n",
              "795 673 1500\n",
              "796 693 1500\n",
              "797 111 2500\n",
              "798 433  720\n",
              "799 582 2800\n",
              "800 250 8000"
            ]
          },
          "metadata": {}
        }
      ]
    },
    {
      "cell_type": "code",
      "metadata": {
        "colab": {
          "base_uri": "https://localhost:8080/"
        },
        "id": "1qZ9-JqmPWuY",
        "outputId": "e20e6101-a416-4100-c1f6-3e0b30cb3a76"
      },
      "source": [
        "glimpse(py_ca)"
      ],
      "execution_count": null,
      "outputs": [
        {
          "output_type": "stream",
          "name": "stdout",
          "text": [
            "Rows: 800\n",
            "Columns: 2\n",
            "$ X  \u001b[3m\u001b[90m<int>\u001b[39m\u001b[23m 615, 793, 706, 545, 203, 334, 379, 516, 770, 535, 587, 15, 745, 385…\n",
            "$ X0 \u001b[3m\u001b[90m<int>\u001b[39m\u001b[23m 3600, 950, 2800, 900, 560, 1268, 2004, 850, 1950, 3200, 700, 2290, …\n"
          ]
        }
      ]
    },
    {
      "cell_type": "code",
      "metadata": {
        "colab": {
          "base_uri": "https://localhost:8080/",
          "height": 146
        },
        "id": "M7GHnC8mOmiS",
        "outputId": "fc1c2d82-65e5-4874-fa9c-d3bdcbe21fc5"
      },
      "source": [
        "shapiro.test(py_sp)\n",
        "shapiro.test(py_bh)\n",
        "shapiro.test(py_ca)\n",
        "shapiro.test(py_rj)\n",
        "shapiro.test(py_pa)\n"
      ],
      "execution_count": null,
      "outputs": [
        {
          "output_type": "error",
          "ename": "ERROR",
          "evalue": "ignored",
          "traceback": [
            "Error in shapiro.test(py_sp): is.numeric(x) is not TRUE\nTraceback:\n",
            "1. shapiro.test(py_sp)",
            "2. stopifnot(is.numeric(x))"
          ]
        }
      ]
    },
    {
      "cell_type": "code",
      "metadata": {
        "id": "coMiQLVmJn4Z",
        "colab": {
          "base_uri": "https://localhost:8080/",
          "height": 272
        },
        "outputId": "f426fd25-f7e6-48ba-e3cb-649dc5f54bcc"
      },
      "source": [
        "shapiro.test(grupo_sp)\n",
        "shapiro.test(grupo_rj)\n",
        "shapiro.test(grupo_bh)"
      ],
      "execution_count": null,
      "outputs": [
        {
          "output_type": "display_data",
          "data": {
            "text/plain": [
              "\n",
              "\tShapiro-Wilk normality test\n",
              "\n",
              "data:  grupo_sp\n",
              "W = 0.61852, p-value < 2.2e-16\n"
            ]
          },
          "metadata": {}
        },
        {
          "output_type": "display_data",
          "data": {
            "text/plain": [
              "\n",
              "\tShapiro-Wilk normality test\n",
              "\n",
              "data:  grupo_rj\n",
              "W = 0.17064, p-value < 2.2e-16\n"
            ]
          },
          "metadata": {}
        },
        {
          "output_type": "display_data",
          "data": {
            "text/plain": [
              "\n",
              "\tShapiro-Wilk normality test\n",
              "\n",
              "data:  grupo_bh\n",
              "W = 0.42111, p-value < 2.2e-16\n"
            ]
          },
          "metadata": {}
        }
      ]
    },
    {
      "cell_type": "markdown",
      "metadata": {
        "id": "Ip6pbuEzGj21"
      },
      "source": [
        "#NORMALIZAÇÃO"
      ]
    },
    {
      "cell_type": "code",
      "metadata": {
        "colab": {
          "base_uri": "https://localhost:8080/",
          "height": 782
        },
        "id": "I9U4uFifGmnG",
        "outputId": "7e94fe35-2fb9-48da-e725-ca3770868585"
      },
      "source": [
        "#LOG\n",
        "log_sp = log(grupo_sp)\n",
        "log_rj = log(grupo_rj)\n",
        "log_bh = log(grupo_bh)\n",
        "\n",
        "shapiro.test(log_sp)\n",
        "shapiro.test(log_rj)\n",
        "shapiro.test(log_bh)\n",
        "\n",
        "#MINMAX\n",
        "min_max_norm <- function(x) {\n",
        "   return ((x - min(x)) / (max(x) - min(x)))\n",
        "}\n",
        "\n",
        "grupo_sp_norm = min_max_norm(grupo_sp)\n",
        "grupo_rj_norm = min_max_norm(grupo_rj)\n",
        "grupo_bh_norm = min_max_norm(grupo_bh)\n",
        "\n",
        "shapiro.test(grupo_sp_norm)\n",
        "shapiro.test(grupo_rj_norm)\n",
        "shapiro.test(grupo_bh_norm)\n",
        "\n",
        "#STANDARD SCALLING\n",
        "\n",
        "std_grupo_sp = scale(grupo_sp)\n",
        "std_grupo_rj = scale(grupo_rj)\n",
        "std_grupo_bh = scale(grupo_bh)\n",
        "\n",
        "shapiro.test(std_grupo_sp)\n",
        "shapiro.test(std_grupo_rj)\n",
        "shapiro.test(std_grupo_bh)"
      ],
      "execution_count": null,
      "outputs": [
        {
          "output_type": "display_data",
          "data": {
            "text/plain": [
              "\n",
              "\tShapiro-Wilk normality test\n",
              "\n",
              "data:  log_sp\n",
              "W = NaN, p-value = NA\n"
            ]
          },
          "metadata": {}
        },
        {
          "output_type": "display_data",
          "data": {
            "text/plain": [
              "\n",
              "\tShapiro-Wilk normality test\n",
              "\n",
              "data:  log_rj\n",
              "W = NaN, p-value = NA\n"
            ]
          },
          "metadata": {}
        },
        {
          "output_type": "display_data",
          "data": {
            "text/plain": [
              "\n",
              "\tShapiro-Wilk normality test\n",
              "\n",
              "data:  log_bh\n",
              "W = NaN, p-value = NA\n"
            ]
          },
          "metadata": {}
        },
        {
          "output_type": "display_data",
          "data": {
            "text/plain": [
              "\n",
              "\tShapiro-Wilk normality test\n",
              "\n",
              "data:  grupo_sp_norm\n",
              "W = 0.61852, p-value < 2.2e-16\n"
            ]
          },
          "metadata": {}
        },
        {
          "output_type": "display_data",
          "data": {
            "text/plain": [
              "\n",
              "\tShapiro-Wilk normality test\n",
              "\n",
              "data:  grupo_rj_norm\n",
              "W = 0.17064, p-value < 2.2e-16\n"
            ]
          },
          "metadata": {}
        },
        {
          "output_type": "display_data",
          "data": {
            "text/plain": [
              "\n",
              "\tShapiro-Wilk normality test\n",
              "\n",
              "data:  grupo_bh_norm\n",
              "W = 0.42111, p-value < 2.2e-16\n"
            ]
          },
          "metadata": {}
        },
        {
          "output_type": "display_data",
          "data": {
            "text/plain": [
              "\n",
              "\tShapiro-Wilk normality test\n",
              "\n",
              "data:  std_grupo_sp\n",
              "W = 0.61852, p-value < 2.2e-16\n"
            ]
          },
          "metadata": {}
        },
        {
          "output_type": "display_data",
          "data": {
            "text/plain": [
              "\n",
              "\tShapiro-Wilk normality test\n",
              "\n",
              "data:  std_grupo_rj\n",
              "W = 0.17064, p-value < 2.2e-16\n"
            ]
          },
          "metadata": {}
        },
        {
          "output_type": "display_data",
          "data": {
            "text/plain": [
              "\n",
              "\tShapiro-Wilk normality test\n",
              "\n",
              "data:  std_grupo_bh\n",
              "W = 0.42111, p-value < 2.2e-16\n"
            ]
          },
          "metadata": {}
        }
      ]
    },
    {
      "cell_type": "code",
      "metadata": {
        "id": "-vMWfsjEuiQn"
      },
      "source": [
        "library(purrr)\n",
        "library(tidyr)\n",
        "library(ggplot2)\n",
        "library(dplyr)"
      ],
      "execution_count": null,
      "outputs": []
    },
    {
      "cell_type": "code",
      "metadata": {
        "colab": {
          "base_uri": "https://localhost:8080/",
          "height": 411
        },
        "id": "pf5Cwyhcujn-",
        "outputId": "8947d8f7-1df3-4fb5-eb31-a670fe1cd9fc"
      },
      "source": [
        "dataframe %>%\n",
        "  keep(is.numeric) %>% \n",
        "  gather() %>% \n",
        "  ggplot(aes(value)) +\n",
        "    facet_wrap(~ key, scales = \"free\") +\n",
        "    geom_histogram() + formatos"
      ],
      "execution_count": null,
      "outputs": [
        {
          "output_type": "stream",
          "name": "stderr",
          "text": [
            "`stat_bin()` using `bins = 30`. Pick better value with `binwidth`.\n",
            "\n"
          ]
        },
        {
          "output_type": "display_data",
          "data": {
            "image/png": "[encoded data removed]",
            "text/plain": [
              "plot without title"
            ]
          },
          "metadata": {
            "image/png": {
              "width": 540,
              "height": 360
            }
          }
        }
      ]
    },
    {
      "cell_type": "code",
      "metadata": {
        "colab": {
          "base_uri": "https://localhost:8080/",
          "height": 136
        },
        "id": "J3pSWSDxvD3n",
        "outputId": "e3e2adf0-0051-4789-e9fe-100a1c29df6d"
      },
      "source": [
        "dataframe_novo = subset(dataframe, hoa..R..!= 0)\n",
        "\n",
        "amostra_sp = sample(dataframe_novo[dataframe_novo$city == 'São Paulo' , ])\n",
        "amostra_rj = sample(dataframe_novo[dataframe_novo$city == 'Rio de Janeiro' , ])\n",
        "amostra_bh = sample(dataframe_novo[dataframe_novo$city == 'Belo Horizonte' , ]) # belo horizonte\n",
        "amostra_pa = sample(dataframe_novo[dataframe_novo$city == 'Porto Alegre' , ]) # porto alegre\n",
        "amostra_ca = sample(dataframe_novo[dataframe_novo$city == 'Campinas' , ]) # campinas\n",
        "\n",
        "nrow(amostra_sp)\n",
        "nrow(amostra_rj)\n",
        "nrow(amostra_bh)\n",
        "nrow(amostra_pa)\n",
        "nrow(amostra_ca)\n",
        "\n",
        "amostra_sp = sample_n(dataframe_novo[dataframe_novo$city == 'São Paulo' , ], 1026)\n",
        "amostra_rj = sample_n(dataframe_novo[dataframe_novo$city == 'Rio de Janeiro' , ], 1026)\n",
        "amostra_pa = sample_n(dataframe_novo[dataframe_novo$city == 'Porto Alegre' , ], 1026) # porto alegre\n",
        "\n",
        "nrow(amostra_sp)\n",
        "nrow(amostra_pa)"
      ],
      "execution_count": null,
      "outputs": [
        {
          "output_type": "display_data",
          "data": {
            "text/plain": [
              "[1] 4315"
            ],
            "text/latex": "4315",
            "text/markdown": "4315",
            "text/html": [
              "4315"
            ]
          },
          "metadata": {}
        },
        {
          "output_type": "display_data",
          "data": {
            "text/plain": [
              "[1] 1396"
            ],
            "text/latex": "1396",
            "text/markdown": "1396",
            "text/html": [
              "1396"
            ]
          },
          "metadata": {}
        },
        {
          "output_type": "display_data",
          "data": {
            "text/plain": [
              "[1] 878"
            ],
            "text/latex": "878",
            "text/markdown": "878",
            "text/html": [
              "878"
            ]
          },
          "metadata": {}
        },
        {
          "output_type": "display_data",
          "data": {
            "text/plain": [
              "[1] 1026"
            ],
            "text/latex": "1026",
            "text/markdown": "1026",
            "text/html": [
              "1026"
            ]
          },
          "metadata": {}
        },
        {
          "output_type": "display_data",
          "data": {
            "text/plain": [
              "[1] 704"
            ],
            "text/latex": "704",
            "text/markdown": "704",
            "text/html": [
              "704"
            ]
          },
          "metadata": {}
        },
        {
          "output_type": "display_data",
          "data": {
            "text/plain": [
              "[1] 1026"
            ],
            "text/latex": "1026",
            "text/markdown": "1026",
            "text/html": [
              "1026"
            ]
          },
          "metadata": {}
        },
        {
          "output_type": "display_data",
          "data": {
            "text/plain": [
              "[1] 1026"
            ],
            "text/latex": "1026",
            "text/markdown": "1026",
            "text/html": [
              "1026"
            ]
          },
          "metadata": {}
        }
      ]
    },
    {
      "cell_type": "code",
      "metadata": {
        "colab": {
          "base_uri": "https://localhost:8080/",
          "height": 377
        },
        "id": "8GzI29luyD7g",
        "outputId": "cd37f79d-bec1-4b6f-ac50-5d06c4da70d3"
      },
      "source": [
        "ggplot(amostra_sp, aes(x = hoa..R.. )) + \n",
        "    geom_histogram(bins = 100) + \n",
        "    ylab(\"Frequência\") + \n",
        "    xlab(\"Valores de aluguel\") + \n",
        "    ggtitle('Histograma os valores de aluguel') +\n",
        "    formatos"
      ],
      "execution_count": null,
      "outputs": [
        {
          "output_type": "display_data",
          "data": {
            "image/png": "[encoded data removed]",
            "text/plain": [
              "plot without title"
            ]
          },
          "metadata": {
            "image/png": {
              "width": 540,
              "height": 360
            }
          }
        }
      ]
    },
    {
      "cell_type": "code",
      "metadata": {
        "colab": {
          "base_uri": "https://localhost:8080/",
          "height": 411
        },
        "id": "HiJBxH4RyYKI",
        "outputId": "cea5c95e-8b4a-4ca9-a457-c852854c5a1f"
      },
      "source": [
        "amostra_sp %>%\n",
        "  keep(is.numeric) %>% \n",
        "  gather() %>% \n",
        "  ggplot(aes(value)) +\n",
        "    facet_wrap(~ key, scales = \"free\") +\n",
        "    geom_histogram() + formatos"
      ],
      "execution_count": null,
      "outputs": [
        {
          "output_type": "stream",
          "name": "stderr",
          "text": [
            "`stat_bin()` using `bins = 30`. Pick better value with `binwidth`.\n",
            "\n"
          ]
        },
        {
          "output_type": "display_data",
          "data": {
            "image/png": "[encoded data removed]",
            "text/plain": [
              "plot without title"
            ]
          },
          "metadata": {
            "image/png": {
              "width": 540,
              "height": 360
            }
          }
        }
      ]
    },
    {
      "cell_type": "code",
      "metadata": {
        "colab": {
          "base_uri": "https://localhost:8080/",
          "height": 272
        },
        "id": "xdNE9i1VyRSn",
        "outputId": "ebb9b66b-d823-4dd0-fcf9-193d2f2bdf11"
      },
      "source": [
        "grupo_sp = amostra_sp$rent.amount..R..\n",
        "grupo_rj = amostra_rj$rent.amount..R..\n",
        "grupo_pa = amostra_pa$rent.amount..R..\n",
        "\n",
        "shapiro.test(grupo_sp)\n",
        "shapiro.test(grupo_rj)\n",
        "shapiro.test(grupo_pa)"
      ],
      "execution_count": null,
      "outputs": [
        {
          "output_type": "display_data",
          "data": {
            "text/plain": [
              "\n",
              "\tShapiro-Wilk normality test\n",
              "\n",
              "data:  grupo_sp\n",
              "W = 0.81906, p-value < 2.2e-16\n"
            ]
          },
          "metadata": {}
        },
        {
          "output_type": "display_data",
          "data": {
            "text/plain": [
              "\n",
              "\tShapiro-Wilk normality test\n",
              "\n",
              "data:  grupo_rj\n",
              "W = 0.74853, p-value < 2.2e-16\n"
            ]
          },
          "metadata": {}
        },
        {
          "output_type": "display_data",
          "data": {
            "text/plain": [
              "\n",
              "\tShapiro-Wilk normality test\n",
              "\n",
              "data:  grupo_pa\n",
              "W = 0.64212, p-value < 2.2e-16\n"
            ]
          },
          "metadata": {}
        }
      ]
    },
    {
      "cell_type": "markdown",
      "metadata": {
        "id": "pBA8DidezV4w"
      },
      "source": [
        "#NORMALIZACAO CONDOMÍNIO"
      ]
    },
    {
      "cell_type": "code",
      "metadata": {
        "colab": {
          "base_uri": "https://localhost:8080/",
          "height": 782
        },
        "id": "vDtpToA6zZEg",
        "outputId": "4c8b25c4-6907-4567-c5ff-df6fea6cc00a"
      },
      "source": [
        "log_sp = log(grupo_sp)\n",
        "log_rj = log(grupo_rj)\n",
        "log_pa = log(grupo_pa)\n",
        "\n",
        "shapiro.test(log_sp)\n",
        "shapiro.test(log_rj)\n",
        "shapiro.test(log_pa)\n",
        "\n",
        "#MINMAX\n",
        "min_max_norm <- function(x) {\n",
        "   return ((x - min(x)) / (max(x) - min(x)))\n",
        "}\n",
        "\n",
        "grupo_sp_norm = min_max_norm(grupo_sp)\n",
        "grupo_rj_norm = min_max_norm(grupo_rj)\n",
        "grupo_pa_norm = min_max_norm(grupo_pa)\n",
        "\n",
        "shapiro.test(grupo_sp_norm)\n",
        "shapiro.test(grupo_rj_norm)\n",
        "shapiro.test(grupo_pa_norm)\n",
        "\n",
        "#STANDARD SCALLING\n",
        "\n",
        "std_grupo_sp = scale(grupo_sp)\n",
        "std_grupo_rj = scale(grupo_rj)\n",
        "std_grupo_pa = scale(grupo_pa)\n",
        "\n",
        "shapiro.test(std_grupo_sp)\n",
        "shapiro.test(std_grupo_rj)\n",
        "shapiro.test(std_grupo_pa)"
      ],
      "execution_count": null,
      "outputs": [
        {
          "output_type": "display_data",
          "data": {
            "text/plain": [
              "\n",
              "\tShapiro-Wilk normality test\n",
              "\n",
              "data:  log_sp\n",
              "W = 0.98004, p-value = 1.17e-10\n"
            ]
          },
          "metadata": {}
        },
        {
          "output_type": "display_data",
          "data": {
            "text/plain": [
              "\n",
              "\tShapiro-Wilk normality test\n",
              "\n",
              "data:  log_rj\n",
              "W = 0.98224, p-value = 7.373e-10\n"
            ]
          },
          "metadata": {}
        },
        {
          "output_type": "display_data",
          "data": {
            "text/plain": [
              "\n",
              "\tShapiro-Wilk normality test\n",
              "\n",
              "data:  log_pa\n",
              "W = 0.966, p-value = 9.509e-15\n"
            ]
          },
          "metadata": {}
        },
        {
          "output_type": "display_data",
          "data": {
            "text/plain": [
              "\n",
              "\tShapiro-Wilk normality test\n",
              "\n",
              "data:  grupo_sp_norm\n",
              "W = 0.81906, p-value < 2.2e-16\n"
            ]
          },
          "metadata": {}
        },
        {
          "output_type": "display_data",
          "data": {
            "text/plain": [
              "\n",
              "\tShapiro-Wilk normality test\n",
              "\n",
              "data:  grupo_rj_norm\n",
              "W = 0.74853, p-value < 2.2e-16\n"
            ]
          },
          "metadata": {}
        },
        {
          "output_type": "display_data",
          "data": {
            "text/plain": [
              "\n",
              "\tShapiro-Wilk normality test\n",
              "\n",
              "data:  grupo_pa_norm\n",
              "W = 0.64212, p-value < 2.2e-16\n"
            ]
          },
          "metadata": {}
        },
        {
          "output_type": "display_data",
          "data": {
            "text/plain": [
              "\n",
              "\tShapiro-Wilk normality test\n",
              "\n",
              "data:  std_grupo_sp\n",
              "W = 0.81906, p-value < 2.2e-16\n"
            ]
          },
          "metadata": {}
        },
        {
          "output_type": "display_data",
          "data": {
            "text/plain": [
              "\n",
              "\tShapiro-Wilk normality test\n",
              "\n",
              "data:  std_grupo_rj\n",
              "W = 0.74853, p-value < 2.2e-16\n"
            ]
          },
          "metadata": {}
        },
        {
          "output_type": "display_data",
          "data": {
            "text/plain": [
              "\n",
              "\tShapiro-Wilk normality test\n",
              "\n",
              "data:  std_grupo_pa\n",
              "W = 0.64212, p-value < 2.2e-16\n"
            ]
          },
          "metadata": {}
        }
      ]
    },
    {
      "cell_type": "code",
      "metadata": {
        "colab": {
          "base_uri": "https://localhost:8080/",
          "height": 615
        },
        "id": "_I_ZOzA1Gje4",
        "outputId": "d5b11e37-c7ff-435e-bcb2-5d6f70a9dfaa"
      },
      "source": [
        "boxplot(dataframe$rent.amount..R..)$out"
      ],
      "execution_count": null,
      "outputs": [
        {
          "output_type": "display_data",
          "data": {
            "text/plain": [
              "  [1] 15000 12000 11000 12000 13500 14000 15000 14000 13000 20000 10500 15000\n",
              " [13] 15000 15000 15000 12000 15000 15000 12750 11700 12850 12000 12750 11000\n",
              " [25] 14000 11000 15000 15000 12000 15000 11000 15000 15000 15000 15000 15000\n",
              " [37] 12500 13200 10500 12200 15000 12300 15000 12000 15000 12700 10500 12000\n",
              " [49] 13000 15000 10400 14980 10900 13000 12000 15000 11000 13900 12000 12000\n",
              " [61] 14000 15000 15000 15000 10500 15000 15000 15000 13000 11500 13970 11000\n",
              " [73] 12000 12000 15000 13000 14000 15000 12000 11500 15000 11000 12000 10500\n",
              " [85] 12750 12500 10600 11000 12000 15000 11000 12000 14000 12000 12000 13000\n",
              " [97] 13000 12500 15000 20000 15000 10300 15000 12750 15000 12000 15000 15000\n",
              "[109] 15000 12000 15000 15000 14850 15000 15000 15000 12000 15000 13000 15000\n",
              "[121] 10900 15000 14000 12000 15000 15000 11960 15000 20000 15000 15000 12000\n",
              "[133] 12000 12500 10800 11050 12000 11000 12000 15000 13590 11500 15000 15000\n",
              "[145] 10850 13500 15000 12000 13000 15000 15000 12000 14850 11000 15000 10870\n",
              "[157] 15000 13000 12900 12000 10600 12500 45000 12000 11480 12750 15000 12750\n",
              "[169] 15000 15000 14500 12000 11000 13500 12500 13000 13000 10500 11500 11000\n",
              "[181] 15000 15000 13000 14200 15000 15000 12000 14000 12000 19000 15000 15000\n",
              "[193] 14000 14900 14000 24000 15000 14000 15000 12750 12000 13000 15000 12000\n",
              "[205] 10870 11500 15000 12000 15000 15000 15000 11000 20000 13000 15000 11000\n",
              "[217] 13100 15000 12000 10800 12000 11300 15000 15000 15000 10900 15000 13900\n",
              "[229] 15000 14000 10500 10500 12000 15000 15000 11000 12000 15000 12500 12000\n",
              "[241] 12750 12000 15000 14000 12000 11500 12500 11000 15000 15000 14000 15000\n",
              "[253] 11000 15000 10500 12000 12000 13000 15000 15000 12000 15000 13000 12000\n",
              "[265] 14000 12000 15000 15000 12000 14000 15000 12750 13500 15000 13000 15000\n",
              "[277] 12000 10500 10870 15000 11340 14000 15000 14000 15000 15000 12000 15000\n",
              "[289] 15000 13950 15000 10800 13000 15000 15000 14000 15000 15000 11000 14000\n",
              "[301] 13200 15000 12000 11050 15000 14000 11000 13000 14000 14000 10580 12000\n",
              "[313] 10250 10400 10900 12300 12500 12000 15000 15000 15000 12650 15000 14500\n",
              "[325] 15000 12000 13500 13000 15000 12960 15000 13000 13500 14000 11050 12500\n",
              "[337] 12000 15000 13000 14500 15000 10500 14000 15000 14000 15000 12500 13000\n",
              "[349] 12000 11900 13000 14080 11000 15000 10800 15000 11700 14000 12750 15000\n",
              "[361] 11500 15000 11500 14000 11500 15000 12000 11400 13500 13000 12000 10900\n",
              "[373] 13500 15000 20000 14000 13000 12000 15000 15000 15000 11000 18000 10740\n",
              "[385] 14700 12500 10800 15000 10700 15000 10600 15000 15000 13100 12000 13000\n",
              "[397] 12000 15000 12000 12000 12000 13000 15000 13000 14000 15000 12000 16000\n",
              "[409] 14500 15000 10500 15000 14000 12800 12000 12000 19500 15000 12000 15000\n",
              "[421] 15000 15000 11900 13000 15000 15000 12000 10500 12000 13000 12750 12960\n",
              "[433] 12000 12000 15000 14000 15000 13000 15000 15000 12750 12000 13000 15000\n",
              "[445] 11000 15000 15000 12000 13000 12000 12000 15000 12000 11000 12750 15000\n",
              "[457] 12000 15000 12500 11000 12000 15000 14000 11500 13000 15000 12750 12800\n",
              "[469] 25000 15000 13500 12000 15000 15000 15000 11000 12000 11000 12000 12000\n",
              "[481] 11000 15000 11000 12000 10840 13800 12000 11000 12000 12000 13000 12000\n",
              "[493] 11600 11000 12500 12000 15000 14000 15000 11000 15000 15000 10500 10500\n",
              "[505] 12000 11000 12000 14000 12000 12850 15000 13000 15000 10900 11000 11000\n",
              "[517] 12750 10900 12750 15000 12000 30000 11000 14000 13800 15000 12000 13000\n",
              "[529] 12500 10500 14000 12000 15000 15000 10800 13500 12000 12000 15000 11000\n",
              "[541] 10500 15000 15000 12900 10500 15000 15000 12500 15000 15000 12500 13100\n",
              "[553] 12000 11900 14000 13000 10700 15000 12000 15000 11000 12500 14000 11000\n",
              "[565] 10840 15000 11000 15000 13000 14000 15000 11500 12500 15000 12000 11000\n",
              "[577] 14000 11000 13500 15000 12000 13500 11420 13000 15000 15000 13000 11000\n",
              "[589] 11000 13000 14000 15000 11000 11330 12000 12000 15000 15000 12000 10800\n",
              "[601] 12750 14000 12000 10400 10500 15000 10900 10800 10900 12000 15000 13000\n",
              "[613] 12000 14500 15000 11500 15000 15000 12000 12000 11000 11480 13040 11050\n",
              "[625] 12500 13000 12000 10850 15000 15000 10500 15000 13100 13800 15000 13000\n",
              "[637] 12000 10250 12830 15000 12750 12000 12000 12000 12000 12000 15000 12500\n",
              "[649] 15000 15000 15000 15000 12500 13000 15000 12500 15000 11000 12000 13000\n",
              "[661] 14000 11500 12000 10990 15000 14000 11500 11000 11500 14000 15000 12500\n",
              "[673] 15000 14450 10660 10500 11900 12000 10500 11000 15000 15000 15000 15000\n",
              "[685] 15000 12000 15000 15000 12000 13500 12500 15000 14000 11000 15000 15000\n",
              "[697] 15000 15000 12000 12000 12000 13200 15000 15000 13000 15000 15000 15000\n",
              "[709] 15000 11000 12000 11000 13500 15000 12000"
            ],
            "text/latex": "\\begin{enumerate*}\n\\item 15000\n\\item 12000\n\\item 11000\n\\item 12000\n\\item 13500\n\\item 14000\n\\item 15000\n\\item 14000\n\\item 13000\n\\item 20000\n\\item 10500\n\\item 15000\n\\item 15000\n\\item 15000\n\\item 15000\n\\item 12000\n\\item 15000\n\\item 15000\n\\item 12750\n\\item 11700\n\\item 12850\n\\item 12000\n\\item 12750\n\\item 11000\n\\item 14000\n\\item 11000\n\\item 15000\n\\item 15000\n\\item 12000\n\\item 15000\n\\item 11000\n\\item 15000\n\\item 15000\n\\item 15000\n\\item 15000\n\\item 15000\n\\item 12500\n\\item 13200\n\\item 10500\n\\item 12200\n\\item 15000\n\\item 12300\n\\item 15000\n\\item 12000\n\\item 15000\n\\item 12700\n\\item 10500\n\\item 12000\n\\item 13000\n\\item 15000\n\\item 10400\n\\item 14980\n\\item 10900\n\\item 13000\n\\item 12000\n\\item 15000\n\\item 11000\n\\item 13900\n\\item 12000\n\\item 12000\n\\item 14000\n\\item 15000\n\\item 15000\n\\item 15000\n\\item 10500\n\\item 15000\n\\item 15000\n\\item 15000\n\\item 13000\n\\item 11500\n\\item 13970\n\\item 11000\n\\item 12000\n\\item 12000\n\\item 15000\n\\item 13000\n\\item 14000\n\\item 15000\n\\item 12000\n\\item 11500\n\\item 15000\n\\item 11000\n\\item 12000\n\\item 10500\n\\item 12750\n\\item 12500\n\\item 10600\n\\item 11000\n\\item 12000\n\\item 15000\n\\item 11000\n\\item 12000\n\\item 14000\n\\item 12000\n\\item 12000\n\\item 13000\n\\item 13000\n\\item 12500\n\\item 15000\n\\item 20000\n\\item 15000\n\\item 10300\n\\item 15000\n\\item 12750\n\\item 15000\n\\item 12000\n\\item 15000\n\\item 15000\n\\item 15000\n\\item 12000\n\\item 15000\n\\item 15000\n\\item 14850\n\\item 15000\n\\item 15000\n\\item 15000\n\\item 12000\n\\item 15000\n\\item 13000\n\\item 15000\n\\item 10900\n\\item 15000\n\\item 14000\n\\item 12000\n\\item 15000\n\\item 15000\n\\item 11960\n\\item 15000\n\\item 20000\n\\item 15000\n\\item 15000\n\\item 12000\n\\item 12000\n\\item 12500\n\\item 10800\n\\item 11050\n\\item 12000\n\\item 11000\n\\item 12000\n\\item 15000\n\\item 13590\n\\item 11500\n\\item 15000\n\\item 15000\n\\item 10850\n\\item 13500\n\\item 15000\n\\item 12000\n\\item 13000\n\\item 15000\n\\item 15000\n\\item 12000\n\\item 14850\n\\item 11000\n\\item 15000\n\\item 10870\n\\item 15000\n\\item 13000\n\\item 12900\n\\item 12000\n\\item 10600\n\\item 12500\n\\item 45000\n\\item 12000\n\\item 11480\n\\item 12750\n\\item 15000\n\\item 12750\n\\item 15000\n\\item 15000\n\\item 14500\n\\item 12000\n\\item 11000\n\\item 13500\n\\item 12500\n\\item 13000\n\\item 13000\n\\item 10500\n\\item 11500\n\\item 11000\n\\item 15000\n\\item 15000\n\\item 13000\n\\item 14200\n\\item 15000\n\\item 15000\n\\item 12000\n\\item 14000\n\\item 12000\n\\item 19000\n\\item 15000\n\\item 15000\n\\item 14000\n\\item 14900\n\\item 14000\n\\item 24000\n\\item 15000\n\\item 14000\n\\item 15000\n\\item 12750\n\\item ⋯\n\\item 11000\n\\item 12750\n\\item 10900\n\\item 12750\n\\item 15000\n\\item 12000\n\\item 30000\n\\item 11000\n\\item 14000\n\\item 13800\n\\item 15000\n\\item 12000\n\\item 13000\n\\item 12500\n\\item 10500\n\\item 14000\n\\item 12000\n\\item 15000\n\\item 15000\n\\item 10800\n\\item 13500\n\\item 12000\n\\item 12000\n\\item 15000\n\\item 11000\n\\item 10500\n\\item 15000\n\\item 15000\n\\item 12900\n\\item 10500\n\\item 15000\n\\item 15000\n\\item 12500\n\\item 15000\n\\item 15000\n\\item 12500\n\\item 13100\n\\item 12000\n\\item 11900\n\\item 14000\n\\item 13000\n\\item 10700\n\\item 15000\n\\item 12000\n\\item 15000\n\\item 11000\n\\item 12500\n\\item 14000\n\\item 11000\n\\item 10840\n\\item 15000\n\\item 11000\n\\item 15000\n\\item 13000\n\\item 14000\n\\item 15000\n\\item 11500\n\\item 12500\n\\item 15000\n\\item 12000\n\\item 11000\n\\item 14000\n\\item 11000\n\\item 13500\n\\item 15000\n\\item 12000\n\\item 13500\n\\item 11420\n\\item 13000\n\\item 15000\n\\item 15000\n\\item 13000\n\\item 11000\n\\item 11000\n\\item 13000\n\\item 14000\n\\item 15000\n\\item 11000\n\\item 11330\n\\item 12000\n\\item 12000\n\\item 15000\n\\item 15000\n\\item 12000\n\\item 10800\n\\item 12750\n\\item 14000\n\\item 12000\n\\item 10400\n\\item 10500\n\\item 15000\n\\item 10900\n\\item 10800\n\\item 10900\n\\item 12000\n\\item 15000\n\\item 13000\n\\item 12000\n\\item 14500\n\\item 15000\n\\item 11500\n\\item 15000\n\\item 15000\n\\item 12000\n\\item 12000\n\\item 11000\n\\item 11480\n\\item 13040\n\\item 11050\n\\item 12500\n\\item 13000\n\\item 12000\n\\item 10850\n\\item 15000\n\\item 15000\n\\item 10500\n\\item 15000\n\\item 13100\n\\item 13800\n\\item 15000\n\\item 13000\n\\item 12000\n\\item 10250\n\\item 12830\n\\item 15000\n\\item 12750\n\\item 12000\n\\item 12000\n\\item 12000\n\\item 12000\n\\item 12000\n\\item 15000\n\\item 12500\n\\item 15000\n\\item 15000\n\\item 15000\n\\item 15000\n\\item 12500\n\\item 13000\n\\item 15000\n\\item 12500\n\\item 15000\n\\item 11000\n\\item 12000\n\\item 13000\n\\item 14000\n\\item 11500\n\\item 12000\n\\item 10990\n\\item 15000\n\\item 14000\n\\item 11500\n\\item 11000\n\\item 11500\n\\item 14000\n\\item 15000\n\\item 12500\n\\item 15000\n\\item 14450\n\\item 10660\n\\item 10500\n\\item 11900\n\\item 12000\n\\item 10500\n\\item 11000\n\\item 15000\n\\item 15000\n\\item 15000\n\\item 15000\n\\item 15000\n\\item 12000\n\\item 15000\n\\item 15000\n\\item 12000\n\\item 13500\n\\item 12500\n\\item 15000\n\\item 14000\n\\item 11000\n\\item 15000\n\\item 15000\n\\item 15000\n\\item 15000\n\\item 12000\n\\item 12000\n\\item 12000\n\\item 13200\n\\item 15000\n\\item 15000\n\\item 13000\n\\item 15000\n\\item 15000\n\\item 15000\n\\item 15000\n\\item 11000\n\\item 12000\n\\item 11000\n\\item 13500\n\\item 15000\n\\item 12000\n\\end{enumerate*}\n",
            "text/markdown": "1. 15000\n2. 12000\n3. 11000\n4. 12000\n5. 13500\n6. 14000\n7. 15000\n8. 14000\n9. 13000\n10. 20000\n11. 10500\n12. 15000\n13. 15000\n14. 15000\n15. 15000\n16. 12000\n17. 15000\n18. 15000\n19. 12750\n20. 11700\n21. 12850\n22. 12000\n23. 12750\n24. 11000\n25. 14000\n26. 11000\n27. 15000\n28. 15000\n29. 12000\n30. 15000\n31. 11000\n32. 15000\n33. 15000\n34. 15000\n35. 15000\n36. 15000\n37. 12500\n38. 13200\n39. 10500\n40. 12200\n41. 15000\n42. 12300\n43. 15000\n44. 12000\n45. 15000\n46. 12700\n47. 10500\n48. 12000\n49. 13000\n50. 15000\n51. 10400\n52. 14980\n53. 10900\n54. 13000\n55. 12000\n56. 15000\n57. 11000\n58. 13900\n59. 12000\n60. 12000\n61. 14000\n62. 15000\n63. 15000\n64. 15000\n65. 10500\n66. 15000\n67. 15000\n68. 15000\n69. 13000\n70. 11500\n71. 13970\n72. 11000\n73. 12000\n74. 12000\n75. 15000\n76. 13000\n77. 14000\n78. 15000\n79. 12000\n80. 11500\n81. 15000\n82. 11000\n83. 12000\n84. 10500\n85. 12750\n86. 12500\n87. 10600\n88. 11000\n89. 12000\n90. 15000\n91. 11000\n92. 12000\n93. 14000\n94. 12000\n95. 12000\n96. 13000\n97. 13000\n98. 12500\n99. 15000\n100. 20000\n101. 15000\n102. 10300\n103. 15000\n104. 12750\n105. 15000\n106. 12000\n107. 15000\n108. 15000\n109. 15000\n110. 12000\n111. 15000\n112. 15000\n113. 14850\n114. 15000\n115. 15000\n116. 15000\n117. 12000\n118. 15000\n119. 13000\n120. 15000\n121. 10900\n122. 15000\n123. 14000\n124. 12000\n125. 15000\n126. 15000\n127. 11960\n128. 15000\n129. 20000\n130. 15000\n131. 15000\n132. 12000\n133. 12000\n134. 12500\n135. 10800\n136. 11050\n137. 12000\n138. 11000\n139. 12000\n140. 15000\n141. 13590\n142. 11500\n143. 15000\n144. 15000\n145. 10850\n146. 13500\n147. 15000\n148. 12000\n149. 13000\n150. 15000\n151. 15000\n152. 12000\n153. 14850\n154. 11000\n155. 15000\n156. 10870\n157. 15000\n158. 13000\n159. 12900\n160. 12000\n161. 10600\n162. 12500\n163. 45000\n164. 12000\n165. 11480\n166. 12750\n167. 15000\n168. 12750\n169. 15000\n170. 15000\n171. 14500\n172. 12000\n173. 11000\n174. 13500\n175. 12500\n176. 13000\n177. 13000\n178. 10500\n179. 11500\n180. 11000\n181. 15000\n182. 15000\n183. 13000\n184. 14200\n185. 15000\n186. 15000\n187. 12000\n188. 14000\n189. 12000\n190. 19000\n191. 15000\n192. 15000\n193. 14000\n194. 14900\n195. 14000\n196. 24000\n197. 15000\n198. 14000\n199. 15000\n200. 12750\n201. ⋯\n202. 11000\n203. 12750\n204. 10900\n205. 12750\n206. 15000\n207. 12000\n208. 30000\n209. 11000\n210. 14000\n211. 13800\n212. 15000\n213. 12000\n214. 13000\n215. 12500\n216. 10500\n217. 14000\n218. 12000\n219. 15000\n220. 15000\n221. 10800\n222. 13500\n223. 12000\n224. 12000\n225. 15000\n226. 11000\n227. 10500\n228. 15000\n229. 15000\n230. 12900\n231. 10500\n232. 15000\n233. 15000\n234. 12500\n235. 15000\n236. 15000\n237. 12500\n238. 13100\n239. 12000\n240. 11900\n241. 14000\n242. 13000\n243. 10700\n244. 15000\n245. 12000\n246. 15000\n247. 11000\n248. 12500\n249. 14000\n250. 11000\n251. 10840\n252. 15000\n253. 11000\n254. 15000\n255. 13000\n256. 14000\n257. 15000\n258. 11500\n259. 12500\n260. 15000\n261. 12000\n262. 11000\n263. 14000\n264. 11000\n265. 13500\n266. 15000\n267. 12000\n268. 13500\n269. 11420\n270. 13000\n271. 15000\n272. 15000\n273. 13000\n274. 11000\n275. 11000\n276. 13000\n277. 14000\n278. 15000\n279. 11000\n280. 11330\n281. 12000\n282. 12000\n283. 15000\n284. 15000\n285. 12000\n286. 10800\n287. 12750\n288. 14000\n289. 12000\n290. 10400\n291. 10500\n292. 15000\n293. 10900\n294. 10800\n295. 10900\n296. 12000\n297. 15000\n298. 13000\n299. 12000\n300. 14500\n301. 15000\n302. 11500\n303. 15000\n304. 15000\n305. 12000\n306. 12000\n307. 11000\n308. 11480\n309. 13040\n310. 11050\n311. 12500\n312. 13000\n313. 12000\n314. 10850\n315. 15000\n316. 15000\n317. 10500\n318. 15000\n319. 13100\n320. 13800\n321. 15000\n322. 13000\n323. 12000\n324. 10250\n325. 12830\n326. 15000\n327. 12750\n328. 12000\n329. 12000\n330. 12000\n331. 12000\n332. 12000\n333. 15000\n334. 12500\n335. 15000\n336. 15000\n337. 15000\n338. 15000\n339. 12500\n340. 13000\n341. 15000\n342. 12500\n343. 15000\n344. 11000\n345. 12000\n346. 13000\n347. 14000\n348. 11500\n349. 12000\n350. 10990\n351. 15000\n352. 14000\n353. 11500\n354. 11000\n355. 11500\n356. 14000\n357. 15000\n358. 12500\n359. 15000\n360. 14450\n361. 10660\n362. 10500\n363. 11900\n364. 12000\n365. 10500\n366. 11000\n367. 15000\n368. 15000\n369. 15000\n370. 15000\n371. 15000\n372. 12000\n373. 15000\n374. 15000\n375. 12000\n376. 13500\n377. 12500\n378. 15000\n379. 14000\n380. 11000\n381. 15000\n382. 15000\n383. 15000\n384. 15000\n385. 12000\n386. 12000\n387. 12000\n388. 13200\n389. 15000\n390. 15000\n391. 13000\n392. 15000\n393. 15000\n394. 15000\n395. 15000\n396. 11000\n397. 12000\n398. 11000\n399. 13500\n400. 15000\n401. 12000\n\n\n",
            "text/html": [
              "<style>\n",
              ".list-inline {list-style: none; margin:0; padding: 0}\n",
              ".list-inline>li {display: inline-block}\n",
              ".list-inline>li:not(:last-child)::after {content: \"\\00b7\"; padding: 0 .5ex}\n",
              "</style>\n",
              "<ol class=list-inline><li>15000</li><li>12000</li><li>11000</li><li>12000</li><li>13500</li><li>14000</li><li>15000</li><li>14000</li><li>13000</li><li>20000</li><li>10500</li><li>15000</li><li>15000</li><li>15000</li><li>15000</li><li>12000</li><li>15000</li><li>15000</li><li>12750</li><li>11700</li><li>12850</li><li>12000</li><li>12750</li><li>11000</li><li>14000</li><li>11000</li><li>15000</li><li>15000</li><li>12000</li><li>15000</li><li>11000</li><li>15000</li><li>15000</li><li>15000</li><li>15000</li><li>15000</li><li>12500</li><li>13200</li><li>10500</li><li>12200</li><li>15000</li><li>12300</li><li>15000</li><li>12000</li><li>15000</li><li>12700</li><li>10500</li><li>12000</li><li>13000</li><li>15000</li><li>10400</li><li>14980</li><li>10900</li><li>13000</li><li>12000</li><li>15000</li><li>11000</li><li>13900</li><li>12000</li><li>12000</li><li>14000</li><li>15000</li><li>15000</li><li>15000</li><li>10500</li><li>15000</li><li>15000</li><li>15000</li><li>13000</li><li>11500</li><li>13970</li><li>11000</li><li>12000</li><li>12000</li><li>15000</li><li>13000</li><li>14000</li><li>15000</li><li>12000</li><li>11500</li><li>15000</li><li>11000</li><li>12000</li><li>10500</li><li>12750</li><li>12500</li><li>10600</li><li>11000</li><li>12000</li><li>15000</li><li>11000</li><li>12000</li><li>14000</li><li>12000</li><li>12000</li><li>13000</li><li>13000</li><li>12500</li><li>15000</li><li>20000</li><li>15000</li><li>10300</li><li>15000</li><li>12750</li><li>15000</li><li>12000</li><li>15000</li><li>15000</li><li>15000</li><li>12000</li><li>15000</li><li>15000</li><li>14850</li><li>15000</li><li>15000</li><li>15000</li><li>12000</li><li>15000</li><li>13000</li><li>15000</li><li>10900</li><li>15000</li><li>14000</li><li>12000</li><li>15000</li><li>15000</li><li>11960</li><li>15000</li><li>20000</li><li>15000</li><li>15000</li><li>12000</li><li>12000</li><li>12500</li><li>10800</li><li>11050</li><li>12000</li><li>11000</li><li>12000</li><li>15000</li><li>13590</li><li>11500</li><li>15000</li><li>15000</li><li>10850</li><li>13500</li><li>15000</li><li>12000</li><li>13000</li><li>15000</li><li>15000</li><li>12000</li><li>14850</li><li>11000</li><li>15000</li><li>10870</li><li>15000</li><li>13000</li><li>12900</li><li>12000</li><li>10600</li><li>12500</li><li>45000</li><li>12000</li><li>11480</li><li>12750</li><li>15000</li><li>12750</li><li>15000</li><li>15000</li><li>14500</li><li>12000</li><li>11000</li><li>13500</li><li>12500</li><li>13000</li><li>13000</li><li>10500</li><li>11500</li><li>11000</li><li>15000</li><li>15000</li><li>13000</li><li>14200</li><li>15000</li><li>15000</li><li>12000</li><li>14000</li><li>12000</li><li>19000</li><li>15000</li><li>15000</li><li>14000</li><li>14900</li><li>14000</li><li>24000</li><li>15000</li><li>14000</li><li>15000</li><li>12750</li><li>⋯</li><li>11000</li><li>12750</li><li>10900</li><li>12750</li><li>15000</li><li>12000</li><li>30000</li><li>11000</li><li>14000</li><li>13800</li><li>15000</li><li>12000</li><li>13000</li><li>12500</li><li>10500</li><li>14000</li><li>12000</li><li>15000</li><li>15000</li><li>10800</li><li>13500</li><li>12000</li><li>12000</li><li>15000</li><li>11000</li><li>10500</li><li>15000</li><li>15000</li><li>12900</li><li>10500</li><li>15000</li><li>15000</li><li>12500</li><li>15000</li><li>15000</li><li>12500</li><li>13100</li><li>12000</li><li>11900</li><li>14000</li><li>13000</li><li>10700</li><li>15000</li><li>12000</li><li>15000</li><li>11000</li><li>12500</li><li>14000</li><li>11000</li><li>10840</li><li>15000</li><li>11000</li><li>15000</li><li>13000</li><li>14000</li><li>15000</li><li>11500</li><li>12500</li><li>15000</li><li>12000</li><li>11000</li><li>14000</li><li>11000</li><li>13500</li><li>15000</li><li>12000</li><li>13500</li><li>11420</li><li>13000</li><li>15000</li><li>15000</li><li>13000</li><li>11000</li><li>11000</li><li>13000</li><li>14000</li><li>15000</li><li>11000</li><li>11330</li><li>12000</li><li>12000</li><li>15000</li><li>15000</li><li>12000</li><li>10800</li><li>12750</li><li>14000</li><li>12000</li><li>10400</li><li>10500</li><li>15000</li><li>10900</li><li>10800</li><li>10900</li><li>12000</li><li>15000</li><li>13000</li><li>12000</li><li>14500</li><li>15000</li><li>11500</li><li>15000</li><li>15000</li><li>12000</li><li>12000</li><li>11000</li><li>11480</li><li>13040</li><li>11050</li><li>12500</li><li>13000</li><li>12000</li><li>10850</li><li>15000</li><li>15000</li><li>10500</li><li>15000</li><li>13100</li><li>13800</li><li>15000</li><li>13000</li><li>12000</li><li>10250</li><li>12830</li><li>15000</li><li>12750</li><li>12000</li><li>12000</li><li>12000</li><li>12000</li><li>12000</li><li>15000</li><li>12500</li><li>15000</li><li>15000</li><li>15000</li><li>15000</li><li>12500</li><li>13000</li><li>15000</li><li>12500</li><li>15000</li><li>11000</li><li>12000</li><li>13000</li><li>14000</li><li>11500</li><li>12000</li><li>10990</li><li>15000</li><li>14000</li><li>11500</li><li>11000</li><li>11500</li><li>14000</li><li>15000</li><li>12500</li><li>15000</li><li>14450</li><li>10660</li><li>10500</li><li>11900</li><li>12000</li><li>10500</li><li>11000</li><li>15000</li><li>15000</li><li>15000</li><li>15000</li><li>15000</li><li>12000</li><li>15000</li><li>15000</li><li>12000</li><li>13500</li><li>12500</li><li>15000</li><li>14000</li><li>11000</li><li>15000</li><li>15000</li><li>15000</li><li>15000</li><li>12000</li><li>12000</li><li>12000</li><li>13200</li><li>15000</li><li>15000</li><li>13000</li><li>15000</li><li>15000</li><li>15000</li><li>15000</li><li>11000</li><li>12000</li><li>11000</li><li>13500</li><li>15000</li><li>12000</li></ol>\n"
            ]
          },
          "metadata": {}
        },
        {
          "output_type": "display_data",
          "data": {
            "image/png": "[encoded data removed]",
            "text/plain": [
              "plot without title"
            ]
          },
          "metadata": {
            "image/png": {
              "width": 540,
              "height": 360
            }
          }
        }
      ]
    },
    {
      "cell_type": "markdown",
      "metadata": {
        "id": "3zPhobDuADVE"
      },
      "source": [
        "#CÓDIGO COMPLETO"
      ]
    },
    {
      "cell_type": "code",
      "metadata": {
        "colab": {
          "base_uri": "https://localhost:8080/",
          "height": 1000
        },
        "id": "6i3oqiNwAF7G",
        "outputId": "b14af258-90a2-4b9d-ef1e-596e768211ba"
      },
      "source": [
        "install.packages('comprehenr')\n",
        "install.packages('car')\n",
        "\n",
        "library(purrr)\n",
        "library(tidyr)\n",
        "library(ggplot2)\n",
        "library(dplyr)\n",
        "library(comprehenr)\n",
        "\n",
        "#SETANDO CONFIGURAÇÕES DE GRÁFICOS\n",
        "options(repr.plot.width = 9, repr.plot.height = 6)\n",
        "formatos <- theme(\n",
        "        plot.title=element_text(size = 14, hjust = 0.5),\n",
        "        axis.title.y=element_text(size = 12, vjust = +0.2),\n",
        "        axis.title.x=element_text(size = 12, vjust = -0.2),\n",
        "        axis.text.y=element_text(size = 10),\n",
        "        axis.text.x=element_text(size = 10)\n",
        "    )\n",
        "\n",
        "\n",
        "file = 'houses_to_rent_v2.csv'\n",
        "df <- read.csv(file = file)\n",
        "\n",
        "colnames(df)[which(names(df) == \"rent.amount..R..\")] <- \"rent\"\n",
        "\n",
        "#Removendo outliers\n",
        "df = subset(df, rent <= 15000)\n",
        "df\n",
        "\n",
        "\n",
        "amostra_sp = sample(df[df$city == 'São Paulo' , ])\n",
        "amostra_rj = sample(df[df$city == 'Rio de Janeiro' , ])\n",
        "amostra_bh = sample(df[df$city == 'Belo Horizonte' , ]) # belo horizonte\n",
        "amostra_pa = sample(df[df$city == 'Porto Alegre' , ]) # porto alegre\n",
        "amostra_ca = sample(df[df$city == 'Campinas' , ]) # campinas\n",
        "\n",
        "amostra_sp = sample_n(df[df$city == 'São Paulo' , ], 800)\n",
        "amostra_rj = sample_n(df[df$city == 'Rio de Janeiro' , ], 800)\n",
        "amostra_pa = sample_n(df[df$city == 'Porto Alegre' , ], 800) # porto alegre\n",
        "amostra_ca = sample_n(df[df$city == 'Campinas' , ], 800) # porto alegre\n",
        "amostra_bh = sample_n(df[df$city == 'Belo Horizonte' , ], 800) # porto alegre\n",
        "\n",
        "\n",
        "# identificando outliers sp#####################################\n",
        "# Tolerancia = 3 std\n",
        "# data = amostra_sp['rent']\n",
        "data = as.numeric(unlist(amostra_sp['rent']))\n",
        "data\n",
        "data_mean = mean(data, na.rm = TRUE)\n",
        "data_std = sd(data, na.rm = TRUE)\n",
        "cut_off = data_std * 3\n",
        "lower = data_mean - cut_off\n",
        "upper = data_mean + cut_off\n",
        "outliers_sp = to_vec(for(x in data) if(x < lower | x > upper) x)\n",
        "print(length(outliers_sp))\n",
        "# remove outliers\n",
        "outliers_sp_removed = to_vec(for(x in data) if(x >= lower & x <= upper) x)\n",
        "print(length(outliers_sp_removed))\n",
        "\n",
        "#identificando outliers rj\n",
        "#Tolerancia = 3 std\n",
        "data = as.numeric(unlist(amostra_rj['rent']))\n",
        "data\n",
        "data_mean = mean(data, na.rm = TRUE)\n",
        "data_std = sd(data, na.rm = TRUE)\n",
        "cut_off = data_std * 3\n",
        "lower = data_mean - cut_off\n",
        "upper = data_mean + cut_off\n",
        "outliers_rj = to_vec(for(x in data) if(x < lower | x > upper) x)\n",
        "print(length(outliers_rj))\n",
        "# remove outliers\n",
        "outliers_rj_removed = to_vec(for(x in data) if(x >= lower & x <= upper) x)\n",
        "print(length(outliers_rj_removed))\n",
        "\n",
        "#identificando outliers pa\n",
        "#Tolerancia = 3 std\n",
        "data = as.numeric(unlist(amostra_pa['rent']))\n",
        "data\n",
        "data_mean = mean(data, na.rm = TRUE)\n",
        "data_std = sd(data, na.rm = TRUE)\n",
        "cut_off = data_std * 3\n",
        "lower = data_mean - cut_off\n",
        "upper = data_mean + cut_off\n",
        "outliers_pa = to_vec(for(x in data) if(x < lower | x > upper) x)\n",
        "print(length(outliers_pa))\n",
        "# remove outliers\n",
        "outliers_pa_removed = to_vec(for(x in data) if(x >= lower & x <= upper) x)\n",
        "print(length(outliers_pa_removed))\n",
        "\n",
        "# #identificando outliers bh\n",
        "#Tolerancia = 3 std\n",
        "data = as.numeric(unlist(amostra_bh['rent']))\n",
        "data\n",
        "data_mean = mean(data, na.rm = TRUE)\n",
        "data_std = sd(data, na.rm = TRUE)\n",
        "cut_off = data_std * 3\n",
        "lower = data_mean - cut_off\n",
        "upper = data_mean + cut_off\n",
        "outliers_bh = to_vec(for(x in data) if(x < lower | x > upper) x)\n",
        "print(length(outliers_bh))\n",
        "# remove outliers\n",
        "outliers_bh_removed = to_vec(for(x in data) if(x >= lower & x <= upper) x)\n",
        "print(length(outliers_bh_removed))\n",
        "\n",
        "#identificando outliers ca\n",
        "#Tolerancia = 3 std\n",
        "data = as.numeric(unlist(amostra_ca['rent']))\n",
        "data\n",
        "data_mean = mean(data, na.rm = TRUE)\n",
        "data_std = sd(data, na.rm = TRUE)\n",
        "cut_off = data_std * 3\n",
        "lower = data_mean - cut_off\n",
        "upper = data_mean + cut_off\n",
        "outliers_ca = to_vec(for(x in data) if(x < lower | x > upper) x)\n",
        "print(length(outliers_ca))\n",
        "# remove outliers\n",
        "outliers_ca_removed = to_vec(for(x in data) if(x >= lower & x <= upper) x)\n",
        "print(length(outliers_ca_removed))\n",
        "\n",
        "grupo_sp = outliers_sp_removed\n",
        "grupo_rj = outliers_rj_removed\n",
        "grupo_bh = outliers_bh_removed\n",
        "grupo_ca = outliers_ca_removed\n",
        "grupo_pa = outliers_pa_removed\n",
        "\n",
        "hist(grupo_sp, main = \"R$ Aluguel grupo_sp\")\n",
        "hist(grupo_rj, main = \"R$ Aluguel grupo_rj\")\n",
        "hist(grupo_pa, main = \"R$ Aluguel grupo_pa\")\n",
        "hist(grupo_ca, main = \"R$ Aluguel grupo_ca\")\n",
        "hist(grupo_bh, main = \"R$ Aluguel grupo_bh\")\n",
        "\n",
        "shapiro.test(grupo_sp)\n",
        "shapiro.test(grupo_rj)\n",
        "shapiro.test(grupo_pa)\n",
        "shapiro.test(grupo_ca)\n",
        "shapiro.test(grupo_bh)\n",
        "\n",
        "#NORMALIZAÇÃO\n",
        "log_sp = log(grupo_sp)\n",
        "log_rj = log(grupo_rj)\n",
        "log_pa = log(grupo_pa)\n",
        "log_ca = log(grupo_ca)\n",
        "log_bh = log(grupo_bh)\n",
        "\n",
        "shapiro.test(log_sp)\n",
        "shapiro.test(log_rj)\n",
        "shapiro.test(log_pa)\n",
        "shapiro.test(log_ca)\n",
        "shapiro.test(log_bh)\n",
        "\n",
        "#MINMAX\n",
        "min_max_norm <- function(x) {\n",
        "   return ((x - min(x)) / (max(x) - min(x)))\n",
        "}\n",
        "\n",
        "grupo_sp_norm = min_max_norm(grupo_sp)\n",
        "grupo_rj_norm = min_max_norm(grupo_rj)\n",
        "grupo_pa_norm = min_max_norm(grupo_pa)\n",
        "grupo_ca_norm = min_max_norm(grupo_ca)\n",
        "grupo_bh_norm = min_max_norm(grupo_bh)\n",
        "\n",
        "shapiro.test(grupo_sp_norm)\n",
        "shapiro.test(grupo_rj_norm)\n",
        "shapiro.test(grupo_pa_norm)\n",
        "shapiro.test(grupo_ca_norm)\n",
        "shapiro.test(grupo_bh_norm)\n",
        "\n",
        "#STANDARD SCALLING\n",
        "\n",
        "std_grupo_sp = scale(grupo_sp)\n",
        "std_grupo_rj = scale(grupo_rj)\n",
        "std_grupo_pa = scale(grupo_pa)\n",
        "std_grupo_ca = scale(grupo_ca)\n",
        "std_grupo_bh = scale(grupo_bh)\n",
        "\n",
        "shapiro.test(std_grupo_sp)\n",
        "shapiro.test(std_grupo_rj)\n",
        "shapiro.test(std_grupo_pa)\n",
        "shapiro.test(std_grupo_ca)\n",
        "shapiro.test(std_grupo_bh)\n",
        "\n",
        "hist(log_sp, main = \"R$ Aluguel log_sp\")\n",
        "hist(log_rj, main = \"R$ Aluguel log_rj\")\n",
        "hist(log_pa, main = \"R$ Aluguel log_pa\")\n",
        "hist(log_ca, main = \"R$ Aluguel log_ca\")\n",
        "hist(log_bh, main = \"R$ Aluguel log_bh\")\n",
        "\n",
        "\n",
        "#BOXPLOTS\n",
        "log_sp_plot = as.data.frame(log_sp)\n",
        "names(log_sp_plot)[names(log_sp_plot) == 'log_sp'] <- 'rent'\n",
        "log_sp_plot['Nr_cidade'] = 'sp'\n",
        "\n",
        "log_rj_plot = as.data.frame(log_rj)\n",
        "names(log_rj_plot)[names(log_rj_plot) == 'log_rj'] <- 'rent'\n",
        "log_rj_plot['Nr_cidade'] = 'rj'\n",
        "\n",
        "log_pa_plot = as.data.frame(log_pa)\n",
        "names(log_pa_plot)[names(log_pa_plot) == 'log_pa'] <- 'rent'\n",
        "log_pa_plot['Nr_cidade'] = 'pa'\n",
        "\n",
        "log_ca_plot = as.data.frame(log_ca)\n",
        "names(log_ca_plot)[names(log_ca_plot) == 'log_ca'] <- 'rent'\n",
        "log_ca_plot['Nr_cidade'] = 'ca'\n",
        "\n",
        "log_bh_plot = as.data.frame(log_bh)\n",
        "names(log_bh_plot)[names(log_bh_plot) == 'log_bh'] <- 'rent'\n",
        "log_bh_plot['Nr_cidade'] = 'bh'\n",
        "\n",
        "log_plot <- rbind(log_sp_plot, log_rj_plot, log_pa_plot, log_ca_plot, log_bh_plot)\n",
        "log_plot\n",
        "\n",
        "boxplot(rent~Nr_cidade, data=log_plot, main=\"Boxplot após normalização e retirada de outliers\", xlab=\"Cidades\", ylab=\"rent\", col=\"orange\", border=\"brown\")\n",
        "\n",
        "\n",
        "shapiro.test(as.numeric(unlist(log_plot['rent'])))\n",
        "\n",
        "#TESTE DE LEVENE\n",
        "\n",
        "\n",
        "# H0 - VARIANCIAS SÃO IGUAIS\n",
        "# H1 - PELO MENOS 1 GRUPO TEM VARIANCIA DIFERENTE\n",
        "teste_levene = levene.test(rent ~ Nr_cidade, data = log_plot, method = \"mean\")\n",
        "teste_brown_forsythe = levene.test(rent ~ Nr_cidade, data = log_plot, method = \"trim.mean\")\n",
        "teste_brown_forsythe_median = levene.test(rent ~ Nr_cidade, data = log_plot, method = \"median\")\n",
        "\n",
        "\n",
        "# #####################################################\n",
        "# '''Fazendo a ANOVA'''\n",
        "anova <- aov(rent ~ Nr_cidade, data = log_plot)\n",
        "anova\n",
        "\n",
        "# #Kruskal-Wallis \n",
        "kruskal = kruskal.test(rent ~ Nr_cidade, data = log_plot)\n",
        "kruskal\n",
        "\n",
        "# #post-hoc\n",
        "# ###Teste Tukey\n",
        "\n",
        "tukey <- TukeyHSD(anova, conf.level=0.95)\n",
        "tukey"
      ],
      "execution_count": null,
      "outputs": [
        {
          "output_type": "display_data",
          "data": {
            "text/plain": [
              "      id    city           area rooms bathroom parking.spaces floor animal   \n",
              "1      0    São Paulo       70  2     1        1              7     acept    \n",
              "2      1    São Paulo      320  4     4        0              20    acept    \n",
              "3      2    Porto Alegre    80  1     1        1              6     acept    \n",
              "4      3    Porto Alegre    51  2     1        0              2     acept    \n",
              "5      4    São Paulo       25  1     1        0              1     not acept\n",
              "6      5    São Paulo      376  3     3        7              -     acept    \n",
              "7      6    Rio de Janeiro  72  2     1        0              7     acept    \n",
              "8      7    São Paulo      213  4     4        4              4     acept    \n",
              "9      8    São Paulo      152  2     2        1              3     acept    \n",
              "10     9    Rio de Janeiro  35  1     1        0              2     acept    \n",
              "11    10    São Paulo       26  1     1        0              2     acept    \n",
              "12    11    Campinas        46  1     1        1              10    acept    \n",
              "13    12    São Paulo       36  1     1        0              11    acept    \n",
              "14    13    São Paulo       55  1     1        1              2     acept    \n",
              "15    14    São Paulo      100  2     2        2              24    acept    \n",
              "16    15    Campinas       330  4     6        6              -     acept    \n",
              "17    16    São Paulo      110  2     2        1              1     acept    \n",
              "18    17    Rio de Janeiro  88  2     3        1              9     not acept\n",
              "19    18    Rio de Janeiro  56  2     1        0              8     acept    \n",
              "20    19    São Paulo      600  4     5        6              -     acept    \n",
              "21    20    São Paulo      100  7     4        0              -     acept    \n",
              "22    21    Belo Horizonte  42  1     1        1              17    not acept\n",
              "23    22    São Paulo      160  3     2        2              18    acept    \n",
              "24    23    São Paulo       35  1     1        0              -     acept    \n",
              "25    24    Rio de Janeiro  90  3     2        1              7     acept    \n",
              "26    25    São Paulo       49  1     1        1              10    acept    \n",
              "27    26    São Paulo       41  1     1        1              5     not acept\n",
              "28    27    Belo Horizonte  64  2     2        1              11    acept    \n",
              "29    28    Campinas       208  3     2        4              -     acept    \n",
              "30    29    São Paulo       20  1     1        0              5     acept    \n",
              "⋮     ⋮     ⋮              ⋮    ⋮     ⋮        ⋮              ⋮     ⋮        \n",
              "10663 10662 São Paulo      238  4     3        1              7     acept    \n",
              "10664 10663 São Paulo       90  3     1        0              13    acept    \n",
              "10665 10664 Rio de Janeiro 310  3     2        0              5     not acept\n",
              "10666 10665 Belo Horizonte  55  2     1        1              2     not acept\n",
              "10667 10666 Rio de Janeiro  60  2     2        0              13    acept    \n",
              "10668 10667 Belo Horizonte  75  2     1        1              3     not acept\n",
              "10669 10668 São Paulo       24  1     1        0              -     acept    \n",
              "10670 10669 São Paulo      340  4     5        3              15    not acept\n",
              "10671 10670 São Paulo      165  3     3        2              2     acept    \n",
              "10672 10671 São Paulo       84  2     2        1              16    not acept\n",
              "10673 10672 São Paulo      126  2     1        0              13    acept    \n",
              "10674 10673 Porto Alegre   220  3     2        2              15    acept    \n",
              "10675 10674 Rio de Janeiro 135  4     2        1              -     acept    \n",
              "10676 10675 Rio de Janeiro 250  3     2        1              11    acept    \n",
              "10677 10676 Porto Alegre    40  1     1        0              1     acept    \n",
              "10678 10677 São Paulo       38  1     1        0              19    not acept\n",
              "10679 10678 São Paulo      141  3     5        0              4     acept    \n",
              "10680 10679 São Paulo       61  1     2        1              13    acept    \n",
              "10681 10680 São Paulo      156  4     4        3              1     acept    \n",
              "10682 10681 São Paulo      230  3     5        3              3     not acept\n",
              "10683 10682 Porto Alegre   160  3     2        3              4     acept    \n",
              "10684 10683 São Paulo      280  4     4        2              5     acept    \n",
              "10685 10684 Rio de Janeiro  98  2     1        0              1     acept    \n",
              "10686 10685 São Paulo       83  3     2        2              11    acept    \n",
              "10687 10686 São Paulo      150  3     3        2              8     not acept\n",
              "10688 10687 Porto Alegre    63  2     1        1              5     not acept\n",
              "10689 10688 São Paulo      285  4     4        4              17    acept    \n",
              "10690 10689 Rio de Janeiro  70  3     3        0              8     not acept\n",
              "10691 10690 Rio de Janeiro 120  2     2        2              8     acept    \n",
              "10692 10691 São Paulo       80  2     1        0              -     acept    \n",
              "      furniture     hoa..R.. rent  property.tax..R.. fire.insurance..R..\n",
              "1     furnished     2065      3300  211               42                \n",
              "2     not furnished 1200      4960 1750               63                \n",
              "3     not furnished 1000      2800    0               41                \n",
              "4     not furnished  270      1112   22               17                \n",
              "5     not furnished    0       800   25               11                \n",
              "6     not furnished    0      8000  834              121                \n",
              "7     not furnished  740      1900   85               25                \n",
              "8     not furnished 2254      3223 1735               41                \n",
              "9     furnished     1000     15000  250              191                \n",
              "10    furnished      590      2300   35               30                \n",
              "11    furnished      470      2100  150               27                \n",
              "12    not furnished  550       580   43                8                \n",
              "13    not furnished  359      2100   70               27                \n",
              "14    furnished      790      4200  224               54                \n",
              "15    furnished      900      4370   17               56                \n",
              "16    furnished      680      8000  328              121                \n",
              "17    not furnished  700      3000  122               39                \n",
              "18    furnished     1614      3500  221               16                \n",
              "19    not furnished  800      1220    0               16                \n",
              "20    not furnished    0     12000 9500              181                \n",
              "21    not furnished    0      3800  118               58                \n",
              "22    furnished      470      2690  172               36                \n",
              "23    furnished     1530      1900  167               25                \n",
              "24    not furnished    0      1100    3               14                \n",
              "25    not furnished  800      1800  118               24                \n",
              "26    not furnished  480      3500   42               45                \n",
              "27    furnished      600      3000    0               39                \n",
              "28    not furnished  352      1500   80               20                \n",
              "29    not furnished    0      3180  100               48                \n",
              "30    furnished      602      1800  130               23                \n",
              "⋮     ⋮             ⋮        ⋮     ⋮                 ⋮                  \n",
              "10663 not furnished 2515      4500  575               58                \n",
              "10664 not furnished  785      1600    0               21                \n",
              "10665 not furnished 2500      6000  595               78                \n",
              "10666 furnished      200      1600   75               22                \n",
              "10667 not furnished  600      2700  154               35                \n",
              "10668 not furnished  180      1250    0               17                \n",
              "10669 not furnished    0       870    0               14                \n",
              "10670 furnished     3519     12000 1287              153                \n",
              "10671 furnished     1150      2710   84               35                \n",
              "10672 furnished      768      2900   63               37                \n",
              "10673 not furnished  570      2580    0               33                \n",
              "10674 not furnished  842      2400  117               36                \n",
              "10675 not furnished    0      3300  115               51                \n",
              "10676 not furnished 2000      2700  500               35                \n",
              "10677 not furnished  330      1200  159               18                \n",
              "10678 not furnished  583      1000   46               13                \n",
              "10679 not furnished  909     10140  772              129                \n",
              "10680 not furnished  680      4000  140               51                \n",
              "10681 furnished     2000      2200  750               28                \n",
              "10682 not furnished 3800     11000 1100              140                \n",
              "10683 furnished      850      3300  220               49                \n",
              "10684 not furnished 4200      4000 1042               51                \n",
              "10685 not furnished  560      3900  184               51                \n",
              "10686 not furnished  888      7521  221               96                \n",
              "10687 furnished        0     13500    0              172                \n",
              "10688 furnished      402      1478   24               22                \n",
              "10689 not furnished 3100     15000  973              191                \n",
              "10690 furnished      980      6000  332               78                \n",
              "10691 furnished     1585     12000  279              155                \n",
              "10692 not furnished    0      1400  165               22                \n",
              "      total..R.. X \n",
              "1      5618      NA\n",
              "2      7973      NA\n",
              "3      3841      NA\n",
              "4      1421      NA\n",
              "5       836      NA\n",
              "6      8955      NA\n",
              "7      2750      NA\n",
              "8      7253      NA\n",
              "9     16440      NA\n",
              "10     2955      NA\n",
              "11     2747      NA\n",
              "12     1181      NA\n",
              "13     2556      NA\n",
              "14     5268      NA\n",
              "15     5343      NA\n",
              "16     9129      NA\n",
              "17     3861      NA\n",
              "18     5351      NA\n",
              "19     2036      NA\n",
              "20    21680      NA\n",
              "21     3976      NA\n",
              "22     3368      NA\n",
              "23     3622      NA\n",
              "24     1117      NA\n",
              "25     2742      NA\n",
              "26     4067      NA\n",
              "27     3639      NA\n",
              "28     1952      NA\n",
              "29     3328      NA\n",
              "30     2555      NA\n",
              "⋮     ⋮          ⋮ \n",
              "10663  7648      NA\n",
              "10664  2406      NA\n",
              "10665  9173      NA\n",
              "10666  1897      NA\n",
              "10667  3489      NA\n",
              "10668  1447      NA\n",
              "10669   884      NA\n",
              "10670 16960      NA\n",
              "10671  3979      NA\n",
              "10672  3768      NA\n",
              "10673  3183      NA\n",
              "10674  3395      NA\n",
              "10675  3466      NA\n",
              "10676  5235      NA\n",
              "10677  1707      NA\n",
              "10678  1642      NA\n",
              "10679 11950      NA\n",
              "10680  4871      NA\n",
              "10681  4978      NA\n",
              "10682 16040      NA\n",
              "10683  4419      NA\n",
              "10684  9293      NA\n",
              "10685  4695      NA\n",
              "10686  8726      NA\n",
              "10687 13670      NA\n",
              "10688  1926      NA\n",
              "10689 19260      NA\n",
              "10690  7390      NA\n",
              "10691 14020      NA\n",
              "10692  1587      NA"
            ],
            "text/latex": "A data.frame: 10679 × 15\n\\begin{tabular}{r|lllllllllllllll}\n  & id & city & area & rooms & bathroom & parking.spaces & floor & animal & furniture & hoa..R.. & rent & property.tax..R.. & fire.insurance..R.. & total..R.. & X\\\\\n  & <int> & <chr> & <int> & <int> & <int> & <int> & <chr> & <chr> & <chr> & <int> & <int> & <int> & <int> & <int> & <lgl>\\\\\n\\hline\n\t1 &  0 & São Paulo      &  70 & 2 & 1 & 1 & 7  & acept     & furnished     & 2065 &  3300 &  211 &  42 &  5618 & NA\\\\\n\t2 &  1 & São Paulo      & 320 & 4 & 4 & 0 & 20 & acept     & not furnished & 1200 &  4960 & 1750 &  63 &  7973 & NA\\\\\n\t3 &  2 & Porto Alegre   &  80 & 1 & 1 & 1 & 6  & acept     & not furnished & 1000 &  2800 &    0 &  41 &  3841 & NA\\\\\n\t4 &  3 & Porto Alegre   &  51 & 2 & 1 & 0 & 2  & acept     & not furnished &  270 &  1112 &   22 &  17 &  1421 & NA\\\\\n\t5 &  4 & São Paulo      &  25 & 1 & 1 & 0 & 1  & not acept & not furnished &    0 &   800 &   25 &  11 &   836 & NA\\\\\n\t6 &  5 & São Paulo      & 376 & 3 & 3 & 7 & -  & acept     & not furnished &    0 &  8000 &  834 & 121 &  8955 & NA\\\\\n\t7 &  6 & Rio de Janeiro &  72 & 2 & 1 & 0 & 7  & acept     & not furnished &  740 &  1900 &   85 &  25 &  2750 & NA\\\\\n\t8 &  7 & São Paulo      & 213 & 4 & 4 & 4 & 4  & acept     & not furnished & 2254 &  3223 & 1735 &  41 &  7253 & NA\\\\\n\t9 &  8 & São Paulo      & 152 & 2 & 2 & 1 & 3  & acept     & furnished     & 1000 & 15000 &  250 & 191 & 16440 & NA\\\\\n\t10 &  9 & Rio de Janeiro &  35 & 1 & 1 & 0 & 2  & acept     & furnished     &  590 &  2300 &   35 &  30 &  2955 & NA\\\\\n\t11 & 10 & São Paulo      &  26 & 1 & 1 & 0 & 2  & acept     & furnished     &  470 &  2100 &  150 &  27 &  2747 & NA\\\\\n\t12 & 11 & Campinas       &  46 & 1 & 1 & 1 & 10 & acept     & not furnished &  550 &   580 &   43 &   8 &  1181 & NA\\\\\n\t13 & 12 & São Paulo      &  36 & 1 & 1 & 0 & 11 & acept     & not furnished &  359 &  2100 &   70 &  27 &  2556 & NA\\\\\n\t14 & 13 & São Paulo      &  55 & 1 & 1 & 1 & 2  & acept     & furnished     &  790 &  4200 &  224 &  54 &  5268 & NA\\\\\n\t15 & 14 & São Paulo      & 100 & 2 & 2 & 2 & 24 & acept     & furnished     &  900 &  4370 &   17 &  56 &  5343 & NA\\\\\n\t16 & 15 & Campinas       & 330 & 4 & 6 & 6 & -  & acept     & furnished     &  680 &  8000 &  328 & 121 &  9129 & NA\\\\\n\t17 & 16 & São Paulo      & 110 & 2 & 2 & 1 & 1  & acept     & not furnished &  700 &  3000 &  122 &  39 &  3861 & NA\\\\\n\t18 & 17 & Rio de Janeiro &  88 & 2 & 3 & 1 & 9  & not acept & furnished     & 1614 &  3500 &  221 &  16 &  5351 & NA\\\\\n\t19 & 18 & Rio de Janeiro &  56 & 2 & 1 & 0 & 8  & acept     & not furnished &  800 &  1220 &    0 &  16 &  2036 & NA\\\\\n\t20 & 19 & São Paulo      & 600 & 4 & 5 & 6 & -  & acept     & not furnished &    0 & 12000 & 9500 & 181 & 21680 & NA\\\\\n\t21 & 20 & São Paulo      & 100 & 7 & 4 & 0 & -  & acept     & not furnished &    0 &  3800 &  118 &  58 &  3976 & NA\\\\\n\t22 & 21 & Belo Horizonte &  42 & 1 & 1 & 1 & 17 & not acept & furnished     &  470 &  2690 &  172 &  36 &  3368 & NA\\\\\n\t23 & 22 & São Paulo      & 160 & 3 & 2 & 2 & 18 & acept     & furnished     & 1530 &  1900 &  167 &  25 &  3622 & NA\\\\\n\t24 & 23 & São Paulo      &  35 & 1 & 1 & 0 & -  & acept     & not furnished &    0 &  1100 &    3 &  14 &  1117 & NA\\\\\n\t25 & 24 & Rio de Janeiro &  90 & 3 & 2 & 1 & 7  & acept     & not furnished &  800 &  1800 &  118 &  24 &  2742 & NA\\\\\n\t26 & 25 & São Paulo      &  49 & 1 & 1 & 1 & 10 & acept     & not furnished &  480 &  3500 &   42 &  45 &  4067 & NA\\\\\n\t27 & 26 & São Paulo      &  41 & 1 & 1 & 1 & 5  & not acept & furnished     &  600 &  3000 &    0 &  39 &  3639 & NA\\\\\n\t28 & 27 & Belo Horizonte &  64 & 2 & 2 & 1 & 11 & acept     & not furnished &  352 &  1500 &   80 &  20 &  1952 & NA\\\\\n\t29 & 28 & Campinas       & 208 & 3 & 2 & 4 & -  & acept     & not furnished &    0 &  3180 &  100 &  48 &  3328 & NA\\\\\n\t30 & 29 & São Paulo      &  20 & 1 & 1 & 0 & 5  & acept     & furnished     &  602 &  1800 &  130 &  23 &  2555 & NA\\\\\n\t⋮ & ⋮ & ⋮ & ⋮ & ⋮ & ⋮ & ⋮ & ⋮ & ⋮ & ⋮ & ⋮ & ⋮ & ⋮ & ⋮ & ⋮ & ⋮\\\\\n\t10663 & 10662 & São Paulo      & 238 & 4 & 3 & 1 & 7  & acept     & not furnished & 2515 &  4500 &  575 &  58 &  7648 & NA\\\\\n\t10664 & 10663 & São Paulo      &  90 & 3 & 1 & 0 & 13 & acept     & not furnished &  785 &  1600 &    0 &  21 &  2406 & NA\\\\\n\t10665 & 10664 & Rio de Janeiro & 310 & 3 & 2 & 0 & 5  & not acept & not furnished & 2500 &  6000 &  595 &  78 &  9173 & NA\\\\\n\t10666 & 10665 & Belo Horizonte &  55 & 2 & 1 & 1 & 2  & not acept & furnished     &  200 &  1600 &   75 &  22 &  1897 & NA\\\\\n\t10667 & 10666 & Rio de Janeiro &  60 & 2 & 2 & 0 & 13 & acept     & not furnished &  600 &  2700 &  154 &  35 &  3489 & NA\\\\\n\t10668 & 10667 & Belo Horizonte &  75 & 2 & 1 & 1 & 3  & not acept & not furnished &  180 &  1250 &    0 &  17 &  1447 & NA\\\\\n\t10669 & 10668 & São Paulo      &  24 & 1 & 1 & 0 & -  & acept     & not furnished &    0 &   870 &    0 &  14 &   884 & NA\\\\\n\t10670 & 10669 & São Paulo      & 340 & 4 & 5 & 3 & 15 & not acept & furnished     & 3519 & 12000 & 1287 & 153 & 16960 & NA\\\\\n\t10671 & 10670 & São Paulo      & 165 & 3 & 3 & 2 & 2  & acept     & furnished     & 1150 &  2710 &   84 &  35 &  3979 & NA\\\\\n\t10672 & 10671 & São Paulo      &  84 & 2 & 2 & 1 & 16 & not acept & furnished     &  768 &  2900 &   63 &  37 &  3768 & NA\\\\\n\t10673 & 10672 & São Paulo      & 126 & 2 & 1 & 0 & 13 & acept     & not furnished &  570 &  2580 &    0 &  33 &  3183 & NA\\\\\n\t10674 & 10673 & Porto Alegre   & 220 & 3 & 2 & 2 & 15 & acept     & not furnished &  842 &  2400 &  117 &  36 &  3395 & NA\\\\\n\t10675 & 10674 & Rio de Janeiro & 135 & 4 & 2 & 1 & -  & acept     & not furnished &    0 &  3300 &  115 &  51 &  3466 & NA\\\\\n\t10676 & 10675 & Rio de Janeiro & 250 & 3 & 2 & 1 & 11 & acept     & not furnished & 2000 &  2700 &  500 &  35 &  5235 & NA\\\\\n\t10677 & 10676 & Porto Alegre   &  40 & 1 & 1 & 0 & 1  & acept     & not furnished &  330 &  1200 &  159 &  18 &  1707 & NA\\\\\n\t10678 & 10677 & São Paulo      &  38 & 1 & 1 & 0 & 19 & not acept & not furnished &  583 &  1000 &   46 &  13 &  1642 & NA\\\\\n\t10679 & 10678 & São Paulo      & 141 & 3 & 5 & 0 & 4  & acept     & not furnished &  909 & 10140 &  772 & 129 & 11950 & NA\\\\\n\t10680 & 10679 & São Paulo      &  61 & 1 & 2 & 1 & 13 & acept     & not furnished &  680 &  4000 &  140 &  51 &  4871 & NA\\\\\n\t10681 & 10680 & São Paulo      & 156 & 4 & 4 & 3 & 1  & acept     & furnished     & 2000 &  2200 &  750 &  28 &  4978 & NA\\\\\n\t10682 & 10681 & São Paulo      & 230 & 3 & 5 & 3 & 3  & not acept & not furnished & 3800 & 11000 & 1100 & 140 & 16040 & NA\\\\\n\t10683 & 10682 & Porto Alegre   & 160 & 3 & 2 & 3 & 4  & acept     & furnished     &  850 &  3300 &  220 &  49 &  4419 & NA\\\\\n\t10684 & 10683 & São Paulo      & 280 & 4 & 4 & 2 & 5  & acept     & not furnished & 4200 &  4000 & 1042 &  51 &  9293 & NA\\\\\n\t10685 & 10684 & Rio de Janeiro &  98 & 2 & 1 & 0 & 1  & acept     & not furnished &  560 &  3900 &  184 &  51 &  4695 & NA\\\\\n\t10686 & 10685 & São Paulo      &  83 & 3 & 2 & 2 & 11 & acept     & not furnished &  888 &  7521 &  221 &  96 &  8726 & NA\\\\\n\t10687 & 10686 & São Paulo      & 150 & 3 & 3 & 2 & 8  & not acept & furnished     &    0 & 13500 &    0 & 172 & 13670 & NA\\\\\n\t10688 & 10687 & Porto Alegre   &  63 & 2 & 1 & 1 & 5  & not acept & furnished     &  402 &  1478 &   24 &  22 &  1926 & NA\\\\\n\t10689 & 10688 & São Paulo      & 285 & 4 & 4 & 4 & 17 & acept     & not furnished & 3100 & 15000 &  973 & 191 & 19260 & NA\\\\\n\t10690 & 10689 & Rio de Janeiro &  70 & 3 & 3 & 0 & 8  & not acept & furnished     &  980 &  6000 &  332 &  78 &  7390 & NA\\\\\n\t10691 & 10690 & Rio de Janeiro & 120 & 2 & 2 & 2 & 8  & acept     & furnished     & 1585 & 12000 &  279 & 155 & 14020 & NA\\\\\n\t10692 & 10691 & São Paulo      &  80 & 2 & 1 & 0 & -  & acept     & not furnished &    0 &  1400 &  165 &  22 &  1587 & NA\\\\\n\\end{tabular}\n",
            "text/markdown": "\nA data.frame: 10679 × 15\n\n| <!--/--> | id &lt;int&gt; | city &lt;chr&gt; | area &lt;int&gt; | rooms &lt;int&gt; | bathroom &lt;int&gt; | parking.spaces &lt;int&gt; | floor &lt;chr&gt; | animal &lt;chr&gt; | furniture &lt;chr&gt; | hoa..R.. &lt;int&gt; | rent &lt;int&gt; | property.tax..R.. &lt;int&gt; | fire.insurance..R.. &lt;int&gt; | total..R.. &lt;int&gt; | X &lt;lgl&gt; |\n|---|---|---|---|---|---|---|---|---|---|---|---|---|---|---|---|\n| 1 |  0 | São Paulo      |  70 | 2 | 1 | 1 | 7  | acept     | furnished     | 2065 |  3300 |  211 |  42 |  5618 | NA |\n| 2 |  1 | São Paulo      | 320 | 4 | 4 | 0 | 20 | acept     | not furnished | 1200 |  4960 | 1750 |  63 |  7973 | NA |\n| 3 |  2 | Porto Alegre   |  80 | 1 | 1 | 1 | 6  | acept     | not furnished | 1000 |  2800 |    0 |  41 |  3841 | NA |\n| 4 |  3 | Porto Alegre   |  51 | 2 | 1 | 0 | 2  | acept     | not furnished |  270 |  1112 |   22 |  17 |  1421 | NA |\n| 5 |  4 | São Paulo      |  25 | 1 | 1 | 0 | 1  | not acept | not furnished |    0 |   800 |   25 |  11 |   836 | NA |\n| 6 |  5 | São Paulo      | 376 | 3 | 3 | 7 | -  | acept     | not furnished |    0 |  8000 |  834 | 121 |  8955 | NA |\n| 7 |  6 | Rio de Janeiro |  72 | 2 | 1 | 0 | 7  | acept     | not furnished |  740 |  1900 |   85 |  25 |  2750 | NA |\n| 8 |  7 | São Paulo      | 213 | 4 | 4 | 4 | 4  | acept     | not furnished | 2254 |  3223 | 1735 |  41 |  7253 | NA |\n| 9 |  8 | São Paulo      | 152 | 2 | 2 | 1 | 3  | acept     | furnished     | 1000 | 15000 |  250 | 191 | 16440 | NA |\n| 10 |  9 | Rio de Janeiro |  35 | 1 | 1 | 0 | 2  | acept     | furnished     |  590 |  2300 |   35 |  30 |  2955 | NA |\n| 11 | 10 | São Paulo      |  26 | 1 | 1 | 0 | 2  | acept     | furnished     |  470 |  2100 |  150 |  27 |  2747 | NA |\n| 12 | 11 | Campinas       |  46 | 1 | 1 | 1 | 10 | acept     | not furnished |  550 |   580 |   43 |   8 |  1181 | NA |\n| 13 | 12 | São Paulo      |  36 | 1 | 1 | 0 | 11 | acept     | not furnished |  359 |  2100 |   70 |  27 |  2556 | NA |\n| 14 | 13 | São Paulo      |  55 | 1 | 1 | 1 | 2  | acept     | furnished     |  790 |  4200 |  224 |  54 |  5268 | NA |\n| 15 | 14 | São Paulo      | 100 | 2 | 2 | 2 | 24 | acept     | furnished     |  900 |  4370 |   17 |  56 |  5343 | NA |\n| 16 | 15 | Campinas       | 330 | 4 | 6 | 6 | -  | acept     | furnished     |  680 |  8000 |  328 | 121 |  9129 | NA |\n| 17 | 16 | São Paulo      | 110 | 2 | 2 | 1 | 1  | acept     | not furnished |  700 |  3000 |  122 |  39 |  3861 | NA |\n| 18 | 17 | Rio de Janeiro |  88 | 2 | 3 | 1 | 9  | not acept | furnished     | 1614 |  3500 |  221 |  16 |  5351 | NA |\n| 19 | 18 | Rio de Janeiro |  56 | 2 | 1 | 0 | 8  | acept     | not furnished |  800 |  1220 |    0 |  16 |  2036 | NA |\n| 20 | 19 | São Paulo      | 600 | 4 | 5 | 6 | -  | acept     | not furnished |    0 | 12000 | 9500 | 181 | 21680 | NA |\n| 21 | 20 | São Paulo      | 100 | 7 | 4 | 0 | -  | acept     | not furnished |    0 |  3800 |  118 |  58 |  3976 | NA |\n| 22 | 21 | Belo Horizonte |  42 | 1 | 1 | 1 | 17 | not acept | furnished     |  470 |  2690 |  172 |  36 |  3368 | NA |\n| 23 | 22 | São Paulo      | 160 | 3 | 2 | 2 | 18 | acept     | furnished     | 1530 |  1900 |  167 |  25 |  3622 | NA |\n| 24 | 23 | São Paulo      |  35 | 1 | 1 | 0 | -  | acept     | not furnished |    0 |  1100 |    3 |  14 |  1117 | NA |\n| 25 | 24 | Rio de Janeiro |  90 | 3 | 2 | 1 | 7  | acept     | not furnished |  800 |  1800 |  118 |  24 |  2742 | NA |\n| 26 | 25 | São Paulo      |  49 | 1 | 1 | 1 | 10 | acept     | not furnished |  480 |  3500 |   42 |  45 |  4067 | NA |\n| 27 | 26 | São Paulo      |  41 | 1 | 1 | 1 | 5  | not acept | furnished     |  600 |  3000 |    0 |  39 |  3639 | NA |\n| 28 | 27 | Belo Horizonte |  64 | 2 | 2 | 1 | 11 | acept     | not furnished |  352 |  1500 |   80 |  20 |  1952 | NA |\n| 29 | 28 | Campinas       | 208 | 3 | 2 | 4 | -  | acept     | not furnished |    0 |  3180 |  100 |  48 |  3328 | NA |\n| 30 | 29 | São Paulo      |  20 | 1 | 1 | 0 | 5  | acept     | furnished     |  602 |  1800 |  130 |  23 |  2555 | NA |\n| ⋮ | ⋮ | ⋮ | ⋮ | ⋮ | ⋮ | ⋮ | ⋮ | ⋮ | ⋮ | ⋮ | ⋮ | ⋮ | ⋮ | ⋮ | ⋮ |\n| 10663 | 10662 | São Paulo      | 238 | 4 | 3 | 1 | 7  | acept     | not furnished | 2515 |  4500 |  575 |  58 |  7648 | NA |\n| 10664 | 10663 | São Paulo      |  90 | 3 | 1 | 0 | 13 | acept     | not furnished |  785 |  1600 |    0 |  21 |  2406 | NA |\n| 10665 | 10664 | Rio de Janeiro | 310 | 3 | 2 | 0 | 5  | not acept | not furnished | 2500 |  6000 |  595 |  78 |  9173 | NA |\n| 10666 | 10665 | Belo Horizonte |  55 | 2 | 1 | 1 | 2  | not acept | furnished     |  200 |  1600 |   75 |  22 |  1897 | NA |\n| 10667 | 10666 | Rio de Janeiro |  60 | 2 | 2 | 0 | 13 | acept     | not furnished |  600 |  2700 |  154 |  35 |  3489 | NA |\n| 10668 | 10667 | Belo Horizonte |  75 | 2 | 1 | 1 | 3  | not acept | not furnished |  180 |  1250 |    0 |  17 |  1447 | NA |\n| 10669 | 10668 | São Paulo      |  24 | 1 | 1 | 0 | -  | acept     | not furnished |    0 |   870 |    0 |  14 |   884 | NA |\n| 10670 | 10669 | São Paulo      | 340 | 4 | 5 | 3 | 15 | not acept | furnished     | 3519 | 12000 | 1287 | 153 | 16960 | NA |\n| 10671 | 10670 | São Paulo      | 165 | 3 | 3 | 2 | 2  | acept     | furnished     | 1150 |  2710 |   84 |  35 |  3979 | NA |\n| 10672 | 10671 | São Paulo      |  84 | 2 | 2 | 1 | 16 | not acept | furnished     |  768 |  2900 |   63 |  37 |  3768 | NA |\n| 10673 | 10672 | São Paulo      | 126 | 2 | 1 | 0 | 13 | acept     | not furnished |  570 |  2580 |    0 |  33 |  3183 | NA |\n| 10674 | 10673 | Porto Alegre   | 220 | 3 | 2 | 2 | 15 | acept     | not furnished |  842 |  2400 |  117 |  36 |  3395 | NA |\n| 10675 | 10674 | Rio de Janeiro | 135 | 4 | 2 | 1 | -  | acept     | not furnished |    0 |  3300 |  115 |  51 |  3466 | NA |\n| 10676 | 10675 | Rio de Janeiro | 250 | 3 | 2 | 1 | 11 | acept     | not furnished | 2000 |  2700 |  500 |  35 |  5235 | NA |\n| 10677 | 10676 | Porto Alegre   |  40 | 1 | 1 | 0 | 1  | acept     | not furnished |  330 |  1200 |  159 |  18 |  1707 | NA |\n| 10678 | 10677 | São Paulo      |  38 | 1 | 1 | 0 | 19 | not acept | not furnished |  583 |  1000 |   46 |  13 |  1642 | NA |\n| 10679 | 10678 | São Paulo      | 141 | 3 | 5 | 0 | 4  | acept     | not furnished |  909 | 10140 |  772 | 129 | 11950 | NA |\n| 10680 | 10679 | São Paulo      |  61 | 1 | 2 | 1 | 13 | acept     | not furnished |  680 |  4000 |  140 |  51 |  4871 | NA |\n| 10681 | 10680 | São Paulo      | 156 | 4 | 4 | 3 | 1  | acept     | furnished     | 2000 |  2200 |  750 |  28 |  4978 | NA |\n| 10682 | 10681 | São Paulo      | 230 | 3 | 5 | 3 | 3  | not acept | not furnished | 3800 | 11000 | 1100 | 140 | 16040 | NA |\n| 10683 | 10682 | Porto Alegre   | 160 | 3 | 2 | 3 | 4  | acept     | furnished     |  850 |  3300 |  220 |  49 |  4419 | NA |\n| 10684 | 10683 | São Paulo      | 280 | 4 | 4 | 2 | 5  | acept     | not furnished | 4200 |  4000 | 1042 |  51 |  9293 | NA |\n| 10685 | 10684 | Rio de Janeiro |  98 | 2 | 1 | 0 | 1  | acept     | not furnished |  560 |  3900 |  184 |  51 |  4695 | NA |\n| 10686 | 10685 | São Paulo      |  83 | 3 | 2 | 2 | 11 | acept     | not furnished |  888 |  7521 |  221 |  96 |  8726 | NA |\n| 10687 | 10686 | São Paulo      | 150 | 3 | 3 | 2 | 8  | not acept | furnished     |    0 | 13500 |    0 | 172 | 13670 | NA |\n| 10688 | 10687 | Porto Alegre   |  63 | 2 | 1 | 1 | 5  | not acept | furnished     |  402 |  1478 |   24 |  22 |  1926 | NA |\n| 10689 | 10688 | São Paulo      | 285 | 4 | 4 | 4 | 17 | acept     | not furnished | 3100 | 15000 |  973 | 191 | 19260 | NA |\n| 10690 | 10689 | Rio de Janeiro |  70 | 3 | 3 | 0 | 8  | not acept | furnished     |  980 |  6000 |  332 |  78 |  7390 | NA |\n| 10691 | 10690 | Rio de Janeiro | 120 | 2 | 2 | 2 | 8  | acept     | furnished     | 1585 | 12000 |  279 | 155 | 14020 | NA |\n| 10692 | 10691 | São Paulo      |  80 | 2 | 1 | 0 | -  | acept     | not furnished |    0 |  1400 |  165 |  22 |  1587 | NA |\n\n",
            "text/html": [
              "<table class=\"dataframe\">\n",
              "<caption>A data.frame: 10679 × 15</caption>\n",
              "<thead>\n",
              "\t<tr><th></th><th scope=col>id</th><th scope=col>city</th><th scope=col>area</th><th scope=col>rooms</th><th scope=col>bathroom</th><th scope=col>parking.spaces</th><th scope=col>floor</th><th scope=col>animal</th><th scope=col>furniture</th><th scope=col>hoa..R..</th><th scope=col>rent</th><th scope=col>property.tax..R..</th><th scope=col>fire.insurance..R..</th><th scope=col>total..R..</th><th scope=col>X</th></tr>\n",
              "\t<tr><th></th><th scope=col>&lt;int&gt;</th><th scope=col>&lt;chr&gt;</th><th scope=col>&lt;int&gt;</th><th scope=col>&lt;int&gt;</th><th scope=col>&lt;int&gt;</th><th scope=col>&lt;int&gt;</th><th scope=col>&lt;chr&gt;</th><th scope=col>&lt;chr&gt;</th><th scope=col>&lt;chr&gt;</th><th scope=col>&lt;int&gt;</th><th scope=col>&lt;int&gt;</th><th scope=col>&lt;int&gt;</th><th scope=col>&lt;int&gt;</th><th scope=col>&lt;int&gt;</th><th scope=col>&lt;lgl&gt;</th></tr>\n",
              "</thead>\n",
              "<tbody>\n",
              "\t<tr><th scope=row>1</th><td> 0</td><td>São Paulo     </td><td> 70</td><td>2</td><td>1</td><td>1</td><td>7 </td><td>acept    </td><td>furnished    </td><td>2065</td><td> 3300</td><td> 211</td><td> 42</td><td> 5618</td><td>NA</td></tr>\n",
              "\t<tr><th scope=row>2</th><td> 1</td><td>São Paulo     </td><td>320</td><td>4</td><td>4</td><td>0</td><td>20</td><td>acept    </td><td>not furnished</td><td>1200</td><td> 4960</td><td>1750</td><td> 63</td><td> 7973</td><td>NA</td></tr>\n",
              "\t<tr><th scope=row>3</th><td> 2</td><td>Porto Alegre  </td><td> 80</td><td>1</td><td>1</td><td>1</td><td>6 </td><td>acept    </td><td>not furnished</td><td>1000</td><td> 2800</td><td>   0</td><td> 41</td><td> 3841</td><td>NA</td></tr>\n",
              "\t<tr><th scope=row>4</th><td> 3</td><td>Porto Alegre  </td><td> 51</td><td>2</td><td>1</td><td>0</td><td>2 </td><td>acept    </td><td>not furnished</td><td> 270</td><td> 1112</td><td>  22</td><td> 17</td><td> 1421</td><td>NA</td></tr>\n",
              "\t<tr><th scope=row>5</th><td> 4</td><td>São Paulo     </td><td> 25</td><td>1</td><td>1</td><td>0</td><td>1 </td><td>not acept</td><td>not furnished</td><td>   0</td><td>  800</td><td>  25</td><td> 11</td><td>  836</td><td>NA</td></tr>\n",
              "\t<tr><th scope=row>6</th><td> 5</td><td>São Paulo     </td><td>376</td><td>3</td><td>3</td><td>7</td><td>- </td><td>acept    </td><td>not furnished</td><td>   0</td><td> 8000</td><td> 834</td><td>121</td><td> 8955</td><td>NA</td></tr>\n",
              "\t<tr><th scope=row>7</th><td> 6</td><td>Rio de Janeiro</td><td> 72</td><td>2</td><td>1</td><td>0</td><td>7 </td><td>acept    </td><td>not furnished</td><td> 740</td><td> 1900</td><td>  85</td><td> 25</td><td> 2750</td><td>NA</td></tr>\n",
              "\t<tr><th scope=row>8</th><td> 7</td><td>São Paulo     </td><td>213</td><td>4</td><td>4</td><td>4</td><td>4 </td><td>acept    </td><td>not furnished</td><td>2254</td><td> 3223</td><td>1735</td><td> 41</td><td> 7253</td><td>NA</td></tr>\n",
              "\t<tr><th scope=row>9</th><td> 8</td><td>São Paulo     </td><td>152</td><td>2</td><td>2</td><td>1</td><td>3 </td><td>acept    </td><td>furnished    </td><td>1000</td><td>15000</td><td> 250</td><td>191</td><td>16440</td><td>NA</td></tr>\n",
              "\t<tr><th scope=row>10</th><td> 9</td><td>Rio de Janeiro</td><td> 35</td><td>1</td><td>1</td><td>0</td><td>2 </td><td>acept    </td><td>furnished    </td><td> 590</td><td> 2300</td><td>  35</td><td> 30</td><td> 2955</td><td>NA</td></tr>\n",
              "\t<tr><th scope=row>11</th><td>10</td><td>São Paulo     </td><td> 26</td><td>1</td><td>1</td><td>0</td><td>2 </td><td>acept    </td><td>furnished    </td><td> 470</td><td> 2100</td><td> 150</td><td> 27</td><td> 2747</td><td>NA</td></tr>\n",
              "\t<tr><th scope=row>12</th><td>11</td><td>Campinas      </td><td> 46</td><td>1</td><td>1</td><td>1</td><td>10</td><td>acept    </td><td>not furnished</td><td> 550</td><td>  580</td><td>  43</td><td>  8</td><td> 1181</td><td>NA</td></tr>\n",
              "\t<tr><th scope=row>13</th><td>12</td><td>São Paulo     </td><td> 36</td><td>1</td><td>1</td><td>0</td><td>11</td><td>acept    </td><td>not furnished</td><td> 359</td><td> 2100</td><td>  70</td><td> 27</td><td> 2556</td><td>NA</td></tr>\n",
              "\t<tr><th scope=row>14</th><td>13</td><td>São Paulo     </td><td> 55</td><td>1</td><td>1</td><td>1</td><td>2 </td><td>acept    </td><td>furnished    </td><td> 790</td><td> 4200</td><td> 224</td><td> 54</td><td> 5268</td><td>NA</td></tr>\n",
              "\t<tr><th scope=row>15</th><td>14</td><td>São Paulo     </td><td>100</td><td>2</td><td>2</td><td>2</td><td>24</td><td>acept    </td><td>furnished    </td><td> 900</td><td> 4370</td><td>  17</td><td> 56</td><td> 5343</td><td>NA</td></tr>\n",
              "\t<tr><th scope=row>16</th><td>15</td><td>Campinas      </td><td>330</td><td>4</td><td>6</td><td>6</td><td>- </td><td>acept    </td><td>furnished    </td><td> 680</td><td> 8000</td><td> 328</td><td>121</td><td> 9129</td><td>NA</td></tr>\n",
              "\t<tr><th scope=row>17</th><td>16</td><td>São Paulo     </td><td>110</td><td>2</td><td>2</td><td>1</td><td>1 </td><td>acept    </td><td>not furnished</td><td> 700</td><td> 3000</td><td> 122</td><td> 39</td><td> 3861</td><td>NA</td></tr>\n",
              "\t<tr><th scope=row>18</th><td>17</td><td>Rio de Janeiro</td><td> 88</td><td>2</td><td>3</td><td>1</td><td>9 </td><td>not acept</td><td>furnished    </td><td>1614</td><td> 3500</td><td> 221</td><td> 16</td><td> 5351</td><td>NA</td></tr>\n",
              "\t<tr><th scope=row>19</th><td>18</td><td>Rio de Janeiro</td><td> 56</td><td>2</td><td>1</td><td>0</td><td>8 </td><td>acept    </td><td>not furnished</td><td> 800</td><td> 1220</td><td>   0</td><td> 16</td><td> 2036</td><td>NA</td></tr>\n",
              "\t<tr><th scope=row>20</th><td>19</td><td>São Paulo     </td><td>600</td><td>4</td><td>5</td><td>6</td><td>- </td><td>acept    </td><td>not furnished</td><td>   0</td><td>12000</td><td>9500</td><td>181</td><td>21680</td><td>NA</td></tr>\n",
              "\t<tr><th scope=row>21</th><td>20</td><td>São Paulo     </td><td>100</td><td>7</td><td>4</td><td>0</td><td>- </td><td>acept    </td><td>not furnished</td><td>   0</td><td> 3800</td><td> 118</td><td> 58</td><td> 3976</td><td>NA</td></tr>\n",
              "\t<tr><th scope=row>22</th><td>21</td><td>Belo Horizonte</td><td> 42</td><td>1</td><td>1</td><td>1</td><td>17</td><td>not acept</td><td>furnished    </td><td> 470</td><td> 2690</td><td> 172</td><td> 36</td><td> 3368</td><td>NA</td></tr>\n",
              "\t<tr><th scope=row>23</th><td>22</td><td>São Paulo     </td><td>160</td><td>3</td><td>2</td><td>2</td><td>18</td><td>acept    </td><td>furnished    </td><td>1530</td><td> 1900</td><td> 167</td><td> 25</td><td> 3622</td><td>NA</td></tr>\n",
              "\t<tr><th scope=row>24</th><td>23</td><td>São Paulo     </td><td> 35</td><td>1</td><td>1</td><td>0</td><td>- </td><td>acept    </td><td>not furnished</td><td>   0</td><td> 1100</td><td>   3</td><td> 14</td><td> 1117</td><td>NA</td></tr>\n",
              "\t<tr><th scope=row>25</th><td>24</td><td>Rio de Janeiro</td><td> 90</td><td>3</td><td>2</td><td>1</td><td>7 </td><td>acept    </td><td>not furnished</td><td> 800</td><td> 1800</td><td> 118</td><td> 24</td><td> 2742</td><td>NA</td></tr>\n",
              "\t<tr><th scope=row>26</th><td>25</td><td>São Paulo     </td><td> 49</td><td>1</td><td>1</td><td>1</td><td>10</td><td>acept    </td><td>not furnished</td><td> 480</td><td> 3500</td><td>  42</td><td> 45</td><td> 4067</td><td>NA</td></tr>\n",
              "\t<tr><th scope=row>27</th><td>26</td><td>São Paulo     </td><td> 41</td><td>1</td><td>1</td><td>1</td><td>5 </td><td>not acept</td><td>furnished    </td><td> 600</td><td> 3000</td><td>   0</td><td> 39</td><td> 3639</td><td>NA</td></tr>\n",
              "\t<tr><th scope=row>28</th><td>27</td><td>Belo Horizonte</td><td> 64</td><td>2</td><td>2</td><td>1</td><td>11</td><td>acept    </td><td>not furnished</td><td> 352</td><td> 1500</td><td>  80</td><td> 20</td><td> 1952</td><td>NA</td></tr>\n",
              "\t<tr><th scope=row>29</th><td>28</td><td>Campinas      </td><td>208</td><td>3</td><td>2</td><td>4</td><td>- </td><td>acept    </td><td>not furnished</td><td>   0</td><td> 3180</td><td> 100</td><td> 48</td><td> 3328</td><td>NA</td></tr>\n",
              "\t<tr><th scope=row>30</th><td>29</td><td>São Paulo     </td><td> 20</td><td>1</td><td>1</td><td>0</td><td>5 </td><td>acept    </td><td>furnished    </td><td> 602</td><td> 1800</td><td> 130</td><td> 23</td><td> 2555</td><td>NA</td></tr>\n",
              "\t<tr><th scope=row>⋮</th><td>⋮</td><td>⋮</td><td>⋮</td><td>⋮</td><td>⋮</td><td>⋮</td><td>⋮</td><td>⋮</td><td>⋮</td><td>⋮</td><td>⋮</td><td>⋮</td><td>⋮</td><td>⋮</td><td>⋮</td></tr>\n",
              "\t<tr><th scope=row>10663</th><td>10662</td><td>São Paulo     </td><td>238</td><td>4</td><td>3</td><td>1</td><td>7 </td><td>acept    </td><td>not furnished</td><td>2515</td><td> 4500</td><td> 575</td><td> 58</td><td> 7648</td><td>NA</td></tr>\n",
              "\t<tr><th scope=row>10664</th><td>10663</td><td>São Paulo     </td><td> 90</td><td>3</td><td>1</td><td>0</td><td>13</td><td>acept    </td><td>not furnished</td><td> 785</td><td> 1600</td><td>   0</td><td> 21</td><td> 2406</td><td>NA</td></tr>\n",
              "\t<tr><th scope=row>10665</th><td>10664</td><td>Rio de Janeiro</td><td>310</td><td>3</td><td>2</td><td>0</td><td>5 </td><td>not acept</td><td>not furnished</td><td>2500</td><td> 6000</td><td> 595</td><td> 78</td><td> 9173</td><td>NA</td></tr>\n",
              "\t<tr><th scope=row>10666</th><td>10665</td><td>Belo Horizonte</td><td> 55</td><td>2</td><td>1</td><td>1</td><td>2 </td><td>not acept</td><td>furnished    </td><td> 200</td><td> 1600</td><td>  75</td><td> 22</td><td> 1897</td><td>NA</td></tr>\n",
              "\t<tr><th scope=row>10667</th><td>10666</td><td>Rio de Janeiro</td><td> 60</td><td>2</td><td>2</td><td>0</td><td>13</td><td>acept    </td><td>not furnished</td><td> 600</td><td> 2700</td><td> 154</td><td> 35</td><td> 3489</td><td>NA</td></tr>\n",
              "\t<tr><th scope=row>10668</th><td>10667</td><td>Belo Horizonte</td><td> 75</td><td>2</td><td>1</td><td>1</td><td>3 </td><td>not acept</td><td>not furnished</td><td> 180</td><td> 1250</td><td>   0</td><td> 17</td><td> 1447</td><td>NA</td></tr>\n",
              "\t<tr><th scope=row>10669</th><td>10668</td><td>São Paulo     </td><td> 24</td><td>1</td><td>1</td><td>0</td><td>- </td><td>acept    </td><td>not furnished</td><td>   0</td><td>  870</td><td>   0</td><td> 14</td><td>  884</td><td>NA</td></tr>\n",
              "\t<tr><th scope=row>10670</th><td>10669</td><td>São Paulo     </td><td>340</td><td>4</td><td>5</td><td>3</td><td>15</td><td>not acept</td><td>furnished    </td><td>3519</td><td>12000</td><td>1287</td><td>153</td><td>16960</td><td>NA</td></tr>\n",
              "\t<tr><th scope=row>10671</th><td>10670</td><td>São Paulo     </td><td>165</td><td>3</td><td>3</td><td>2</td><td>2 </td><td>acept    </td><td>furnished    </td><td>1150</td><td> 2710</td><td>  84</td><td> 35</td><td> 3979</td><td>NA</td></tr>\n",
              "\t<tr><th scope=row>10672</th><td>10671</td><td>São Paulo     </td><td> 84</td><td>2</td><td>2</td><td>1</td><td>16</td><td>not acept</td><td>furnished    </td><td> 768</td><td> 2900</td><td>  63</td><td> 37</td><td> 3768</td><td>NA</td></tr>\n",
              "\t<tr><th scope=row>10673</th><td>10672</td><td>São Paulo     </td><td>126</td><td>2</td><td>1</td><td>0</td><td>13</td><td>acept    </td><td>not furnished</td><td> 570</td><td> 2580</td><td>   0</td><td> 33</td><td> 3183</td><td>NA</td></tr>\n",
              "\t<tr><th scope=row>10674</th><td>10673</td><td>Porto Alegre  </td><td>220</td><td>3</td><td>2</td><td>2</td><td>15</td><td>acept    </td><td>not furnished</td><td> 842</td><td> 2400</td><td> 117</td><td> 36</td><td> 3395</td><td>NA</td></tr>\n",
              "\t<tr><th scope=row>10675</th><td>10674</td><td>Rio de Janeiro</td><td>135</td><td>4</td><td>2</td><td>1</td><td>- </td><td>acept    </td><td>not furnished</td><td>   0</td><td> 3300</td><td> 115</td><td> 51</td><td> 3466</td><td>NA</td></tr>\n",
              "\t<tr><th scope=row>10676</th><td>10675</td><td>Rio de Janeiro</td><td>250</td><td>3</td><td>2</td><td>1</td><td>11</td><td>acept    </td><td>not furnished</td><td>2000</td><td> 2700</td><td> 500</td><td> 35</td><td> 5235</td><td>NA</td></tr>\n",
              "\t<tr><th scope=row>10677</th><td>10676</td><td>Porto Alegre  </td><td> 40</td><td>1</td><td>1</td><td>0</td><td>1 </td><td>acept    </td><td>not furnished</td><td> 330</td><td> 1200</td><td> 159</td><td> 18</td><td> 1707</td><td>NA</td></tr>\n",
              "\t<tr><th scope=row>10678</th><td>10677</td><td>São Paulo     </td><td> 38</td><td>1</td><td>1</td><td>0</td><td>19</td><td>not acept</td><td>not furnished</td><td> 583</td><td> 1000</td><td>  46</td><td> 13</td><td> 1642</td><td>NA</td></tr>\n",
              "\t<tr><th scope=row>10679</th><td>10678</td><td>São Paulo     </td><td>141</td><td>3</td><td>5</td><td>0</td><td>4 </td><td>acept    </td><td>not furnished</td><td> 909</td><td>10140</td><td> 772</td><td>129</td><td>11950</td><td>NA</td></tr>\n",
              "\t<tr><th scope=row>10680</th><td>10679</td><td>São Paulo     </td><td> 61</td><td>1</td><td>2</td><td>1</td><td>13</td><td>acept    </td><td>not furnished</td><td> 680</td><td> 4000</td><td> 140</td><td> 51</td><td> 4871</td><td>NA</td></tr>\n",
              "\t<tr><th scope=row>10681</th><td>10680</td><td>São Paulo     </td><td>156</td><td>4</td><td>4</td><td>3</td><td>1 </td><td>acept    </td><td>furnished    </td><td>2000</td><td> 2200</td><td> 750</td><td> 28</td><td> 4978</td><td>NA</td></tr>\n",
              "\t<tr><th scope=row>10682</th><td>10681</td><td>São Paulo     </td><td>230</td><td>3</td><td>5</td><td>3</td><td>3 </td><td>not acept</td><td>not furnished</td><td>3800</td><td>11000</td><td>1100</td><td>140</td><td>16040</td><td>NA</td></tr>\n",
              "\t<tr><th scope=row>10683</th><td>10682</td><td>Porto Alegre  </td><td>160</td><td>3</td><td>2</td><td>3</td><td>4 </td><td>acept    </td><td>furnished    </td><td> 850</td><td> 3300</td><td> 220</td><td> 49</td><td> 4419</td><td>NA</td></tr>\n",
              "\t<tr><th scope=row>10684</th><td>10683</td><td>São Paulo     </td><td>280</td><td>4</td><td>4</td><td>2</td><td>5 </td><td>acept    </td><td>not furnished</td><td>4200</td><td> 4000</td><td>1042</td><td> 51</td><td> 9293</td><td>NA</td></tr>\n",
              "\t<tr><th scope=row>10685</th><td>10684</td><td>Rio de Janeiro</td><td> 98</td><td>2</td><td>1</td><td>0</td><td>1 </td><td>acept    </td><td>not furnished</td><td> 560</td><td> 3900</td><td> 184</td><td> 51</td><td> 4695</td><td>NA</td></tr>\n",
              "\t<tr><th scope=row>10686</th><td>10685</td><td>São Paulo     </td><td> 83</td><td>3</td><td>2</td><td>2</td><td>11</td><td>acept    </td><td>not furnished</td><td> 888</td><td> 7521</td><td> 221</td><td> 96</td><td> 8726</td><td>NA</td></tr>\n",
              "\t<tr><th scope=row>10687</th><td>10686</td><td>São Paulo     </td><td>150</td><td>3</td><td>3</td><td>2</td><td>8 </td><td>not acept</td><td>furnished    </td><td>   0</td><td>13500</td><td>   0</td><td>172</td><td>13670</td><td>NA</td></tr>\n",
              "\t<tr><th scope=row>10688</th><td>10687</td><td>Porto Alegre  </td><td> 63</td><td>2</td><td>1</td><td>1</td><td>5 </td><td>not acept</td><td>furnished    </td><td> 402</td><td> 1478</td><td>  24</td><td> 22</td><td> 1926</td><td>NA</td></tr>\n",
              "\t<tr><th scope=row>10689</th><td>10688</td><td>São Paulo     </td><td>285</td><td>4</td><td>4</td><td>4</td><td>17</td><td>acept    </td><td>not furnished</td><td>3100</td><td>15000</td><td> 973</td><td>191</td><td>19260</td><td>NA</td></tr>\n",
              "\t<tr><th scope=row>10690</th><td>10689</td><td>Rio de Janeiro</td><td> 70</td><td>3</td><td>3</td><td>0</td><td>8 </td><td>not acept</td><td>furnished    </td><td> 980</td><td> 6000</td><td> 332</td><td> 78</td><td> 7390</td><td>NA</td></tr>\n",
              "\t<tr><th scope=row>10691</th><td>10690</td><td>Rio de Janeiro</td><td>120</td><td>2</td><td>2</td><td>2</td><td>8 </td><td>acept    </td><td>furnished    </td><td>1585</td><td>12000</td><td> 279</td><td>155</td><td>14020</td><td>NA</td></tr>\n",
              "\t<tr><th scope=row>10692</th><td>10691</td><td>São Paulo     </td><td> 80</td><td>2</td><td>1</td><td>0</td><td>- </td><td>acept    </td><td>not furnished</td><td>   0</td><td> 1400</td><td> 165</td><td> 22</td><td> 1587</td><td>NA</td></tr>\n",
              "</tbody>\n",
              "</table>\n"
            ]
          },
          "metadata": {}
        },
        {
          "output_type": "display_data",
          "data": {
            "text/plain": [
              "  [1]  4600  1780  1800  1080  1760  5300  1290  2500  3500  3800 13000  1950\n",
              " [13]  4200  5000  4000  1300 14000  1850 12500  3294  7000  1600  1700  1700\n",
              " [25]  1100  2500  3000  1000  3200  3000  3700  9900  1600  1200  8000  3000\n",
              " [37] 12000  9000  8500  3600  3300  2050  2500  3500  2550  1460  6500  4500\n",
              " [49] 15000  6500  4000  2500 15000 10000  2570  6960  3500  4000  3600  6500\n",
              " [61]  8000  2000  4335 10000  2600  1290  4000  2485 15000  3430  2870  2300\n",
              " [73]  2500  6300  2800  4500  5000  1350  1700  2300  2990  2600  4398  7000\n",
              " [85]  7300  2500  6000  4900  4800  1080  2000  6450  2300  7000  3000  2850\n",
              " [97] 15000  5270 11000  5600  6000  2000  5156  1300  4000 13800  2850  1900\n",
              "[109] 12000  5780  1000  1800  3210  2000  5520  1800  3300  3600  5000  3000\n",
              "[121]  4500  7500 12000 12500  5500 15000  6000 15000  3440  5440 13000  2700\n",
              "[133]  1200  1350  1460  2800  1400  7000 15000  2300  1000  1500  1400  3100\n",
              "[145]  3400  6028  3100 15000  4800  1420  4500  1710  1850 13000  2800  5000\n",
              "[157]  3800  8189  3500  1200  3500  2800  1375   600  2200  3800  4500  1200\n",
              "[169]  2000  2500  2350 14000  4800  2001  1660  2500  9000  3250  8500  4500\n",
              "[181]  4100  5100  4900 12500 12000  2200  1300  8000 15000  2800  2400 11000\n",
              "[193]  3500  4500  1980  6000  1600 13500  2792  1660  3800  1177 13000  7800\n",
              "[205] 15000   750  2600  4009  1062  1480  3800  5520  4800  5000  2300  3230\n",
              "[217]  3500  3200 13000  6000  1800  6300  8700  4000  2700  3300  4130  5520\n",
              "[229]  2080  8000  1178 15000 12000  7000  3900   500  4200  5000  4500  3000\n",
              "[241]  2400  4320  4667  6500  1350  4655  2500  3400  1200  1500  2500  1800\n",
              "[253]  9800  3500  1400  9000  3007  2900  2800 14000  1400  1600  4000  1920\n",
              "[265]  4100 15000  3800  1100  3900  1950  6800  9000  2040  2050  1600 14500\n",
              "[277]  2800  2000  1720  3300  6500  9000  1150  4100  2900  5525  3000  4000\n",
              "[289]  3880  2600  2900 13500  1100 15000  1900  1500  2500  1450  1500  4500\n",
              "[301]   900  8000  4500 15000  5000  2500  6200  3300  4900  1100  3355 10000\n",
              "[313]  5000  5300  4860  1830  2550  3800  5000  6000 14000  1100 15000 13000\n",
              "[325]  1500   950  6500  6000  1930  3400  2100  1800 12000  6000  2800  1200\n",
              "[337] 10000  3150  7900  1100 10160  6000  2000  4700  5500  1539  5500  2707\n",
              "[349]  6970  9000  2999  2900  7650  2500 15000  2700  3250  2700  5150  1100\n",
              "[361]  3000  4000  1250  1700  8000 13000  2900  1850  6000  3500  2300  2500\n",
              "[373] 11000  2300  1105  1600  1900  3200  3400  1230  4500  7000  1300  2380\n",
              "[385]  1490  5500  1400  4800  8500  4200  2100  1150  5500  1100 10800  3000\n",
              "[397]  3700  4500  1920  3500 15000  4500  2200   900  8667  9700  4700 10800\n",
              "[409]  3400  1500  5000  1300  3000  3200  2500  5300  1000  4250  1650  7225\n",
              "[421]  7500  1190  8500 12000  6500  1450  1050  4500 11500  4500 10200  8000\n",
              "[433]  6200  3000  5500  5500  2500  3600  5000  1100  5500  1400  7500  4500\n",
              "[445]  3080  7450  2200  6000  4000 12000  1550  9000  9200  5000  3500  3100\n",
              "[457]  2000  6500  1350  4200  4800  2800  1450  3400  2200  1805  2430  7800\n",
              "[469]  1050  1800  6000  2700  9500  3700  1200 12000  2300  1500  1600  6500\n",
              "[481]   700 12500  2500  6000  8500  9000 13000 15000  1920  3000  2000  9800\n",
              "[493]  4350  1800 13000  1540  2559  2100  2400  7000  6500  2500  1650  3455\n",
              "[505] 12750  7600  8000  1900  4675  8200  9800  8880  1850  2300  2200 11900\n",
              "[517]  2800  3500  3200 10500  1700  2600  9800  7106  3500  7000  2700  4000\n",
              "[529]  3000  1760  4348  2870  2960  4500  7677  3100  3080  4000  1000  3750\n",
              "[541]  1700  1500  3150  1300  1200  1690  9600  8000  1275 15000  1000  3500\n",
              "[553] 10500  4000  4080  2520  3700  1222  2000  1800  3600  3800  1400  3650\n",
              "[565]  3700  1440  2690  6600  1800  4100 15000  1200  1300  2300  5500  3120\n",
              "[577]  3500  2200  2100   800  8400  3250   700  2650  6000   850 15000  5000\n",
              "[589]  1100  5000  5100  4500  3300  4000 12000  7925  6950  1750 12000  5015\n",
              "[601]   976  8864  5520  1250  4000  1375  4500  1750  3600  1550  1500  7500\n",
              "[613]  2060  4100  2200 12000  6600  6290 12500  9600  1600  2300  5950 12500\n",
              "[625]  1999 15000   650 12000   750  7040  3250  2900  1380  1715  5250  2100\n",
              "[637]  8000  3390  4500  2380  3300  1020  1200  6500  1200 11000 10000  3100\n",
              "[649]  1400  2900  9800 15000  7500  8000  2180 15000  6000   650 13200  7800\n",
              "[661]  3110  1300  1900  1650  8000 11900 10500  1850  2750  2500  5500  4200\n",
              "[673]   950  1917  3910  2300  1300  4650  2600  4500   750  3974  2800  3040\n",
              "[685]  3950 13000  9000  4250  2000  8500  3594  3300  2300 12000  4250  5500\n",
              "[697]  1800  2372  5520 15000 13000  1050  4500  2450  3500 14450  2170  2200\n",
              "[709]  6900  2500   900  2600  1920  8440  7800 14000  3850  3000  1800  2300\n",
              "[721]  2500  1200  1800  2030  4210  3500  9000 12000  1750  8500  5500 10000\n",
              "[733] 12500  1200  9000  3500  1990  1865  6000  8700  2472  5300  2540  2350\n",
              "[745]  5120 15000  5400  2000  2900  2000  2500  3700  2300  1900  2400  9900\n",
              "[757]  1350  6200  3500   900  9500  1100  3700  1250  2500  4500  1550  4062\n",
              "[769]  1520  3000  5500  5550   999 13000  8000  1200  2400  7000  5000  3400\n",
              "[781] 15000  1570  4500  3388  1510  1500  4000  2600  3000  5000  6000  5000\n",
              "[793] 15000  9100  3700  3800  5800  2514  1900  4390"
            ],
            "text/latex": "\\begin{enumerate*}\n\\item 4600\n\\item 1780\n\\item 1800\n\\item 1080\n\\item 1760\n\\item 5300\n\\item 1290\n\\item 2500\n\\item 3500\n\\item 3800\n\\item 13000\n\\item 1950\n\\item 4200\n\\item 5000\n\\item 4000\n\\item 1300\n\\item 14000\n\\item 1850\n\\item 12500\n\\item 3294\n\\item 7000\n\\item 1600\n\\item 1700\n\\item 1700\n\\item 1100\n\\item 2500\n\\item 3000\n\\item 1000\n\\item 3200\n\\item 3000\n\\item 3700\n\\item 9900\n\\item 1600\n\\item 1200\n\\item 8000\n\\item 3000\n\\item 12000\n\\item 9000\n\\item 8500\n\\item 3600\n\\item 3300\n\\item 2050\n\\item 2500\n\\item 3500\n\\item 2550\n\\item 1460\n\\item 6500\n\\item 4500\n\\item 15000\n\\item 6500\n\\item 4000\n\\item 2500\n\\item 15000\n\\item 10000\n\\item 2570\n\\item 6960\n\\item 3500\n\\item 4000\n\\item 3600\n\\item 6500\n\\item 8000\n\\item 2000\n\\item 4335\n\\item 10000\n\\item 2600\n\\item 1290\n\\item 4000\n\\item 2485\n\\item 15000\n\\item 3430\n\\item 2870\n\\item 2300\n\\item 2500\n\\item 6300\n\\item 2800\n\\item 4500\n\\item 5000\n\\item 1350\n\\item 1700\n\\item 2300\n\\item 2990\n\\item 2600\n\\item 4398\n\\item 7000\n\\item 7300\n\\item 2500\n\\item 6000\n\\item 4900\n\\item 4800\n\\item 1080\n\\item 2000\n\\item 6450\n\\item 2300\n\\item 7000\n\\item 3000\n\\item 2850\n\\item 15000\n\\item 5270\n\\item 11000\n\\item 5600\n\\item 6000\n\\item 2000\n\\item 5156\n\\item 1300\n\\item 4000\n\\item 13800\n\\item 2850\n\\item 1900\n\\item 12000\n\\item 5780\n\\item 1000\n\\item 1800\n\\item 3210\n\\item 2000\n\\item 5520\n\\item 1800\n\\item 3300\n\\item 3600\n\\item 5000\n\\item 3000\n\\item 4500\n\\item 7500\n\\item 12000\n\\item 12500\n\\item 5500\n\\item 15000\n\\item 6000\n\\item 15000\n\\item 3440\n\\item 5440\n\\item 13000\n\\item 2700\n\\item 1200\n\\item 1350\n\\item 1460\n\\item 2800\n\\item 1400\n\\item 7000\n\\item 15000\n\\item 2300\n\\item 1000\n\\item 1500\n\\item 1400\n\\item 3100\n\\item 3400\n\\item 6028\n\\item 3100\n\\item 15000\n\\item 4800\n\\item 1420\n\\item 4500\n\\item 1710\n\\item 1850\n\\item 13000\n\\item 2800\n\\item 5000\n\\item 3800\n\\item 8189\n\\item 3500\n\\item 1200\n\\item 3500\n\\item 2800\n\\item 1375\n\\item 600\n\\item 2200\n\\item 3800\n\\item 4500\n\\item 1200\n\\item 2000\n\\item 2500\n\\item 2350\n\\item 14000\n\\item 4800\n\\item 2001\n\\item 1660\n\\item 2500\n\\item 9000\n\\item 3250\n\\item 8500\n\\item 4500\n\\item 4100\n\\item 5100\n\\item 4900\n\\item 12500\n\\item 12000\n\\item 2200\n\\item 1300\n\\item 8000\n\\item 15000\n\\item 2800\n\\item 2400\n\\item 11000\n\\item 3500\n\\item 4500\n\\item 1980\n\\item 6000\n\\item 1600\n\\item 13500\n\\item 2792\n\\item 1660\n\\item ⋯\n\\item 976\n\\item 8864\n\\item 5520\n\\item 1250\n\\item 4000\n\\item 1375\n\\item 4500\n\\item 1750\n\\item 3600\n\\item 1550\n\\item 1500\n\\item 7500\n\\item 2060\n\\item 4100\n\\item 2200\n\\item 12000\n\\item 6600\n\\item 6290\n\\item 12500\n\\item 9600\n\\item 1600\n\\item 2300\n\\item 5950\n\\item 12500\n\\item 1999\n\\item 15000\n\\item 650\n\\item 12000\n\\item 750\n\\item 7040\n\\item 3250\n\\item 2900\n\\item 1380\n\\item 1715\n\\item 5250\n\\item 2100\n\\item 8000\n\\item 3390\n\\item 4500\n\\item 2380\n\\item 3300\n\\item 1020\n\\item 1200\n\\item 6500\n\\item 1200\n\\item 11000\n\\item 10000\n\\item 3100\n\\item 1400\n\\item 2900\n\\item 9800\n\\item 15000\n\\item 7500\n\\item 8000\n\\item 2180\n\\item 15000\n\\item 6000\n\\item 650\n\\item 13200\n\\item 7800\n\\item 3110\n\\item 1300\n\\item 1900\n\\item 1650\n\\item 8000\n\\item 11900\n\\item 10500\n\\item 1850\n\\item 2750\n\\item 2500\n\\item 5500\n\\item 4200\n\\item 950\n\\item 1917\n\\item 3910\n\\item 2300\n\\item 1300\n\\item 4650\n\\item 2600\n\\item 4500\n\\item 750\n\\item 3974\n\\item 2800\n\\item 3040\n\\item 3950\n\\item 13000\n\\item 9000\n\\item 4250\n\\item 2000\n\\item 8500\n\\item 3594\n\\item 3300\n\\item 2300\n\\item 12000\n\\item 4250\n\\item 5500\n\\item 1800\n\\item 2372\n\\item 5520\n\\item 15000\n\\item 13000\n\\item 1050\n\\item 4500\n\\item 2450\n\\item 3500\n\\item 14450\n\\item 2170\n\\item 2200\n\\item 6900\n\\item 2500\n\\item 900\n\\item 2600\n\\item 1920\n\\item 8440\n\\item 7800\n\\item 14000\n\\item 3850\n\\item 3000\n\\item 1800\n\\item 2300\n\\item 2500\n\\item 1200\n\\item 1800\n\\item 2030\n\\item 4210\n\\item 3500\n\\item 9000\n\\item 12000\n\\item 1750\n\\item 8500\n\\item 5500\n\\item 10000\n\\item 12500\n\\item 1200\n\\item 9000\n\\item 3500\n\\item 1990\n\\item 1865\n\\item 6000\n\\item 8700\n\\item 2472\n\\item 5300\n\\item 2540\n\\item 2350\n\\item 5120\n\\item 15000\n\\item 5400\n\\item 2000\n\\item 2900\n\\item 2000\n\\item 2500\n\\item 3700\n\\item 2300\n\\item 1900\n\\item 2400\n\\item 9900\n\\item 1350\n\\item 6200\n\\item 3500\n\\item 900\n\\item 9500\n\\item 1100\n\\item 3700\n\\item 1250\n\\item 2500\n\\item 4500\n\\item 1550\n\\item 4062\n\\item 1520\n\\item 3000\n\\item 5500\n\\item 5550\n\\item 999\n\\item 13000\n\\item 8000\n\\item 1200\n\\item 2400\n\\item 7000\n\\item 5000\n\\item 3400\n\\item 15000\n\\item 1570\n\\item 4500\n\\item 3388\n\\item 1510\n\\item 1500\n\\item 4000\n\\item 2600\n\\item 3000\n\\item 5000\n\\item 6000\n\\item 5000\n\\item 15000\n\\item 9100\n\\item 3700\n\\item 3800\n\\item 5800\n\\item 2514\n\\item 1900\n\\item 4390\n\\end{enumerate*}\n",
            "text/markdown": "1. 4600\n2. 1780\n3. 1800\n4. 1080\n5. 1760\n6. 5300\n7. 1290\n8. 2500\n9. 3500\n10. 3800\n11. 13000\n12. 1950\n13. 4200\n14. 5000\n15. 4000\n16. 1300\n17. 14000\n18. 1850\n19. 12500\n20. 3294\n21. 7000\n22. 1600\n23. 1700\n24. 1700\n25. 1100\n26. 2500\n27. 3000\n28. 1000\n29. 3200\n30. 3000\n31. 3700\n32. 9900\n33. 1600\n34. 1200\n35. 8000\n36. 3000\n37. 12000\n38. 9000\n39. 8500\n40. 3600\n41. 3300\n42. 2050\n43. 2500\n44. 3500\n45. 2550\n46. 1460\n47. 6500\n48. 4500\n49. 15000\n50. 6500\n51. 4000\n52. 2500\n53. 15000\n54. 10000\n55. 2570\n56. 6960\n57. 3500\n58. 4000\n59. 3600\n60. 6500\n61. 8000\n62. 2000\n63. 4335\n64. 10000\n65. 2600\n66. 1290\n67. 4000\n68. 2485\n69. 15000\n70. 3430\n71. 2870\n72. 2300\n73. 2500\n74. 6300\n75. 2800\n76. 4500\n77. 5000\n78. 1350\n79. 1700\n80. 2300\n81. 2990\n82. 2600\n83. 4398\n84. 7000\n85. 7300\n86. 2500\n87. 6000\n88. 4900\n89. 4800\n90. 1080\n91. 2000\n92. 6450\n93. 2300\n94. 7000\n95. 3000\n96. 2850\n97. 15000\n98. 5270\n99. 11000\n100. 5600\n101. 6000\n102. 2000\n103. 5156\n104. 1300\n105. 4000\n106. 13800\n107. 2850\n108. 1900\n109. 12000\n110. 5780\n111. 1000\n112. 1800\n113. 3210\n114. 2000\n115. 5520\n116. 1800\n117. 3300\n118. 3600\n119. 5000\n120. 3000\n121. 4500\n122. 7500\n123. 12000\n124. 12500\n125. 5500\n126. 15000\n127. 6000\n128. 15000\n129. 3440\n130. 5440\n131. 13000\n132. 2700\n133. 1200\n134. 1350\n135. 1460\n136. 2800\n137. 1400\n138. 7000\n139. 15000\n140. 2300\n141. 1000\n142. 1500\n143. 1400\n144. 3100\n145. 3400\n146. 6028\n147. 3100\n148. 15000\n149. 4800\n150. 1420\n151. 4500\n152. 1710\n153. 1850\n154. 13000\n155. 2800\n156. 5000\n157. 3800\n158. 8189\n159. 3500\n160. 1200\n161. 3500\n162. 2800\n163. 1375\n164. 600\n165. 2200\n166. 3800\n167. 4500\n168. 1200\n169. 2000\n170. 2500\n171. 2350\n172. 14000\n173. 4800\n174. 2001\n175. 1660\n176. 2500\n177. 9000\n178. 3250\n179. 8500\n180. 4500\n181. 4100\n182. 5100\n183. 4900\n184. 12500\n185. 12000\n186. 2200\n187. 1300\n188. 8000\n189. 15000\n190. 2800\n191. 2400\n192. 11000\n193. 3500\n194. 4500\n195. 1980\n196. 6000\n197. 1600\n198. 13500\n199. 2792\n200. 1660\n201. ⋯\n202. 976\n203. 8864\n204. 5520\n205. 1250\n206. 4000\n207. 1375\n208. 4500\n209. 1750\n210. 3600\n211. 1550\n212. 1500\n213. 7500\n214. 2060\n215. 4100\n216. 2200\n217. 12000\n218. 6600\n219. 6290\n220. 12500\n221. 9600\n222. 1600\n223. 2300\n224. 5950\n225. 12500\n226. 1999\n227. 15000\n228. 650\n229. 12000\n230. 750\n231. 7040\n232. 3250\n233. 2900\n234. 1380\n235. 1715\n236. 5250\n237. 2100\n238. 8000\n239. 3390\n240. 4500\n241. 2380\n242. 3300\n243. 1020\n244. 1200\n245. 6500\n246. 1200\n247. 11000\n248. 10000\n249. 3100\n250. 1400\n251. 2900\n252. 9800\n253. 15000\n254. 7500\n255. 8000\n256. 2180\n257. 15000\n258. 6000\n259. 650\n260. 13200\n261. 7800\n262. 3110\n263. 1300\n264. 1900\n265. 1650\n266. 8000\n267. 11900\n268. 10500\n269. 1850\n270. 2750\n271. 2500\n272. 5500\n273. 4200\n274. 950\n275. 1917\n276. 3910\n277. 2300\n278. 1300\n279. 4650\n280. 2600\n281. 4500\n282. 750\n283. 3974\n284. 2800\n285. 3040\n286. 3950\n287. 13000\n288. 9000\n289. 4250\n290. 2000\n291. 8500\n292. 3594\n293. 3300\n294. 2300\n295. 12000\n296. 4250\n297. 5500\n298. 1800\n299. 2372\n300. 5520\n301. 15000\n302. 13000\n303. 1050\n304. 4500\n305. 2450\n306. 3500\n307. 14450\n308. 2170\n309. 2200\n310. 6900\n311. 2500\n312. 900\n313. 2600\n314. 1920\n315. 8440\n316. 7800\n317. 14000\n318. 3850\n319. 3000\n320. 1800\n321. 2300\n322. 2500\n323. 1200\n324. 1800\n325. 2030\n326. 4210\n327. 3500\n328. 9000\n329. 12000\n330. 1750\n331. 8500\n332. 5500\n333. 10000\n334. 12500\n335. 1200\n336. 9000\n337. 3500\n338. 1990\n339. 1865\n340. 6000\n341. 8700\n342. 2472\n343. 5300\n344. 2540\n345. 2350\n346. 5120\n347. 15000\n348. 5400\n349. 2000\n350. 2900\n351. 2000\n352. 2500\n353. 3700\n354. 2300\n355. 1900\n356. 2400\n357. 9900\n358. 1350\n359. 6200\n360. 3500\n361. 900\n362. 9500\n363. 1100\n364. 3700\n365. 1250\n366. 2500\n367. 4500\n368. 1550\n369. 4062\n370. 1520\n371. 3000\n372. 5500\n373. 5550\n374. 999\n375. 13000\n376. 8000\n377. 1200\n378. 2400\n379. 7000\n380. 5000\n381. 3400\n382. 15000\n383. 1570\n384. 4500\n385. 3388\n386. 1510\n387. 1500\n388. 4000\n389. 2600\n390. 3000\n391. 5000\n392. 6000\n393. 5000\n394. 15000\n395. 9100\n396. 3700\n397. 3800\n398. 5800\n399. 2514\n400. 1900\n401. 4390\n\n\n",
            "text/html": [
              "<style>\n",
              ".list-inline {list-style: none; margin:0; padding: 0}\n",
              ".list-inline>li {display: inline-block}\n",
              ".list-inline>li:not(:last-child)::after {content: \"\\00b7\"; padding: 0 .5ex}\n",
              "</style>\n",
              "<ol class=list-inline><li>4600</li><li>1780</li><li>1800</li><li>1080</li><li>1760</li><li>5300</li><li>1290</li><li>2500</li><li>3500</li><li>3800</li><li>13000</li><li>1950</li><li>4200</li><li>5000</li><li>4000</li><li>1300</li><li>14000</li><li>1850</li><li>12500</li><li>3294</li><li>7000</li><li>1600</li><li>1700</li><li>1700</li><li>1100</li><li>2500</li><li>3000</li><li>1000</li><li>3200</li><li>3000</li><li>3700</li><li>9900</li><li>1600</li><li>1200</li><li>8000</li><li>3000</li><li>12000</li><li>9000</li><li>8500</li><li>3600</li><li>3300</li><li>2050</li><li>2500</li><li>3500</li><li>2550</li><li>1460</li><li>6500</li><li>4500</li><li>15000</li><li>6500</li><li>4000</li><li>2500</li><li>15000</li><li>10000</li><li>2570</li><li>6960</li><li>3500</li><li>4000</li><li>3600</li><li>6500</li><li>8000</li><li>2000</li><li>4335</li><li>10000</li><li>2600</li><li>1290</li><li>4000</li><li>2485</li><li>15000</li><li>3430</li><li>2870</li><li>2300</li><li>2500</li><li>6300</li><li>2800</li><li>4500</li><li>5000</li><li>1350</li><li>1700</li><li>2300</li><li>2990</li><li>2600</li><li>4398</li><li>7000</li><li>7300</li><li>2500</li><li>6000</li><li>4900</li><li>4800</li><li>1080</li><li>2000</li><li>6450</li><li>2300</li><li>7000</li><li>3000</li><li>2850</li><li>15000</li><li>5270</li><li>11000</li><li>5600</li><li>6000</li><li>2000</li><li>5156</li><li>1300</li><li>4000</li><li>13800</li><li>2850</li><li>1900</li><li>12000</li><li>5780</li><li>1000</li><li>1800</li><li>3210</li><li>2000</li><li>5520</li><li>1800</li><li>3300</li><li>3600</li><li>5000</li><li>3000</li><li>4500</li><li>7500</li><li>12000</li><li>12500</li><li>5500</li><li>15000</li><li>6000</li><li>15000</li><li>3440</li><li>5440</li><li>13000</li><li>2700</li><li>1200</li><li>1350</li><li>1460</li><li>2800</li><li>1400</li><li>7000</li><li>15000</li><li>2300</li><li>1000</li><li>1500</li><li>1400</li><li>3100</li><li>3400</li><li>6028</li><li>3100</li><li>15000</li><li>4800</li><li>1420</li><li>4500</li><li>1710</li><li>1850</li><li>13000</li><li>2800</li><li>5000</li><li>3800</li><li>8189</li><li>3500</li><li>1200</li><li>3500</li><li>2800</li><li>1375</li><li>600</li><li>2200</li><li>3800</li><li>4500</li><li>1200</li><li>2000</li><li>2500</li><li>2350</li><li>14000</li><li>4800</li><li>2001</li><li>1660</li><li>2500</li><li>9000</li><li>3250</li><li>8500</li><li>4500</li><li>4100</li><li>5100</li><li>4900</li><li>12500</li><li>12000</li><li>2200</li><li>1300</li><li>8000</li><li>15000</li><li>2800</li><li>2400</li><li>11000</li><li>3500</li><li>4500</li><li>1980</li><li>6000</li><li>1600</li><li>13500</li><li>2792</li><li>1660</li><li>⋯</li><li>976</li><li>8864</li><li>5520</li><li>1250</li><li>4000</li><li>1375</li><li>4500</li><li>1750</li><li>3600</li><li>1550</li><li>1500</li><li>7500</li><li>2060</li><li>4100</li><li>2200</li><li>12000</li><li>6600</li><li>6290</li><li>12500</li><li>9600</li><li>1600</li><li>2300</li><li>5950</li><li>12500</li><li>1999</li><li>15000</li><li>650</li><li>12000</li><li>750</li><li>7040</li><li>3250</li><li>2900</li><li>1380</li><li>1715</li><li>5250</li><li>2100</li><li>8000</li><li>3390</li><li>4500</li><li>2380</li><li>3300</li><li>1020</li><li>1200</li><li>6500</li><li>1200</li><li>11000</li><li>10000</li><li>3100</li><li>1400</li><li>2900</li><li>9800</li><li>15000</li><li>7500</li><li>8000</li><li>2180</li><li>15000</li><li>6000</li><li>650</li><li>13200</li><li>7800</li><li>3110</li><li>1300</li><li>1900</li><li>1650</li><li>8000</li><li>11900</li><li>10500</li><li>1850</li><li>2750</li><li>2500</li><li>5500</li><li>4200</li><li>950</li><li>1917</li><li>3910</li><li>2300</li><li>1300</li><li>4650</li><li>2600</li><li>4500</li><li>750</li><li>3974</li><li>2800</li><li>3040</li><li>3950</li><li>13000</li><li>9000</li><li>4250</li><li>2000</li><li>8500</li><li>3594</li><li>3300</li><li>2300</li><li>12000</li><li>4250</li><li>5500</li><li>1800</li><li>2372</li><li>5520</li><li>15000</li><li>13000</li><li>1050</li><li>4500</li><li>2450</li><li>3500</li><li>14450</li><li>2170</li><li>2200</li><li>6900</li><li>2500</li><li>900</li><li>2600</li><li>1920</li><li>8440</li><li>7800</li><li>14000</li><li>3850</li><li>3000</li><li>1800</li><li>2300</li><li>2500</li><li>1200</li><li>1800</li><li>2030</li><li>4210</li><li>3500</li><li>9000</li><li>12000</li><li>1750</li><li>8500</li><li>5500</li><li>10000</li><li>12500</li><li>1200</li><li>9000</li><li>3500</li><li>1990</li><li>1865</li><li>6000</li><li>8700</li><li>2472</li><li>5300</li><li>2540</li><li>2350</li><li>5120</li><li>15000</li><li>5400</li><li>2000</li><li>2900</li><li>2000</li><li>2500</li><li>3700</li><li>2300</li><li>1900</li><li>2400</li><li>9900</li><li>1350</li><li>6200</li><li>3500</li><li>900</li><li>9500</li><li>1100</li><li>3700</li><li>1250</li><li>2500</li><li>4500</li><li>1550</li><li>4062</li><li>1520</li><li>3000</li><li>5500</li><li>5550</li><li>999</li><li>13000</li><li>8000</li><li>1200</li><li>2400</li><li>7000</li><li>5000</li><li>3400</li><li>15000</li><li>1570</li><li>4500</li><li>3388</li><li>1510</li><li>1500</li><li>4000</li><li>2600</li><li>3000</li><li>5000</li><li>6000</li><li>5000</li><li>15000</li><li>9100</li><li>3700</li><li>3800</li><li>5800</li><li>2514</li><li>1900</li><li>4390</li></ol>\n"
            ]
          },
          "metadata": {}
        },
        {
          "output_type": "stream",
          "name": "stdout",
          "text": [
            "[1] 0\n",
            "[1] 800\n"
          ]
        },
        {
          "output_type": "display_data",
          "data": {
            "text/plain": [
              "  [1]   750  5300  1258  1140  3000  1400  4100  1901   800  9500   700  3900\n",
              " [13]  1850  1980  1400  1500  2990  2800  6000  1320   900  2200  1840  3700\n",
              " [25]  1600  1870  1800  4675  5000  1200  1110 15000  1900  1800 13000  3290\n",
              " [37]  7500  1358  5500  2630  2900  1800  3150  7500  1200  1700  3500  3300\n",
              " [49]  1000  1290  1700  2200  2000  2200  3800  3300   800  2400  1510  8000\n",
              " [61]  1370  1297  2300  1370  1800  3000  3800  6800  1350  1000  1100  1870\n",
              " [73]  1870  1500  4000  1100  1200  2000  2750  6000  1600  2900  1500   980\n",
              " [85] 11960  1600  2570  1800   830  2700  5000  3500   680  1250  4500  4235\n",
              " [97]   700  2000   600  2499  4500  2800  3300  3900  6400  8000  3170  1200\n",
              "[109]  1290  1600  2500  2600  1650  1600  1400  3500  1600  1850  1800  2200\n",
              "[121]  1670  8000  9000  2750  2800  6000  1000  1480  4950  7100  2500  2200\n",
              "[133]  5950  1700  5000  7600  1400  1930  3860  6580  1570  1580  4500  1500\n",
              "[145]  7609  2000 15000  4100  4200  1800  1900  3500 10000  3500  1200  1300\n",
              "[157]  1550  1235  1480  2500  1100  4000  2750  9200  4500  2500  2200  1200\n",
              "[169]  1000  5000   980   791  3500 15000  1550  2300  1412  2700   700  1670\n",
              "[181]  1770  9900  2200  1100  2500  9000  2800  3000  1950  3200  2900  3800\n",
              "[193]  3300  2900  4080  5000  3500  1700  1200  1839  4800  5300  1450  2800\n",
              "[205]  1100  6800  2000  1450  3800  1200   750  1200  1500  1100  4000  2200\n",
              "[217]  1300  3490  3500  3300 13000  1200  1200   500  1450  2928  1820  2200\n",
              "[229]  4350  1600   850  1450  2000  1900  1000  4500  1050  1100  2250 10500\n",
              "[241] 11330  3200 15000  2700  4200  6800  3500  2000  2700  2200  1900  2000\n",
              "[253]  2400  2146  1000  2400  8500  1800  1200  5000  6200 10000  2000 15000\n",
              "[265]  6500  4500  1512  1700  1400  7100   700  2200  3500  1390   680  2700\n",
              "[277]  2700   850   750 13000  1000  2000  2400  5900  7500  5800  1700  1800\n",
              "[289]  1220  6130  2480  5000  1935  9000  1700 14000  2400  1105  1140  1200\n",
              "[301]  2125  2500  1000  5500  1900  9000  1000  8000  3500  2370  1529  1000\n",
              "[313]  1250  3900  1820  2975  3060  4300  3800  3500  2500  1150   950  1800\n",
              "[325] 10000  1800  1200  4300   850  3500   900  1239  3700  2600  1984  2300\n",
              "[337] 15000  9300  3550  5500  3468  4500  1400  6700   700  1627  1600  4000\n",
              "[349]  1400  1040   980  1100  6000  1900  3500   850  2300  2700  4500  3500\n",
              "[361]   680   800   750  7000  8000  1400  1000  4500  3500  7000  5100  3100\n",
              "[373]  1800  1850  2000  2550  3000  1200  2090  2500  1400  4240  1910  8000\n",
              "[385]  1200  2600  1100  5000   900  1150  7500  1615  2400  2673  1500  4230\n",
              "[397]  1900  2410   800  3390  4100  1300  3800  2300  2800  3260  4000  5500\n",
              "[409]  5500  6000  1840  1200  9100  1200   960  4000  3060  1750  3000  2500\n",
              "[421]  4500  4000  4850  2000  1700  2000  2480  4870  2156  2080  1430  2950\n",
              "[433]  2500  2000  1300  5200  2720  1400  3000  3500  2200  1350  1940  3900\n",
              "[445]  2500  1500  2500  1500  1000  2480  3499  1200   750  5000  1059  1600\n",
              "[457]  1200  1800  2800  1600  5000   850  1200  1000  1100  1360  6000  1200\n",
              "[469]  4800  3250  1500  1341  3000  4850  1700  4000  2300 12750  3500  2700\n",
              "[481]  1600  1336  3450  2500  1999  3300  6000  2750  6000  2300  1500  7000\n",
              "[493]  2990  3300  2350   609  2300  2600  1428  1900 15000  3500   900  5000\n",
              "[505]  6300  2350  5500   810  1650  2350  2800  1750   700  2600  1500  1200\n",
              "[517]  1300  5000  1380  1550  1200   660  2750  1216  1250  1100  3000  1350\n",
              "[529]   950   600  4000  2882  1664  1950  2000  4000  2400  1100  2500  2000\n",
              "[541]  3590  1980  4000 10000  2500  3500  1250 13200  8000  3430  3180  2006\n",
              "[553]  7650  1800   550  3500  1100  8000  2870  1100   800  1200  5800  4500\n",
              "[565]  3500  2700  5000  3200   590  4500  1200  1200 10200  1800  2400  1500\n",
              "[577]  1350  8000  3399  2500  4000  1500  5500   860  2300  2800  2500  2550\n",
              "[589]  2000   500  1840  1336  1010  1560  1000  1920  4500  5100  2000 15000\n",
              "[601]  1500  2700  1417  4400 12000  6500  1450  2820  2500   505  4200  1200\n",
              "[613]  1000  2400  5000  2050  5000  2500  2800  3600  3400  1300  1500  2500\n",
              "[625]  5800   700  2280  1500 12750  1280  2200  3360  4700  1000  1949  1500\n",
              "[637]  2950  1900  2400  1700 15000  2400   980  1850  1600  3000  3800  1112\n",
              "[649]  1700   900  1550   900  2800 12500  2300  3000   500  1200  3000  5400\n",
              "[661] 11500  1370   700  2500  2300  3500  2000   500  1200  2600  2400  2550\n",
              "[673]  2000   870  7500  2900  3000  5500  2350  2700  1900  1500  2900  3000\n",
              "[685]  1600   935  2750  5000   900  1710  1050  4800  1600  1100   700  8900\n",
              "[697]  2400  2190  1950  2300  1200  1830  2250  1200  6000  2710  3140 15000\n",
              "[709]  3000  1000  4000 13500  7000  2500  1700  1800  2244  1900  3200  2200\n",
              "[721]  7500  4200  9850   750  7500  2000  1720  4250  1232  2910  2500  7800\n",
              "[733]  6490  1650  2050  2900 15000  2000  2308  1950  1800  1490  7200 15000\n",
              "[745]  8000  1500  1370  2000  2300   850   700  1300  1300  3300  1800 12000\n",
              "[757]  3800  1160   800  1170  1100  2740  1920   700  1100  4500  1305  5800\n",
              "[769]  1250  1600  1000  1700  3200  1800  3800  3000  4800  1360  7000  6500\n",
              "[781]  1250 15000  1940  2200  1521  1200  6900  1100   750  2383  9800  2956\n",
              "[793]  2000  2710  7000  1820  2000   960  4600   580"
            ],
            "text/latex": "\\begin{enumerate*}\n\\item 750\n\\item 5300\n\\item 1258\n\\item 1140\n\\item 3000\n\\item 1400\n\\item 4100\n\\item 1901\n\\item 800\n\\item 9500\n\\item 700\n\\item 3900\n\\item 1850\n\\item 1980\n\\item 1400\n\\item 1500\n\\item 2990\n\\item 2800\n\\item 6000\n\\item 1320\n\\item 900\n\\item 2200\n\\item 1840\n\\item 3700\n\\item 1600\n\\item 1870\n\\item 1800\n\\item 4675\n\\item 5000\n\\item 1200\n\\item 1110\n\\item 15000\n\\item 1900\n\\item 1800\n\\item 13000\n\\item 3290\n\\item 7500\n\\item 1358\n\\item 5500\n\\item 2630\n\\item 2900\n\\item 1800\n\\item 3150\n\\item 7500\n\\item 1200\n\\item 1700\n\\item 3500\n\\item 3300\n\\item 1000\n\\item 1290\n\\item 1700\n\\item 2200\n\\item 2000\n\\item 2200\n\\item 3800\n\\item 3300\n\\item 800\n\\item 2400\n\\item 1510\n\\item 8000\n\\item 1370\n\\item 1297\n\\item 2300\n\\item 1370\n\\item 1800\n\\item 3000\n\\item 3800\n\\item 6800\n\\item 1350\n\\item 1000\n\\item 1100\n\\item 1870\n\\item 1870\n\\item 1500\n\\item 4000\n\\item 1100\n\\item 1200\n\\item 2000\n\\item 2750\n\\item 6000\n\\item 1600\n\\item 2900\n\\item 1500\n\\item 980\n\\item 11960\n\\item 1600\n\\item 2570\n\\item 1800\n\\item 830\n\\item 2700\n\\item 5000\n\\item 3500\n\\item 680\n\\item 1250\n\\item 4500\n\\item 4235\n\\item 700\n\\item 2000\n\\item 600\n\\item 2499\n\\item 4500\n\\item 2800\n\\item 3300\n\\item 3900\n\\item 6400\n\\item 8000\n\\item 3170\n\\item 1200\n\\item 1290\n\\item 1600\n\\item 2500\n\\item 2600\n\\item 1650\n\\item 1600\n\\item 1400\n\\item 3500\n\\item 1600\n\\item 1850\n\\item 1800\n\\item 2200\n\\item 1670\n\\item 8000\n\\item 9000\n\\item 2750\n\\item 2800\n\\item 6000\n\\item 1000\n\\item 1480\n\\item 4950\n\\item 7100\n\\item 2500\n\\item 2200\n\\item 5950\n\\item 1700\n\\item 5000\n\\item 7600\n\\item 1400\n\\item 1930\n\\item 3860\n\\item 6580\n\\item 1570\n\\item 1580\n\\item 4500\n\\item 1500\n\\item 7609\n\\item 2000\n\\item 15000\n\\item 4100\n\\item 4200\n\\item 1800\n\\item 1900\n\\item 3500\n\\item 10000\n\\item 3500\n\\item 1200\n\\item 1300\n\\item 1550\n\\item 1235\n\\item 1480\n\\item 2500\n\\item 1100\n\\item 4000\n\\item 2750\n\\item 9200\n\\item 4500\n\\item 2500\n\\item 2200\n\\item 1200\n\\item 1000\n\\item 5000\n\\item 980\n\\item 791\n\\item 3500\n\\item 15000\n\\item 1550\n\\item 2300\n\\item 1412\n\\item 2700\n\\item 700\n\\item 1670\n\\item 1770\n\\item 9900\n\\item 2200\n\\item 1100\n\\item 2500\n\\item 9000\n\\item 2800\n\\item 3000\n\\item 1950\n\\item 3200\n\\item 2900\n\\item 3800\n\\item 3300\n\\item 2900\n\\item 4080\n\\item 5000\n\\item 3500\n\\item 1700\n\\item 1200\n\\item 1839\n\\item ⋯\n\\item 1500\n\\item 2700\n\\item 1417\n\\item 4400\n\\item 12000\n\\item 6500\n\\item 1450\n\\item 2820\n\\item 2500\n\\item 505\n\\item 4200\n\\item 1200\n\\item 1000\n\\item 2400\n\\item 5000\n\\item 2050\n\\item 5000\n\\item 2500\n\\item 2800\n\\item 3600\n\\item 3400\n\\item 1300\n\\item 1500\n\\item 2500\n\\item 5800\n\\item 700\n\\item 2280\n\\item 1500\n\\item 12750\n\\item 1280\n\\item 2200\n\\item 3360\n\\item 4700\n\\item 1000\n\\item 1949\n\\item 1500\n\\item 2950\n\\item 1900\n\\item 2400\n\\item 1700\n\\item 15000\n\\item 2400\n\\item 980\n\\item 1850\n\\item 1600\n\\item 3000\n\\item 3800\n\\item 1112\n\\item 1700\n\\item 900\n\\item 1550\n\\item 900\n\\item 2800\n\\item 12500\n\\item 2300\n\\item 3000\n\\item 500\n\\item 1200\n\\item 3000\n\\item 5400\n\\item 11500\n\\item 1370\n\\item 700\n\\item 2500\n\\item 2300\n\\item 3500\n\\item 2000\n\\item 500\n\\item 1200\n\\item 2600\n\\item 2400\n\\item 2550\n\\item 2000\n\\item 870\n\\item 7500\n\\item 2900\n\\item 3000\n\\item 5500\n\\item 2350\n\\item 2700\n\\item 1900\n\\item 1500\n\\item 2900\n\\item 3000\n\\item 1600\n\\item 935\n\\item 2750\n\\item 5000\n\\item 900\n\\item 1710\n\\item 1050\n\\item 4800\n\\item 1600\n\\item 1100\n\\item 700\n\\item 8900\n\\item 2400\n\\item 2190\n\\item 1950\n\\item 2300\n\\item 1200\n\\item 1830\n\\item 2250\n\\item 1200\n\\item 6000\n\\item 2710\n\\item 3140\n\\item 15000\n\\item 3000\n\\item 1000\n\\item 4000\n\\item 13500\n\\item 7000\n\\item 2500\n\\item 1700\n\\item 1800\n\\item 2244\n\\item 1900\n\\item 3200\n\\item 2200\n\\item 7500\n\\item 4200\n\\item 9850\n\\item 750\n\\item 7500\n\\item 2000\n\\item 1720\n\\item 4250\n\\item 1232\n\\item 2910\n\\item 2500\n\\item 7800\n\\item 6490\n\\item 1650\n\\item 2050\n\\item 2900\n\\item 15000\n\\item 2000\n\\item 2308\n\\item 1950\n\\item 1800\n\\item 1490\n\\item 7200\n\\item 15000\n\\item 8000\n\\item 1500\n\\item 1370\n\\item 2000\n\\item 2300\n\\item 850\n\\item 700\n\\item 1300\n\\item 1300\n\\item 3300\n\\item 1800\n\\item 12000\n\\item 3800\n\\item 1160\n\\item 800\n\\item 1170\n\\item 1100\n\\item 2740\n\\item 1920\n\\item 700\n\\item 1100\n\\item 4500\n\\item 1305\n\\item 5800\n\\item 1250\n\\item 1600\n\\item 1000\n\\item 1700\n\\item 3200\n\\item 1800\n\\item 3800\n\\item 3000\n\\item 4800\n\\item 1360\n\\item 7000\n\\item 6500\n\\item 1250\n\\item 15000\n\\item 1940\n\\item 2200\n\\item 1521\n\\item 1200\n\\item 6900\n\\item 1100\n\\item 750\n\\item 2383\n\\item 9800\n\\item 2956\n\\item 2000\n\\item 2710\n\\item 7000\n\\item 1820\n\\item 2000\n\\item 960\n\\item 4600\n\\item 580\n\\end{enumerate*}\n",
            "text/markdown": "1. 750\n2. 5300\n3. 1258\n4. 1140\n5. 3000\n6. 1400\n7. 4100\n8. 1901\n9. 800\n10. 9500\n11. 700\n12. 3900\n13. 1850\n14. 1980\n15. 1400\n16. 1500\n17. 2990\n18. 2800\n19. 6000\n20. 1320\n21. 900\n22. 2200\n23. 1840\n24. 3700\n25. 1600\n26. 1870\n27. 1800\n28. 4675\n29. 5000\n30. 1200\n31. 1110\n32. 15000\n33. 1900\n34. 1800\n35. 13000\n36. 3290\n37. 7500\n38. 1358\n39. 5500\n40. 2630\n41. 2900\n42. 1800\n43. 3150\n44. 7500\n45. 1200\n46. 1700\n47. 3500\n48. 3300\n49. 1000\n50. 1290\n51. 1700\n52. 2200\n53. 2000\n54. 2200\n55. 3800\n56. 3300\n57. 800\n58. 2400\n59. 1510\n60. 8000\n61. 1370\n62. 1297\n63. 2300\n64. 1370\n65. 1800\n66. 3000\n67. 3800\n68. 6800\n69. 1350\n70. 1000\n71. 1100\n72. 1870\n73. 1870\n74. 1500\n75. 4000\n76. 1100\n77. 1200\n78. 2000\n79. 2750\n80. 6000\n81. 1600\n82. 2900\n83. 1500\n84. 980\n85. 11960\n86. 1600\n87. 2570\n88. 1800\n89. 830\n90. 2700\n91. 5000\n92. 3500\n93. 680\n94. 1250\n95. 4500\n96. 4235\n97. 700\n98. 2000\n99. 600\n100. 2499\n101. 4500\n102. 2800\n103. 3300\n104. 3900\n105. 6400\n106. 8000\n107. 3170\n108. 1200\n109. 1290\n110. 1600\n111. 2500\n112. 2600\n113. 1650\n114. 1600\n115. 1400\n116. 3500\n117. 1600\n118. 1850\n119. 1800\n120. 2200\n121. 1670\n122. 8000\n123. 9000\n124. 2750\n125. 2800\n126. 6000\n127. 1000\n128. 1480\n129. 4950\n130. 7100\n131. 2500\n132. 2200\n133. 5950\n134. 1700\n135. 5000\n136. 7600\n137. 1400\n138. 1930\n139. 3860\n140. 6580\n141. 1570\n142. 1580\n143. 4500\n144. 1500\n145. 7609\n146. 2000\n147. 15000\n148. 4100\n149. 4200\n150. 1800\n151. 1900\n152. 3500\n153. 10000\n154. 3500\n155. 1200\n156. 1300\n157. 1550\n158. 1235\n159. 1480\n160. 2500\n161. 1100\n162. 4000\n163. 2750\n164. 9200\n165. 4500\n166. 2500\n167. 2200\n168. 1200\n169. 1000\n170. 5000\n171. 980\n172. 791\n173. 3500\n174. 15000\n175. 1550\n176. 2300\n177. 1412\n178. 2700\n179. 700\n180. 1670\n181. 1770\n182. 9900\n183. 2200\n184. 1100\n185. 2500\n186. 9000\n187. 2800\n188. 3000\n189. 1950\n190. 3200\n191. 2900\n192. 3800\n193. 3300\n194. 2900\n195. 4080\n196. 5000\n197. 3500\n198. 1700\n199. 1200\n200. 1839\n201. ⋯\n202. 1500\n203. 2700\n204. 1417\n205. 4400\n206. 12000\n207. 6500\n208. 1450\n209. 2820\n210. 2500\n211. 505\n212. 4200\n213. 1200\n214. 1000\n215. 2400\n216. 5000\n217. 2050\n218. 5000\n219. 2500\n220. 2800\n221. 3600\n222. 3400\n223. 1300\n224. 1500\n225. 2500\n226. 5800\n227. 700\n228. 2280\n229. 1500\n230. 12750\n231. 1280\n232. 2200\n233. 3360\n234. 4700\n235. 1000\n236. 1949\n237. 1500\n238. 2950\n239. 1900\n240. 2400\n241. 1700\n242. 15000\n243. 2400\n244. 980\n245. 1850\n246. 1600\n247. 3000\n248. 3800\n249. 1112\n250. 1700\n251. 900\n252. 1550\n253. 900\n254. 2800\n255. 12500\n256. 2300\n257. 3000\n258. 500\n259. 1200\n260. 3000\n261. 5400\n262. 11500\n263. 1370\n264. 700\n265. 2500\n266. 2300\n267. 3500\n268. 2000\n269. 500\n270. 1200\n271. 2600\n272. 2400\n273. 2550\n274. 2000\n275. 870\n276. 7500\n277. 2900\n278. 3000\n279. 5500\n280. 2350\n281. 2700\n282. 1900\n283. 1500\n284. 2900\n285. 3000\n286. 1600\n287. 935\n288. 2750\n289. 5000\n290. 900\n291. 1710\n292. 1050\n293. 4800\n294. 1600\n295. 1100\n296. 700\n297. 8900\n298. 2400\n299. 2190\n300. 1950\n301. 2300\n302. 1200\n303. 1830\n304. 2250\n305. 1200\n306. 6000\n307. 2710\n308. 3140\n309. 15000\n310. 3000\n311. 1000\n312. 4000\n313. 13500\n314. 7000\n315. 2500\n316. 1700\n317. 1800\n318. 2244\n319. 1900\n320. 3200\n321. 2200\n322. 7500\n323. 4200\n324. 9850\n325. 750\n326. 7500\n327. 2000\n328. 1720\n329. 4250\n330. 1232\n331. 2910\n332. 2500\n333. 7800\n334. 6490\n335. 1650\n336. 2050\n337. 2900\n338. 15000\n339. 2000\n340. 2308\n341. 1950\n342. 1800\n343. 1490\n344. 7200\n345. 15000\n346. 8000\n347. 1500\n348. 1370\n349. 2000\n350. 2300\n351. 850\n352. 700\n353. 1300\n354. 1300\n355. 3300\n356. 1800\n357. 12000\n358. 3800\n359. 1160\n360. 800\n361. 1170\n362. 1100\n363. 2740\n364. 1920\n365. 700\n366. 1100\n367. 4500\n368. 1305\n369. 5800\n370. 1250\n371. 1600\n372. 1000\n373. 1700\n374. 3200\n375. 1800\n376. 3800\n377. 3000\n378. 4800\n379. 1360\n380. 7000\n381. 6500\n382. 1250\n383. 15000\n384. 1940\n385. 2200\n386. 1521\n387. 1200\n388. 6900\n389. 1100\n390. 750\n391. 2383\n392. 9800\n393. 2956\n394. 2000\n395. 2710\n396. 7000\n397. 1820\n398. 2000\n399. 960\n400. 4600\n401. 580\n\n\n",
            "text/html": [
              "<style>\n",
              ".list-inline {list-style: none; margin:0; padding: 0}\n",
              ".list-inline>li {display: inline-block}\n",
              ".list-inline>li:not(:last-child)::after {content: \"\\00b7\"; padding: 0 .5ex}\n",
              "</style>\n",
              "<ol class=list-inline><li>750</li><li>5300</li><li>1258</li><li>1140</li><li>3000</li><li>1400</li><li>4100</li><li>1901</li><li>800</li><li>9500</li><li>700</li><li>3900</li><li>1850</li><li>1980</li><li>1400</li><li>1500</li><li>2990</li><li>2800</li><li>6000</li><li>1320</li><li>900</li><li>2200</li><li>1840</li><li>3700</li><li>1600</li><li>1870</li><li>1800</li><li>4675</li><li>5000</li><li>1200</li><li>1110</li><li>15000</li><li>1900</li><li>1800</li><li>13000</li><li>3290</li><li>7500</li><li>1358</li><li>5500</li><li>2630</li><li>2900</li><li>1800</li><li>3150</li><li>7500</li><li>1200</li><li>1700</li><li>3500</li><li>3300</li><li>1000</li><li>1290</li><li>1700</li><li>2200</li><li>2000</li><li>2200</li><li>3800</li><li>3300</li><li>800</li><li>2400</li><li>1510</li><li>8000</li><li>1370</li><li>1297</li><li>2300</li><li>1370</li><li>1800</li><li>3000</li><li>3800</li><li>6800</li><li>1350</li><li>1000</li><li>1100</li><li>1870</li><li>1870</li><li>1500</li><li>4000</li><li>1100</li><li>1200</li><li>2000</li><li>2750</li><li>6000</li><li>1600</li><li>2900</li><li>1500</li><li>980</li><li>11960</li><li>1600</li><li>2570</li><li>1800</li><li>830</li><li>2700</li><li>5000</li><li>3500</li><li>680</li><li>1250</li><li>4500</li><li>4235</li><li>700</li><li>2000</li><li>600</li><li>2499</li><li>4500</li><li>2800</li><li>3300</li><li>3900</li><li>6400</li><li>8000</li><li>3170</li><li>1200</li><li>1290</li><li>1600</li><li>2500</li><li>2600</li><li>1650</li><li>1600</li><li>1400</li><li>3500</li><li>1600</li><li>1850</li><li>1800</li><li>2200</li><li>1670</li><li>8000</li><li>9000</li><li>2750</li><li>2800</li><li>6000</li><li>1000</li><li>1480</li><li>4950</li><li>7100</li><li>2500</li><li>2200</li><li>5950</li><li>1700</li><li>5000</li><li>7600</li><li>1400</li><li>1930</li><li>3860</li><li>6580</li><li>1570</li><li>1580</li><li>4500</li><li>1500</li><li>7609</li><li>2000</li><li>15000</li><li>4100</li><li>4200</li><li>1800</li><li>1900</li><li>3500</li><li>10000</li><li>3500</li><li>1200</li><li>1300</li><li>1550</li><li>1235</li><li>1480</li><li>2500</li><li>1100</li><li>4000</li><li>2750</li><li>9200</li><li>4500</li><li>2500</li><li>2200</li><li>1200</li><li>1000</li><li>5000</li><li>980</li><li>791</li><li>3500</li><li>15000</li><li>1550</li><li>2300</li><li>1412</li><li>2700</li><li>700</li><li>1670</li><li>1770</li><li>9900</li><li>2200</li><li>1100</li><li>2500</li><li>9000</li><li>2800</li><li>3000</li><li>1950</li><li>3200</li><li>2900</li><li>3800</li><li>3300</li><li>2900</li><li>4080</li><li>5000</li><li>3500</li><li>1700</li><li>1200</li><li>1839</li><li>⋯</li><li>1500</li><li>2700</li><li>1417</li><li>4400</li><li>12000</li><li>6500</li><li>1450</li><li>2820</li><li>2500</li><li>505</li><li>4200</li><li>1200</li><li>1000</li><li>2400</li><li>5000</li><li>2050</li><li>5000</li><li>2500</li><li>2800</li><li>3600</li><li>3400</li><li>1300</li><li>1500</li><li>2500</li><li>5800</li><li>700</li><li>2280</li><li>1500</li><li>12750</li><li>1280</li><li>2200</li><li>3360</li><li>4700</li><li>1000</li><li>1949</li><li>1500</li><li>2950</li><li>1900</li><li>2400</li><li>1700</li><li>15000</li><li>2400</li><li>980</li><li>1850</li><li>1600</li><li>3000</li><li>3800</li><li>1112</li><li>1700</li><li>900</li><li>1550</li><li>900</li><li>2800</li><li>12500</li><li>2300</li><li>3000</li><li>500</li><li>1200</li><li>3000</li><li>5400</li><li>11500</li><li>1370</li><li>700</li><li>2500</li><li>2300</li><li>3500</li><li>2000</li><li>500</li><li>1200</li><li>2600</li><li>2400</li><li>2550</li><li>2000</li><li>870</li><li>7500</li><li>2900</li><li>3000</li><li>5500</li><li>2350</li><li>2700</li><li>1900</li><li>1500</li><li>2900</li><li>3000</li><li>1600</li><li>935</li><li>2750</li><li>5000</li><li>900</li><li>1710</li><li>1050</li><li>4800</li><li>1600</li><li>1100</li><li>700</li><li>8900</li><li>2400</li><li>2190</li><li>1950</li><li>2300</li><li>1200</li><li>1830</li><li>2250</li><li>1200</li><li>6000</li><li>2710</li><li>3140</li><li>15000</li><li>3000</li><li>1000</li><li>4000</li><li>13500</li><li>7000</li><li>2500</li><li>1700</li><li>1800</li><li>2244</li><li>1900</li><li>3200</li><li>2200</li><li>7500</li><li>4200</li><li>9850</li><li>750</li><li>7500</li><li>2000</li><li>1720</li><li>4250</li><li>1232</li><li>2910</li><li>2500</li><li>7800</li><li>6490</li><li>1650</li><li>2050</li><li>2900</li><li>15000</li><li>2000</li><li>2308</li><li>1950</li><li>1800</li><li>1490</li><li>7200</li><li>15000</li><li>8000</li><li>1500</li><li>1370</li><li>2000</li><li>2300</li><li>850</li><li>700</li><li>1300</li><li>1300</li><li>3300</li><li>1800</li><li>12000</li><li>3800</li><li>1160</li><li>800</li><li>1170</li><li>1100</li><li>2740</li><li>1920</li><li>700</li><li>1100</li><li>4500</li><li>1305</li><li>5800</li><li>1250</li><li>1600</li><li>1000</li><li>1700</li><li>3200</li><li>1800</li><li>3800</li><li>3000</li><li>4800</li><li>1360</li><li>7000</li><li>6500</li><li>1250</li><li>15000</li><li>1940</li><li>2200</li><li>1521</li><li>1200</li><li>6900</li><li>1100</li><li>750</li><li>2383</li><li>9800</li><li>2956</li><li>2000</li><li>2710</li><li>7000</li><li>1820</li><li>2000</li><li>960</li><li>4600</li><li>580</li></ol>\n"
            ]
          },
          "metadata": {}
        },
        {
          "output_type": "stream",
          "name": "stdout",
          "text": [
            "[1] 25\n",
            "[1] 775\n"
          ]
        },
        {
          "output_type": "display_data",
          "data": {
            "text/plain": [
              "  [1]  1180  2040  2750  1084  2300  1750  1600  1600   650  2165  1250  1970\n",
              " [13]   900  2500  1240   550   980   800  1440 15000  4760  9000  1300  1500\n",
              " [25]  2900  1170   700  1100  1700  5500  2500  9000  2800  2700  1445  3400\n",
              " [37]   900  1100  1400  4150  1275   800  1700  2200  1100   850  2400  2400\n",
              " [49]   807  1556  4300  2390  2200  2350  2500   930  2500 10000  1500  2001\n",
              " [61]  1125  2800  1700  3250  1740  1300  2300  1040  4950  1400  2000  2200\n",
              " [73]  2100  1620  2500   800  4800  2000  1400   800 13200   890   950  3000\n",
              " [85]  1080  2000   920  3600  1600  2550  1700  1200  1300  3000  2525  2100\n",
              " [97]  3300  6000   720  5500  1800  8500  3200   550  2400   540   800  1995\n",
              "[109]  6150  6500   500  4100   586  3250  1000  2070  9000   950  2240  1500\n",
              "[121]  4000  1700  2990  2720  4500  1550  1800  2500  1650  1700  1700  2300\n",
              "[133]  4100  1800  4445  2900  2800  1490  1300  5600  2499  5980  2550  1300\n",
              "[145]  1739  2200   870  2125  3000  2300 15000   990  2700   800  1800  1480\n",
              "[157]  1350  1350  1200   750  5000  2000  1800  3000  2500  1066  1800  2200\n",
              "[169]  4500  1360  1500  1460   770  1030  2500  6994  1200  1300   850  1550\n",
              "[181]  2500  2200  1105  2300  2200   800  1380  2200  1957  3500   980  1600\n",
              "[193]  1200  2300  1500  2400  1900  2200  1000  1350   550  2500  1880   790\n",
              "[205]  3800  2500  3200  1090  1042  1200  2000  4000  2100  5000  2000  4950\n",
              "[217]  3400  1400  1200  8750  1540 12000  1099  1600  1629 14000  1100  4900\n",
              "[229]  4000 12500  8000  3700  1900  7700  1050  3800  1300  3500  1900 14000\n",
              "[241]  1000  3200  1000  1300  1000  1900  1100   930  1200  1300   867  6300\n",
              "[253]  3350   600  7000  1200  1105  2790  7000  1400   790  1450   990   900\n",
              "[265]  1100  2200  1045  4500 12000  1500  1000  2800  8900  1847  1615  1300\n",
              "[277]  1500  1100  7900  2400  1777  5860  1600  1500  1400   980   923   748\n",
              "[289]  2500  2200  2000  2800  1850  1330  1290  2000 13800   800  1350  3000\n",
              "[301]  1300  1150  2142  1250  1290  2600  1286   750  1600  2300  1100  2800\n",
              "[313]  5000  2000  3300   990   940  1200  1570  3800  4800  1200  2000 10840\n",
              "[325]  2700  2900  2100  1500   850  1000  4000   950  1310  1900  2500  2500\n",
              "[337]  2470  1800   750  1600  2450  1350   990  1080  1200  1170  1600  1800\n",
              "[349]   750   900   650   790  1200  1900  8000  2100  2100  2975   640  3825\n",
              "[361]  2200  1480  6450  1560  2200   915  2300  1000  5525  4000  7900  1330\n",
              "[373]  2500  2200  1346  1296 10500  6500   694  1100   550  2000  1200  4900\n",
              "[385]  2500  4000  2000   850  1780  3000  1400  3400  1800 12000  1500   800\n",
              "[397]  1300   940  1170  1600  1070   750   700  1125   637  1800  3400  3500\n",
              "[409]   950  2100  1200   985  3300  1150   600  1700  2200  3300  1700   950\n",
              "[421]  1200  1200  1100  1319   950  2200   985  1500  2740  1000  1500  1050\n",
              "[433]  1200   700   750  1500  2200  1300  3298   500   730  1880  1500  3000\n",
              "[445]  1100  1200  2000   750  2700  2500  1300  1950  1377  5100  3300  1250\n",
              "[457]  2950  1300   900  1950   550  1600  1300   680  3300  4480   650   880\n",
              "[469]  5048  2805  2550  4950  3900  1490  1650  2800  4000   755   750  2500\n",
              "[481]  6522  1200   850  2400   750   730  1800  1250   700  2666  1630   892\n",
              "[493]  1750  1500  2800  2900  4200  2500  1600  1600  2200  8250  7000  2200\n",
              "[505]  1500  3100  1300   900  8973  2400  1950  2100  1800   650  1125  2600\n",
              "[517]   950  3300  1020  1800  2900  1800  1240  2800  1050  1800  3500  1050\n",
              "[529]  5083  2300   500  3310   650  3440  1523  2350  1850  2400  3100  1900\n",
              "[541]  1900  2200  1260  1600  1000  1100  2200  2000  2200  4000  1500  4500\n",
              "[553] 12750  2400  1200   890  1000  4000  3500  3670  2200  2220  2500  1320\n",
              "[565]  4000  1460  1100  1150  1000   840  1180   600  1100 10000   900  1750\n",
              "[577]  2200  2800   960  5100  1000  3900  2300  3000   800  4000  4250   840\n",
              "[589]   900   950  2100   950  2800  1102  1110   700   960  7980  3200   850\n",
              "[601]  2300  1250  1350   780  1750   740   600  1800  2975   930  2150  1960\n",
              "[613]  2750  1920  1390  2780  2200  1400  1800  1090  1700  1638   650  1170\n",
              "[625]  1500  2200  1250  4800  1500  3990  1195  3500  3500  1800 15000  2700\n",
              "[637]  1100   750  1300  2200  1900  1100  1610  2400  1480  1700   880   500\n",
              "[649]  1870   700  1130   550  2250   770  1250  1600   850  1200  1770  1600\n",
              "[661]  1100  2800 10500  4000  1200  1090  1300  1020  2000   700  1900  1350\n",
              "[673]  1500  1200  4794  1300  1400   700  2200  1700  4500  1910   800  1130\n",
              "[685]  2000  2500 10500  1300  1200   833  7000  2500  1550  3300   650  1080\n",
              "[697]  2800  1000  1353  1400  1100  1500  2500  2900   700  1600   990   800\n",
              "[709]   550  1320  3000  1380  1200  8000  1070  1800   900   628   650  3250\n",
              "[721]  4740  1870   960  5445   860  3000  1250   500  1500  2000 10500  1400\n",
              "[733]  2700  1350  1085   769  2500  1390  1700   984   950  1100  1170  1200\n",
              "[745]  4050  2650  1250  2200  2200  1750  1400  1350   780  1350  1800  1550\n",
              "[757]  1200  2500  1399  2200  1600   815  2500  4270  2050  9000   950  1190\n",
              "[769]  1320  4500  1500  2000   940  1130  1612   700  1112  1800  8950  1200\n",
              "[781]  5100  4000  4000   800  1500   935  2900  3400  1000  3900  4000  3500\n",
              "[793]  1500  1250  5000  2000  1925   736  1200  3800"
            ],
            "text/latex": "\\begin{enumerate*}\n\\item 1180\n\\item 2040\n\\item 2750\n\\item 1084\n\\item 2300\n\\item 1750\n\\item 1600\n\\item 1600\n\\item 650\n\\item 2165\n\\item 1250\n\\item 1970\n\\item 900\n\\item 2500\n\\item 1240\n\\item 550\n\\item 980\n\\item 800\n\\item 1440\n\\item 15000\n\\item 4760\n\\item 9000\n\\item 1300\n\\item 1500\n\\item 2900\n\\item 1170\n\\item 700\n\\item 1100\n\\item 1700\n\\item 5500\n\\item 2500\n\\item 9000\n\\item 2800\n\\item 2700\n\\item 1445\n\\item 3400\n\\item 900\n\\item 1100\n\\item 1400\n\\item 4150\n\\item 1275\n\\item 800\n\\item 1700\n\\item 2200\n\\item 1100\n\\item 850\n\\item 2400\n\\item 2400\n\\item 807\n\\item 1556\n\\item 4300\n\\item 2390\n\\item 2200\n\\item 2350\n\\item 2500\n\\item 930\n\\item 2500\n\\item 10000\n\\item 1500\n\\item 2001\n\\item 1125\n\\item 2800\n\\item 1700\n\\item 3250\n\\item 1740\n\\item 1300\n\\item 2300\n\\item 1040\n\\item 4950\n\\item 1400\n\\item 2000\n\\item 2200\n\\item 2100\n\\item 1620\n\\item 2500\n\\item 800\n\\item 4800\n\\item 2000\n\\item 1400\n\\item 800\n\\item 13200\n\\item 890\n\\item 950\n\\item 3000\n\\item 1080\n\\item 2000\n\\item 920\n\\item 3600\n\\item 1600\n\\item 2550\n\\item 1700\n\\item 1200\n\\item 1300\n\\item 3000\n\\item 2525\n\\item 2100\n\\item 3300\n\\item 6000\n\\item 720\n\\item 5500\n\\item 1800\n\\item 8500\n\\item 3200\n\\item 550\n\\item 2400\n\\item 540\n\\item 800\n\\item 1995\n\\item 6150\n\\item 6500\n\\item 500\n\\item 4100\n\\item 586\n\\item 3250\n\\item 1000\n\\item 2070\n\\item 9000\n\\item 950\n\\item 2240\n\\item 1500\n\\item 4000\n\\item 1700\n\\item 2990\n\\item 2720\n\\item 4500\n\\item 1550\n\\item 1800\n\\item 2500\n\\item 1650\n\\item 1700\n\\item 1700\n\\item 2300\n\\item 4100\n\\item 1800\n\\item 4445\n\\item 2900\n\\item 2800\n\\item 1490\n\\item 1300\n\\item 5600\n\\item 2499\n\\item 5980\n\\item 2550\n\\item 1300\n\\item 1739\n\\item 2200\n\\item 870\n\\item 2125\n\\item 3000\n\\item 2300\n\\item 15000\n\\item 990\n\\item 2700\n\\item 800\n\\item 1800\n\\item 1480\n\\item 1350\n\\item 1350\n\\item 1200\n\\item 750\n\\item 5000\n\\item 2000\n\\item 1800\n\\item 3000\n\\item 2500\n\\item 1066\n\\item 1800\n\\item 2200\n\\item 4500\n\\item 1360\n\\item 1500\n\\item 1460\n\\item 770\n\\item 1030\n\\item 2500\n\\item 6994\n\\item 1200\n\\item 1300\n\\item 850\n\\item 1550\n\\item 2500\n\\item 2200\n\\item 1105\n\\item 2300\n\\item 2200\n\\item 800\n\\item 1380\n\\item 2200\n\\item 1957\n\\item 3500\n\\item 980\n\\item 1600\n\\item 1200\n\\item 2300\n\\item 1500\n\\item 2400\n\\item 1900\n\\item 2200\n\\item 1000\n\\item 1350\n\\item ⋯\n\\item 2300\n\\item 1250\n\\item 1350\n\\item 780\n\\item 1750\n\\item 740\n\\item 600\n\\item 1800\n\\item 2975\n\\item 930\n\\item 2150\n\\item 1960\n\\item 2750\n\\item 1920\n\\item 1390\n\\item 2780\n\\item 2200\n\\item 1400\n\\item 1800\n\\item 1090\n\\item 1700\n\\item 1638\n\\item 650\n\\item 1170\n\\item 1500\n\\item 2200\n\\item 1250\n\\item 4800\n\\item 1500\n\\item 3990\n\\item 1195\n\\item 3500\n\\item 3500\n\\item 1800\n\\item 15000\n\\item 2700\n\\item 1100\n\\item 750\n\\item 1300\n\\item 2200\n\\item 1900\n\\item 1100\n\\item 1610\n\\item 2400\n\\item 1480\n\\item 1700\n\\item 880\n\\item 500\n\\item 1870\n\\item 700\n\\item 1130\n\\item 550\n\\item 2250\n\\item 770\n\\item 1250\n\\item 1600\n\\item 850\n\\item 1200\n\\item 1770\n\\item 1600\n\\item 1100\n\\item 2800\n\\item 10500\n\\item 4000\n\\item 1200\n\\item 1090\n\\item 1300\n\\item 1020\n\\item 2000\n\\item 700\n\\item 1900\n\\item 1350\n\\item 1500\n\\item 1200\n\\item 4794\n\\item 1300\n\\item 1400\n\\item 700\n\\item 2200\n\\item 1700\n\\item 4500\n\\item 1910\n\\item 800\n\\item 1130\n\\item 2000\n\\item 2500\n\\item 10500\n\\item 1300\n\\item 1200\n\\item 833\n\\item 7000\n\\item 2500\n\\item 1550\n\\item 3300\n\\item 650\n\\item 1080\n\\item 2800\n\\item 1000\n\\item 1353\n\\item 1400\n\\item 1100\n\\item 1500\n\\item 2500\n\\item 2900\n\\item 700\n\\item 1600\n\\item 990\n\\item 800\n\\item 550\n\\item 1320\n\\item 3000\n\\item 1380\n\\item 1200\n\\item 8000\n\\item 1070\n\\item 1800\n\\item 900\n\\item 628\n\\item 650\n\\item 3250\n\\item 4740\n\\item 1870\n\\item 960\n\\item 5445\n\\item 860\n\\item 3000\n\\item 1250\n\\item 500\n\\item 1500\n\\item 2000\n\\item 10500\n\\item 1400\n\\item 2700\n\\item 1350\n\\item 1085\n\\item 769\n\\item 2500\n\\item 1390\n\\item 1700\n\\item 984\n\\item 950\n\\item 1100\n\\item 1170\n\\item 1200\n\\item 4050\n\\item 2650\n\\item 1250\n\\item 2200\n\\item 2200\n\\item 1750\n\\item 1400\n\\item 1350\n\\item 780\n\\item 1350\n\\item 1800\n\\item 1550\n\\item 1200\n\\item 2500\n\\item 1399\n\\item 2200\n\\item 1600\n\\item 815\n\\item 2500\n\\item 4270\n\\item 2050\n\\item 9000\n\\item 950\n\\item 1190\n\\item 1320\n\\item 4500\n\\item 1500\n\\item 2000\n\\item 940\n\\item 1130\n\\item 1612\n\\item 700\n\\item 1112\n\\item 1800\n\\item 8950\n\\item 1200\n\\item 5100\n\\item 4000\n\\item 4000\n\\item 800\n\\item 1500\n\\item 935\n\\item 2900\n\\item 3400\n\\item 1000\n\\item 3900\n\\item 4000\n\\item 3500\n\\item 1500\n\\item 1250\n\\item 5000\n\\item 2000\n\\item 1925\n\\item 736\n\\item 1200\n\\item 3800\n\\end{enumerate*}\n",
            "text/markdown": "1. 1180\n2. 2040\n3. 2750\n4. 1084\n5. 2300\n6. 1750\n7. 1600\n8. 1600\n9. 650\n10. 2165\n11. 1250\n12. 1970\n13. 900\n14. 2500\n15. 1240\n16. 550\n17. 980\n18. 800\n19. 1440\n20. 15000\n21. 4760\n22. 9000\n23. 1300\n24. 1500\n25. 2900\n26. 1170\n27. 700\n28. 1100\n29. 1700\n30. 5500\n31. 2500\n32. 9000\n33. 2800\n34. 2700\n35. 1445\n36. 3400\n37. 900\n38. 1100\n39. 1400\n40. 4150\n41. 1275\n42. 800\n43. 1700\n44. 2200\n45. 1100\n46. 850\n47. 2400\n48. 2400\n49. 807\n50. 1556\n51. 4300\n52. 2390\n53. 2200\n54. 2350\n55. 2500\n56. 930\n57. 2500\n58. 10000\n59. 1500\n60. 2001\n61. 1125\n62. 2800\n63. 1700\n64. 3250\n65. 1740\n66. 1300\n67. 2300\n68. 1040\n69. 4950\n70. 1400\n71. 2000\n72. 2200\n73. 2100\n74. 1620\n75. 2500\n76. 800\n77. 4800\n78. 2000\n79. 1400\n80. 800\n81. 13200\n82. 890\n83. 950\n84. 3000\n85. 1080\n86. 2000\n87. 920\n88. 3600\n89. 1600\n90. 2550\n91. 1700\n92. 1200\n93. 1300\n94. 3000\n95. 2525\n96. 2100\n97. 3300\n98. 6000\n99. 720\n100. 5500\n101. 1800\n102. 8500\n103. 3200\n104. 550\n105. 2400\n106. 540\n107. 800\n108. 1995\n109. 6150\n110. 6500\n111. 500\n112. 4100\n113. 586\n114. 3250\n115. 1000\n116. 2070\n117. 9000\n118. 950\n119. 2240\n120. 1500\n121. 4000\n122. 1700\n123. 2990\n124. 2720\n125. 4500\n126. 1550\n127. 1800\n128. 2500\n129. 1650\n130. 1700\n131. 1700\n132. 2300\n133. 4100\n134. 1800\n135. 4445\n136. 2900\n137. 2800\n138. 1490\n139. 1300\n140. 5600\n141. 2499\n142. 5980\n143. 2550\n144. 1300\n145. 1739\n146. 2200\n147. 870\n148. 2125\n149. 3000\n150. 2300\n151. 15000\n152. 990\n153. 2700\n154. 800\n155. 1800\n156. 1480\n157. 1350\n158. 1350\n159. 1200\n160. 750\n161. 5000\n162. 2000\n163. 1800\n164. 3000\n165. 2500\n166. 1066\n167. 1800\n168. 2200\n169. 4500\n170. 1360\n171. 1500\n172. 1460\n173. 770\n174. 1030\n175. 2500\n176. 6994\n177. 1200\n178. 1300\n179. 850\n180. 1550\n181. 2500\n182. 2200\n183. 1105\n184. 2300\n185. 2200\n186. 800\n187. 1380\n188. 2200\n189. 1957\n190. 3500\n191. 980\n192. 1600\n193. 1200\n194. 2300\n195. 1500\n196. 2400\n197. 1900\n198. 2200\n199. 1000\n200. 1350\n201. ⋯\n202. 2300\n203. 1250\n204. 1350\n205. 780\n206. 1750\n207. 740\n208. 600\n209. 1800\n210. 2975\n211. 930\n212. 2150\n213. 1960\n214. 2750\n215. 1920\n216. 1390\n217. 2780\n218. 2200\n219. 1400\n220. 1800\n221. 1090\n222. 1700\n223. 1638\n224. 650\n225. 1170\n226. 1500\n227. 2200\n228. 1250\n229. 4800\n230. 1500\n231. 3990\n232. 1195\n233. 3500\n234. 3500\n235. 1800\n236. 15000\n237. 2700\n238. 1100\n239. 750\n240. 1300\n241. 2200\n242. 1900\n243. 1100\n244. 1610\n245. 2400\n246. 1480\n247. 1700\n248. 880\n249. 500\n250. 1870\n251. 700\n252. 1130\n253. 550\n254. 2250\n255. 770\n256. 1250\n257. 1600\n258. 850\n259. 1200\n260. 1770\n261. 1600\n262. 1100\n263. 2800\n264. 10500\n265. 4000\n266. 1200\n267. 1090\n268. 1300\n269. 1020\n270. 2000\n271. 700\n272. 1900\n273. 1350\n274. 1500\n275. 1200\n276. 4794\n277. 1300\n278. 1400\n279. 700\n280. 2200\n281. 1700\n282. 4500\n283. 1910\n284. 800\n285. 1130\n286. 2000\n287. 2500\n288. 10500\n289. 1300\n290. 1200\n291. 833\n292. 7000\n293. 2500\n294. 1550\n295. 3300\n296. 650\n297. 1080\n298. 2800\n299. 1000\n300. 1353\n301. 1400\n302. 1100\n303. 1500\n304. 2500\n305. 2900\n306. 700\n307. 1600\n308. 990\n309. 800\n310. 550\n311. 1320\n312. 3000\n313. 1380\n314. 1200\n315. 8000\n316. 1070\n317. 1800\n318. 900\n319. 628\n320. 650\n321. 3250\n322. 4740\n323. 1870\n324. 960\n325. 5445\n326. 860\n327. 3000\n328. 1250\n329. 500\n330. 1500\n331. 2000\n332. 10500\n333. 1400\n334. 2700\n335. 1350\n336. 1085\n337. 769\n338. 2500\n339. 1390\n340. 1700\n341. 984\n342. 950\n343. 1100\n344. 1170\n345. 1200\n346. 4050\n347. 2650\n348. 1250\n349. 2200\n350. 2200\n351. 1750\n352. 1400\n353. 1350\n354. 780\n355. 1350\n356. 1800\n357. 1550\n358. 1200\n359. 2500\n360. 1399\n361. 2200\n362. 1600\n363. 815\n364. 2500\n365. 4270\n366. 2050\n367. 9000\n368. 950\n369. 1190\n370. 1320\n371. 4500\n372. 1500\n373. 2000\n374. 940\n375. 1130\n376. 1612\n377. 700\n378. 1112\n379. 1800\n380. 8950\n381. 1200\n382. 5100\n383. 4000\n384. 4000\n385. 800\n386. 1500\n387. 935\n388. 2900\n389. 3400\n390. 1000\n391. 3900\n392. 4000\n393. 3500\n394. 1500\n395. 1250\n396. 5000\n397. 2000\n398. 1925\n399. 736\n400. 1200\n401. 3800\n\n\n",
            "text/html": [
              "<style>\n",
              ".list-inline {list-style: none; margin:0; padding: 0}\n",
              ".list-inline>li {display: inline-block}\n",
              ".list-inline>li:not(:last-child)::after {content: \"\\00b7\"; padding: 0 .5ex}\n",
              "</style>\n",
              "<ol class=list-inline><li>1180</li><li>2040</li><li>2750</li><li>1084</li><li>2300</li><li>1750</li><li>1600</li><li>1600</li><li>650</li><li>2165</li><li>1250</li><li>1970</li><li>900</li><li>2500</li><li>1240</li><li>550</li><li>980</li><li>800</li><li>1440</li><li>15000</li><li>4760</li><li>9000</li><li>1300</li><li>1500</li><li>2900</li><li>1170</li><li>700</li><li>1100</li><li>1700</li><li>5500</li><li>2500</li><li>9000</li><li>2800</li><li>2700</li><li>1445</li><li>3400</li><li>900</li><li>1100</li><li>1400</li><li>4150</li><li>1275</li><li>800</li><li>1700</li><li>2200</li><li>1100</li><li>850</li><li>2400</li><li>2400</li><li>807</li><li>1556</li><li>4300</li><li>2390</li><li>2200</li><li>2350</li><li>2500</li><li>930</li><li>2500</li><li>10000</li><li>1500</li><li>2001</li><li>1125</li><li>2800</li><li>1700</li><li>3250</li><li>1740</li><li>1300</li><li>2300</li><li>1040</li><li>4950</li><li>1400</li><li>2000</li><li>2200</li><li>2100</li><li>1620</li><li>2500</li><li>800</li><li>4800</li><li>2000</li><li>1400</li><li>800</li><li>13200</li><li>890</li><li>950</li><li>3000</li><li>1080</li><li>2000</li><li>920</li><li>3600</li><li>1600</li><li>2550</li><li>1700</li><li>1200</li><li>1300</li><li>3000</li><li>2525</li><li>2100</li><li>3300</li><li>6000</li><li>720</li><li>5500</li><li>1800</li><li>8500</li><li>3200</li><li>550</li><li>2400</li><li>540</li><li>800</li><li>1995</li><li>6150</li><li>6500</li><li>500</li><li>4100</li><li>586</li><li>3250</li><li>1000</li><li>2070</li><li>9000</li><li>950</li><li>2240</li><li>1500</li><li>4000</li><li>1700</li><li>2990</li><li>2720</li><li>4500</li><li>1550</li><li>1800</li><li>2500</li><li>1650</li><li>1700</li><li>1700</li><li>2300</li><li>4100</li><li>1800</li><li>4445</li><li>2900</li><li>2800</li><li>1490</li><li>1300</li><li>5600</li><li>2499</li><li>5980</li><li>2550</li><li>1300</li><li>1739</li><li>2200</li><li>870</li><li>2125</li><li>3000</li><li>2300</li><li>15000</li><li>990</li><li>2700</li><li>800</li><li>1800</li><li>1480</li><li>1350</li><li>1350</li><li>1200</li><li>750</li><li>5000</li><li>2000</li><li>1800</li><li>3000</li><li>2500</li><li>1066</li><li>1800</li><li>2200</li><li>4500</li><li>1360</li><li>1500</li><li>1460</li><li>770</li><li>1030</li><li>2500</li><li>6994</li><li>1200</li><li>1300</li><li>850</li><li>1550</li><li>2500</li><li>2200</li><li>1105</li><li>2300</li><li>2200</li><li>800</li><li>1380</li><li>2200</li><li>1957</li><li>3500</li><li>980</li><li>1600</li><li>1200</li><li>2300</li><li>1500</li><li>2400</li><li>1900</li><li>2200</li><li>1000</li><li>1350</li><li>⋯</li><li>2300</li><li>1250</li><li>1350</li><li>780</li><li>1750</li><li>740</li><li>600</li><li>1800</li><li>2975</li><li>930</li><li>2150</li><li>1960</li><li>2750</li><li>1920</li><li>1390</li><li>2780</li><li>2200</li><li>1400</li><li>1800</li><li>1090</li><li>1700</li><li>1638</li><li>650</li><li>1170</li><li>1500</li><li>2200</li><li>1250</li><li>4800</li><li>1500</li><li>3990</li><li>1195</li><li>3500</li><li>3500</li><li>1800</li><li>15000</li><li>2700</li><li>1100</li><li>750</li><li>1300</li><li>2200</li><li>1900</li><li>1100</li><li>1610</li><li>2400</li><li>1480</li><li>1700</li><li>880</li><li>500</li><li>1870</li><li>700</li><li>1130</li><li>550</li><li>2250</li><li>770</li><li>1250</li><li>1600</li><li>850</li><li>1200</li><li>1770</li><li>1600</li><li>1100</li><li>2800</li><li>10500</li><li>4000</li><li>1200</li><li>1090</li><li>1300</li><li>1020</li><li>2000</li><li>700</li><li>1900</li><li>1350</li><li>1500</li><li>1200</li><li>4794</li><li>1300</li><li>1400</li><li>700</li><li>2200</li><li>1700</li><li>4500</li><li>1910</li><li>800</li><li>1130</li><li>2000</li><li>2500</li><li>10500</li><li>1300</li><li>1200</li><li>833</li><li>7000</li><li>2500</li><li>1550</li><li>3300</li><li>650</li><li>1080</li><li>2800</li><li>1000</li><li>1353</li><li>1400</li><li>1100</li><li>1500</li><li>2500</li><li>2900</li><li>700</li><li>1600</li><li>990</li><li>800</li><li>550</li><li>1320</li><li>3000</li><li>1380</li><li>1200</li><li>8000</li><li>1070</li><li>1800</li><li>900</li><li>628</li><li>650</li><li>3250</li><li>4740</li><li>1870</li><li>960</li><li>5445</li><li>860</li><li>3000</li><li>1250</li><li>500</li><li>1500</li><li>2000</li><li>10500</li><li>1400</li><li>2700</li><li>1350</li><li>1085</li><li>769</li><li>2500</li><li>1390</li><li>1700</li><li>984</li><li>950</li><li>1100</li><li>1170</li><li>1200</li><li>4050</li><li>2650</li><li>1250</li><li>2200</li><li>2200</li><li>1750</li><li>1400</li><li>1350</li><li>780</li><li>1350</li><li>1800</li><li>1550</li><li>1200</li><li>2500</li><li>1399</li><li>2200</li><li>1600</li><li>815</li><li>2500</li><li>4270</li><li>2050</li><li>9000</li><li>950</li><li>1190</li><li>1320</li><li>4500</li><li>1500</li><li>2000</li><li>940</li><li>1130</li><li>1612</li><li>700</li><li>1112</li><li>1800</li><li>8950</li><li>1200</li><li>5100</li><li>4000</li><li>4000</li><li>800</li><li>1500</li><li>935</li><li>2900</li><li>3400</li><li>1000</li><li>3900</li><li>4000</li><li>3500</li><li>1500</li><li>1250</li><li>5000</li><li>2000</li><li>1925</li><li>736</li><li>1200</li><li>3800</li></ol>\n"
            ]
          },
          "metadata": {}
        },
        {
          "output_type": "stream",
          "name": "stdout",
          "text": [
            "[1] 24\n",
            "[1] 776\n"
          ]
        },
        {
          "output_type": "display_data",
          "data": {
            "text/plain": [
              "  [1]  1310  1400  1550  1700  2100  2400  3800  1100  1000  4200  2550  4500\n",
              " [13]  9000  5500  4500   895   850  1300   970  2300  3000  3500   930  2300\n",
              " [25]  1500  9000  2600  1375  3200  5200  3000  3500  3350  7000   850 10000\n",
              " [37] 14000  1300   550  7900  1450  2500  2150  3000  5500  1200  1500  4500\n",
              " [49]  1100  1550  9000  1500  1450  1500 15000  1050   750  1600   525  1230\n",
              " [61]  1140   620  8000  1200  1150  1650  2700  2800  1100  1700  1500   950\n",
              " [73]  3400  4000  1030   900  1600   700  5000  3500  1250  1900  1050  1100\n",
              " [85]  3500  1000  1800  8000  1600  1300 15000 10000  2200  2000  2500  3000\n",
              " [97]  1600  9300   900   550  7500  1900  2100  1400  3500  9000  1200 15000\n",
              "[109]  1100  1100  1800  3000  1500  3700   890  1100  3000  1100   900  3300\n",
              "[121]  1600  4700  1600  1450  1525  2600 15000  3500  9000  3300  2300  2700\n",
              "[133]  2200  7000  7500  3900  1300  2000 10000  2400   450  4700  3500  3910\n",
              "[145]  1400  3000  1100  3000  1460  1480  9000  7100  1300  1400  1700  6520\n",
              "[157]   890   900  9240  1500  1530  3600  1000  6500  3500  8000  1200  1600\n",
              "[169]  3500  9000  4500  6400  2500  7880 13000  1200  1100  1400  6500  1000\n",
              "[181]  2200  1700  3450  4900  1600  2300  2000  2300  5250  1600  2500  3400\n",
              "[193]   550  1000  5300   800  1250  1300  3770  1500  2550   895  4100  1100\n",
              "[205]   644  1200  3500  2700 10000  6000  6320 12500  1020  1400  1100  3700\n",
              "[217] 15000 15000  6500  3080  6000  7900  1900  7000  2200  9600  1200  7500\n",
              "[229]  1100  2300  5570   650  9000  1000  6000  3610 11900   900   650  1100\n",
              "[241]  1850  4600  2500 15000  1200  1800  3000  8000  1700  1000  1098  1900\n",
              "[253]  1250  2300   730  1550  2200  4900  2250 15000   950  2200 15000  5500\n",
              "[265]  4800  1750 13000  7000   850  3500  1300   850  1450  1400  1000  2422\n",
              "[277]  2000  1950  2840   750  2800  3250   900  1400   850 12000  5000  2500\n",
              "[289]  3100  1050 13500  3500  2000  1300   800  2300  1140  6500  1100  8500\n",
              "[301]  2700  9000  2500  1100  1200  2200  3940  6100  3000  2750  1500  4000\n",
              "[313] 10000   900  2800  7200  4000  5900  2700  4200  4200  1500  1950  1400\n",
              "[325]  7000  5000  1100  1500  1250  2000  1100  2700  4500  3000  8500  1400\n",
              "[337]  1400  2100  3300  1280   950  2500   900  4100  1800  1020  2100  1400\n",
              "[349]  7900  3100 13000  1100  1300  1346  2400  7320 15000  1167  2100  2100\n",
              "[361]   970  2968  6000  3900  3600  1200  1000  3800  3600  5500  8075   880\n",
              "[373]  2500  7600  1000  1520  1501  1705  4800  1000  3300  2900  8400  1100\n",
              "[385]  1200  5000  1500  4500  5500  3400  1600  1200  8000  1800  1300  3000\n",
              "[397]  4600  3800  1200 12000  1100  1300  1000 15000  2000  3300  1050  2450\n",
              "[409]  2500 15000  1800  3500  5000  1100  1200  5200  1612  2300 12000 11000\n",
              "[421]  2500  4275  7650 14500  1200  8000  1200  4350  1250  1000  2900  6700\n",
              "[433]  2500  8000 10000   860  3500 12000  1300  7000  1670  2790  2300  4100\n",
              "[445]  1400  8900  1750  1360  4000  1200  4000  1600  4200  3250 11000   908\n",
              "[457]   900  2000  1100  4000  3100  1080   850  5500  1050  7900 15000  6000\n",
              "[469]  3044 10000  7000  1500 10000  1950  5400  3900  3500   900  6000  1050\n",
              "[481]  1000  1050  8000  1300  5500  7000  1700  2250  1100   750   950  3000\n",
              "[493]  2400   750  2870  8800   550  1359  1600   800  2600  1450  1950  1500\n",
              "[505]  4500  1000  3700  7000  1400  1200  1200   860  1000  1600  4200  3400\n",
              "[517]  3260   750  1500  4200   650  3500  1200  9000  1500  2400  1050  6000\n",
              "[529]   780  2690  1800  3780  2450  3000  4500  9000  1600  8000   665  1100\n",
              "[541]  1900  1100  1200  5140  2150  6500  1560  1500  1600  2600  2400  8500\n",
              "[553]  9876  1920   500  1040  6141  3000  8000  3400 12000   925  5000  1000\n",
              "[565]   900  3300  1210  1430  1000   705  1100  1070   970  1300  2000   777\n",
              "[577]  2500  1280  2602   800   650  3250  4500  1280  1800  4200   700  6200\n",
              "[589]  9700  3500  2125  3900  1633  5000  2690  2900  3200  3400  1500  1100\n",
              "[601]   800  2080  1000  3000   850  2600  1100  2800  1400  3500  2100 15000\n",
              "[613]  1250  3200  7000 10000  2350  1400  5500  7300  7500   800  2000   900\n",
              "[625]  2790  1500  4000  1250  8000  5950  7500  1600 15000  2200  1320   950\n",
              "[637]  1100  1000  3100  4500  2800  3170 14500 15000  7000   750  3400  1100\n",
              "[649]  1100  1300  3500  1000  1290  1500  1200   860  1600  2100  1800   840\n",
              "[661]  1100  6000  2300   900  1200  5600  7500  6800  1400 10000  6500  1850\n",
              "[673]   500  1000  1400  1700   700  2800  1100   700   850  1325  1500  6000\n",
              "[685]   900  1100  5580  4000  6300  1650  2000  1100  2200  2600   900   999\n",
              "[697]  7700  6000  2500  8000 13500  1300 14000 10000   970 11000  1500  1300\n",
              "[709]   800 11000   799   900  3500  1140  1500  2149  2350  4000  1300  4000\n",
              "[721]  2050  1500  2690  4900  1280  2550  1200  2900  6000  3000  1646  1100\n",
              "[733]  2400  6500  1500   900  1600  1600  7500 12000   915  4200 11000  5000\n",
              "[745]  1150  2975  1200  4100  1300   850  6500  1300  2600  1300  9000  1100\n",
              "[757]   913  9000  1100 15000  2500 12000  1200  1000  1600  2850  1100  8000\n",
              "[769]  1500  1200  1300 12750  4900 12500  8500  1150  3000 15000   970 15000\n",
              "[781]  1200  1100  1250  6000 13000 10500  6000  3800  2320  1400  8900  1100\n",
              "[793]  7000  2000 15000  2500  1000  1050  1500  2700"
            ],
            "text/latex": "\\begin{enumerate*}\n\\item 1310\n\\item 1400\n\\item 1550\n\\item 1700\n\\item 2100\n\\item 2400\n\\item 3800\n\\item 1100\n\\item 1000\n\\item 4200\n\\item 2550\n\\item 4500\n\\item 9000\n\\item 5500\n\\item 4500\n\\item 895\n\\item 850\n\\item 1300\n\\item 970\n\\item 2300\n\\item 3000\n\\item 3500\n\\item 930\n\\item 2300\n\\item 1500\n\\item 9000\n\\item 2600\n\\item 1375\n\\item 3200\n\\item 5200\n\\item 3000\n\\item 3500\n\\item 3350\n\\item 7000\n\\item 850\n\\item 10000\n\\item 14000\n\\item 1300\n\\item 550\n\\item 7900\n\\item 1450\n\\item 2500\n\\item 2150\n\\item 3000\n\\item 5500\n\\item 1200\n\\item 1500\n\\item 4500\n\\item 1100\n\\item 1550\n\\item 9000\n\\item 1500\n\\item 1450\n\\item 1500\n\\item 15000\n\\item 1050\n\\item 750\n\\item 1600\n\\item 525\n\\item 1230\n\\item 1140\n\\item 620\n\\item 8000\n\\item 1200\n\\item 1150\n\\item 1650\n\\item 2700\n\\item 2800\n\\item 1100\n\\item 1700\n\\item 1500\n\\item 950\n\\item 3400\n\\item 4000\n\\item 1030\n\\item 900\n\\item 1600\n\\item 700\n\\item 5000\n\\item 3500\n\\item 1250\n\\item 1900\n\\item 1050\n\\item 1100\n\\item 3500\n\\item 1000\n\\item 1800\n\\item 8000\n\\item 1600\n\\item 1300\n\\item 15000\n\\item 10000\n\\item 2200\n\\item 2000\n\\item 2500\n\\item 3000\n\\item 1600\n\\item 9300\n\\item 900\n\\item 550\n\\item 7500\n\\item 1900\n\\item 2100\n\\item 1400\n\\item 3500\n\\item 9000\n\\item 1200\n\\item 15000\n\\item 1100\n\\item 1100\n\\item 1800\n\\item 3000\n\\item 1500\n\\item 3700\n\\item 890\n\\item 1100\n\\item 3000\n\\item 1100\n\\item 900\n\\item 3300\n\\item 1600\n\\item 4700\n\\item 1600\n\\item 1450\n\\item 1525\n\\item 2600\n\\item 15000\n\\item 3500\n\\item 9000\n\\item 3300\n\\item 2300\n\\item 2700\n\\item 2200\n\\item 7000\n\\item 7500\n\\item 3900\n\\item 1300\n\\item 2000\n\\item 10000\n\\item 2400\n\\item 450\n\\item 4700\n\\item 3500\n\\item 3910\n\\item 1400\n\\item 3000\n\\item 1100\n\\item 3000\n\\item 1460\n\\item 1480\n\\item 9000\n\\item 7100\n\\item 1300\n\\item 1400\n\\item 1700\n\\item 6520\n\\item 890\n\\item 900\n\\item 9240\n\\item 1500\n\\item 1530\n\\item 3600\n\\item 1000\n\\item 6500\n\\item 3500\n\\item 8000\n\\item 1200\n\\item 1600\n\\item 3500\n\\item 9000\n\\item 4500\n\\item 6400\n\\item 2500\n\\item 7880\n\\item 13000\n\\item 1200\n\\item 1100\n\\item 1400\n\\item 6500\n\\item 1000\n\\item 2200\n\\item 1700\n\\item 3450\n\\item 4900\n\\item 1600\n\\item 2300\n\\item 2000\n\\item 2300\n\\item 5250\n\\item 1600\n\\item 2500\n\\item 3400\n\\item 550\n\\item 1000\n\\item 5300\n\\item 800\n\\item 1250\n\\item 1300\n\\item 3770\n\\item 1500\n\\item ⋯\n\\item 800\n\\item 2080\n\\item 1000\n\\item 3000\n\\item 850\n\\item 2600\n\\item 1100\n\\item 2800\n\\item 1400\n\\item 3500\n\\item 2100\n\\item 15000\n\\item 1250\n\\item 3200\n\\item 7000\n\\item 10000\n\\item 2350\n\\item 1400\n\\item 5500\n\\item 7300\n\\item 7500\n\\item 800\n\\item 2000\n\\item 900\n\\item 2790\n\\item 1500\n\\item 4000\n\\item 1250\n\\item 8000\n\\item 5950\n\\item 7500\n\\item 1600\n\\item 15000\n\\item 2200\n\\item 1320\n\\item 950\n\\item 1100\n\\item 1000\n\\item 3100\n\\item 4500\n\\item 2800\n\\item 3170\n\\item 14500\n\\item 15000\n\\item 7000\n\\item 750\n\\item 3400\n\\item 1100\n\\item 1100\n\\item 1300\n\\item 3500\n\\item 1000\n\\item 1290\n\\item 1500\n\\item 1200\n\\item 860\n\\item 1600\n\\item 2100\n\\item 1800\n\\item 840\n\\item 1100\n\\item 6000\n\\item 2300\n\\item 900\n\\item 1200\n\\item 5600\n\\item 7500\n\\item 6800\n\\item 1400\n\\item 10000\n\\item 6500\n\\item 1850\n\\item 500\n\\item 1000\n\\item 1400\n\\item 1700\n\\item 700\n\\item 2800\n\\item 1100\n\\item 700\n\\item 850\n\\item 1325\n\\item 1500\n\\item 6000\n\\item 900\n\\item 1100\n\\item 5580\n\\item 4000\n\\item 6300\n\\item 1650\n\\item 2000\n\\item 1100\n\\item 2200\n\\item 2600\n\\item 900\n\\item 999\n\\item 7700\n\\item 6000\n\\item 2500\n\\item 8000\n\\item 13500\n\\item 1300\n\\item 14000\n\\item 10000\n\\item 970\n\\item 11000\n\\item 1500\n\\item 1300\n\\item 800\n\\item 11000\n\\item 799\n\\item 900\n\\item 3500\n\\item 1140\n\\item 1500\n\\item 2149\n\\item 2350\n\\item 4000\n\\item 1300\n\\item 4000\n\\item 2050\n\\item 1500\n\\item 2690\n\\item 4900\n\\item 1280\n\\item 2550\n\\item 1200\n\\item 2900\n\\item 6000\n\\item 3000\n\\item 1646\n\\item 1100\n\\item 2400\n\\item 6500\n\\item 1500\n\\item 900\n\\item 1600\n\\item 1600\n\\item 7500\n\\item 12000\n\\item 915\n\\item 4200\n\\item 11000\n\\item 5000\n\\item 1150\n\\item 2975\n\\item 1200\n\\item 4100\n\\item 1300\n\\item 850\n\\item 6500\n\\item 1300\n\\item 2600\n\\item 1300\n\\item 9000\n\\item 1100\n\\item 913\n\\item 9000\n\\item 1100\n\\item 15000\n\\item 2500\n\\item 12000\n\\item 1200\n\\item 1000\n\\item 1600\n\\item 2850\n\\item 1100\n\\item 8000\n\\item 1500\n\\item 1200\n\\item 1300\n\\item 12750\n\\item 4900\n\\item 12500\n\\item 8500\n\\item 1150\n\\item 3000\n\\item 15000\n\\item 970\n\\item 15000\n\\item 1200\n\\item 1100\n\\item 1250\n\\item 6000\n\\item 13000\n\\item 10500\n\\item 6000\n\\item 3800\n\\item 2320\n\\item 1400\n\\item 8900\n\\item 1100\n\\item 7000\n\\item 2000\n\\item 15000\n\\item 2500\n\\item 1000\n\\item 1050\n\\item 1500\n\\item 2700\n\\end{enumerate*}\n",
            "text/markdown": "1. 1310\n2. 1400\n3. 1550\n4. 1700\n5. 2100\n6. 2400\n7. 3800\n8. 1100\n9. 1000\n10. 4200\n11. 2550\n12. 4500\n13. 9000\n14. 5500\n15. 4500\n16. 895\n17. 850\n18. 1300\n19. 970\n20. 2300\n21. 3000\n22. 3500\n23. 930\n24. 2300\n25. 1500\n26. 9000\n27. 2600\n28. 1375\n29. 3200\n30. 5200\n31. 3000\n32. 3500\n33. 3350\n34. 7000\n35. 850\n36. 10000\n37. 14000\n38. 1300\n39. 550\n40. 7900\n41. 1450\n42. 2500\n43. 2150\n44. 3000\n45. 5500\n46. 1200\n47. 1500\n48. 4500\n49. 1100\n50. 1550\n51. 9000\n52. 1500\n53. 1450\n54. 1500\n55. 15000\n56. 1050\n57. 750\n58. 1600\n59. 525\n60. 1230\n61. 1140\n62. 620\n63. 8000\n64. 1200\n65. 1150\n66. 1650\n67. 2700\n68. 2800\n69. 1100\n70. 1700\n71. 1500\n72. 950\n73. 3400\n74. 4000\n75. 1030\n76. 900\n77. 1600\n78. 700\n79. 5000\n80. 3500\n81. 1250\n82. 1900\n83. 1050\n84. 1100\n85. 3500\n86. 1000\n87. 1800\n88. 8000\n89. 1600\n90. 1300\n91. 15000\n92. 10000\n93. 2200\n94. 2000\n95. 2500\n96. 3000\n97. 1600\n98. 9300\n99. 900\n100. 550\n101. 7500\n102. 1900\n103. 2100\n104. 1400\n105. 3500\n106. 9000\n107. 1200\n108. 15000\n109. 1100\n110. 1100\n111. 1800\n112. 3000\n113. 1500\n114. 3700\n115. 890\n116. 1100\n117. 3000\n118. 1100\n119. 900\n120. 3300\n121. 1600\n122. 4700\n123. 1600\n124. 1450\n125. 1525\n126. 2600\n127. 15000\n128. 3500\n129. 9000\n130. 3300\n131. 2300\n132. 2700\n133. 2200\n134. 7000\n135. 7500\n136. 3900\n137. 1300\n138. 2000\n139. 10000\n140. 2400\n141. 450\n142. 4700\n143. 3500\n144. 3910\n145. 1400\n146. 3000\n147. 1100\n148. 3000\n149. 1460\n150. 1480\n151. 9000\n152. 7100\n153. 1300\n154. 1400\n155. 1700\n156. 6520\n157. 890\n158. 900\n159. 9240\n160. 1500\n161. 1530\n162. 3600\n163. 1000\n164. 6500\n165. 3500\n166. 8000\n167. 1200\n168. 1600\n169. 3500\n170. 9000\n171. 4500\n172. 6400\n173. 2500\n174. 7880\n175. 13000\n176. 1200\n177. 1100\n178. 1400\n179. 6500\n180. 1000\n181. 2200\n182. 1700\n183. 3450\n184. 4900\n185. 1600\n186. 2300\n187. 2000\n188. 2300\n189. 5250\n190. 1600\n191. 2500\n192. 3400\n193. 550\n194. 1000\n195. 5300\n196. 800\n197. 1250\n198. 1300\n199. 3770\n200. 1500\n201. ⋯\n202. 800\n203. 2080\n204. 1000\n205. 3000\n206. 850\n207. 2600\n208. 1100\n209. 2800\n210. 1400\n211. 3500\n212. 2100\n213. 15000\n214. 1250\n215. 3200\n216. 7000\n217. 10000\n218. 2350\n219. 1400\n220. 5500\n221. 7300\n222. 7500\n223. 800\n224. 2000\n225. 900\n226. 2790\n227. 1500\n228. 4000\n229. 1250\n230. 8000\n231. 5950\n232. 7500\n233. 1600\n234. 15000\n235. 2200\n236. 1320\n237. 950\n238. 1100\n239. 1000\n240. 3100\n241. 4500\n242. 2800\n243. 3170\n244. 14500\n245. 15000\n246. 7000\n247. 750\n248. 3400\n249. 1100\n250. 1100\n251. 1300\n252. 3500\n253. 1000\n254. 1290\n255. 1500\n256. 1200\n257. 860\n258. 1600\n259. 2100\n260. 1800\n261. 840\n262. 1100\n263. 6000\n264. 2300\n265. 900\n266. 1200\n267. 5600\n268. 7500\n269. 6800\n270. 1400\n271. 10000\n272. 6500\n273. 1850\n274. 500\n275. 1000\n276. 1400\n277. 1700\n278. 700\n279. 2800\n280. 1100\n281. 700\n282. 850\n283. 1325\n284. 1500\n285. 6000\n286. 900\n287. 1100\n288. 5580\n289. 4000\n290. 6300\n291. 1650\n292. 2000\n293. 1100\n294. 2200\n295. 2600\n296. 900\n297. 999\n298. 7700\n299. 6000\n300. 2500\n301. 8000\n302. 13500\n303. 1300\n304. 14000\n305. 10000\n306. 970\n307. 11000\n308. 1500\n309. 1300\n310. 800\n311. 11000\n312. 799\n313. 900\n314. 3500\n315. 1140\n316. 1500\n317. 2149\n318. 2350\n319. 4000\n320. 1300\n321. 4000\n322. 2050\n323. 1500\n324. 2690\n325. 4900\n326. 1280\n327. 2550\n328. 1200\n329. 2900\n330. 6000\n331. 3000\n332. 1646\n333. 1100\n334. 2400\n335. 6500\n336. 1500\n337. 900\n338. 1600\n339. 1600\n340. 7500\n341. 12000\n342. 915\n343. 4200\n344. 11000\n345. 5000\n346. 1150\n347. 2975\n348. 1200\n349. 4100\n350. 1300\n351. 850\n352. 6500\n353. 1300\n354. 2600\n355. 1300\n356. 9000\n357. 1100\n358. 913\n359. 9000\n360. 1100\n361. 15000\n362. 2500\n363. 12000\n364. 1200\n365. 1000\n366. 1600\n367. 2850\n368. 1100\n369. 8000\n370. 1500\n371. 1200\n372. 1300\n373. 12750\n374. 4900\n375. 12500\n376. 8500\n377. 1150\n378. 3000\n379. 15000\n380. 970\n381. 15000\n382. 1200\n383. 1100\n384. 1250\n385. 6000\n386. 13000\n387. 10500\n388. 6000\n389. 3800\n390. 2320\n391. 1400\n392. 8900\n393. 1100\n394. 7000\n395. 2000\n396. 15000\n397. 2500\n398. 1000\n399. 1050\n400. 1500\n401. 2700\n\n\n",
            "text/html": [
              "<style>\n",
              ".list-inline {list-style: none; margin:0; padding: 0}\n",
              ".list-inline>li {display: inline-block}\n",
              ".list-inline>li:not(:last-child)::after {content: \"\\00b7\"; padding: 0 .5ex}\n",
              "</style>\n",
              "<ol class=list-inline><li>1310</li><li>1400</li><li>1550</li><li>1700</li><li>2100</li><li>2400</li><li>3800</li><li>1100</li><li>1000</li><li>4200</li><li>2550</li><li>4500</li><li>9000</li><li>5500</li><li>4500</li><li>895</li><li>850</li><li>1300</li><li>970</li><li>2300</li><li>3000</li><li>3500</li><li>930</li><li>2300</li><li>1500</li><li>9000</li><li>2600</li><li>1375</li><li>3200</li><li>5200</li><li>3000</li><li>3500</li><li>3350</li><li>7000</li><li>850</li><li>10000</li><li>14000</li><li>1300</li><li>550</li><li>7900</li><li>1450</li><li>2500</li><li>2150</li><li>3000</li><li>5500</li><li>1200</li><li>1500</li><li>4500</li><li>1100</li><li>1550</li><li>9000</li><li>1500</li><li>1450</li><li>1500</li><li>15000</li><li>1050</li><li>750</li><li>1600</li><li>525</li><li>1230</li><li>1140</li><li>620</li><li>8000</li><li>1200</li><li>1150</li><li>1650</li><li>2700</li><li>2800</li><li>1100</li><li>1700</li><li>1500</li><li>950</li><li>3400</li><li>4000</li><li>1030</li><li>900</li><li>1600</li><li>700</li><li>5000</li><li>3500</li><li>1250</li><li>1900</li><li>1050</li><li>1100</li><li>3500</li><li>1000</li><li>1800</li><li>8000</li><li>1600</li><li>1300</li><li>15000</li><li>10000</li><li>2200</li><li>2000</li><li>2500</li><li>3000</li><li>1600</li><li>9300</li><li>900</li><li>550</li><li>7500</li><li>1900</li><li>2100</li><li>1400</li><li>3500</li><li>9000</li><li>1200</li><li>15000</li><li>1100</li><li>1100</li><li>1800</li><li>3000</li><li>1500</li><li>3700</li><li>890</li><li>1100</li><li>3000</li><li>1100</li><li>900</li><li>3300</li><li>1600</li><li>4700</li><li>1600</li><li>1450</li><li>1525</li><li>2600</li><li>15000</li><li>3500</li><li>9000</li><li>3300</li><li>2300</li><li>2700</li><li>2200</li><li>7000</li><li>7500</li><li>3900</li><li>1300</li><li>2000</li><li>10000</li><li>2400</li><li>450</li><li>4700</li><li>3500</li><li>3910</li><li>1400</li><li>3000</li><li>1100</li><li>3000</li><li>1460</li><li>1480</li><li>9000</li><li>7100</li><li>1300</li><li>1400</li><li>1700</li><li>6520</li><li>890</li><li>900</li><li>9240</li><li>1500</li><li>1530</li><li>3600</li><li>1000</li><li>6500</li><li>3500</li><li>8000</li><li>1200</li><li>1600</li><li>3500</li><li>9000</li><li>4500</li><li>6400</li><li>2500</li><li>7880</li><li>13000</li><li>1200</li><li>1100</li><li>1400</li><li>6500</li><li>1000</li><li>2200</li><li>1700</li><li>3450</li><li>4900</li><li>1600</li><li>2300</li><li>2000</li><li>2300</li><li>5250</li><li>1600</li><li>2500</li><li>3400</li><li>550</li><li>1000</li><li>5300</li><li>800</li><li>1250</li><li>1300</li><li>3770</li><li>1500</li><li>⋯</li><li>800</li><li>2080</li><li>1000</li><li>3000</li><li>850</li><li>2600</li><li>1100</li><li>2800</li><li>1400</li><li>3500</li><li>2100</li><li>15000</li><li>1250</li><li>3200</li><li>7000</li><li>10000</li><li>2350</li><li>1400</li><li>5500</li><li>7300</li><li>7500</li><li>800</li><li>2000</li><li>900</li><li>2790</li><li>1500</li><li>4000</li><li>1250</li><li>8000</li><li>5950</li><li>7500</li><li>1600</li><li>15000</li><li>2200</li><li>1320</li><li>950</li><li>1100</li><li>1000</li><li>3100</li><li>4500</li><li>2800</li><li>3170</li><li>14500</li><li>15000</li><li>7000</li><li>750</li><li>3400</li><li>1100</li><li>1100</li><li>1300</li><li>3500</li><li>1000</li><li>1290</li><li>1500</li><li>1200</li><li>860</li><li>1600</li><li>2100</li><li>1800</li><li>840</li><li>1100</li><li>6000</li><li>2300</li><li>900</li><li>1200</li><li>5600</li><li>7500</li><li>6800</li><li>1400</li><li>10000</li><li>6500</li><li>1850</li><li>500</li><li>1000</li><li>1400</li><li>1700</li><li>700</li><li>2800</li><li>1100</li><li>700</li><li>850</li><li>1325</li><li>1500</li><li>6000</li><li>900</li><li>1100</li><li>5580</li><li>4000</li><li>6300</li><li>1650</li><li>2000</li><li>1100</li><li>2200</li><li>2600</li><li>900</li><li>999</li><li>7700</li><li>6000</li><li>2500</li><li>8000</li><li>13500</li><li>1300</li><li>14000</li><li>10000</li><li>970</li><li>11000</li><li>1500</li><li>1300</li><li>800</li><li>11000</li><li>799</li><li>900</li><li>3500</li><li>1140</li><li>1500</li><li>2149</li><li>2350</li><li>4000</li><li>1300</li><li>4000</li><li>2050</li><li>1500</li><li>2690</li><li>4900</li><li>1280</li><li>2550</li><li>1200</li><li>2900</li><li>6000</li><li>3000</li><li>1646</li><li>1100</li><li>2400</li><li>6500</li><li>1500</li><li>900</li><li>1600</li><li>1600</li><li>7500</li><li>12000</li><li>915</li><li>4200</li><li>11000</li><li>5000</li><li>1150</li><li>2975</li><li>1200</li><li>4100</li><li>1300</li><li>850</li><li>6500</li><li>1300</li><li>2600</li><li>1300</li><li>9000</li><li>1100</li><li>913</li><li>9000</li><li>1100</li><li>15000</li><li>2500</li><li>12000</li><li>1200</li><li>1000</li><li>1600</li><li>2850</li><li>1100</li><li>8000</li><li>1500</li><li>1200</li><li>1300</li><li>12750</li><li>4900</li><li>12500</li><li>8500</li><li>1150</li><li>3000</li><li>15000</li><li>970</li><li>15000</li><li>1200</li><li>1100</li><li>1250</li><li>6000</li><li>13000</li><li>10500</li><li>6000</li><li>3800</li><li>2320</li><li>1400</li><li>8900</li><li>1100</li><li>7000</li><li>2000</li><li>15000</li><li>2500</li><li>1000</li><li>1050</li><li>1500</li><li>2700</li></ol>\n"
            ]
          },
          "metadata": {}
        },
        {
          "output_type": "stream",
          "name": "stdout",
          "text": [
            "[1] 24\n",
            "[1] 776\n"
          ]
        },
        {
          "output_type": "display_data",
          "data": {
            "text/plain": [
              "  [1]  6500 13000  1900  1050   800   870  1950  1140  1800  2000   870  2300\n",
              " [13]   580  1100  1000   850  1050  3300  3170  1200  5000  4000  2270  1690\n",
              " [25]  2210  1750   800  1300  8000  3300   918  2340  2200  1800  1450  4147\n",
              " [37]  2200  1750   760  1100  1400  6000  1500   940  9500  1700  1100   500\n",
              " [49]  2000  6000  1274  1000  2200  1235  1341  1100  1400  4000 15000  7900\n",
              " [61]   500  1150   600   580   890  1600  1320  1300  4500   750  1080   800\n",
              " [73]  7950  1200  1233   935   660   500  1250  8700  1300  4850  2860  3700\n",
              " [85]   520   900   860   595  6700  5500  1545   770  2167  3300  1100   880\n",
              " [97]  1370  1680  1800  1500 10000  6800  1700   600  1268  2050  1450  3910\n",
              "[109]  3000  1600  3400  1100  3000  3500  1200   831  1750  1000   550  3100\n",
              "[121]   850  3400   680  1450  1900   977  1897  4860  2200  2700  2500  1800\n",
              "[133]  2362  1000  2000  4300   690   850  1100  3700  1000  1500  1000  1100\n",
              "[145]  1590 11000   550  1500   647  2004  1600  1000  1900  1900   700   750\n",
              "[157]  6000  7735   850  1600   950   770  1800  1100   870  1600  1950  1400\n",
              "[169]  1600  5500  2500  5400  1000  1600  1080  4100  2800  3200  7700   650\n",
              "[181]   720  1300  1800   583  2004  1800   950  3500  1400  2350  1250  1750\n",
              "[193]  1600   908  5000  1650  7000  1400   987   720  1300   807  1150  1500\n",
              "[205]  4000  1800  8500  4200   980  2600  1200  2500  5100   950   750  3200\n",
              "[217]  8000  1700  1200  1000  1600  1850  1080  1200  8000   650   700  1410\n",
              "[229]  4550   830  1250   550  1189  1690  7000  2100  1100  1300  8000  3400\n",
              "[241]   892  3800   900  1200   550   720  2500  1300  2200  1320  2000   650\n",
              "[253]  1090  8000  8000  2500  1338  3050   740  2961   960  3310  2000  1000\n",
              "[265]  3000  2240  1040  8000  6500  2200  2200   500  2040   650  4500  1200\n",
              "[277]  3300  3300  4000  1200  3100  3300  1000  1700  3500   730  6200   550\n",
              "[289]   742  3950  8000  1400   650  2470  1700  1180   930  1600  3825  2380\n",
              "[301]  1050  1400  2250  1700   900   850  1300  1200  5500  2400   700  3400\n",
              "[313]  1200  1800  2400  3800  1100  2000  3000  3200  3500  1790  3579   916\n",
              "[325]  1850  1000  1100  9000   700  7000  1500   940  2500   700   930  2000\n",
              "[337]  1900  1000  1300   820  5000  4100  2100  1000   700  1200  1300  3500\n",
              "[349]  1100  1300  1300   800  1500  2800 10400   780   709  3200   600  1900\n",
              "[361]  3240  2000   500  2000  1134  3000  1400  1200  1350  1310  5100  1100\n",
              "[373]  1800   900  1270   950  2700  3800 10000   900   650  3400 10000  1020\n",
              "[385]  1500  1700  1200  2400  3300  1000  2300   814  1300   600  3460  1060\n",
              "[397]   720   580  1090  2330  4200   991  1800  3200  2500  1545  1964  1400\n",
              "[409]  1500  4000   503  2525  1200  1200  3300   500   700 13000 10500  5500\n",
              "[421]   820  2250  2125   560  1000  2300 11000  1540  1200  1700   550  1080\n",
              "[433]  1000   700  4500   700  7500  3200  1950  2500  2500  7500  3500  1800\n",
              "[445]  1500   966  1000   970  3200   850  1300  1100  2362   820  1100  1020\n",
              "[457]  1300  2200   800  1584  2280  1000   900  2000   850  3900  5900  4000\n",
              "[469]  2200  5000 15000   680  1040  1850  5200  1350  1364 12000  5000   700\n",
              "[481]   750  1800  5200   500  1600  1400   980  2200   950   650  2370  1600\n",
              "[493]   935   800  1195   960  2490   550  1000  9500  1600  2650  5500  2000\n",
              "[505]  1130  2800  2230   650  3180  1200   900  1500  1000  5500   800   750\n",
              "[517]  2200   650  1200   850   840  3000  1020  1160  2500  1200 13500  1500\n",
              "[529]  6000  9500  2800  5500   700  8000  3200  1275  7000  2600   730   940\n",
              "[541]   999  1800  2400  1148  1128  1500   720  1500  2500  1400  3110  9800\n",
              "[553]   680  1800   890  3000   750   846  2300  1075  4920  3804  1620   808\n",
              "[565]  1200  8500  1500  7330   600  3230  2550  3250  5900   700  3900   850\n",
              "[577]  2000  2800   520  1000  4200  2600  3700   700  5000  1200 15000  1000\n",
              "[589]  7700  1190   740   880  2290  4000   790  1500 13000  3700  1600  1450\n",
              "[601]  1000   750   500  1200   800   980  1000  2000  5700   970   900  1193\n",
              "[613]  4800  7500  1300   720   500  4200  1800  1700  2000  1650  2700  1000\n",
              "[625]  1610  3600  1100  1700   825  2100   716  1100  2400  7225  2930  3200\n",
              "[637]   555  7900  1200  1300  2848  2690  1390  1300  2300   800  1580  1200\n",
              "[649]  1600  1170  1170  3610  4000  1200  1100  1200   750   500  3700  2500\n",
              "[661]   800  1000   520  2100   880   950  1200  1300  1500  1800  3000  2000\n",
              "[673]  1600  1030  1020  1600   600  2300  2100  3500  1200   650   900  1000\n",
              "[685]   749   510   950   800  1173  1900  2000   980  1360 12000  1328  2050\n",
              "[697]  1100  7220  1840  7900  1100  1500  2000  3315   736  2400  1940  1200\n",
              "[709]  1200   700  7600  1700 12000  3300  1200   980  3000  6500  5500  1310\n",
              "[721]   500  1100  3200  1200  1500 14000  1600  1190  1134  8500   950   954\n",
              "[733]  1000   800  5500  2200   500  1800  2400  1397  1087  3500   820  4200\n",
              "[745]  3500  1000  1000   700  5100  2800  1190  4348  1250   815   650  9000\n",
              "[757]  1500  1000  1450   800   870  1700  5830   980   900  4600  2800   670\n",
              "[769]   740  1950  2010  1100   702  6000  1100  1900   730   650  2000   770\n",
              "[781]   500  1100  3800  2200   850   900  2600  2500  1890  1620  1935   850\n",
              "[793]  2000  3240  3500  1100  3200  1450  1600  2800"
            ],
            "text/latex": "\\begin{enumerate*}\n\\item 6500\n\\item 13000\n\\item 1900\n\\item 1050\n\\item 800\n\\item 870\n\\item 1950\n\\item 1140\n\\item 1800\n\\item 2000\n\\item 870\n\\item 2300\n\\item 580\n\\item 1100\n\\item 1000\n\\item 850\n\\item 1050\n\\item 3300\n\\item 3170\n\\item 1200\n\\item 5000\n\\item 4000\n\\item 2270\n\\item 1690\n\\item 2210\n\\item 1750\n\\item 800\n\\item 1300\n\\item 8000\n\\item 3300\n\\item 918\n\\item 2340\n\\item 2200\n\\item 1800\n\\item 1450\n\\item 4147\n\\item 2200\n\\item 1750\n\\item 760\n\\item 1100\n\\item 1400\n\\item 6000\n\\item 1500\n\\item 940\n\\item 9500\n\\item 1700\n\\item 1100\n\\item 500\n\\item 2000\n\\item 6000\n\\item 1274\n\\item 1000\n\\item 2200\n\\item 1235\n\\item 1341\n\\item 1100\n\\item 1400\n\\item 4000\n\\item 15000\n\\item 7900\n\\item 500\n\\item 1150\n\\item 600\n\\item 580\n\\item 890\n\\item 1600\n\\item 1320\n\\item 1300\n\\item 4500\n\\item 750\n\\item 1080\n\\item 800\n\\item 7950\n\\item 1200\n\\item 1233\n\\item 935\n\\item 660\n\\item 500\n\\item 1250\n\\item 8700\n\\item 1300\n\\item 4850\n\\item 2860\n\\item 3700\n\\item 520\n\\item 900\n\\item 860\n\\item 595\n\\item 6700\n\\item 5500\n\\item 1545\n\\item 770\n\\item 2167\n\\item 3300\n\\item 1100\n\\item 880\n\\item 1370\n\\item 1680\n\\item 1800\n\\item 1500\n\\item 10000\n\\item 6800\n\\item 1700\n\\item 600\n\\item 1268\n\\item 2050\n\\item 1450\n\\item 3910\n\\item 3000\n\\item 1600\n\\item 3400\n\\item 1100\n\\item 3000\n\\item 3500\n\\item 1200\n\\item 831\n\\item 1750\n\\item 1000\n\\item 550\n\\item 3100\n\\item 850\n\\item 3400\n\\item 680\n\\item 1450\n\\item 1900\n\\item 977\n\\item 1897\n\\item 4860\n\\item 2200\n\\item 2700\n\\item 2500\n\\item 1800\n\\item 2362\n\\item 1000\n\\item 2000\n\\item 4300\n\\item 690\n\\item 850\n\\item 1100\n\\item 3700\n\\item 1000\n\\item 1500\n\\item 1000\n\\item 1100\n\\item 1590\n\\item 11000\n\\item 550\n\\item 1500\n\\item 647\n\\item 2004\n\\item 1600\n\\item 1000\n\\item 1900\n\\item 1900\n\\item 700\n\\item 750\n\\item 6000\n\\item 7735\n\\item 850\n\\item 1600\n\\item 950\n\\item 770\n\\item 1800\n\\item 1100\n\\item 870\n\\item 1600\n\\item 1950\n\\item 1400\n\\item 1600\n\\item 5500\n\\item 2500\n\\item 5400\n\\item 1000\n\\item 1600\n\\item 1080\n\\item 4100\n\\item 2800\n\\item 3200\n\\item 7700\n\\item 650\n\\item 720\n\\item 1300\n\\item 1800\n\\item 583\n\\item 2004\n\\item 1800\n\\item 950\n\\item 3500\n\\item 1400\n\\item 2350\n\\item 1250\n\\item 1750\n\\item 1600\n\\item 908\n\\item 5000\n\\item 1650\n\\item 7000\n\\item 1400\n\\item 987\n\\item 720\n\\item ⋯\n\\item 1000\n\\item 750\n\\item 500\n\\item 1200\n\\item 800\n\\item 980\n\\item 1000\n\\item 2000\n\\item 5700\n\\item 970\n\\item 900\n\\item 1193\n\\item 4800\n\\item 7500\n\\item 1300\n\\item 720\n\\item 500\n\\item 4200\n\\item 1800\n\\item 1700\n\\item 2000\n\\item 1650\n\\item 2700\n\\item 1000\n\\item 1610\n\\item 3600\n\\item 1100\n\\item 1700\n\\item 825\n\\item 2100\n\\item 716\n\\item 1100\n\\item 2400\n\\item 7225\n\\item 2930\n\\item 3200\n\\item 555\n\\item 7900\n\\item 1200\n\\item 1300\n\\item 2848\n\\item 2690\n\\item 1390\n\\item 1300\n\\item 2300\n\\item 800\n\\item 1580\n\\item 1200\n\\item 1600\n\\item 1170\n\\item 1170\n\\item 3610\n\\item 4000\n\\item 1200\n\\item 1100\n\\item 1200\n\\item 750\n\\item 500\n\\item 3700\n\\item 2500\n\\item 800\n\\item 1000\n\\item 520\n\\item 2100\n\\item 880\n\\item 950\n\\item 1200\n\\item 1300\n\\item 1500\n\\item 1800\n\\item 3000\n\\item 2000\n\\item 1600\n\\item 1030\n\\item 1020\n\\item 1600\n\\item 600\n\\item 2300\n\\item 2100\n\\item 3500\n\\item 1200\n\\item 650\n\\item 900\n\\item 1000\n\\item 749\n\\item 510\n\\item 950\n\\item 800\n\\item 1173\n\\item 1900\n\\item 2000\n\\item 980\n\\item 1360\n\\item 12000\n\\item 1328\n\\item 2050\n\\item 1100\n\\item 7220\n\\item 1840\n\\item 7900\n\\item 1100\n\\item 1500\n\\item 2000\n\\item 3315\n\\item 736\n\\item 2400\n\\item 1940\n\\item 1200\n\\item 1200\n\\item 700\n\\item 7600\n\\item 1700\n\\item 12000\n\\item 3300\n\\item 1200\n\\item 980\n\\item 3000\n\\item 6500\n\\item 5500\n\\item 1310\n\\item 500\n\\item 1100\n\\item 3200\n\\item 1200\n\\item 1500\n\\item 14000\n\\item 1600\n\\item 1190\n\\item 1134\n\\item 8500\n\\item 950\n\\item 954\n\\item 1000\n\\item 800\n\\item 5500\n\\item 2200\n\\item 500\n\\item 1800\n\\item 2400\n\\item 1397\n\\item 1087\n\\item 3500\n\\item 820\n\\item 4200\n\\item 3500\n\\item 1000\n\\item 1000\n\\item 700\n\\item 5100\n\\item 2800\n\\item 1190\n\\item 4348\n\\item 1250\n\\item 815\n\\item 650\n\\item 9000\n\\item 1500\n\\item 1000\n\\item 1450\n\\item 800\n\\item 870\n\\item 1700\n\\item 5830\n\\item 980\n\\item 900\n\\item 4600\n\\item 2800\n\\item 670\n\\item 740\n\\item 1950\n\\item 2010\n\\item 1100\n\\item 702\n\\item 6000\n\\item 1100\n\\item 1900\n\\item 730\n\\item 650\n\\item 2000\n\\item 770\n\\item 500\n\\item 1100\n\\item 3800\n\\item 2200\n\\item 850\n\\item 900\n\\item 2600\n\\item 2500\n\\item 1890\n\\item 1620\n\\item 1935\n\\item 850\n\\item 2000\n\\item 3240\n\\item 3500\n\\item 1100\n\\item 3200\n\\item 1450\n\\item 1600\n\\item 2800\n\\end{enumerate*}\n",
            "text/markdown": "1. 6500\n2. 13000\n3. 1900\n4. 1050\n5. 800\n6. 870\n7. 1950\n8. 1140\n9. 1800\n10. 2000\n11. 870\n12. 2300\n13. 580\n14. 1100\n15. 1000\n16. 850\n17. 1050\n18. 3300\n19. 3170\n20. 1200\n21. 5000\n22. 4000\n23. 2270\n24. 1690\n25. 2210\n26. 1750\n27. 800\n28. 1300\n29. 8000\n30. 3300\n31. 918\n32. 2340\n33. 2200\n34. 1800\n35. 1450\n36. 4147\n37. 2200\n38. 1750\n39. 760\n40. 1100\n41. 1400\n42. 6000\n43. 1500\n44. 940\n45. 9500\n46. 1700\n47. 1100\n48. 500\n49. 2000\n50. 6000\n51. 1274\n52. 1000\n53. 2200\n54. 1235\n55. 1341\n56. 1100\n57. 1400\n58. 4000\n59. 15000\n60. 7900\n61. 500\n62. 1150\n63. 600\n64. 580\n65. 890\n66. 1600\n67. 1320\n68. 1300\n69. 4500\n70. 750\n71. 1080\n72. 800\n73. 7950\n74. 1200\n75. 1233\n76. 935\n77. 660\n78. 500\n79. 1250\n80. 8700\n81. 1300\n82. 4850\n83. 2860\n84. 3700\n85. 520\n86. 900\n87. 860\n88. 595\n89. 6700\n90. 5500\n91. 1545\n92. 770\n93. 2167\n94. 3300\n95. 1100\n96. 880\n97. 1370\n98. 1680\n99. 1800\n100. 1500\n101. 10000\n102. 6800\n103. 1700\n104. 600\n105. 1268\n106. 2050\n107. 1450\n108. 3910\n109. 3000\n110. 1600\n111. 3400\n112. 1100\n113. 3000\n114. 3500\n115. 1200\n116. 831\n117. 1750\n118. 1000\n119. 550\n120. 3100\n121. 850\n122. 3400\n123. 680\n124. 1450\n125. 1900\n126. 977\n127. 1897\n128. 4860\n129. 2200\n130. 2700\n131. 2500\n132. 1800\n133. 2362\n134. 1000\n135. 2000\n136. 4300\n137. 690\n138. 850\n139. 1100\n140. 3700\n141. 1000\n142. 1500\n143. 1000\n144. 1100\n145. 1590\n146. 11000\n147. 550\n148. 1500\n149. 647\n150. 2004\n151. 1600\n152. 1000\n153. 1900\n154. 1900\n155. 700\n156. 750\n157. 6000\n158. 7735\n159. 850\n160. 1600\n161. 950\n162. 770\n163. 1800\n164. 1100\n165. 870\n166. 1600\n167. 1950\n168. 1400\n169. 1600\n170. 5500\n171. 2500\n172. 5400\n173. 1000\n174. 1600\n175. 1080\n176. 4100\n177. 2800\n178. 3200\n179. 7700\n180. 650\n181. 720\n182. 1300\n183. 1800\n184. 583\n185. 2004\n186. 1800\n187. 950\n188. 3500\n189. 1400\n190. 2350\n191. 1250\n192. 1750\n193. 1600\n194. 908\n195. 5000\n196. 1650\n197. 7000\n198. 1400\n199. 987\n200. 720\n201. ⋯\n202. 1000\n203. 750\n204. 500\n205. 1200\n206. 800\n207. 980\n208. 1000\n209. 2000\n210. 5700\n211. 970\n212. 900\n213. 1193\n214. 4800\n215. 7500\n216. 1300\n217. 720\n218. 500\n219. 4200\n220. 1800\n221. 1700\n222. 2000\n223. 1650\n224. 2700\n225. 1000\n226. 1610\n227. 3600\n228. 1100\n229. 1700\n230. 825\n231. 2100\n232. 716\n233. 1100\n234. 2400\n235. 7225\n236. 2930\n237. 3200\n238. 555\n239. 7900\n240. 1200\n241. 1300\n242. 2848\n243. 2690\n244. 1390\n245. 1300\n246. 2300\n247. 800\n248. 1580\n249. 1200\n250. 1600\n251. 1170\n252. 1170\n253. 3610\n254. 4000\n255. 1200\n256. 1100\n257. 1200\n258. 750\n259. 500\n260. 3700\n261. 2500\n262. 800\n263. 1000\n264. 520\n265. 2100\n266. 880\n267. 950\n268. 1200\n269. 1300\n270. 1500\n271. 1800\n272. 3000\n273. 2000\n274. 1600\n275. 1030\n276. 1020\n277. 1600\n278. 600\n279. 2300\n280. 2100\n281. 3500\n282. 1200\n283. 650\n284. 900\n285. 1000\n286. 749\n287. 510\n288. 950\n289. 800\n290. 1173\n291. 1900\n292. 2000\n293. 980\n294. 1360\n295. 12000\n296. 1328\n297. 2050\n298. 1100\n299. 7220\n300. 1840\n301. 7900\n302. 1100\n303. 1500\n304. 2000\n305. 3315\n306. 736\n307. 2400\n308. 1940\n309. 1200\n310. 1200\n311. 700\n312. 7600\n313. 1700\n314. 12000\n315. 3300\n316. 1200\n317. 980\n318. 3000\n319. 6500\n320. 5500\n321. 1310\n322. 500\n323. 1100\n324. 3200\n325. 1200\n326. 1500\n327. 14000\n328. 1600\n329. 1190\n330. 1134\n331. 8500\n332. 950\n333. 954\n334. 1000\n335. 800\n336. 5500\n337. 2200\n338. 500\n339. 1800\n340. 2400\n341. 1397\n342. 1087\n343. 3500\n344. 820\n345. 4200\n346. 3500\n347. 1000\n348. 1000\n349. 700\n350. 5100\n351. 2800\n352. 1190\n353. 4348\n354. 1250\n355. 815\n356. 650\n357. 9000\n358. 1500\n359. 1000\n360. 1450\n361. 800\n362. 870\n363. 1700\n364. 5830\n365. 980\n366. 900\n367. 4600\n368. 2800\n369. 670\n370. 740\n371. 1950\n372. 2010\n373. 1100\n374. 702\n375. 6000\n376. 1100\n377. 1900\n378. 730\n379. 650\n380. 2000\n381. 770\n382. 500\n383. 1100\n384. 3800\n385. 2200\n386. 850\n387. 900\n388. 2600\n389. 2500\n390. 1890\n391. 1620\n392. 1935\n393. 850\n394. 2000\n395. 3240\n396. 3500\n397. 1100\n398. 3200\n399. 1450\n400. 1600\n401. 2800\n\n\n",
            "text/html": [
              "<style>\n",
              ".list-inline {list-style: none; margin:0; padding: 0}\n",
              ".list-inline>li {display: inline-block}\n",
              ".list-inline>li:not(:last-child)::after {content: \"\\00b7\"; padding: 0 .5ex}\n",
              "</style>\n",
              "<ol class=list-inline><li>6500</li><li>13000</li><li>1900</li><li>1050</li><li>800</li><li>870</li><li>1950</li><li>1140</li><li>1800</li><li>2000</li><li>870</li><li>2300</li><li>580</li><li>1100</li><li>1000</li><li>850</li><li>1050</li><li>3300</li><li>3170</li><li>1200</li><li>5000</li><li>4000</li><li>2270</li><li>1690</li><li>2210</li><li>1750</li><li>800</li><li>1300</li><li>8000</li><li>3300</li><li>918</li><li>2340</li><li>2200</li><li>1800</li><li>1450</li><li>4147</li><li>2200</li><li>1750</li><li>760</li><li>1100</li><li>1400</li><li>6000</li><li>1500</li><li>940</li><li>9500</li><li>1700</li><li>1100</li><li>500</li><li>2000</li><li>6000</li><li>1274</li><li>1000</li><li>2200</li><li>1235</li><li>1341</li><li>1100</li><li>1400</li><li>4000</li><li>15000</li><li>7900</li><li>500</li><li>1150</li><li>600</li><li>580</li><li>890</li><li>1600</li><li>1320</li><li>1300</li><li>4500</li><li>750</li><li>1080</li><li>800</li><li>7950</li><li>1200</li><li>1233</li><li>935</li><li>660</li><li>500</li><li>1250</li><li>8700</li><li>1300</li><li>4850</li><li>2860</li><li>3700</li><li>520</li><li>900</li><li>860</li><li>595</li><li>6700</li><li>5500</li><li>1545</li><li>770</li><li>2167</li><li>3300</li><li>1100</li><li>880</li><li>1370</li><li>1680</li><li>1800</li><li>1500</li><li>10000</li><li>6800</li><li>1700</li><li>600</li><li>1268</li><li>2050</li><li>1450</li><li>3910</li><li>3000</li><li>1600</li><li>3400</li><li>1100</li><li>3000</li><li>3500</li><li>1200</li><li>831</li><li>1750</li><li>1000</li><li>550</li><li>3100</li><li>850</li><li>3400</li><li>680</li><li>1450</li><li>1900</li><li>977</li><li>1897</li><li>4860</li><li>2200</li><li>2700</li><li>2500</li><li>1800</li><li>2362</li><li>1000</li><li>2000</li><li>4300</li><li>690</li><li>850</li><li>1100</li><li>3700</li><li>1000</li><li>1500</li><li>1000</li><li>1100</li><li>1590</li><li>11000</li><li>550</li><li>1500</li><li>647</li><li>2004</li><li>1600</li><li>1000</li><li>1900</li><li>1900</li><li>700</li><li>750</li><li>6000</li><li>7735</li><li>850</li><li>1600</li><li>950</li><li>770</li><li>1800</li><li>1100</li><li>870</li><li>1600</li><li>1950</li><li>1400</li><li>1600</li><li>5500</li><li>2500</li><li>5400</li><li>1000</li><li>1600</li><li>1080</li><li>4100</li><li>2800</li><li>3200</li><li>7700</li><li>650</li><li>720</li><li>1300</li><li>1800</li><li>583</li><li>2004</li><li>1800</li><li>950</li><li>3500</li><li>1400</li><li>2350</li><li>1250</li><li>1750</li><li>1600</li><li>908</li><li>5000</li><li>1650</li><li>7000</li><li>1400</li><li>987</li><li>720</li><li>⋯</li><li>1000</li><li>750</li><li>500</li><li>1200</li><li>800</li><li>980</li><li>1000</li><li>2000</li><li>5700</li><li>970</li><li>900</li><li>1193</li><li>4800</li><li>7500</li><li>1300</li><li>720</li><li>500</li><li>4200</li><li>1800</li><li>1700</li><li>2000</li><li>1650</li><li>2700</li><li>1000</li><li>1610</li><li>3600</li><li>1100</li><li>1700</li><li>825</li><li>2100</li><li>716</li><li>1100</li><li>2400</li><li>7225</li><li>2930</li><li>3200</li><li>555</li><li>7900</li><li>1200</li><li>1300</li><li>2848</li><li>2690</li><li>1390</li><li>1300</li><li>2300</li><li>800</li><li>1580</li><li>1200</li><li>1600</li><li>1170</li><li>1170</li><li>3610</li><li>4000</li><li>1200</li><li>1100</li><li>1200</li><li>750</li><li>500</li><li>3700</li><li>2500</li><li>800</li><li>1000</li><li>520</li><li>2100</li><li>880</li><li>950</li><li>1200</li><li>1300</li><li>1500</li><li>1800</li><li>3000</li><li>2000</li><li>1600</li><li>1030</li><li>1020</li><li>1600</li><li>600</li><li>2300</li><li>2100</li><li>3500</li><li>1200</li><li>650</li><li>900</li><li>1000</li><li>749</li><li>510</li><li>950</li><li>800</li><li>1173</li><li>1900</li><li>2000</li><li>980</li><li>1360</li><li>12000</li><li>1328</li><li>2050</li><li>1100</li><li>7220</li><li>1840</li><li>7900</li><li>1100</li><li>1500</li><li>2000</li><li>3315</li><li>736</li><li>2400</li><li>1940</li><li>1200</li><li>1200</li><li>700</li><li>7600</li><li>1700</li><li>12000</li><li>3300</li><li>1200</li><li>980</li><li>3000</li><li>6500</li><li>5500</li><li>1310</li><li>500</li><li>1100</li><li>3200</li><li>1200</li><li>1500</li><li>14000</li><li>1600</li><li>1190</li><li>1134</li><li>8500</li><li>950</li><li>954</li><li>1000</li><li>800</li><li>5500</li><li>2200</li><li>500</li><li>1800</li><li>2400</li><li>1397</li><li>1087</li><li>3500</li><li>820</li><li>4200</li><li>3500</li><li>1000</li><li>1000</li><li>700</li><li>5100</li><li>2800</li><li>1190</li><li>4348</li><li>1250</li><li>815</li><li>650</li><li>9000</li><li>1500</li><li>1000</li><li>1450</li><li>800</li><li>870</li><li>1700</li><li>5830</li><li>980</li><li>900</li><li>4600</li><li>2800</li><li>670</li><li>740</li><li>1950</li><li>2010</li><li>1100</li><li>702</li><li>6000</li><li>1100</li><li>1900</li><li>730</li><li>650</li><li>2000</li><li>770</li><li>500</li><li>1100</li><li>3800</li><li>2200</li><li>850</li><li>900</li><li>2600</li><li>2500</li><li>1890</li><li>1620</li><li>1935</li><li>850</li><li>2000</li><li>3240</li><li>3500</li><li>1100</li><li>3200</li><li>1450</li><li>1600</li><li>2800</li></ol>\n"
            ]
          },
          "metadata": {}
        },
        {
          "output_type": "stream",
          "name": "stdout",
          "text": [
            "[1] 22\n",
            "[1] 778\n"
          ]
        },
        {
          "output_type": "display_data",
          "data": {
            "image/png": "[encoded data removed]",
            "text/plain": [
              "Plot with title “R$ Aluguel grupo_sp”"
            ]
          },
          "metadata": {
            "image/png": {
              "width": 540,
              "height": 360
            }
          }
        },
        {
          "output_type": "display_data",
          "data": {
            "image/png": "[encoded data removed]",
            "text/plain": [
              "Plot with title “R$ Aluguel grupo_rj”"
            ]
          },
          "metadata": {
            "image/png": {
              "width": 540,
              "height": 360
            }
          }
        },
        {
          "output_type": "display_data",
          "data": {
            "image/png": "[encoded data removed]",
            "text/plain": [
              "Plot with title “R$ Aluguel grupo_pa”"
            ]
          },
          "metadata": {
            "image/png": {
              "width": 540,
              "height": 360
            }
          }
        },
        {
          "output_type": "display_data",
          "data": {
            "image/png": "[encoded data removed]",
            "text/plain": [
              "Plot with title “R$ Aluguel grupo_ca”"
            ]
          },
          "metadata": {
            "image/png": {
              "width": 540,
              "height": 360
            }
          }
        },
        {
          "output_type": "display_data",
          "data": {
            "text/plain": [
              "\n",
              "\tShapiro-Wilk normality test\n",
              "\n",
              "data:  grupo_sp\n",
              "W = 0.84029, p-value < 2.2e-16\n"
            ]
          },
          "metadata": {}
        },
        {
          "output_type": "display_data",
          "data": {
            "text/plain": [
              "\n",
              "\tShapiro-Wilk normality test\n",
              "\n",
              "data:  grupo_rj\n",
              "W = 0.83286, p-value < 2.2e-16\n"
            ]
          },
          "metadata": {}
        },
        {
          "output_type": "display_data",
          "data": {
            "text/plain": [
              "\n",
              "\tShapiro-Wilk normality test\n",
              "\n",
              "data:  grupo_pa\n",
              "W = 0.8005, p-value < 2.2e-16\n"
            ]
          },
          "metadata": {}
        },
        {
          "output_type": "display_data",
          "data": {
            "text/plain": [
              "\n",
              "\tShapiro-Wilk normality test\n",
              "\n",
              "data:  grupo_ca\n",
              "W = 0.77019, p-value < 2.2e-16\n"
            ]
          },
          "metadata": {}
        },
        {
          "output_type": "display_data",
          "data": {
            "text/plain": [
              "\n",
              "\tShapiro-Wilk normality test\n",
              "\n",
              "data:  grupo_bh\n",
              "W = 0.79886, p-value < 2.2e-16\n"
            ]
          },
          "metadata": {}
        },
        {
          "output_type": "display_data",
          "data": {
            "text/plain": [
              "\n",
              "\tShapiro-Wilk normality test\n",
              "\n",
              "data:  log_sp\n",
              "W = 0.98182, p-value = 2.05e-08\n"
            ]
          },
          "metadata": {}
        },
        {
          "output_type": "display_data",
          "data": {
            "text/plain": [
              "\n",
              "\tShapiro-Wilk normality test\n",
              "\n",
              "data:  log_rj\n",
              "W = 0.98934, p-value = 2.047e-05\n"
            ]
          },
          "metadata": {}
        },
        {
          "output_type": "display_data",
          "data": {
            "text/plain": [
              "\n",
              "\tShapiro-Wilk normality test\n",
              "\n",
              "data:  log_pa\n",
              "W = 0.98414, p-value = 1.91e-07\n"
            ]
          },
          "metadata": {}
        },
        {
          "output_type": "display_data",
          "data": {
            "text/plain": [
              "\n",
              "\tShapiro-Wilk normality test\n",
              "\n",
              "data:  log_ca\n",
              "W = 0.96436, p-value = 7.841e-13\n"
            ]
          },
          "metadata": {}
        },
        {
          "output_type": "display_data",
          "data": {
            "text/plain": [
              "\n",
              "\tShapiro-Wilk normality test\n",
              "\n",
              "data:  log_bh\n",
              "W = 0.95782, p-value = 3.865e-14\n"
            ]
          },
          "metadata": {}
        },
        {
          "output_type": "display_data",
          "data": {
            "text/plain": [
              "\n",
              "\tShapiro-Wilk normality test\n",
              "\n",
              "data:  grupo_sp_norm\n",
              "W = 0.84029, p-value < 2.2e-16\n"
            ]
          },
          "metadata": {}
        },
        {
          "output_type": "display_data",
          "data": {
            "text/plain": [
              "\n",
              "\tShapiro-Wilk normality test\n",
              "\n",
              "data:  grupo_rj_norm\n",
              "W = 0.83286, p-value < 2.2e-16\n"
            ]
          },
          "metadata": {}
        },
        {
          "output_type": "display_data",
          "data": {
            "text/plain": [
              "\n",
              "\tShapiro-Wilk normality test\n",
              "\n",
              "data:  grupo_pa_norm\n",
              "W = 0.8005, p-value < 2.2e-16\n"
            ]
          },
          "metadata": {}
        },
        {
          "output_type": "display_data",
          "data": {
            "text/plain": [
              "\n",
              "\tShapiro-Wilk normality test\n",
              "\n",
              "data:  grupo_ca_norm\n",
              "W = 0.77019, p-value < 2.2e-16\n"
            ]
          },
          "metadata": {}
        },
        {
          "output_type": "display_data",
          "data": {
            "text/plain": [
              "\n",
              "\tShapiro-Wilk normality test\n",
              "\n",
              "data:  grupo_bh_norm\n",
              "W = 0.79886, p-value < 2.2e-16\n"
            ]
          },
          "metadata": {}
        },
        {
          "output_type": "display_data",
          "data": {
            "text/plain": [
              "\n",
              "\tShapiro-Wilk normality test\n",
              "\n",
              "data:  std_grupo_sp\n",
              "W = 0.84029, p-value < 2.2e-16\n"
            ]
          },
          "metadata": {}
        },
        {
          "output_type": "display_data",
          "data": {
            "text/plain": [
              "\n",
              "\tShapiro-Wilk normality test\n",
              "\n",
              "data:  std_grupo_rj\n",
              "W = 0.83286, p-value < 2.2e-16\n"
            ]
          },
          "metadata": {}
        },
        {
          "output_type": "display_data",
          "data": {
            "text/plain": [
              "\n",
              "\tShapiro-Wilk normality test\n",
              "\n",
              "data:  std_grupo_pa\n",
              "W = 0.8005, p-value < 2.2e-16\n"
            ]
          },
          "metadata": {}
        },
        {
          "output_type": "display_data",
          "data": {
            "text/plain": [
              "\n",
              "\tShapiro-Wilk normality test\n",
              "\n",
              "data:  std_grupo_ca\n",
              "W = 0.77019, p-value < 2.2e-16\n"
            ]
          },
          "metadata": {}
        },
        {
          "output_type": "display_data",
          "data": {
            "text/plain": [
              "\n",
              "\tShapiro-Wilk normality test\n",
              "\n",
              "data:  std_grupo_bh\n",
              "W = 0.79886, p-value < 2.2e-16\n"
            ]
          },
          "metadata": {}
        },
        {
          "output_type": "display_data",
          "data": {
            "image/png": "[encoded data removed]",
            "text/plain": [
              "Plot with title “R$ Aluguel grupo_bh”"
            ]
          },
          "metadata": {
            "image/png": {
              "width": 540,
              "height": 360
            }
          }
        },
        {
          "output_type": "display_data",
          "data": {
            "image/png": "[encoded data removed]",
            "text/plain": [
              "Plot with title “R$ Aluguel log_sp”"
            ]
          },
          "metadata": {
            "image/png": {
              "width": 540,
              "height": 360
            }
          }
        },
        {
          "output_type": "display_data",
          "data": {
            "image/png": "[encoded data removed]",
            "text/plain": [
              "Plot with title “R$ Aluguel log_rj”"
            ]
          },
          "metadata": {
            "image/png": {
              "width": 540,
              "height": 360
            }
          }
        },
        {
          "output_type": "display_data",
          "data": {
            "image/png": "[encoded data removed]",
            "text/plain": [
              "Plot with title “R$ Aluguel log_pa”"
            ]
          },
          "metadata": {
            "image/png": {
              "width": 540,
              "height": 360
            }
          }
        },
        {
          "output_type": "display_data",
          "data": {
            "image/png": "[encoded data removed]",
            "text/plain": [
              "Plot with title “R$ Aluguel log_ca”"
            ]
          },
          "metadata": {
            "image/png": {
              "width": 540,
              "height": 360
            }
          }
        },
        {
          "output_type": "display_data",
          "data": {
            "text/plain": [
              "     rent     Nr_cidade\n",
              "1    8.433812 sp       \n",
              "2    7.484369 sp       \n",
              "3    7.495542 sp       \n",
              "4    6.984716 sp       \n",
              "5    7.473069 sp       \n",
              "6    8.575462 sp       \n",
              "7    7.162397 sp       \n",
              "8    7.824046 sp       \n",
              "9    8.160518 sp       \n",
              "10   8.242756 sp       \n",
              "11   9.472705 sp       \n",
              "12   7.575585 sp       \n",
              "13   8.342840 sp       \n",
              "14   8.517193 sp       \n",
              "15   8.294050 sp       \n",
              "16   7.170120 sp       \n",
              "17   9.546813 sp       \n",
              "18   7.522941 sp       \n",
              "19   9.433484 sp       \n",
              "20   8.099858 sp       \n",
              "21   8.853665 sp       \n",
              "22   7.377759 sp       \n",
              "23   7.438384 sp       \n",
              "24   7.438384 sp       \n",
              "25   7.003065 sp       \n",
              "26   7.824046 sp       \n",
              "27   8.006368 sp       \n",
              "28   6.907755 sp       \n",
              "29   8.070906 sp       \n",
              "30   8.006368 sp       \n",
              "⋮    ⋮        ⋮        \n",
              "3876 8.987197 bh       \n",
              "3877 7.313220 bh       \n",
              "3878 7.090077 bh       \n",
              "3879 7.170120 bh       \n",
              "3880 9.453287 bh       \n",
              "3881 8.496990 bh       \n",
              "3882 9.433484 bh       \n",
              "3883 9.047821 bh       \n",
              "3884 7.047517 bh       \n",
              "3885 8.006368 bh       \n",
              "3886 6.877296 bh       \n",
              "3887 7.090077 bh       \n",
              "3888 7.003065 bh       \n",
              "3889 7.130899 bh       \n",
              "3890 8.699515 bh       \n",
              "3891 9.472705 bh       \n",
              "3892 9.259131 bh       \n",
              "3893 8.699515 bh       \n",
              "3894 8.242756 bh       \n",
              "3895 7.749322 bh       \n",
              "3896 7.244228 bh       \n",
              "3897 9.093807 bh       \n",
              "3898 7.003065 bh       \n",
              "3899 8.853665 bh       \n",
              "3900 7.600902 bh       \n",
              "3901 7.824046 bh       \n",
              "3902 6.907755 bh       \n",
              "3903 6.956545 bh       \n",
              "3904 7.313220 bh       \n",
              "3905 7.901007 bh       "
            ],
            "text/latex": "A data.frame: 3905 × 2\n\\begin{tabular}{ll}\n rent & Nr\\_cidade\\\\\n <dbl> & <chr>\\\\\n\\hline\n\t 8.433812 & sp\\\\\n\t 7.484369 & sp\\\\\n\t 7.495542 & sp\\\\\n\t 6.984716 & sp\\\\\n\t 7.473069 & sp\\\\\n\t 8.575462 & sp\\\\\n\t 7.162397 & sp\\\\\n\t 7.824046 & sp\\\\\n\t 8.160518 & sp\\\\\n\t 8.242756 & sp\\\\\n\t 9.472705 & sp\\\\\n\t 7.575585 & sp\\\\\n\t 8.342840 & sp\\\\\n\t 8.517193 & sp\\\\\n\t 8.294050 & sp\\\\\n\t 7.170120 & sp\\\\\n\t 9.546813 & sp\\\\\n\t 7.522941 & sp\\\\\n\t 9.433484 & sp\\\\\n\t 8.099858 & sp\\\\\n\t 8.853665 & sp\\\\\n\t 7.377759 & sp\\\\\n\t 7.438384 & sp\\\\\n\t 7.438384 & sp\\\\\n\t 7.003065 & sp\\\\\n\t 7.824046 & sp\\\\\n\t 8.006368 & sp\\\\\n\t 6.907755 & sp\\\\\n\t 8.070906 & sp\\\\\n\t 8.006368 & sp\\\\\n\t ⋮ & ⋮\\\\\n\t 8.987197 & bh\\\\\n\t 7.313220 & bh\\\\\n\t 7.090077 & bh\\\\\n\t 7.170120 & bh\\\\\n\t 9.453287 & bh\\\\\n\t 8.496990 & bh\\\\\n\t 9.433484 & bh\\\\\n\t 9.047821 & bh\\\\\n\t 7.047517 & bh\\\\\n\t 8.006368 & bh\\\\\n\t 6.877296 & bh\\\\\n\t 7.090077 & bh\\\\\n\t 7.003065 & bh\\\\\n\t 7.130899 & bh\\\\\n\t 8.699515 & bh\\\\\n\t 9.472705 & bh\\\\\n\t 9.259131 & bh\\\\\n\t 8.699515 & bh\\\\\n\t 8.242756 & bh\\\\\n\t 7.749322 & bh\\\\\n\t 7.244228 & bh\\\\\n\t 9.093807 & bh\\\\\n\t 7.003065 & bh\\\\\n\t 8.853665 & bh\\\\\n\t 7.600902 & bh\\\\\n\t 7.824046 & bh\\\\\n\t 6.907755 & bh\\\\\n\t 6.956545 & bh\\\\\n\t 7.313220 & bh\\\\\n\t 7.901007 & bh\\\\\n\\end{tabular}\n",
            "text/markdown": "\nA data.frame: 3905 × 2\n\n| rent &lt;dbl&gt; | Nr_cidade &lt;chr&gt; |\n|---|---|\n| 8.433812 | sp |\n| 7.484369 | sp |\n| 7.495542 | sp |\n| 6.984716 | sp |\n| 7.473069 | sp |\n| 8.575462 | sp |\n| 7.162397 | sp |\n| 7.824046 | sp |\n| 8.160518 | sp |\n| 8.242756 | sp |\n| 9.472705 | sp |\n| 7.575585 | sp |\n| 8.342840 | sp |\n| 8.517193 | sp |\n| 8.294050 | sp |\n| 7.170120 | sp |\n| 9.546813 | sp |\n| 7.522941 | sp |\n| 9.433484 | sp |\n| 8.099858 | sp |\n| 8.853665 | sp |\n| 7.377759 | sp |\n| 7.438384 | sp |\n| 7.438384 | sp |\n| 7.003065 | sp |\n| 7.824046 | sp |\n| 8.006368 | sp |\n| 6.907755 | sp |\n| 8.070906 | sp |\n| 8.006368 | sp |\n| ⋮ | ⋮ |\n| 8.987197 | bh |\n| 7.313220 | bh |\n| 7.090077 | bh |\n| 7.170120 | bh |\n| 9.453287 | bh |\n| 8.496990 | bh |\n| 9.433484 | bh |\n| 9.047821 | bh |\n| 7.047517 | bh |\n| 8.006368 | bh |\n| 6.877296 | bh |\n| 7.090077 | bh |\n| 7.003065 | bh |\n| 7.130899 | bh |\n| 8.699515 | bh |\n| 9.472705 | bh |\n| 9.259131 | bh |\n| 8.699515 | bh |\n| 8.242756 | bh |\n| 7.749322 | bh |\n| 7.244228 | bh |\n| 9.093807 | bh |\n| 7.003065 | bh |\n| 8.853665 | bh |\n| 7.600902 | bh |\n| 7.824046 | bh |\n| 6.907755 | bh |\n| 6.956545 | bh |\n| 7.313220 | bh |\n| 7.901007 | bh |\n\n",
            "text/html": [
              "<table class=\"dataframe\">\n",
              "<caption>A data.frame: 3905 × 2</caption>\n",
              "<thead>\n",
              "\t<tr><th scope=col>rent</th><th scope=col>Nr_cidade</th></tr>\n",
              "\t<tr><th scope=col>&lt;dbl&gt;</th><th scope=col>&lt;chr&gt;</th></tr>\n",
              "</thead>\n",
              "<tbody>\n",
              "\t<tr><td>8.433812</td><td>sp</td></tr>\n",
              "\t<tr><td>7.484369</td><td>sp</td></tr>\n",
              "\t<tr><td>7.495542</td><td>sp</td></tr>\n",
              "\t<tr><td>6.984716</td><td>sp</td></tr>\n",
              "\t<tr><td>7.473069</td><td>sp</td></tr>\n",
              "\t<tr><td>8.575462</td><td>sp</td></tr>\n",
              "\t<tr><td>7.162397</td><td>sp</td></tr>\n",
              "\t<tr><td>7.824046</td><td>sp</td></tr>\n",
              "\t<tr><td>8.160518</td><td>sp</td></tr>\n",
              "\t<tr><td>8.242756</td><td>sp</td></tr>\n",
              "\t<tr><td>9.472705</td><td>sp</td></tr>\n",
              "\t<tr><td>7.575585</td><td>sp</td></tr>\n",
              "\t<tr><td>8.342840</td><td>sp</td></tr>\n",
              "\t<tr><td>8.517193</td><td>sp</td></tr>\n",
              "\t<tr><td>8.294050</td><td>sp</td></tr>\n",
              "\t<tr><td>7.170120</td><td>sp</td></tr>\n",
              "\t<tr><td>9.546813</td><td>sp</td></tr>\n",
              "\t<tr><td>7.522941</td><td>sp</td></tr>\n",
              "\t<tr><td>9.433484</td><td>sp</td></tr>\n",
              "\t<tr><td>8.099858</td><td>sp</td></tr>\n",
              "\t<tr><td>8.853665</td><td>sp</td></tr>\n",
              "\t<tr><td>7.377759</td><td>sp</td></tr>\n",
              "\t<tr><td>7.438384</td><td>sp</td></tr>\n",
              "\t<tr><td>7.438384</td><td>sp</td></tr>\n",
              "\t<tr><td>7.003065</td><td>sp</td></tr>\n",
              "\t<tr><td>7.824046</td><td>sp</td></tr>\n",
              "\t<tr><td>8.006368</td><td>sp</td></tr>\n",
              "\t<tr><td>6.907755</td><td>sp</td></tr>\n",
              "\t<tr><td>8.070906</td><td>sp</td></tr>\n",
              "\t<tr><td>8.006368</td><td>sp</td></tr>\n",
              "\t<tr><td>⋮</td><td>⋮</td></tr>\n",
              "\t<tr><td>8.987197</td><td>bh</td></tr>\n",
              "\t<tr><td>7.313220</td><td>bh</td></tr>\n",
              "\t<tr><td>7.090077</td><td>bh</td></tr>\n",
              "\t<tr><td>7.170120</td><td>bh</td></tr>\n",
              "\t<tr><td>9.453287</td><td>bh</td></tr>\n",
              "\t<tr><td>8.496990</td><td>bh</td></tr>\n",
              "\t<tr><td>9.433484</td><td>bh</td></tr>\n",
              "\t<tr><td>9.047821</td><td>bh</td></tr>\n",
              "\t<tr><td>7.047517</td><td>bh</td></tr>\n",
              "\t<tr><td>8.006368</td><td>bh</td></tr>\n",
              "\t<tr><td>6.877296</td><td>bh</td></tr>\n",
              "\t<tr><td>7.090077</td><td>bh</td></tr>\n",
              "\t<tr><td>7.003065</td><td>bh</td></tr>\n",
              "\t<tr><td>7.130899</td><td>bh</td></tr>\n",
              "\t<tr><td>8.699515</td><td>bh</td></tr>\n",
              "\t<tr><td>9.472705</td><td>bh</td></tr>\n",
              "\t<tr><td>9.259131</td><td>bh</td></tr>\n",
              "\t<tr><td>8.699515</td><td>bh</td></tr>\n",
              "\t<tr><td>8.242756</td><td>bh</td></tr>\n",
              "\t<tr><td>7.749322</td><td>bh</td></tr>\n",
              "\t<tr><td>7.244228</td><td>bh</td></tr>\n",
              "\t<tr><td>9.093807</td><td>bh</td></tr>\n",
              "\t<tr><td>7.003065</td><td>bh</td></tr>\n",
              "\t<tr><td>8.853665</td><td>bh</td></tr>\n",
              "\t<tr><td>7.600902</td><td>bh</td></tr>\n",
              "\t<tr><td>7.824046</td><td>bh</td></tr>\n",
              "\t<tr><td>6.907755</td><td>bh</td></tr>\n",
              "\t<tr><td>6.956545</td><td>bh</td></tr>\n",
              "\t<tr><td>7.313220</td><td>bh</td></tr>\n",
              "\t<tr><td>7.901007</td><td>bh</td></tr>\n",
              "</tbody>\n",
              "</table>\n"
            ]
          },
          "metadata": {}
        },
        {
          "output_type": "display_data",
          "data": {
            "image/png": "[encoded data removed]",
            "text/plain": [
              "Plot with title “R$ Aluguel log_bh”"
            ]
          },
          "metadata": {
            "image/png": {
              "width": 540,
              "height": 360
            }
          }
        },
        {
          "output_type": "display_data",
          "data": {
            "text/plain": [
              "\n",
              "\tShapiro-Wilk normality test\n",
              "\n",
              "data:  as.numeric(unlist(log_plot[\"rent\"]))\n",
              "W = 0.97806, p-value < 2.2e-16\n"
            ]
          },
          "metadata": {}
        },
        {
          "output_type": "display_data",
          "data": {
            "text/plain": [
              "Call:\n",
              "   aov(formula = rent ~ Nr_cidade, data = log_plot)\n",
              "\n",
              "Terms:\n",
              "                Nr_cidade Residuals\n",
              "Sum of Squares   314.9346 1909.2169\n",
              "Deg. of Freedom         4      3900\n",
              "\n",
              "Residual standard error: 0.6996733\n",
              "Estimated effects may be unbalanced"
            ]
          },
          "metadata": {}
        },
        {
          "output_type": "display_data",
          "data": {
            "text/plain": [
              "\n",
              "\tKruskal-Wallis rank sum test\n",
              "\n",
              "data:  rent by Nr_cidade\n",
              "Kruskal-Wallis chi-squared = 514.82, df = 4, p-value < 2.2e-16\n"
            ]
          },
          "metadata": {}
        },
        {
          "output_type": "display_data",
          "data": {
            "text/plain": [
              "  Tukey multiple comparisons of means\n",
              "    95% family-wise confidence level\n",
              "\n",
              "Fit: aov(formula = rent ~ Nr_cidade, data = log_plot)\n",
              "\n",
              "$Nr_cidade\n",
              "             diff         lwr         upr     p adj\n",
              "ca-bh -0.35600884 -0.45288390 -0.25913379 0.0000000\n",
              "pa-bh -0.30690941 -0.40384679 -0.20997204 0.0000000\n",
              "rj-bh -0.02813468 -0.12510332  0.06883396 0.9330675\n",
              "sp-bh  0.43549546  0.33928786  0.53170306 0.0000000\n",
              "pa-ca  0.04909943 -0.04777563  0.14597449 0.6385523\n",
              "rj-ca  0.32787416  0.23096782  0.42478050 0.0000000\n",
              "sp-ca  0.79150430  0.69535949  0.88764910 0.0000000\n",
              "rj-pa  0.27877473  0.18180609  0.37574337 0.0000000\n",
              "sp-pa  0.74240487  0.64619727  0.83861247 0.0000000\n",
              "sp-rj  0.46363014  0.36739104  0.55986924 0.0000000\n"
            ]
          },
          "metadata": {}
        },
        {
          "output_type": "display_data",
          "data": {
            "image/png": "[encoded data removed]",
            "text/plain": [
              "Plot with title “Boxplot após normalização e retirada de outliers”"
            ]
          },
          "metadata": {
            "image/png": {
              "width": 540,
              "height": 360
            }
          }
        }
      ]
    }
  ]
}